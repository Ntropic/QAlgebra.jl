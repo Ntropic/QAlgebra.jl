{
 "cells": [
  {
   "cell_type": "code",
   "execution_count": null,
   "metadata": {},
   "outputs": [],
   "source": []
  },
  {
   "cell_type": "code",
   "execution_count": null,
   "metadata": {},
   "outputs": [],
   "source": []
  },
  {
   "cell_type": "code",
   "execution_count": 8,
   "metadata": {},
   "outputs": [
    {
     "data": {
      "text/plain": [
       "separate_terms (generic function with 1 method)"
      ]
     },
     "metadata": {},
     "output_type": "display_data"
    }
   ],
   "source": [
    "function separate_terms(input::String, abstract_ops::Vector{String}, total_tokens::Vector{String}, tokens_at_end::Vector{String}, tokens_at_begin::Vector{String})::Tuple{Vector{Vector{String}},Vector{Vector{String}},Vector{Vector{String}}}\n",
    "    # Prepare output vectors:\n",
    "\n",
    "    # Sort each list by descending length (to prioritize longer tokens when there is overlap).\n",
    "    tokens_total_with_idx = collect(enumerate(total_tokens))\n",
    "    sort!(tokens_total_with_idx, by=x -> -length(x[2]))\n",
    "\n",
    "    tokens_at_end_with_idx = collect(enumerate(tokens_at_end))\n",
    "    sort!(tokens_at_end_with_idx, by=x -> -length(x[2]))\n",
    "\n",
    "    tokens_at_begin_with_idx = collect(enumerate(tokens_at_begin))\n",
    "    sort!(tokens_at_begin_with_idx, by=x -> -length(x[2]))\n",
    "\n",
    "    # Preprocess the input: remove underscores and replace spaces with asterisks.\n",
    "    input = replace(replace(input, \"_\" => \"\"), \" \" => \"*\")\n",
    "    # Split the input string by '*' signs.\n",
    "    terms = split(input, \"*\")\n",
    "\n",
    "    output_total::Vector{Tuple{Vector{Vector{String}}, Vector{Vector{String}}, Vector{Vector{String}}}}()\n",
    "    curr_output_total = [String[] for _ in 1:length(total_tokens)]\n",
    "    curr_output_at_end = [String[] for _ in 1:length(tokens_at_end)]\n",
    "    curr_output_at_begin = [String[] for _ in 1:length(tokens_at_begin)]\n",
    "    for term in terms\n",
    "        if length(term) == 0\n",
    "            continue\n",
    "        end\n",
    "\n",
    "        # first check if it contains an abstract operato string. \n",
    "        # First, check for a match with total_tokens.\n",
    "        found_total = nothing\n",
    "        for (orig_idx, token) in tokens_total_with_idx\n",
    "            if startswith(term, token)\n",
    "                rem = term[length(token)+1:end]\n",
    "                # Accept if nothing follows...\n",
    "                if isempty(rem)\n",
    "                    found_total = (orig_idx, token, rem)\n",
    "                    break\n",
    "                    # ...or if the remainder begins with \"^\" and the rest is a valid number or with ' and then possibly ^ and a number \n",
    "                elseif startswith(rem, \"^\")\n",
    "                    num_part = rem[2:end]\n",
    "                    try\n",
    "                        parse(Int, num_part)\n",
    "                        found_total = (orig_idx, token, rem)\n",
    "                        break\n",
    "                    catch e\n",
    "                        error(\"Not a valid number $rem in $token.\")\n",
    "                    end\n",
    "                end\n",
    "            end\n",
    "        end\n",
    "        if found_total !== nothing\n",
    "            (idx, token, cleaned) = found_total\n",
    "            push!(curr_output_total[idx], cleaned)\n",
    "            continue  # Process next term.\n",
    "        end\n",
    "\n",
    "        found_end = nothing   # For tokens that should appear at the end.\n",
    "        found_begin = nothing # For tokens that should appear at the beginning.\n",
    "\n",
    "        # Check if term ends with any token from tokens_at_end.\n",
    "        for (orig_idx, token) in tokens_at_end_with_idx\n",
    "            if endswith(term, token)\n",
    "                found_end = (orig_idx, token)\n",
    "                break\n",
    "            end\n",
    "        end\n",
    "\n",
    "        # Check if term starts with any token from tokens_at_begin.\n",
    "        for (orig_idx, token) in tokens_at_begin_with_idx\n",
    "            if startswith(term, token)\n",
    "                found_begin = (orig_idx, token)\n",
    "                break\n",
    "            end\n",
    "        end\n",
    "\n",
    "        # The term must match exactly one type.\n",
    "        if (found_end === nothing) && (found_begin === nothing)\n",
    "            error(\"No matching token found for term: \\\"$term\\\"\")\n",
    "        elseif (found_end !== nothing) && (found_begin !== nothing)\n",
    "            error(\"Term matches both beginning and ending tokens: \\\"$term\\\"\")\n",
    "        end\n",
    "\n",
    "        if found_end !== nothing\n",
    "            (idx, token) = found_end\n",
    "            # Remove the token from the end.\n",
    "            cleaned = term[1:end-length(token)]\n",
    "            push!(curroutput_at_end[idx], cleaned)\n",
    "        else\n",
    "            (idx, token) = found_begin\n",
    "            # Remove the token from the beginning.\n",
    "            cleaned = term[length(token)+1:end]\n",
    "            push!(curr_output_at_begin[idx], cleaned)\n",
    "        end\n",
    "    end\n",
    "\n",
    "    return output_total, output_at_end, output_at_begin\n",
    "end\n"
   ]
  },
  {
   "cell_type": "code",
   "execution_count": 9,
   "metadata": {},
   "outputs": [],
   "source": []
  },
  {
   "cell_type": "code",
   "execution_count": 10,
   "metadata": {},
   "outputs": [
    {
     "data": {
      "text/plain": [
       "(\"'\", 1)"
      ]
     },
     "metadata": {},
     "output_type": "display_data"
    }
   ],
   "source": [
    "function expstr_separate(expstr::String)::Tuple{String,Int}\n",
    "    exp::Int = 1\n",
    "    if occursin(\"^\", expstr)\n",
    "        expstr, b = split(expstr, \"^\")\n",
    "        exp = parse(Int, b)\n",
    "    end\n",
    "    return expstr, exp\n",
    "end\n",
    "expstr_separate(\"'\")"
   ]
  },
  {
   "cell_type": "code",
   "execution_count": null,
   "metadata": {},
   "outputs": [],
   "source": [
    "using LaTeXStrings\n",
    "using Pkg\n",
    "Pkg.activate(\"..\")  # Activate the package environment (assumes Project.toml is one level up)\n",
    "using qAlgebra\n",
    "using ComplexRationals"
   ]
  },
  {
   "cell_type": "code",
   "execution_count": null,
   "metadata": {},
   "outputs": [],
   "source": [
    "qs = StateSpace(\"alpha\", \"beta(t)\", \"gamma_i\", \"delta_i\", h=QubitPM(), i=(3, QubitPauli()), b=Ladder())"
   ]
  },
  {
   "cell_type": "code",
   "execution_count": null,
   "metadata": {},
   "outputs": [],
   "source": [
    "var_dict, op_dict= base_operators(qs)"
   ]
  },
  {
   "cell_type": "code",
   "execution_count": null,
   "metadata": {},
   "outputs": [],
   "source": [
    "xi, yi, zi = base_operators(\"i\", qs)\n",
    "xj, yj, zj = base_operators(\"j\", qs)\n",
    "xk, yk, zk = base_operators(\"k\", qs)\n",
    "ph, mh, zh = base_operators(\"h\", qs)\n",
    "b = base_operators(\"b\", qs)\n",
    "I = base_operators(\"I\", qs)     # Identity operator\n",
    "alpha, beta, gamma_i, gamma_j, gamma_k, delta_i, delta_j, delta_k = base_operators(\"vars\", qs)"
   ]
  },
  {
   "cell_type": "code",
   "execution_count": null,
   "metadata": {},
   "outputs": [],
   "source": [
    "expr = 2 * alpha * im * xi + alpha * Dag(b) * xi * yi"
   ]
  },
  {
   "cell_type": "code",
   "execution_count": null,
   "metadata": {},
   "outputs": [],
   "source": [
    "qsum = Sum(\"j\",  alpha*yi*yj+Sum(\"k\", beta*alpha^2*xi*xj*xk))"
   ]
  },
  {
   "cell_type": "code",
   "execution_count": null,
   "metadata": {},
   "outputs": [],
   "source": [
    "flat_sum = flatten(qsum)"
   ]
  },
  {
   "cell_type": "code",
   "execution_count": null,
   "metadata": {},
   "outputs": [],
   "source": [
    "# The sum still covers all combinations of indexes j,k\n",
    "# We can transform it into a neq sum, in which the indexes j and k are distinct. the following function then expands into all possible cases\n",
    "neq_sum = neq(qsum) # this also flattens the sum"
   ]
  },
  {
   "cell_type": "code",
   "execution_count": null,
   "metadata": {},
   "outputs": [],
   "source": [
    "# A differential equation of expectation values can be constructed via\n",
    "dzi_dt = d_dt(zi, alpha*expr+qsum)"
   ]
  },
  {
   "cell_type": "code",
   "execution_count": null,
   "metadata": {},
   "outputs": [],
   "source": [
    "clipboard(string(dzi_dt))"
   ]
  },
  {
   "cell_type": "code",
   "execution_count": null,
   "metadata": {},
   "outputs": [],
   "source": [
    "clipboard(latex_string(dzi_dt))"
   ]
  },
  {
   "cell_type": "code",
   "execution_count": null,
   "metadata": {},
   "outputs": [],
   "source": []
  }
 ],
 "metadata": {
  "kernelspec": {
   "display_name": "Julia 1.11.4",
   "language": "julia",
   "name": "julia-1.11"
  },
  "language_info": {
   "file_extension": ".jl",
   "mimetype": "application/julia",
   "name": "julia",
   "version": "1.11.4"
  }
 },
 "nbformat": 4,
 "nbformat_minor": 2
}
