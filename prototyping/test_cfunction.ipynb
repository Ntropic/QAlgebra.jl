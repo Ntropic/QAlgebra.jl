{
 "cells": [
  {
   "cell_type": "code",
   "execution_count": 1,
   "metadata": {},
   "outputs": [
    {
     "name": "stderr",
     "output_type": "stream",
     "text": [
      "\u001b[92m\u001b[1mPrecompiling\u001b[22m\u001b[39m project...\n",
      "   1455.4 ms\u001b[32m  ✓ \u001b[39mQAlgebra\n",
      "  1 dependency successfully precompiled in 2 seconds. 7 already precompiled.\n"
     ]
    }
   ],
   "source": [
    "using Pkg \n",
    "Pkg.instantiate()\n",
    "using QAlgebra\n",
    "\n",
    "using ComplexRationals\n",
    "using LaTeXStrings"
   ]
  },
  {
   "cell_type": "code",
   "execution_count": 3,
   "metadata": {},
   "outputs": [
    {
     "name": "stdout",
     "output_type": "stream",
     "text": [
      "Finished creating examples of all types.\n",
      "Finished creating strings and LaTeXStrings of all examples. \n"
     ]
    }
   ],
   "source": [
    "using Test\n",
    "CF_TYPES = (CAtom, CExp, CLog, CRational, CProd, CSum)\n",
    "VARS = [\"x\", \"y\"]\n",
    "\n",
    "function gen_examples(::Type{T}, depth::Int, max_depth::Int, same_a::Bool=false) where T<:CFunction\n",
    "    # -- one small collection of truly atomic CAtom examples:\n",
    "    atomic = [\n",
    "        CAtom(2,      [0,0]),\n",
    "        CAtom(2,      [1,0]),\n",
    "        CAtom(3//2,   [0,1]),\n",
    "        CAtom(crationalize(1+2im), [1,1])\n",
    "    ]\n",
    "    # convenience:\n",
    "    a = atomic[1]\n",
    "    a2 = atomic[2]\n",
    "    if same_a \n",
    "        a2 = atomic[1]\n",
    "    end\n",
    "\n",
    "    # at max depth, return exactly one “simple” example per type\n",
    "    if depth >= max_depth\n",
    "        if T === CAtom\n",
    "            return [a]\n",
    "        elseif T === CSum\n",
    "            return [CSum([a, a2])]\n",
    "        elseif T === CProd\n",
    "            return [CProd([a, a2])]\n",
    "        elseif T === CRational\n",
    "            return [CRational(a, a2)]\n",
    "        elseif T === CExp\n",
    "            return [CExp(a)]\n",
    "        elseif T === CLog\n",
    "            return [CLog(a)]\n",
    "        else\n",
    "            error(\"Unhandled type $T\")\n",
    "        end\n",
    "    end\n",
    "\n",
    "    # otherwise depth < max_depth: build composites\n",
    "    if T === CAtom\n",
    "        return atomic\n",
    "    elseif T === CSum\n",
    "        ex = CFunction[]\n",
    "        for U in CF_TYPES, V in CF_TYPES\n",
    "            if U !== CSum && V !== CSum \n",
    "                e1 = gen_examples(U, depth+1, max_depth)[1]\n",
    "                e2 = gen_examples(V, depth+1, max_depth)[1]\n",
    "                push!(ex, CSum([e1,e2]))\n",
    "            end\n",
    "        end\n",
    "        return ex\n",
    "    elseif T === CProd\n",
    "        ex = CFunction[]\n",
    "        for U in CF_TYPES, V in CF_TYPES\n",
    "            e1 = gen_examples(U, depth+1, max_depth)[1]\n",
    "            e2 = gen_examples(V, depth+1, max_depth)[1]\n",
    "            push!(ex, CProd([e1, e2]))\n",
    "        end\n",
    "        return ex\n",
    "    elseif T === CRational\n",
    "        ex = CFunction[]\n",
    "        for U in CF_TYPES, V in CF_TYPES\n",
    "            e1 = gen_examples(U, depth+1, max_depth)[1]\n",
    "            e2 = gen_examples(V, depth+1, max_depth)[1]\n",
    "            push!(ex, CRational(e1, e2))\n",
    "        end\n",
    "        return ex\n",
    "    elseif T === CExp\n",
    "        ex = CFunction[]\n",
    "        for U in CF_TYPES\n",
    "            e1 = gen_examples(U, depth+1, max_depth)[1]\n",
    "            push!(ex, CExp(e1))\n",
    "        end\n",
    "        return ex\n",
    "    elseif T === CLog\n",
    "        ex = CFunction[]\n",
    "        for U in CF_TYPES\n",
    "            e1 = gen_examples(U, depth+1, max_depth)[1]\n",
    "            push!(ex, CLog(e1))\n",
    "        end\n",
    "        return ex\n",
    "    else\n",
    "        error(\"Unhandled type $T\")\n",
    "    end\n",
    "end\n",
    "\n",
    "\n",
    "in_vsc() = any(startswith(key, \"VSCODE_\") for key in keys(ENV))\n",
    "function line(msg::String=\"\"; tail::String=\"=\", heads::Vector{String}=[\">\", \"<\"], n::Int=-1)\n",
    "    if n < 0\n",
    "        if !in_vsc()\n",
    "            n, _ = displaysize(stdout)\n",
    "        else \n",
    "            n = 70\n",
    "        end\n",
    "        if n == 0\n",
    "            n = 70\n",
    "        end\n",
    "    end\n",
    "    m = length(msg)\n",
    "    if m == 0\n",
    "        println(tail^n)\n",
    "        return\n",
    "    end\n",
    "    n2 = Int(floor((n - m - 4)/2)) \n",
    "    if n2 < 0\n",
    "        n2 = 0\n",
    "    end\n",
    "    final_str = join([tail^n2, heads[1], \" \", msg, \" \", heads[2], tail^n2], \"\")\n",
    "    if length(final_str) < n \n",
    "        final_str = final_str * tail \n",
    "    end\n",
    "    println(final_str) \n",
    "    return\n",
    "end\n",
    "\n",
    "macro test_succeeds(expr, msg_func=\"\")\n",
    "    quote\n",
    "        @test begin\n",
    "            try\n",
    "                $(esc(expr))\n",
    "                true\n",
    "            catch err\n",
    "                line($(esc(msg_func)))\n",
    "                line(string(typeof(err)))\n",
    "                Base.showerror(stdout, err)\n",
    "                line()\n",
    "                println()\n",
    "                rethrow(err)\n",
    "                false\n",
    "            end\n",
    "        end\n",
    "    end\n",
    "end\n",
    "\n",
    "list_of_subtypes = subtypes(CFunction)\n",
    "for T in list_of_subtypes\n",
    "    @assert T in list_of_subtypes \"Type $T not included in test -> add to test!\"\n",
    "end\n",
    "\n",
    "\n",
    "\n",
    "max_depth = 1\n",
    "# collect by type\n",
    "examples_by_type = Dict{DataType, Vector{CFunction}}()\n",
    "for T in CF_TYPES\n",
    "    examples_by_type[T] = gen_examples(T, 0, max_depth)\n",
    "end\n",
    "println(\"Finished creating examples of all types.\" )\n",
    "\n",
    "# flatten\n",
    "all_ex = reduce(vcat, values(examples_by_type))\n",
    "\n",
    "# a fixed small var‐name list for to_string\n",
    "\n",
    "\n",
    "# string generation\n",
    "for ex in all_ex\n",
    "    @test_succeeds to_string(ex, VARS)   \"to_string($ex) failed\"\n",
    "    @test_succeeds to_string(ex, VARS, do_latex=true)   \"to_string($ex, VARS, do_latex=true) failed\"\n",
    "end\n",
    "println(\"Finished creating strings and LaTeXStrings of all examples. \")\n",
    "\n",
    "# binary arithmetic on every pair\n",
    "for ex1 in all_ex, ex2 in all_ex\n",
    "    @test_succeeds ex1 + ex2  \"$ex1 + $ex2 failed\"\n",
    "    @test_succeeds ex1 - ex2  \"$ex1 - $ex2 failed\"\n",
    "    @test_succeeds ex1 * ex2  \"$ex1 * $ex2 failed\"\n",
    "    @test_succeeds ex1 / ex2  \"$ex1 / $ex2 failed\"\n",
    "end\n",
    "\n",
    "# simplify, sorting, recursive_sort!\n",
    "for ex1 in all_ex, ex2 in all_ex\n",
    "    @test_succeeds QAlgebra.CFunctions.simplify(ex1)            \"simplify($ex1) failed\"         \n",
    "end"
   ]
  },
  {
   "cell_type": "code",
   "execution_count": null,
   "metadata": {},
   "outputs": [],
   "source": [
    "using QAlgebra.CFunctions: CAtom, CSum, CRational, CExp, CLog,\n",
    "                            expand, evaluate, build_xpows, max_exponents\n",
    "using ComplexRationals: ComplexRational\n",
    "using Test\n",
    "\n",
    "# ————— Expand tests —————\n",
    "\n",
    "# 1) Taylor‐expansion of e^x up to order 3: 1 + x + 1/2 x^2 + 1/6 x^3\n",
    "x = CAtom(1, [1])    # symbol “x”\n",
    "ser = expand(exp(x), 3)\n",
    "\n",
    "@test length(ser.terms) == 4\n",
    "@test ser.terms[1] == CAtom(1, [0])\n",
    "@test ser.terms[2] == CAtom(1, [1])\n",
    "@test ser.terms[3] == CAtom(1//2, [2])\n",
    "@test ser.terms[4] == CAtom(1//6, [3])\n",
    "\n",
    "# 2) Fraction‐expansion: (2*x + 3) / 5 ⇒ 2/5·x + 3/5\n",
    "r = CRational(CSum([CAtom(2, [1]), CAtom(3, [0])]), CAtom(5, [0]))\n",
    "r_expanded = expand(r)\n",
    "\n",
    "@test length(r_expanded.terms) == 2\n",
    "@test r_expanded.terms[1] == CAtom(2//5, [1])\n",
    "@test r_expanded.terms[2] == CAtom(3//5, [0])\n",
    "\n",
    "# ————— Evaluate tests —————\n",
    "\n",
    "# 3) Numeric evaluation of e^x at x = 0.5\n",
    "xv = [0.5]\n",
    "exact_e = exp(0.5)\n",
    "xpows = build_xpows(xv, max_exponents(exp(x)))\n",
    "series_val = evaluate(ser, xpows)\n",
    "@test isapprox(series_val, exact_e; atol=1e-8)\n",
    "\n",
    "# also direct evaluation of CExp\n",
    "@test isapprox(evaluate(exp(x), xv), exact_e; atol=1e-12)\n",
    "\n",
    "# 4) Numeric evaluation of log(x) at x = 3\n",
    "logx = log(x)\n",
    "@test isapprox(evaluate(logx, [3]), log(3); atol=1e-12)\n",
    "\n",
    "# 5) Evaluate the rational at x = 2: (2*2 + 3)/5 == 7/5\n",
    "@test evaluate(r, [2]) == (2*2 + 3) / 5\n",
    "\n",
    "println(\"✔ expand/evaluate tests passed!\")\n"
   ]
  },
  {
   "cell_type": "code",
   "execution_count": 5,
   "metadata": {},
   "outputs": [],
   "source": []
  },
  {
   "cell_type": "code",
   "execution_count": 3,
   "metadata": {},
   "outputs": [
    {
     "data": {
      "text/latex": [
       "$-\\frac{ 1 }{ 1+2 \\alpha\\beta^{2} }$"
      ],
      "text/plain": [
       "L\"$-\\frac{ 1 }{ 1+2 \\alpha\\beta^{2} }$\""
      ]
     },
     "metadata": {},
     "output_type": "display_data"
    }
   ],
   "source": [
    "#a = CAtom(1, [1,0])\n",
    "#b = CAtom(2, [1,2])\n",
    "a = CAtom(ComplexRational(1,0,1), [1,0])\n",
    "b = CAtom(ComplexRational(2,0,1), [1,2])\n",
    "s = QAlgebra.CFunctions.simplify(a/(a+b))\n",
    "s = to_string(a/(-a*b-a), [\"\\\\alpha\", \"\\\\beta\"], do_latex=true, do_frac=true)\n",
    "latexstring(s)"
   ]
  },
  {
   "cell_type": "code",
   "execution_count": 4,
   "metadata": {},
   "outputs": [
    {
     "data": {
      "text/latex": [
       "$\\frac{1  }{2 \\beta^{2}}$"
      ],
      "text/plain": [
       "L\"$\\frac{1  }{2 \\beta^{2}}$\""
      ]
     },
     "metadata": {},
     "output_type": "display_data"
    }
   ],
   "source": [
    "s = to_string(a/b, [\"\\\\alpha\", \"\\\\beta\"], do_latex=true, do_frac=true)\n",
    "latexstring(s)"
   ]
  },
  {
   "cell_type": "code",
   "execution_count": 5,
   "metadata": {},
   "outputs": [
    {
     "data": {
      "text/plain": [
       "[0, 2]*exp([1, 0])+[1, 2]*exp([1, 0])"
      ]
     },
     "metadata": {},
     "output_type": "display_data"
    }
   ],
   "source": [
    "QAlgebra.CFunctions.simplify((a+1)*(b/a))*exp(a)"
   ]
  },
  {
   "cell_type": "code",
   "execution_count": 6,
   "metadata": {},
   "outputs": [
    {
     "data": {
      "text/latex": [
       "$\\frac{ \\exp \\left(2 \\alpha\\beta^{2}\\right) }{ \\alpha+2 \\alpha^{2}\\beta^{2} }$"
      ],
      "text/plain": [
       "L\"$\\frac{ \\exp \\left(2 \\alpha\\beta^{2}\\right) }{ \\alpha+2 \\alpha^{2}\\beta^{2} }$\""
      ]
     },
     "metadata": {},
     "output_type": "display_data"
    }
   ],
   "source": [
    "pre, s = to_stringer(QAlgebra.CFunctions.simplify(exp(b)/(-a*b-a)), [\"\\\\alpha\", \"\\\\beta\"], do_latex=true, do_frac=true)\n",
    "latexstring(s)"
   ]
  },
  {
   "cell_type": "code",
   "execution_count": 7,
   "metadata": {},
   "outputs": [
    {
     "data": {
      "text/latex": [
       "$4\\alpha\\beta(t)²(2+\\alpha)$"
      ],
      "text/plain": [
       "L\"$4\\alpha\\beta(t)²(2+\\alpha)$\""
      ]
     },
     "metadata": {},
     "output_type": "display_data"
    }
   ],
   "source": [
    "my_sign, my_str = to_stringer(-2*a*b-4*b, [\"\\\\alpha\", \"\\\\beta(t)\"], do_latex=false, braced=true)\n",
    "latexstring(my_str) "
   ]
  },
  {
   "cell_type": "code",
   "execution_count": 8,
   "metadata": {},
   "outputs": [
    {
     "data": {
      "text/latex": [
       "$\\frac{(2 + 4i) \\beta(t)^{2} }{\\alpha}$"
      ],
      "text/plain": [
       "L\"$\\frac{(2 + 4i) \\beta(t)^{2} }{\\alpha}$\""
      ]
     },
     "metadata": {},
     "output_type": "display_data"
    }
   ],
   "source": [
    "my_sign, my_str = to_stringer(-(1+2im)*b*a^(-2), [\"\\\\alpha\", \"\\\\beta(t)\"], do_latex=true, braced=true, do_frac=true)\n",
    "latexstring(my_str)"
   ]
  },
  {
   "cell_type": "code",
   "execution_count": 9,
   "metadata": {},
   "outputs": [],
   "source": []
  },
  {
   "cell_type": "code",
   "execution_count": null,
   "metadata": {},
   "outputs": [],
   "source": []
  }
 ],
 "metadata": {
  "kernelspec": {
   "display_name": "Julia 1.11.6",
   "language": "julia",
   "name": "julia-1.11"
  },
  "language_info": {
   "file_extension": ".jl",
   "mimetype": "application/julia",
   "name": "julia",
   "version": "1.11.6"
  }
 },
 "nbformat": 4,
 "nbformat_minor": 2
}
