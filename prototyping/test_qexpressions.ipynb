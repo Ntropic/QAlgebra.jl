{
 "cells": [
  {
   "cell_type": "code",
   "execution_count": 1,
   "metadata": {},
   "outputs": [
    {
     "name": "stderr",
     "output_type": "stream",
     "text": [
      "\u001b[92m\u001b[1mPrecompiling\u001b[22m\u001b[39m project...\n",
      "         \u001b[91m  ✗ \u001b[39mqAlgebra\n",
      "  0 dependencies successfully precompiled in 2 seconds. 7 already precompiled.\n",
      "\n",
      "The following 1 direct dependency failed to precompile:\n",
      "\n",
      "qAlgebra \n",
      "\n",
      "Failed to precompile qAlgebra [b9371e27-7e1d-48fa-b5f7-43d028413397] to \"/home/micha/.julia/compiled/v1.11/qAlgebra/jl_RU2OvA\".\n",
      "\u001b[91m\u001b[1mERROR: \u001b[22m\u001b[39mLoadError: ParseError:\n",
      "\u001b[90m# Error @ \u001b[0;0m\u001b]8;;file:///home/micha/Documents/PhD/Research/Projects/qAlgebra/src/qExpressionsOps/qExpressionsPrint.jl#206:5\u001b\\\u001b[90m/home/micha/Documents/PhD/Research/Projects/qAlgebra/src/qExpressionsOps/qExpressionsPrint.jl:206:5\u001b[0;0m\u001b]8;;\u001b\\\n",
      "    total_str = first_sign ? \"-\"*total_str : total_str \n",
      "    \u001b[48;2;120;70;70mtotal_str = prefix * brace(total_str, do_latex=do_latex\u001b[0;0m)\n",
      "\u001b[90m#   └─────────────────────────────────────────────────────┘ ── \u001b[0;0m\u001b[91mExpected `)`\u001b[0;0m\n",
      "Stacktrace:\n",
      " [1] top-level scope\n",
      "\u001b[90m   @\u001b[39m \u001b[90m~/Documents/PhD/Research/Projects/qAlgebra/src/qExpressionsOps/\u001b[39m\u001b[90m\u001b[4mqExpressionsPrint.jl:206\u001b[24m\u001b[39m\n",
      " [2] \u001b[0m\u001b[1minclude\u001b[22m\u001b[0m\u001b[1m(\u001b[22m\u001b[90mx\u001b[39m::\u001b[0mString\u001b[0m\u001b[1m)\u001b[22m\n",
      "\u001b[90m   @\u001b[39m \u001b[35mqAlgebra.qExpressions\u001b[39m \u001b[90m~/Documents/PhD/Research/Projects/qAlgebra/src/\u001b[39m\u001b[90m\u001b[4mqExpressions.jl:1\u001b[24m\u001b[39m\n",
      " [3] top-level scope\n",
      "\u001b[90m   @\u001b[39m \u001b[90m~/Documents/PhD/Research/Projects/qAlgebra/src/\u001b[39m\u001b[90m\u001b[4mqExpressions.jl:340\u001b[24m\u001b[39m\n",
      " [4] \u001b[0m\u001b[1minclude\u001b[22m\u001b[0m\u001b[1m(\u001b[22m\u001b[90mx\u001b[39m::\u001b[0mString\u001b[0m\u001b[1m)\u001b[22m\n",
      "\u001b[90m   @\u001b[39m \u001b[35mqAlgebra\u001b[39m \u001b[90m~/Documents/PhD/Research/Projects/qAlgebra/src/\u001b[39m\u001b[90m\u001b[4mqAlgebra.jl:1\u001b[24m\u001b[39m\n",
      " [5] top-level scope\n",
      "\u001b[90m   @\u001b[39m \u001b[90m~/Documents/PhD/Research/Projects/qAlgebra/src/\u001b[39m\u001b[90m\u001b[4mqAlgebra.jl:81\u001b[24m\u001b[39m\n",
      " [6] top-level scope\n",
      "\u001b[90m   @\u001b[39m \u001b[90m\u001b[4mstdin:6\u001b[24m\u001b[39m\n",
      "in expression starting at /home/micha/Documents/PhD/Research/Projects/qAlgebra/src/qExpressionsOps/qExpressionsPrint.jl:206\n",
      "in expression starting at /home/micha/Documents/PhD/Research/Projects/qAlgebra/src/qExpressions.jl:1\n",
      "in expression starting at /home/micha/Documents/PhD/Research/Projects/qAlgebra/src/qAlgebra.jl:1\n",
      "in expression starting at stdin:\u001b[91m\u001b[1mERROR: \u001b[22m\u001b[39mLoadError: ParseError:\n",
      "\u001b[90m# Error @ \u001b[0;0m\u001b]8;;file:///home/micha/Documents/PhD/Research/Projects/qAlgebra/src/qExpressionsOps/qExpressionsPrint.jl#206:5\u001b\\\u001b[90m/home/micha/Documents/PhD/Research/Projects/qAlgebra/src/qExpressionsOps/qExpressionsPrint.jl:206:5\u001b[0;0m\u001b]8;;\u001b\\\n",
      "    total_str = first_sign ? \"-\"*total_str : total_str \n",
      "    \u001b[48;2;120;70;70mtotal_str = prefix * brace(total_str, do_latex=do_latex\u001b[0;0m)\n",
      "\u001b[90m#   └─────────────────────────────────────────────────────┘ ── \u001b[0;0m\u001b[91mExpected `)`\u001b[0;0m\n",
      "Stacktrace:\n",
      " [1] top-level scope\n",
      "\u001b[90m   @\u001b[39m \u001b[90m~/Documents/PhD/Research/Projects/qAlgebra/src/qExpressionsOps/\u001b[39m\u001b[90m\u001b[4mqExpressionsPrint.jl:206\u001b[24m\u001b[39m\n",
      " [2] \u001b[0m\u001b[1minclude\u001b[22m\u001b[0m\u001b[1m(\u001b[22m\u001b[90mx\u001b[39m::\u001b[0mString\u001b[0m\u001b[1m)\u001b[22m\n",
      "\u001b[90m   @\u001b[39m \u001b[35mqAlgebra.qExpressions\u001b[39m \u001b[90m~/Documents/PhD/Research/Projects/qAlgebra/src/\u001b[39m\u001b[90m\u001b[4mqExpressions.jl:1\u001b[24m\u001b[39m\n",
      " [3] top-level scope\n",
      "\u001b[90m   @\u001b[39m \u001b[90m~/Documents/PhD/Research/Projects/qAlgebra/src/\u001b[39m\u001b[90m\u001b[4mqExpressions.jl:340\u001b[24m\u001b[39m\n",
      " [4] \u001b[0m\u001b[1minclude\u001b[22m\u001b[0m\u001b[1m(\u001b[22m\u001b[90mx\u001b[39m::\u001b[0mString\u001b[0m\u001b[1m)\u001b[22m\n",
      "\u001b[90m   @\u001b[39m \u001b[35mqAlgebra\u001b[39m \u001b[90m~/Documents/PhD/Research/Projects/qAlgebra/src/\u001b[39m\u001b[90m\u001b[4mqAlgebra.jl:1\u001b[24m\u001b[39m\n",
      " [5] top-level scope\n",
      "\u001b[90m   @\u001b[39m \u001b[90m~/Documents/PhD/Research/Projects/qAlgebra/src/\u001b[39m\u001b[90m\u001b[4mqAlgebra.jl:81\u001b[24m\u001b[39m\n",
      " [6] top-level scope\n",
      "\u001b[90m   @\u001b[39m \u001b[90m\u001b[4mstdin:6\u001b[24m\u001b[39m\n",
      "in expression starting at /home/micha/Documents/PhD/Research/Projects/qAlgebra/src/qExpressionsOps/qExpressionsPrint.jl:206\n",
      "in expression starting at /home/micha/Documents/PhD/Research/Projects/qAlgebra/src/qExpressions.jl:1\n",
      "in expression starting at /home/micha/Documents/PhD/Research/Projects/qAlgebra/src/qAlgebra.jl:1\n",
      "in expression starting at stdin:6\n"
     ]
    },
    {
     "ename": "ErrorException",
     "evalue": "Failed to precompile qAlgebra [b9371e27-7e1d-48fa-b5f7-43d028413397] to \"/home/micha/.julia/compiled/v1.11/qAlgebra/jl_nuFgHd\".",
     "output_type": "error",
     "traceback": [
      "Failed to precompile qAlgebra [b9371e27-7e1d-48fa-b5f7-43d028413397] to \"/home/micha/.julia/compiled/v1.11/qAlgebra/jl_nuFgHd\".\n",
      "\n",
      "Stacktrace:\n",
      "  [1] (::Base.var\"#1110#1111\"{Base.PkgId})()\n",
      "    @ Base ./loading.jl:2579\n",
      "  [2] mkpidlock(f::Base.var\"#1110#1111\"{Base.PkgId}, at::String, pid::Int32; kwopts::@Kwargs{stale_age::Int64, wait::Bool})\n",
      "    @ FileWatching.Pidfile /usr/share/julia/stdlib/v1.11/FileWatching/src/pidfile.jl:95\n",
      "  [3] eval\n",
      "    @ ./boot.jl:430 [inlined]\n",
      "  [4] include_string(mapexpr::typeof(REPL.softscope), mod::Module, code::String, filename::String)\n",
      "    @ Base ./loading.jl:2734\n",
      "  [5] #invokelatest#2\n",
      "    @ ./essentials.jl:1055 [inlined]\n",
      "  [6] invokelatest\n",
      "    @ ./essentials.jl:1052 [inlined]\n",
      "  [7] (::VSCodeServer.var\"#217#218\"{VSCodeServer.NotebookRunCellArguments, String})()\n",
      "    @ VSCodeServer ~/.vscode-oss/extensions/julialang.language-julia-1.146.2-universal/scripts/packages/VSCodeServer/src/serve_notebook.jl:24\n",
      "  [8] withpath(f::VSCodeServer.var\"#217#218\"{VSCodeServer.NotebookRunCellArguments, String}, path::String)\n",
      "    @ VSCodeServer ~/.vscode-oss/extensions/julialang.language-julia-1.146.2-universal/scripts/packages/VSCodeServer/src/repl.jl:276\n",
      "  [9] notebook_runcell_request(conn::VSCodeServer.JSONRPC.JSONRPCEndpoint{Base.PipeEndpoint, Base.PipeEndpoint, VSCodeServer.JSON.Serializations.StandardSerialization}, params::VSCodeServer.NotebookRunCellArguments, token::VSCodeServer.CancellationTokens.CancellationToken)\n",
      "    @ VSCodeServer ~/.vscode-oss/extensions/julialang.language-julia-1.146.2-universal/scripts/packages/VSCodeServer/src/serve_notebook.jl:13\n",
      " [10] dispatch_msg(x::VSCodeServer.JSONRPC.JSONRPCEndpoint{Base.PipeEndpoint, Base.PipeEndpoint, VSCodeServer.JSON.Serializations.StandardSerialization}, dispatcher::VSCodeServer.JSONRPC.MsgDispatcher, msg::VSCodeServer.JSONRPC.Request)\n",
      "    @ VSCodeServer.JSONRPC ~/.vscode-oss/extensions/julialang.language-julia-1.146.2-universal/scripts/packages/JSONRPC/src/typed.jl:68\n",
      " [11] serve_notebook(pipename::String, debugger_pipename::String, outputchannel_logger::Base.CoreLogging.SimpleLogger; error_handler::var\"#5#10\"{String})\n",
      "    @ VSCodeServer ~/.vscode-oss/extensions/julialang.language-julia-1.146.2-universal/scripts/packages/VSCodeServer/src/serve_notebook.jl:147\n",
      " [12] top-level scope\n",
      "    @ ~/.vscode-oss/extensions/julialang.language-julia-1.146.2-universal/scripts/notebook/notebook.jl:35"
     ]
    }
   ],
   "source": [
    "using Pkg \n",
    "Pkg.instantiate()\n",
    "using qAlgebra"
   ]
  },
  {
   "cell_type": "code",
   "execution_count": 2,
   "metadata": {},
   "outputs": [
    {
     "ename": "UndefVarError",
     "evalue": "UndefVarError: `QubitPM` not defined in `Main`\nSuggestion: check for spelling errors or missing imports.",
     "output_type": "error",
     "traceback": [
      "UndefVarError: `QubitPM` not defined in `Main`\n",
      "Suggestion: check for spelling errors or missing imports.\n",
      "\n",
      "Stacktrace:\n",
      " [1] top-level scope\n",
      "   @ ~/Documents/PhD/Research/Projects/qAlgebra/prototyping/jl_notebook_cell_df34fa98e69747e1a8f8a730347b8e2f_W1sZmlsZQ==.jl:1"
     ]
    }
   ],
   "source": [
    "qspace = StateSpace(\"alpha\", \"beta(t)\", \"gamma_i\", \"delta_i\", operators=[\"A(!i)\", \"B(U,H,i)\"], h=QubitPM(), i=(3, QubitPauli()), b=Ladder())"
   ]
  },
  {
   "cell_type": "code",
   "execution_count": 3,
   "metadata": {},
   "outputs": [
    {
     "ename": "UndefVarError",
     "evalue": "UndefVarError: `base_operators` not defined in `Main`\nSuggestion: check for spelling errors or missing imports.",
     "output_type": "error",
     "traceback": [
      "UndefVarError: `base_operators` not defined in `Main`\n",
      "Suggestion: check for spelling errors or missing imports.\n",
      "\n",
      "Stacktrace:\n",
      " [1] top-level scope\n",
      "   @ ~/Documents/PhD/Research/Projects/qAlgebra/prototyping/jl_notebook_cell_df34fa98e69747e1a8f8a730347b8e2f_W2sZmlsZQ==.jl:1"
     ]
    }
   ],
   "source": [
    "var_dict, op_dict, abstract_dict = base_operators(qspace)\n",
    "alpha = base_operators(qspace, \"alpha\")\n",
    "ph, mh, zh = base_operators(qspace, \"h\", do_dict=false)\n",
    "xi,yi,zi, pi, mi = base_operators(qspace, \"i\", do_dict=false)\n",
    "xj, yj, zj, pj, mj = base_operators(qspace, \"j\", do_dict=false)\n",
    "I = base_operators(qspace, \"I\")\n",
    "A = base_operators(qspace, \"A\")\n",
    "println(\"Done\")"
   ]
  },
  {
   "cell_type": "code",
   "execution_count": 4,
   "metadata": {},
   "outputs": [
    {
     "ename": "UndefVarError",
     "evalue": "UndefVarError: `simplify` not defined in `Main`\nSuggestion: check for spelling errors or missing imports.",
     "output_type": "error",
     "traceback": [
      "UndefVarError: `simplify` not defined in `Main`\n",
      "Suggestion: check for spelling errors or missing imports.\n",
      "\n",
      "Stacktrace:\n",
      " [1] top-level scope\n",
      "   @ ~/Documents/PhD/Research/Projects/qAlgebra/prototyping/jl_notebook_cell_df34fa98e69747e1a8f8a730347b8e2f_X13sZmlsZQ==.jl:1"
     ]
    }
   ],
   "source": [
    "simplify(qCommutator(Sum(\"i\", alpha*ph*xi*yi) + zj,zh))\n",
    "println(\"Done\")"
   ]
  },
  {
   "cell_type": "code",
   "execution_count": 5,
   "metadata": {},
   "outputs": [
    {
     "ename": "UndefVarError",
     "evalue": "UndefVarError: `Sum` not defined in `Main`\nSuggestion: check for spelling errors or missing imports.",
     "output_type": "error",
     "traceback": [
      "UndefVarError: `Sum` not defined in `Main`\n",
      "Suggestion: check for spelling errors or missing imports.\n",
      "\n",
      "Stacktrace:\n",
      " [1] top-level scope\n",
      "   @ ~/Documents/PhD/Research/Projects/qAlgebra/prototyping/jl_notebook_cell_df34fa98e69747e1a8f8a730347b8e2f_W3sZmlsZQ==.jl:1"
     ]
    }
   ],
   "source": [
    "Sum(\"i\", alpha*ph*xi*yi * A * xi + xi*yi) * Sum(\"j\", zi) "
   ]
  },
  {
   "cell_type": "code",
   "execution_count": 6,
   "metadata": {},
   "outputs": [
    {
     "ename": "UndefVarError",
     "evalue": "UndefVarError: `simplify` not defined in `Main`\nSuggestion: check for spelling errors or missing imports.",
     "output_type": "error",
     "traceback": [
      "UndefVarError: `simplify` not defined in `Main`\n",
      "Suggestion: check for spelling errors or missing imports.\n",
      "\n",
      "Stacktrace:\n",
      " [1] top-level scope\n",
      "   @ ~/Documents/PhD/Research/Projects/qAlgebra/prototyping/jl_notebook_cell_df34fa98e69747e1a8f8a730347b8e2f_X36sZmlsZQ==.jl:1"
     ]
    }
   ],
   "source": [
    "simplify(log(Sum(\"i\", alpha*ph*xi*yi) + zj)+zh)"
   ]
  },
  {
   "cell_type": "code",
   "execution_count": null,
   "metadata": {},
   "outputs": [],
   "source": []
  },
  {
   "cell_type": "code",
   "execution_count": null,
   "metadata": {},
   "outputs": [],
   "source": []
  },
  {
   "cell_type": "code",
   "execution_count": null,
   "metadata": {},
   "outputs": [],
   "source": []
  },
  {
   "cell_type": "code",
   "execution_count": null,
   "metadata": {},
   "outputs": [],
   "source": []
  },
  {
   "cell_type": "code",
   "execution_count": 8,
   "metadata": {},
   "outputs": [
    {
     "data": {
      "text/plain": [
       "Dict{String, qExpr} with 23 entries:\n",
       "  \"x_i\" => xᵢ\n",
       "  \"y_h\" => -i(pₕ-mₕ)\n",
       "  \"m_k\" => (xₖ+iyₖ)\n",
       "  \"b\"   => b\n",
       "  \"x_j\" => xⱼ\n",
       "  \"y_k\" => yₖ\n",
       "  \"p_h\" => pₕ\n",
       "  \"z_i\" => zᵢ\n",
       "  \"y_i\" => yᵢ\n",
       "  \"z_h\" => zₕ\n",
       "  \"x_h\" => (pₕ+mₕ)\n",
       "  \"m_h\" => mₕ\n",
       "  \"m_j\" => (xⱼ+iyⱼ)\n",
       "  \"z_j\" => zⱼ\n",
       "  \"x_k\" => xₖ\n",
       "  \"m_i\" => (xᵢ+iyᵢ)\n",
       "  \"z_k\" => zₖ\n",
       "  \"p_k\" => (xₖ-iyₖ)\n",
       "  \"I\"   => 1\n",
       "  ⋮     => ⋮"
      ]
     },
     "metadata": {},
     "output_type": "display_data"
    }
   ],
   "source": [
    "var_dict, op_dict, abstract_dict = base_operators(qspace)\n",
    "op_dict"
   ]
  },
  {
   "cell_type": "code",
   "execution_count": null,
   "metadata": {},
   "outputs": [],
   "source": [
    "var_dict"
   ]
  },
  {
   "cell_type": "code",
   "execution_count": null,
   "metadata": {},
   "outputs": [],
   "source": []
  },
  {
   "cell_type": "code",
   "execution_count": 3,
   "metadata": {},
   "outputs": [
    {
     "data": {
      "text/latex": [
       "$\\alpha \\hat{A}_2^{2}$"
      ],
      "text/plain": [
       "α*A₂²"
      ]
     },
     "metadata": {},
     "output_type": "display_data"
    }
   ],
   "source": [
    "A = base_operators(qspace, \"A_2\")\n",
    "alpha = base_operators(qspace, \"alpha\")\n",
    "A*alpha*A"
   ]
  },
  {
   "cell_type": "code",
   "execution_count": 4,
   "metadata": {},
   "outputs": [
    {
     "data": {
      "text/latex": [
       "$\\alpha³ \\hat{A}_2^{3}$"
      ],
      "text/plain": [
       "α³*A₂³"
      ]
     },
     "metadata": {},
     "output_type": "display_data"
    }
   ],
   "source": [
    "alpha^2*A^2*alpha*A"
   ]
  },
  {
   "cell_type": "code",
   "execution_count": null,
   "metadata": {},
   "outputs": [],
   "source": []
  },
  {
   "cell_type": "code",
   "execution_count": null,
   "metadata": {},
   "outputs": [],
   "source": []
  }
 ],
 "metadata": {
  "kernelspec": {
   "display_name": "Julia 1.11.5",
   "language": "julia",
   "name": "julia-1.11"
  },
  "language_info": {
   "file_extension": ".jl",
   "mimetype": "application/julia",
   "name": "julia",
   "version": "1.11.5"
  }
 },
 "nbformat": 4,
 "nbformat_minor": 2
}
