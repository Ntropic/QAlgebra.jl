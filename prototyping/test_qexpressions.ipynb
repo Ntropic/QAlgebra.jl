{
 "cells": [
  {
   "cell_type": "code",
   "execution_count": 1,
   "metadata": {},
   "outputs": [
    {
     "name": "stderr",
     "output_type": "stream",
     "text": [
      "\u001b[92m\u001b[1mPrecompiling\u001b[22m\u001b[39m project...\n",
      "    989.3 ms\u001b[32m  ✓ \u001b[39mqAlgebra\n",
      "  1 dependency successfully precompiled in 1 seconds. 19 already precompiled.\n"
     ]
    }
   ],
   "source": [
    "using Pkg \n",
    "Pkg.instantiate()\n",
    "using qAlgebra\n",
    "\n",
    "using BenchmarkTools"
   ]
  },
  {
   "cell_type": "code",
   "execution_count": 2,
   "metadata": {},
   "outputs": [
    {
     "data": {
      "text/plain": [
       "StateSpace: [β(t), γᵢ, γⱼ, γₖ, δᵢ, δⱼ, δₖ, α]\n",
       "   - SubSpace [\"h\"]: PM Qubit (Fermionic):  pₚ, mₚ, zₚ, Iₚ (identity)\n",
       "   - SubSpace [\"i\", \"j\", \"k\"]: Pauli Qubit (Fermionic):  xₚ, yₚ, zₚ, Iₚ (identity)\n",
       "   - SubSpace [\"b\"]: Ladder (Bosonic):  p†, p\n",
       "   - Op: A\n",
       "   - Op: B(H,U)\n"
      ]
     },
     "metadata": {},
     "output_type": "display_data"
    }
   ],
   "source": [
    "qspace = StateSpace(\"alpha\", \"beta(t)\", \"gamma_i\", \"delta_i\", operators=[\"A(!i)\", \"B(U,H,i)\"], h=QubitPM(), i=(3, QubitPauli()), b=Ladder())"
   ]
  },
  {
   "cell_type": "code",
   "execution_count": 3,
   "metadata": {},
   "outputs": [
    {
     "name": "stdout",
     "output_type": "stream",
     "text": [
      "Done\n"
     ]
    }
   ],
   "source": [
    "var_dict, op_dict, abstract_dict = base_operators(qspace)\n",
    "alpha = base_operators(qspace, \"alpha\")\n",
    "beta = base_operators(qspace, \"beta\")\n",
    "gamma_i, gamma_j, gamma_k = base_operators(qspace, \"gamma\", do_dict=false)\n",
    "ph, mh, zh = base_operators(qspace, \"h\", do_dict=false)\n",
    "xi,yi,zi, pi, mi = base_operators(qspace, \"i\", do_dict=false)\n",
    "xj, yj, zj, pj, mj = base_operators(qspace, \"j\", do_dict=false)\n",
    "xk, yk, zk, pk, mk = base_operators(qspace, \"k\", do_dict=false)\n",
    "b, n = base_operators(qspace, \"b\", do_dict=false)\n",
    "I = base_operators(qspace, \"I\")\n",
    "A = base_operators(qspace, \"A\")\n",
    "println(\"Done\")"
   ]
  },
  {
   "cell_type": "code",
   "execution_count": 4,
   "metadata": {},
   "outputs": [
    {
     "data": {
      "text/latex": [
       "$ \\hat{A}$"
      ],
      "text/plain": [
       "A"
      ]
     },
     "metadata": {},
     "output_type": "display_data"
    }
   ],
   "source": [
    "A = base_operators(qspace, \"A\", do_fun=true)\n",
    "A1 = base_operators(qspace, \"A_1\", do_fun=false)\n",
    "A = A()"
   ]
  },
  {
   "cell_type": "code",
   "execution_count": 5,
   "metadata": {},
   "outputs": [
    {
     "data": {
      "text/latex": [
       "$\\sum_{j}^{=}\\left(\\alpha \\hat{y}_{i}\\hat{y}_{j}+\\sum_{k}^{=}\\beta(t)\\alpha² \\hat{x}_{k}\\right)$"
      ],
      "text/plain": [
       "∑ⱼ⁼(αyᵢyⱼ+∑ₖ⁼β(t)α²xₖ)"
      ]
     },
     "metadata": {},
     "output_type": "display_data"
    }
   ],
   "source": [
    "Sum(\"j\", alpha * yi * yj + Sum(\"k\", beta * alpha^2 * xi * xi * xk))"
   ]
  },
  {
   "cell_type": "code",
   "execution_count": 6,
   "metadata": {},
   "outputs": [
    {
     "data": {
      "text/plain": [
       "BenchmarkTools.Trial: 10000 samples with 1 evaluation per sample.\n",
       " Range \u001b[90m(\u001b[39m\u001b[36m\u001b[1mmin\u001b[22m\u001b[39m … \u001b[35mmax\u001b[39m\u001b[90m):  \u001b[39m\u001b[36m\u001b[1m69.292 μs\u001b[22m\u001b[39m … \u001b[35m  9.639 ms\u001b[39m  \u001b[90m┊\u001b[39m GC \u001b[90m(\u001b[39mmin … max\u001b[90m): \u001b[39m0.00% … 98.71%\n",
       " Time  \u001b[90m(\u001b[39m\u001b[34m\u001b[1mmedian\u001b[22m\u001b[39m\u001b[90m):     \u001b[39m\u001b[34m\u001b[1m70.750 μs               \u001b[22m\u001b[39m\u001b[90m┊\u001b[39m GC \u001b[90m(\u001b[39mmedian\u001b[90m):    \u001b[39m0.00%\n",
       " Time  \u001b[90m(\u001b[39m\u001b[32m\u001b[1mmean\u001b[22m\u001b[39m ± \u001b[32mσ\u001b[39m\u001b[90m):   \u001b[39m\u001b[32m\u001b[1m74.791 μs\u001b[22m\u001b[39m ± \u001b[32m144.214 μs\u001b[39m  \u001b[90m┊\u001b[39m GC \u001b[90m(\u001b[39mmean ± σ\u001b[90m):  \u001b[39m3.25% ±  1.71%\n",
       "\n",
       "  \u001b[39m \u001b[39m \u001b[39m \u001b[39m▃\u001b[39m█\u001b[39m█\u001b[34m▆\u001b[39m\u001b[39m \u001b[39m \u001b[39m \u001b[39m \u001b[39m \u001b[39m \u001b[39m \u001b[39m \u001b[39m \u001b[39m \u001b[39m \u001b[39m \u001b[39m \u001b[39m \u001b[39m \u001b[39m \u001b[39m \u001b[32m \u001b[39m\u001b[39m \u001b[39m \u001b[39m \u001b[39m \u001b[39m \u001b[39m \u001b[39m \u001b[39m \u001b[39m \u001b[39m \u001b[39m \u001b[39m \u001b[39m \u001b[39m \u001b[39m \u001b[39m \u001b[39m \u001b[39m \u001b[39m \u001b[39m \u001b[39m \u001b[39m \u001b[39m \u001b[39m \u001b[39m \u001b[39m \u001b[39m \u001b[39m \u001b[39m \u001b[39m \u001b[39m \u001b[39m \u001b[39m \u001b[39m \u001b[39m \u001b[39m \u001b[39m \n",
       "  \u001b[39m▁\u001b[39m▂\u001b[39m▄\u001b[39m█\u001b[39m█\u001b[39m█\u001b[34m█\u001b[39m\u001b[39m█\u001b[39m▆\u001b[39m▃\u001b[39m▂\u001b[39m▃\u001b[39m▃\u001b[39m▂\u001b[39m▂\u001b[39m▂\u001b[39m▃\u001b[39m▂\u001b[39m▂\u001b[39m▂\u001b[39m▂\u001b[39m▂\u001b[39m▂\u001b[39m▂\u001b[32m▂\u001b[39m\u001b[39m▂\u001b[39m▂\u001b[39m▂\u001b[39m▂\u001b[39m▁\u001b[39m▁\u001b[39m▁\u001b[39m▁\u001b[39m▁\u001b[39m▁\u001b[39m▁\u001b[39m▁\u001b[39m▁\u001b[39m▁\u001b[39m▁\u001b[39m▁\u001b[39m▁\u001b[39m▁\u001b[39m▁\u001b[39m▁\u001b[39m▁\u001b[39m▁\u001b[39m▁\u001b[39m▁\u001b[39m▁\u001b[39m▁\u001b[39m▁\u001b[39m▁\u001b[39m▁\u001b[39m▁\u001b[39m▁\u001b[39m▁\u001b[39m▁\u001b[39m▁\u001b[39m▁\u001b[39m \u001b[39m▂\n",
       "  69.3 μs\u001b[90m         Histogram: frequency by time\u001b[39m         83.3 μs \u001b[0m\u001b[1m<\u001b[22m\n",
       "\n",
       " Memory estimate\u001b[90m: \u001b[39m\u001b[33m48.80 KiB\u001b[39m, allocs estimate\u001b[90m: \u001b[39m\u001b[33m807\u001b[39m."
      ]
     },
     "metadata": {},
     "output_type": "display_data"
    }
   ],
   "source": [
    "@benchmark Sum(\"j\", alpha * yi * yj + Sum(\"k\", beta * alpha^2 * xi * xj * xk))"
   ]
  },
  {
   "cell_type": "code",
   "execution_count": 7,
   "metadata": {},
   "outputs": [
    {
     "data": {
      "text/latex": [
       "$\\sum_{j}^{=}\\alpha \\hat{y}_{i}\\hat{y}_{j}+\\sum_{j,k}^{=}\\beta(t)\\alpha² \\hat{x}_{i}\\hat{x}_{j}\\hat{x}_{k}$"
      ],
      "text/plain": [
       "∑ⱼ⁼αyᵢyⱼ+∑ⱼₖ⁼β(t)α²xᵢxⱼxₖ"
      ]
     },
     "metadata": {},
     "output_type": "display_data"
    }
   ],
   "source": [
    "simplify(flatten(Sum(\"j\", alpha * yi * yj + Sum(\"k\", beta * alpha^2 * xi * xj * xk))))"
   ]
  },
  {
   "cell_type": "code",
   "execution_count": 10,
   "metadata": {},
   "outputs": [
    {
     "data": {
      "text/latex": [
       "$\\log\\left(\\alpha+2\\beta(t)\\gamma_{i}² \\hat{x}_{i}+\\sum_{j}^{\\neq}\\left(\\alpha \\hat{y}_{i}\\hat{y}_{j}+\\beta(t)\\gamma_{j}² \\hat{x}_{i}+\\beta(t)\\gamma_{i}\\gamma_{j} \\hat{x}_{j}\\right)+\\sum_{k}^{\\neq}\\beta(t)\\gamma_{i}\\gamma_{k} \\hat{x}_{k}+\\sum_{(j,k)}^{\\neq}\\beta(t)\\gamma_{j}\\gamma_{k} \\hat{x}_{i}\\hat{x}_{j}\\hat{x}_{k}\\right)$"
      ],
      "text/plain": [
       "log(α+2β(t)γᵢ²xᵢ+∑ⱼ(αyᵢyⱼ+β(t)γⱼ²xᵢ+β(t)γᵢγⱼxⱼ)+∑ₖβ(t)γᵢγₖxₖ+∑₍ⱼₖ₎β(t)γⱼγₖxᵢxⱼxₖ)"
      ]
     },
     "metadata": {},
     "output_type": "display_data"
    }
   ],
   "source": [
    "expr = neq(log(Sum(\"j\", alpha * yi * yj + Sum(\"k\", beta * gamma_j * gamma_k * xi * xj * xk))))"
   ]
  },
  {
   "cell_type": "code",
   "execution_count": 11,
   "metadata": {},
   "outputs": [
    {
     "data": {
      "text/latex": [
       "$\\frac{\\text{d}  \\hat{x}_{i}}{\\text{d}t} = \\log\\left(\\alpha+2\\beta(t)\\gamma_{i}² \\hat{x}_{i}+\\sum_{j}^{\\neq}\\left(\\alpha \\hat{y}_{i}\\hat{y}_{j}+\\beta(t)\\gamma_{j}² \\hat{x}_{i}+\\beta(t)\\gamma_{i}\\gamma_{j} \\hat{x}_{j}\\right)+\\sum_{k}^{\\neq}\\beta(t)\\gamma_{i}\\gamma_{k} \\hat{x}_{k}+\\sum_{(j,k)}^{\\neq}\\beta(t)\\gamma_{j}\\gamma_{k} \\hat{x}_{i}\\hat{x}_{j}\\hat{x}_{k}\\right)$"
      ],
      "text/plain": [
       "d(xᵢ) / dt = log(α+2β(t)γᵢ²xᵢ+∑ⱼ(αyᵢyⱼ+β(t)γⱼ²xᵢ+β(t)γᵢγⱼxⱼ)+∑ₖβ(t)γᵢγₖxₖ+∑₍ⱼₖ₎β(t)γⱼγₖxᵢxⱼxₖ)"
      ]
     },
     "metadata": {},
     "output_type": "display_data"
    }
   ],
   "source": [
    "d_dt(xi, expr)"
   ]
  },
  {
   "cell_type": "code",
   "execution_count": 12,
   "metadata": {},
   "outputs": [
    {
     "data": {
      "text/plain": [
       "extract_qatom (generic function with 2 methods)"
      ]
     },
     "metadata": {},
     "output_type": "display_data"
    }
   ],
   "source": [
    "function extract_qabstract(q::qExpr)::qAbstract\n",
    "    if length(q) > 1 \n",
    "        error(\"Cannot substitute composites. abstract_op must contain only an abstract operator.\")\n",
    "    end\n",
    "    term = q.terms[1]\n",
    "    if !isa(term, qAtomProduct)\n",
    "        error(\"qExpr must contain only a qAtomProduct\")\n",
    "    end\n",
    "    return extract_qabstract(term)\n",
    "end\n",
    "function extract_qabstract(term::qAtomProduct)::qAbstract\n",
    "    if length(term.expr) != 1 || !isa(term.expr[1], qAbstract)\n",
    "        error(\"abstract_op must contain exactly one qAbstract\")\n",
    "    end\n",
    "    return term.expr[1]\n",
    "end\n",
    "#now same for qAtom \n",
    "function extract_qatom(q::qExpr)::qAtom\n",
    "    if length(q) > 1 \n",
    "        error(\"Cannot substitute composites. abstract_op must contain only an abstract operator.\")\n",
    "    end\n",
    "    term = q.terms[1]\n",
    "    if !isa(term, qAtomProduct)\n",
    "        error(\"qExpr must contain only a qAtomProduct\")\n",
    "    end\n",
    "    return extract_qatom(term)\n",
    "end\n",
    "function extract_qatom(term::qAtomProduct)::qAtom\n",
    "    if length(term.expr) != 1 || !isa(term.expr[1], qAtom)\n",
    "        error(\"abstract_op must contain exactly one qAbstract\")\n",
    "    end\n",
    "    return term.expr[1]\n",
    "end"
   ]
  },
  {
   "cell_type": "code",
   "execution_count": 13,
   "metadata": {},
   "outputs": [
    {
     "data": {
      "text/plain": [
       "substitute (generic function with 7 methods)"
      ]
     },
     "metadata": {},
     "output_type": "display_data"
    }
   ],
   "source": [
    "# substitute abstract operator \n",
    "# input is abstract_op, replacement and target\n",
    "simpleQ = Union{qExpr, qAtomProduct}\n",
    "function substitute(abstract_op::Union{simpleQ, qAbstract}, replacement::Union{simpleQ, qAtom}, target::qExpr)::qExpr\n",
    "    if !isa(abstract_op, qAbstract)\n",
    "        abstract_op = extract_qabstract(abstract_op)\n",
    "    end\n",
    "    if !isa(replacement, qAtom)\n",
    "        replacement = extract_qatom(replacement)\n",
    "    end\n",
    "    return substitute(abstract_op, replacement, target)\n",
    "end\n",
    "function substitute(abstract_op::qAbstract, replacement::qAtom, target::qExpr)::qExpr\n",
    "    # recursively navigate expression, and substitue\n",
    "    new_terms = qComposite[]\n",
    "    for term in target.terms\n",
    "        append!(new_terms, substitute(abstract_op, replacement, term))\n",
    "    end\n",
    "    return qExpr(target.statespace, new_terms)\n",
    "end\n",
    "function substitute(a::qAbstract, r::qAtom, targ::T) where T<:qComposite\n",
    "    # T<:qMultiComposite is *also* <:qComposite, \n",
    "    # so we need the qMultiComposite method to be more specific\n",
    "    cp = copy(targ)\n",
    "    cp.expr = substitute(a, r, targ.expr)\n",
    "    return [cp]  # Tuple or Vector, depending on your convention\n",
    "end\n",
    "\n",
    "# For anything that holds *many* sub‑expressions\n",
    "function substitute(a::qAbstract, r::qAtom, targ::T) where T<:qMultiComposite\n",
    "    cp = copy(targ)\n",
    "    cp.expr = map(x -> substitute(a, r, x), targ.expr)\n",
    "    return [cp]\n",
    "end\n",
    "function substitute(abstract_op::qAbstract, replacement::qAtom, target::qAtomProduct)::Vector{qComposite}\n",
    "    # recursively navigate expression, and substitue\n",
    "    expr = target.expr\n",
    "    new_expr::Vector{qAtom} = []\n",
    "    for t in expr\n",
    "        if isa(t, qTerm)\n",
    "            push!(new_expr, t)\n",
    "        else# qAbstract\n",
    "            # check if its the same qAbstract operator \n",
    "            if t.key_index == abstract_op.key_index && t.sub_index == abstract_op.sub_index \n",
    "                if t.exponent != 1\n",
    "                    curr_replacement = replacement^t.exponent\n",
    "                    if t.dag \n",
    "                        curr_replacement = curr_replacement'\n",
    "                    end\n",
    "                    push!(new_expr, curr_replacement)\n",
    "                elseif t.dag\n",
    "                    push!(new_expr, replacement')\n",
    "                else\n",
    "                    push!(new_expr, replacement)\n",
    "                end\n",
    "            else\n",
    "                push!(new_expr, t)\n",
    "            end\n",
    "        end\n",
    "    end\n",
    "    return simplify(qAtomProduct(target.statespace, target.coeff_fun, new_expr))\n",
    "end\n",
    "function substitute(abstract_op::Union{simpleQ, qAbstract}, replacement::Union{simpleQ, qAtom}, target::diff_qEQ)::diff_qEQ \n",
    "    if !isa(abstract_op, qAbstract)\n",
    "        abstract_op = extract_qabstract(abstract_op)\n",
    "    end\n",
    "    if !isa(replacement, qAtom)\n",
    "        replacement = extract_qatom(replacement)\n",
    "    end\n",
    "    return substitute(abstract_op, replacement, target)\n",
    "end\n",
    "function substitute(abstract_op::qAbstract, replacement::qAtom, target::diff_qEQ)::diff_qEQ\n",
    "    lhs = substitute(abstract_op, replacement, target.left_hand_side)\n",
    "    if length(lhs) != 1\n",
    "        error(\"Substitution of $abstract_op with $replacement in $target did not result in a single term.\")\n",
    "    end\n",
    "    lhs = lhs[1]\n",
    "    rhs = substitute(abstract_op, replacement, target.expr)\n",
    "    return diff_qEQ(target.statespace, \n",
    "        lhs,\n",
    "        rhs, \n",
    "        target.braket, \n",
    "        target.do_sigma)\n",
    "end"
   ]
  },
  {
   "cell_type": "code",
   "execution_count": 14,
   "metadata": {},
   "outputs": [
    {
     "data": {
      "text/latex": [
       "$\\log\\left(\\alpha \\hat{y}_{i}\\hat{A}+2\\beta(t)\\gamma_{i}² \\hat{x}_{i}\\hat{A}\\hat{x}_{i}+\\sum_{j}^{\\neq}\\left(\\alpha \\hat{y}_{j}\\hat{A}+\\beta(t)\\gamma_{j}² \\hat{x}_{j}\\hat{A}\\hat{x}_{j}+\\beta(t)\\gamma_{i}\\gamma_{j} \\hat{x}_{j}\\hat{A}\\hat{x}_{i}\\right)+\\sum_{k}^{\\neq}\\beta(t)\\gamma_{i}\\gamma_{k} \\hat{x}_{i}\\hat{A}\\hat{x}_{k}+\\sum_{(j,k)}^{\\neq}\\beta(t)\\gamma_{j}\\gamma_{k} \\hat{x}_{j}\\hat{A}\\hat{x}_{k}\\right)$"
      ],
      "text/plain": [
       "log(αyᵢA+2β(t)γᵢ²xᵢAxᵢ+∑ⱼ(αyⱼA+β(t)γⱼ²xⱼAxⱼ+β(t)γᵢγⱼxⱼAxᵢ)+∑ₖβ(t)γᵢγₖxᵢAxₖ+∑₍ⱼₖ₎β(t)γⱼγₖxⱼAxₖ)"
      ]
     },
     "metadata": {},
     "output_type": "display_data"
    }
   ],
   "source": [
    "expr = neq(log(Sum(\"j\", alpha * A * yj + Sum(\"k\", beta * gamma_j * gamma_k * A * xj * xk))))"
   ]
  },
  {
   "cell_type": "code",
   "execution_count": 15,
   "metadata": {},
   "outputs": [
    {
     "data": {
      "text/latex": [
       "$\\frac{\\text{d}  \\hat{x}_{i}}{\\text{d}t} = \\log\\left(\\alpha \\hat{y}_{i}\\hat{x}_{i}+2\\beta(t)\\gamma_{i}² \\hat{x}_{i}\\hat{x}_{i}\\hat{x}_{i}+\\sum_{j}^{\\neq}\\left(\\alpha \\hat{y}_{j}\\hat{x}_{i}+\\beta(t)\\gamma_{j}² \\hat{x}_{j}\\hat{x}_{i}\\hat{x}_{j}+\\beta(t)\\gamma_{i}\\gamma_{j} \\hat{x}_{j}\\hat{x}_{i}\\hat{x}_{i}\\right)+\\sum_{k}^{\\neq}\\beta(t)\\gamma_{i}\\gamma_{k} \\hat{x}_{i}\\hat{x}_{i}\\hat{x}_{k}+\\sum_{(j,k)}^{\\neq}\\beta(t)\\gamma_{j}\\gamma_{k} \\hat{x}_{j}\\hat{x}_{i}\\hat{x}_{k}\\right)$"
      ],
      "text/plain": [
       "d(xᵢ) / dt = log(αyᵢxᵢ+2β(t)γᵢ²xᵢxᵢxᵢ+∑ⱼ(αyⱼxᵢ+β(t)γⱼ²xⱼxᵢxⱼ+β(t)γᵢγⱼxⱼxᵢxᵢ)+∑ₖβ(t)γᵢγₖxᵢxᵢxₖ+∑₍ⱼₖ₎β(t)γⱼγₖxⱼxᵢxₖ)"
      ]
     },
     "metadata": {},
     "output_type": "display_data"
    }
   ],
   "source": [
    "expr = neq(log(Sum(\"j\", alpha * A * yj + Sum(\"k\", beta * gamma_j * gamma_k * A * xj * xk))))\n",
    "dA_dt = d_dt(A, expr)\n",
    "substitute(A, xi, dA_dt)"
   ]
  },
  {
   "cell_type": "code",
   "execution_count": 16,
   "metadata": {},
   "outputs": [
    {
     "data": {
      "text/plain": [
       "BenchmarkTools.Trial: 10000 samples with 6 evaluations per sample.\n",
       " Range \u001b[90m(\u001b[39m\u001b[36m\u001b[1mmin\u001b[22m\u001b[39m … \u001b[35mmax\u001b[39m\u001b[90m):  \u001b[39m\u001b[36m\u001b[1m5.667 μs\u001b[22m\u001b[39m … \u001b[35m 1.840 ms\u001b[39m  \u001b[90m┊\u001b[39m GC \u001b[90m(\u001b[39mmin … max\u001b[90m): \u001b[39m0.00% … 99.44%\n",
       " Time  \u001b[90m(\u001b[39m\u001b[34m\u001b[1mmedian\u001b[22m\u001b[39m\u001b[90m):     \u001b[39m\u001b[34m\u001b[1m5.993 μs              \u001b[22m\u001b[39m\u001b[90m┊\u001b[39m GC \u001b[90m(\u001b[39mmedian\u001b[90m):    \u001b[39m0.00%\n",
       " Time  \u001b[90m(\u001b[39m\u001b[32m\u001b[1mmean\u001b[22m\u001b[39m ± \u001b[32mσ\u001b[39m\u001b[90m):   \u001b[39m\u001b[32m\u001b[1m6.428 μs\u001b[22m\u001b[39m ± \u001b[32m22.114 μs\u001b[39m  \u001b[90m┊\u001b[39m GC \u001b[90m(\u001b[39mmean ± σ\u001b[90m):  \u001b[39m4.76% ±  1.40%\n",
       "\n",
       "  \u001b[39m \u001b[39m \u001b[39m \u001b[39m \u001b[39m \u001b[39m▁\u001b[39m▄\u001b[39m▆\u001b[39m▆\u001b[39m█\u001b[39m▅\u001b[39m▂\u001b[34m▁\u001b[39m\u001b[39m \u001b[39m \u001b[39m \u001b[39m \u001b[39m \u001b[39m \u001b[39m \u001b[39m \u001b[39m \u001b[39m \u001b[39m \u001b[39m \u001b[39m \u001b[39m \u001b[39m \u001b[32m \u001b[39m\u001b[39m \u001b[39m \u001b[39m \u001b[39m \u001b[39m \u001b[39m \u001b[39m \u001b[39m \u001b[39m \u001b[39m \u001b[39m \u001b[39m \u001b[39m \u001b[39m \u001b[39m \u001b[39m \u001b[39m \u001b[39m \u001b[39m \u001b[39m \u001b[39m \u001b[39m \u001b[39m \u001b[39m \u001b[39m \u001b[39m \u001b[39m \u001b[39m \u001b[39m \u001b[39m \u001b[39m \n",
       "  \u001b[39m▁\u001b[39m▂\u001b[39m▃\u001b[39m▄\u001b[39m▆\u001b[39m█\u001b[39m█\u001b[39m█\u001b[39m█\u001b[39m█\u001b[39m█\u001b[39m█\u001b[34m█\u001b[39m\u001b[39m▆\u001b[39m▆\u001b[39m▅\u001b[39m▄\u001b[39m▄\u001b[39m▅\u001b[39m▄\u001b[39m▆\u001b[39m▆\u001b[39m▆\u001b[39m▅\u001b[39m▅\u001b[39m▅\u001b[39m▅\u001b[39m▄\u001b[32m▄\u001b[39m\u001b[39m▃\u001b[39m▃\u001b[39m▃\u001b[39m▂\u001b[39m▂\u001b[39m▂\u001b[39m▂\u001b[39m▂\u001b[39m▂\u001b[39m▁\u001b[39m▁\u001b[39m▂\u001b[39m▂\u001b[39m▁\u001b[39m▁\u001b[39m▁\u001b[39m▁\u001b[39m▁\u001b[39m▁\u001b[39m▁\u001b[39m▁\u001b[39m▁\u001b[39m▁\u001b[39m▁\u001b[39m▁\u001b[39m▁\u001b[39m▁\u001b[39m▁\u001b[39m▁\u001b[39m \u001b[39m▃\n",
       "  5.67 μs\u001b[90m        Histogram: frequency by time\u001b[39m        7.26 μs \u001b[0m\u001b[1m<\u001b[22m\n",
       "\n",
       " Memory estimate\u001b[90m: \u001b[39m\u001b[33m8.30 KiB\u001b[39m, allocs estimate\u001b[90m: \u001b[39m\u001b[33m142\u001b[39m."
      ]
     },
     "metadata": {},
     "output_type": "display_data"
    }
   ],
   "source": [
    "using BenchmarkTools\n",
    "\n",
    "@benchmark substitute(A, xi, dA_dt)"
   ]
  },
  {
   "cell_type": "code",
   "execution_count": 17,
   "metadata": {},
   "outputs": [
    {
     "name": "stdout",
     "output_type": "stream",
     "text": [
      "Before: true\n",
      "After:  false\n"
     ]
    }
   ],
   "source": [
    "# check if all abstracts are gone\n",
    "function contains_abstract(term::qExpr)::Bool\n",
    "    return any([contains_abstract(t) for t in term.terms])\n",
    "end\n",
    "function contains_abstract(term::T)::Bool where T<:qComposite\n",
    "    return contains_abstract(term.expr)\n",
    "end\n",
    "function contains_abstract(term::T)::Bool where T<:qMultiComposite\n",
    "    return any([contains_abstract(t) for t in term.expr])\n",
    "end\n",
    "function contains_abstract(term::qAtomProduct)::Bool\n",
    "    return any([isa(t, qAbstract) for t in term.expr])\n",
    "end\n",
    "# Test \n",
    "println(\"Before: \", contains_abstract(expr)) \n",
    "println(\"After:  \", contains_abstract(substitute(A, xi, dA_dt)))"
   ]
  },
  {
   "cell_type": "code",
   "execution_count": 18,
   "metadata": {},
   "outputs": [
    {
     "data": {
      "text/plain": [
       "Dict{Int64, Vector{Vector{Int64}}} with 1 entry:\n",
       "  2 => [[2, 3, 4], [5, 6, 7]]"
      ]
     },
     "metadata": {},
     "output_type": "display_data"
    }
   ],
   "source": [
    "qspace.where_by_continuum"
   ]
  },
  {
   "cell_type": "code",
   "execution_count": null,
   "metadata": {},
   "outputs": [
    {
     "data": {
      "text/plain": [
       "1-element Vector{Int64}:\n",
       " 2"
      ]
     },
     "metadata": {},
     "output_type": "display_data"
    }
   ],
   "source": []
  },
  {
   "cell_type": "code",
   "execution_count": null,
   "metadata": {},
   "outputs": [],
   "source": [
    "Is = Union{Int,Vector{Int}}\n",
    "function vecvec_or(A::Vector{Vector{Bool}}, B::Vector{Vector{Bool}})\n",
    "    # Assume they are equally shaped. \n",
    "    return broadcast.(|, A, B)\n",
    "end\n",
    "cnimp(a::Bool, b::Bool) = b && !a\n",
    "function converse_nonimplication(A::Vector{Vector{Bool}}, B::Vector{Vector{Bool}})\n",
    "    # Assume they are equally shaped. \n",
    "    return broadcast.(cnimp, A, B) \n",
    "end\n",
    "\n",
    "# FFunctions\n",
    "function which_continuum_acting(f::FAtom, where_continuums_f::Vector{Vector{Vector{Int}}})::Vector{Vector{Bool}}\n",
    "    where_non_trivial::Vector{Vector{Bool}} = []\n",
    "    for where_f in where_continuums_f\n",
    "        push!(where_non_trivial, reduce(.|, [f.var_exponents[w] .!= 0 for w in where_f]))\n",
    "    end\n",
    "    return where_non_trivial\n",
    "end\n",
    "function which_continuum_acting(f::FSum, where_continuums_f::Vector{Vector{Vector{Int}}})::Vector{Vector{Bool}}\n",
    "    # or of the individual terms \n",
    "    return reduce(vecvec_or, [which_continuum_acting(t, where_continuums_f) for t in f.terms])\n",
    "end\n",
    "function which_continuum_acting(f::FRational, where_continuums_f::Vector{Vector{Vector{Int}}})::Vector{Vector{Bool}}\n",
    "    return vecvec_or(which_continuum_acting(f.num, where_continuums_f), which_continuum_acting(f.den, where_continuums_f))\n",
    "end\n",
    "\n",
    "# QObjs\n",
    "function which_continuum_acting(q::qAtom, continuum_indexes::Vector{Vector{Int}}, neutral_continuums_op::Vector{Vector{Is}})::Vector{Vector{Bool}}\n",
    "    my_continuums::Vector{Vector{Bool}} = []\n",
    "    for (inds, neutral) in zip(continuum_indexes, neutral_continuums_op)\n",
    "        push!(my_continuums, q.op_indices[inds] .!= neutral)\n",
    "end\n",
    "function which_continuum_acting(q::qAbstract, continuum_indexes::Vector{Vector{Int}}, neutral_continuums_op::Vector{Vector{Is}})\n",
    "    error(\"Which continuum acting should be applied to abstractless expressions!\")\n",
    "end\n",
    "function which_continuum_acting(q::qAtomProduct, continuum_indexes::Vector{Vector{Int}}, neutral_continuums_op::Vector{Vector{Is}}, variable_indexes::Vector{Vector{Vector{Int}}})::Vector{Vector{Bool}}\n",
    "    # xor between vectors of vector of bool \n",
    "    return vecvec_or(reduce(vecvec_or, [which_continuum_acting(t, continuum_indexes, neutral_continuums_op) for t in q.terms]), which_continuum_acting(q.coeff_fun, variable_indexes))\n",
    "end"
   ]
  },
  {
   "cell_type": "code",
   "execution_count": null,
   "metadata": {},
   "outputs": [],
   "source": [
    "function are_indexes_defined(q::qAtomProduct, where_defined::Vector{Vector{Bool}}, continuum_indexes::Vector{Vector{Int}}, neutral_continuums_op::Vector{Vector{Is}})::Bool\n",
    "    # check that no true on which_continuum_acting, that isn't also a true on where_defined => converse nonimplication cnimp(a::Bool, b::Bool) = b && !a\n",
    "    if converse_nonimplication(where_defined, which_continuum_acting(q, continuum_indexes, neutral_continuums_op))\n",
    "        error(\"Cannot use an undefined continuumsindex on the right hand side of a differential equation!\")\n",
    "    end\n",
    "    return true\n",
    "end\n",
    "function are_indexes_defined(q::qExpr, where_defined::Vector{Vector{Bool}}, continuum_indexes::Vector{Vector{Int}}, neutral_continuums_op::Vector{Vector{Is}})::Bool\n",
    "    # check element wise if all indexes are defined\n",
    "    return all([are_indexes_defined(t, where_defined, continuum_indexes, neutral_continuums_op) for t in q.terms])\n",
    "end\n",
    "function are_indexes_defined(q::T, where_defined::Vector{Vector{Bool}}, continuum_indexes::Vector{Vector{Int}}, neutral_continuums_op::Vector{Vector{Is}})::Bool where T <:qComposite\n",
    "    return are_indexes_defined(q.expr, where_defined, continuum_indexes, neutral_continuums_op)\n",
    "end\n",
    "function are_indexes_defined(q::T, where_defined::Vector{Vector{Bool}}, continuum_indexes::Vector{Vector{Int}}, neutral_continuums_op::Vector{Vector{Is}})::Bool where T <:qMultiComposite\n",
    "    return all([are_indexes_defined(t, where_defined, continuum_indexes, neutral_continuums_op) for t in q.exprs])\n",
    "end\n",
    "function are_indexes_defined(q::qSum, where_defined::Vector{Vector{Bool}}, continuum_indexes::Vector{Vector{Int}}, neutral_continuums_op::Vector{Vector{Is}})::Bool\n",
    "    # add the qSum summation indexes \n",
    "    subsystem = q.subsystem_index \n",
    "    element_indexes = q.element_indexes\n",
    "    # check where subsystem is among qspace.where_continuum\n",
    "    outer_ind = findfirst(x -> x == subsystem, continuum_indexes)\n",
    "    if !all(where_defined[outer_ind][element_indexes] .== false)\n",
    "        error(\"Summation indexes already defined, cannot sum over defined indexes!\")\n",
    "    end\n",
    "    new_where_defined = copy(where_defined)\n",
    "    new_where_defined[outer_ind][element_indexes] .= true\n",
    "    # check the summation qExpr \n",
    "    return are_indexes_defined(q.expr, new_where_defined, continuum_indexes, neutral_continuums_op)\n",
    "end\n",
    "function are_indexes_defined(q::diff_qEQ)::Bool\n",
    "    qspace = q.statespace\n",
    "    # first two arguments for operators \n",
    "    # final argument for paramete/variables\n",
    "    defined = which_continuum_acting(q.left_hand_side, qspace.continuum_indexes, qspace.neutral_continuum_op, qspace.where_by_continuum_vec)\n",
    "    # check recursively if there are undefined elements in the right hand side\n",
    "    return are_indexes_defined(q.expr, defined, qspace.continuum_indexes, qspace.neutral_continuum_op)\n",
    "end"
   ]
  },
  {
   "cell_type": "code",
   "execution_count": null,
   "metadata": {},
   "outputs": [],
   "source": []
  },
  {
   "cell_type": "code",
   "execution_count": null,
   "metadata": {},
   "outputs": [],
   "source": []
  },
  {
   "cell_type": "code",
   "execution_count": null,
   "metadata": {},
   "outputs": [],
   "source": [
    "# in diff equations can't sum over indexes of the left side.  -> throw an error\n",
    "# reduce summed indexes to lowest summable indexes in the right side.\n",
    "# there can also not be any variables of non left indexes outside of such sums. \n",
    "\n",
    "# add evaluate \n",
    "# add index version of qAtomProduct.\n",
    "\n",
    "# Add Equation Set\n",
    "# Add Equation Set to Indexed Equation Set with indexed  "
   ]
  },
  {
   "cell_type": "code",
   "execution_count": null,
   "metadata": {},
   "outputs": [],
   "source": []
  },
  {
   "cell_type": "code",
   "execution_count": 7,
   "metadata": {},
   "outputs": [
    {
     "ename": "ErrorException",
     "evalue": "Unsupported: qSum found inside qComposite structure within an outer qSum.",
     "output_type": "error",
     "traceback": [
      "Unsupported: qSum found inside qComposite structure within an outer qSum.\n",
      "\n",
      "Stacktrace:\n",
      "  [1] error(s::String)\n",
      "    @ Base ./error.jl:35\n",
      "  [2] flatten(s::qSum, in_sum::Bool, in_sum_comp::Bool)\n",
      "    @ qAlgebra.qExpressions ~/Documents/PhD/Research/Projects/qAlgebra/src/qExpressionsOps/qSum_modify.jl:11\n",
      "  [3] flatten(qeq::qExpr, in_sum::Bool, in_sum_comp::Bool)\n",
      "    @ qAlgebra.qExpressions ~/Documents/PhD/Research/Projects/qAlgebra/src/qExpressionsOps/qSum_modify.jl:60\n",
      "  [4] #106\n",
      "    @ ./none:0 [inlined]\n",
      "  [5] iterate\n",
      "    @ ./generator.jl:48 [inlined]\n",
      "  [6] collect(itr::Base.Generator{Vector{qExpr}, qAlgebra.qExpressions.var\"#106#107\"{Bool}})\n",
      "    @ Base ./array.jl:791\n",
      "  [7] flatten(q::qCommutator, in_sum::Bool, in_sum_comp::Bool)\n",
      "    @ qAlgebra.qExpressions ~/Documents/PhD/Research/Projects/qAlgebra/src/qExpressionsOps/qSum_modify.jl:53\n",
      "  [8] flatten(qeq::qExpr, in_sum::Bool, in_sum_comp::Bool)\n",
      "    @ qAlgebra.qExpressions ~/Documents/PhD/Research/Projects/qAlgebra/src/qExpressionsOps/qSum_modify.jl:60\n",
      "  [9] flatten(s::qSum, in_sum::Bool, in_sum_comp::Bool)\n",
      "    @ qAlgebra.qExpressions ~/Documents/PhD/Research/Projects/qAlgebra/src/qExpressionsOps/qSum_modify.jl:13\n",
      " [10] flatten(qeq::qExpr, in_sum::Bool, in_sum_comp::Bool)\n",
      "    @ qAlgebra.qExpressions ~/Documents/PhD/Research/Projects/qAlgebra/src/qExpressionsOps/qSum_modify.jl:60\n",
      " [11] flatten(qeq::qExpr)\n",
      "    @ qAlgebra.qExpressions ~/Documents/PhD/Research/Projects/qAlgebra/src/qExpressionsOps/qSum_modify.jl:58\n",
      " [12] top-level scope\n",
      "    @ ~/Documents/PhD/Research/Projects/qAlgebra/prototyping/jl_notebook_cell_df34fa98e69747e1a8f8a730347b8e2f_W5sZmlsZQ==.jl:1"
     ]
    }
   ],
   "source": [
    "flatten(Sum(\"j\", alpha * yi * yj + qCommutator(Sum(\"k\", beta * alpha^2 * xi * xj * xk), xk)))"
   ]
  },
  {
   "cell_type": "code",
   "execution_count": 7,
   "metadata": {},
   "outputs": [
    {
     "data": {
      "text/latex": [
       "$\\sum_{i,i}^{=} \\hat{z}_{i}$"
      ],
      "text/plain": [
       "∑ᵢᵢ⁼zᵢ"
      ]
     },
     "metadata": {},
     "output_type": "display_data"
    }
   ],
   "source": [
    "Sum([\"i\", \"i\"], zi) "
   ]
  },
  {
   "cell_type": "code",
   "execution_count": 8,
   "metadata": {},
   "outputs": [
    {
     "data": {
      "text/plain": [
       "false"
      ]
     },
     "metadata": {},
     "output_type": "display_data"
    }
   ],
   "source": [
    "true && false"
   ]
  },
  {
   "cell_type": "code",
   "execution_count": 9,
   "metadata": {},
   "outputs": [
    {
     "ename": "MethodError",
     "evalue": "MethodError: no method matching *(::qExpr, ::qAlgebra.qExpressions.var\"#28#30\"{StateSpace, OperatorType, Int64})\nThe function `*` exists, but no method is defined for this combination of argument types.\n\nClosest candidates are:\n  *(::Any, ::Any, !Matched::Any, !Matched::Any...)\n   @ Base operators.jl:596\n  *(::qExpr, !Matched::qExpr)\n   @ qAlgebra ~/Documents/PhD/Research/Projects/qAlgebra/src/qExpressionsOps/qExpressionsAlgebra.jl:222\n  *(::qExpr, !Matched::Vector{qExpr})\n   @ qAlgebra ~/Documents/PhD/Research/Projects/qAlgebra/src/qExpressionsOps/qExpressionsAlgebra.jl:335\n  ...\n",
     "output_type": "error",
     "traceback": [
      "MethodError: no method matching *(::qExpr, ::qAlgebra.qExpressions.var\"#28#30\"{StateSpace, OperatorType, Int64})\n",
      "The function `*` exists, but no method is defined for this combination of argument types.\n",
      "\n",
      "Closest candidates are:\n",
      "  *(::Any, ::Any, !Matched::Any, !Matched::Any...)\n",
      "   @ Base operators.jl:596\n",
      "  *(::qExpr, !Matched::qExpr)\n",
      "   @ qAlgebra ~/Documents/PhD/Research/Projects/qAlgebra/src/qExpressionsOps/qExpressionsAlgebra.jl:222\n",
      "  *(::qExpr, !Matched::Vector{qExpr})\n",
      "   @ qAlgebra ~/Documents/PhD/Research/Projects/qAlgebra/src/qExpressionsOps/qExpressionsAlgebra.jl:335\n",
      "  ...\n",
      "\n",
      "\n",
      "Stacktrace:\n",
      " [1] afoldl(::typeof(*), ::qExpr, ::qExpr, ::Function, ::qExpr)\n",
      "   @ Base ./operators.jl:554\n",
      " [2] *(::qExpr, ::qExpr, ::qExpr, ::qExpr, ::Function, ::qExpr)\n",
      "   @ Base ./operators.jl:596\n",
      " [3] top-level scope\n",
      "   @ ~/Documents/PhD/Research/Projects/qAlgebra/prototyping/jl_notebook_cell_df34fa98e69747e1a8f8a730347b8e2f_X11sZmlsZQ==.jl:1"
     ]
    }
   ],
   "source": [
    "Sum(\"i\", alpha*ph*xi*yi * A * xi + xi*yi) * Sum(\"j\", zi) "
   ]
  },
  {
   "cell_type": "code",
   "execution_count": 10,
   "metadata": {},
   "outputs": [],
   "source": []
  },
  {
   "cell_type": "code",
   "execution_count": 11,
   "metadata": {},
   "outputs": [
    {
     "data": {
      "text/latex": [
       "$i\\alpha \\hat{z}_{i}\\hat{b}^\\dagger+2i(\\alpha+\\beta(t)) \\hat{x}_{i}$"
      ],
      "text/plain": [
       "iαzᵢb†+2i(α+β(t))xᵢ"
      ]
     },
     "metadata": {},
     "output_type": "display_data"
    }
   ],
   "source": [
    "2 * (alpha + beta) * xi*1im + alpha * Dag(b) * xi * yi"
   ]
  },
  {
   "cell_type": "code",
   "execution_count": 12,
   "metadata": {},
   "outputs": [
    {
     "data": {
      "text/latex": [
       "$i\\beta(t)\\alpha+i\\beta(t)²\\alpha$"
      ],
      "text/plain": [
       "iβ(t)α+iβ(t)²α"
      ]
     },
     "metadata": {},
     "output_type": "display_data"
    }
   ],
   "source": [
    "alpha*(beta+beta^2)*1im"
   ]
  },
  {
   "cell_type": "code",
   "execution_count": 13,
   "metadata": {},
   "outputs": [
    {
     "ename": "MethodError",
     "evalue": "MethodError: no method matching adjoint(::qAlgebra.qExpressions.var\"#28#30\"{StateSpace, OperatorType, Int64})\nThe function `adjoint` exists, but no method is defined for this combination of argument types.\n\nClosest candidates are:\n  adjoint(!Matched::FAtom)\n   @ qAlgebra ~/Documents/PhD/Research/Projects/qAlgebra/src/FFunctions.jl:372\n  adjoint(!Matched::Missing)\n   @ Base missing.jl:101\n  adjoint(!Matched::ComplexRationals.ComplexRational)\n   @ ComplexRationals ~/.julia/packages/ComplexRationals/liwaH/src/ComplexRationals.jl:266\n  ...\n",
     "output_type": "error",
     "traceback": [
      "MethodError: no method matching adjoint(::qAlgebra.qExpressions.var\"#28#30\"{StateSpace, OperatorType, Int64})\n",
      "The function `adjoint` exists, but no method is defined for this combination of argument types.\n",
      "\n",
      "Closest candidates are:\n",
      "  adjoint(!Matched::FAtom)\n",
      "   @ qAlgebra ~/Documents/PhD/Research/Projects/qAlgebra/src/FFunctions.jl:372\n",
      "  adjoint(!Matched::Missing)\n",
      "   @ Base missing.jl:101\n",
      "  adjoint(!Matched::ComplexRationals.ComplexRational)\n",
      "   @ ComplexRationals ~/.julia/packages/ComplexRationals/liwaH/src/ComplexRationals.jl:266\n",
      "  ...\n",
      "\n",
      "\n",
      "Stacktrace:\n",
      " [1] top-level scope\n",
      "   @ ~/Documents/PhD/Research/Projects/qAlgebra/prototyping/jl_notebook_cell_df34fa98e69747e1a8f8a730347b8e2f_X15sZmlsZQ==.jl:1"
     ]
    }
   ],
   "source": [
    "d_dt(A, xi*A'*A + alpha*b*b')"
   ]
  },
  {
   "cell_type": "code",
   "execution_count": 9,
   "metadata": {},
   "outputs": [
    {
     "data": {
      "text/latex": [
       "$\\left[ \\hat{z}_{j}+\\sum_{i}^{=}i\\alpha \\hat{p}_{h}\\hat{z}_{i},\\, \\hat{z}_{h}\\right]$"
      ],
      "text/plain": [
       "[zⱼ+∑ᵢ⁼iαpₕzᵢ, zₕ]"
      ]
     },
     "metadata": {},
     "output_type": "display_data"
    }
   ],
   "source": [
    "simplify(qCommutator(Sum(\"i\", alpha*ph*xi*yi) + zj,zh))"
   ]
  },
  {
   "cell_type": "code",
   "execution_count": 10,
   "metadata": {},
   "outputs": [
    {
     "data": {
      "text/latex": [
       "$ \\hat{z}_{h}+\\exp\\left( \\hat{z}_{j}+\\sum_{i}^{=}i\\alpha \\hat{p}_{h}\\hat{z}_{i}\\right)$"
      ],
      "text/plain": [
       "zₕ+exp(zⱼ+∑ᵢ⁼iαpₕzᵢ)"
      ]
     },
     "metadata": {},
     "output_type": "display_data"
    }
   ],
   "source": [
    "simplify(exp(Sum(\"i\", alpha*ph*xi*yi) + zj)+zh)"
   ]
  },
  {
   "cell_type": "code",
   "execution_count": 11,
   "metadata": {},
   "outputs": [
    {
     "data": {
      "text/latex": [
       "$\\log\\left( \\hat{z}_{j}+\\sum_{i}^{=}i\\alpha \\hat{p}_{h}\\hat{z}_{i}\\right)$"
      ],
      "text/plain": [
       "log(zⱼ+∑ᵢ⁼iαpₕzᵢ)"
      ]
     },
     "metadata": {},
     "output_type": "display_data"
    }
   ],
   "source": [
    "log(Sum(\"i\", alpha*ph*xi*yi) + zj)"
   ]
  },
  {
   "cell_type": "code",
   "execution_count": 12,
   "metadata": {},
   "outputs": [
    {
     "data": {
      "text/latex": [
       "$ \\hat{z}_{h}+\\left( \\hat{z}_{j}+\\sum_{i}^{=}i\\alpha \\hat{p}_{h}\\hat{z}_{i}\\right)^{2}$"
      ],
      "text/plain": [
       "zₕ+(zⱼ+∑ᵢ⁼iαpₕzᵢ)²"
      ]
     },
     "metadata": {},
     "output_type": "display_data"
    }
   ],
   "source": [
    "simplify(power(Sum(\"i\", alpha*ph*xi*yi) + zj,2)+zh)"
   ]
  },
  {
   "cell_type": "code",
   "execution_count": 13,
   "metadata": {},
   "outputs": [
    {
     "data": {
      "text/latex": [
       "$ \\hat{z}_{h}+\\sqrt{ \\hat{z}_{j}+\\sum_{i}^{=}i\\alpha \\hat{p}_{h}\\hat{z}_{i}}$"
      ],
      "text/plain": [
       "zₕ+(zⱼ+∑ᵢ⁼iαpₕzᵢ)⁼²"
      ]
     },
     "metadata": {},
     "output_type": "display_data"
    }
   ],
   "source": [
    "simplify(root(Sum(\"i\", alpha*ph*xi*yi) + zj,2)+zh)"
   ]
  },
  {
   "cell_type": "code",
   "execution_count": 14,
   "metadata": {},
   "outputs": [
    {
     "data": {
      "text/latex": [
       "$\\sum_{i}^{=}\\left(i \\hat{z}_{i}+i\\alpha \\hat{p}_{h}\\hat{z}_{i}\\hat{A}\\hat{x}_{i}\\right)\\sum_{j}^{=} \\hat{z}_{i}$"
      ],
      "text/plain": [
       "∑ᵢ⁼(izᵢ+iαpₕzᵢAxᵢ)∑ⱼ⁼zᵢ"
      ]
     },
     "metadata": {},
     "output_type": "display_data"
    }
   ],
   "source": [
    "Sum(\"i\", alpha*ph*xi*yi * A * xi + xi*yi) * Sum(\"j\", zi) "
   ]
  },
  {
   "cell_type": "code",
   "execution_count": null,
   "metadata": {},
   "outputs": [],
   "source": []
  },
  {
   "cell_type": "code",
   "execution_count": null,
   "metadata": {},
   "outputs": [],
   "source": []
  },
  {
   "cell_type": "code",
   "execution_count": null,
   "metadata": {},
   "outputs": [],
   "source": [
    "# Build and view documentation\n",
    "julia --project=. -e 'include(\"docs/make.jl\")'\n",
    "xdg-open docs/build/index.html\n"
   ]
  },
  {
   "cell_type": "code",
   "execution_count": 3,
   "metadata": {},
   "outputs": [
    {
     "data": {
      "text/latex": [
       "$\\alpha \\hat{A}_2^{2}$"
      ],
      "text/plain": [
       "α*A₂²"
      ]
     },
     "metadata": {},
     "output_type": "display_data"
    }
   ],
   "source": [
    "A = base_operators(qspace, \"A_2\")\n",
    "alpha = base_operators(qspace, \"alpha\")\n",
    "A*alpha*A"
   ]
  },
  {
   "cell_type": "code",
   "execution_count": 4,
   "metadata": {},
   "outputs": [
    {
     "data": {
      "text/latex": [
       "$\\alpha³ \\hat{A}_2^{3}$"
      ],
      "text/plain": [
       "α³*A₂³"
      ]
     },
     "metadata": {},
     "output_type": "display_data"
    }
   ],
   "source": [
    "alpha^2*A^2*alpha*A"
   ]
  },
  {
   "cell_type": "code",
   "execution_count": null,
   "metadata": {},
   "outputs": [],
   "source": []
  },
  {
   "cell_type": "code",
   "execution_count": null,
   "metadata": {},
   "outputs": [],
   "source": []
  }
 ],
 "metadata": {
  "kernelspec": {
   "display_name": "Julia 1.11.6",
   "language": "julia",
   "name": "julia-1.11"
  },
  "language_info": {
   "file_extension": ".jl",
   "mimetype": "application/julia",
   "name": "julia",
   "version": "1.11.6"
  }
 },
 "nbformat": 4,
 "nbformat_minor": 2
}
