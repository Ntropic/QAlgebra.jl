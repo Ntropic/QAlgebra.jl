{
 "cells": [
  {
   "cell_type": "code",
   "execution_count": 1,
   "metadata": {},
   "outputs": [
    {
     "name": "stderr",
     "output_type": "stream",
     "text": [
      "\u001b[92m\u001b[1mPrecompiling\u001b[22m\u001b[39m project...\n",
      "    952.5 ms\u001b[32m  ✓ \u001b[39mqAlgebra\n",
      "  1 dependency successfully precompiled in 1 seconds. 7 already precompiled.\n"
     ]
    }
   ],
   "source": [
    "using Pkg \n",
    "Pkg.instantiate()\n",
    "using qAlgebra"
   ]
  },
  {
   "cell_type": "code",
   "execution_count": 2,
   "metadata": {},
   "outputs": [
    {
     "data": {
      "text/plain": [
       "StateSpace: [α, β(t), γᵢ, γⱼ, γₖ, δᵢ, δⱼ, δₖ]\n",
       "   - SubSpace [\"h\"]: PM Qubit (Fermionic):  pₚ, mₚ, zₚ, Iₚ (identity)\n",
       "   - SubSpace [\"i\", \"j\", \"k\"]: Pauli Qubit (Fermionic):  xₚ, yₚ, zₚ, Iₚ (identity)\n",
       "   - SubSpace [\"b\"]: Ladder (Bosonic):  p†, p\n",
       "   - Op: A\n",
       "   - Op: B(H,U)\n"
      ]
     },
     "metadata": {},
     "output_type": "display_data"
    }
   ],
   "source": [
    "qspace = StateSpace(\"alpha\", \"beta(t)\", \"gamma_i\", \"delta_i\", operators=[\"A(!i)\", \"B(U,H,i)\"], h=QubitPM(), i=(3, QubitPauli()), b=Ladder())"
   ]
  },
  {
   "cell_type": "code",
   "execution_count": 3,
   "metadata": {},
   "outputs": [
    {
     "name": "stdout",
     "output_type": "stream",
     "text": [
      "Done\n"
     ]
    }
   ],
   "source": [
    "base_operators(qspace)\n",
    "base_operators(\"alpha\", qspace)\n",
    "base_operators(\"i\", qspace)\n",
    "base_operators(\"h\", qspace)\n",
    "base_operators(\"j\", qspace)\n",
    "base_operators(\"I\", qspace)\n",
    "base_operators(\"A\", qspace)\n",
    "println(\"Done\") "
   ]
  },
  {
   "cell_type": "code",
   "execution_count": null,
   "metadata": {},
   "outputs": [],
   "source": [
    "function *(Q1::qComposite, Q2::qExpr)::qComposite\n",
    "    Q_new = copy(Q1)\n",
    "    Q_new.expr = Q1.expr * Q2\n",
    "    return Q_new\n",
    "end\n",
    "\n",
    "function *(Q1::qExpr, Q2::qComposite)::qExpr\n",
    "    Q_new = copy(Q1)\n",
    "    Q_new.expr = Q1.expr * Q2\n",
    "    return Q_new\n",
    "end\n",
    "\n",
    "function *(Q1::qComposite, num::Number)::qComposite\n",
    "    Q_new = copy(Q1)\n",
    "    Q_new.expr = Q1.expr * num\n",
    "    return Q_new\n",
    "end\n",
    "\n",
    "function *(num::Number, Q2::qComposite)::qComposite\n",
    "    return Q2 * num\n",
    "end"
   ]
  },
  {
   "cell_type": "code",
   "execution_count": null,
   "metadata": {},
   "outputs": [],
   "source": []
  },
  {
   "cell_type": "code",
   "execution_count": null,
   "metadata": {},
   "outputs": [],
   "source": []
  },
  {
   "cell_type": "code",
   "execution_count": null,
   "metadata": {},
   "outputs": [
    {
     "data": {
      "text/plain": [
       "2-element BitVector:\n",
       " 1\n",
       " 0"
      ]
     },
     "metadata": {},
     "output_type": "display_data"
    }
   ],
   "source": [
    "\"\"\"\n",
    "    pad_before_qAbstracts(p::qProd) -> qProd\n",
    "\n",
    "Insert a neutral `qTerm` *before every `qAbstract`* that appears before\n",
    "the final `qTerm`. Ensures qTerm shifts don't affect qAbstract positions.\n",
    "\"\"\"\n",
    "function pad_before_qAbstracts(p::qProd)::qProd\n",
    "    ss = p.statespace\n",
    "    neutral = qTerm(ss.neutral_op)\n",
    "\n",
    "    # Find the last qAtom position\n",
    "    last_atom_index = findlast(t -> isa(t, qTerm), p.expr)\n",
    "\n",
    "    # If there are no qAtoms, no padding is necessary\n",
    "    if last_atom_index === nothing\n",
    "        return copy(p)\n",
    "    end\n",
    "\n",
    "    terms = copy(p.expr)\n",
    "    # Iterate in reverse to keep indices stable while inserting\n",
    "    for i in last_atom_index-1:-1:2\n",
    "        both_qAbstract = isa(terms[i], qAbstract) && isa(terms[i-1], qAbstract)\n",
    "        if both_qAbstract\n",
    "            insert!(terms, i, copy(neutral))\n",
    "        end\n",
    "    end\n",
    "    # Special case: if the first element is a qAbstract\n",
    "    if isa(terms[1], qAbstract)\n",
    "        insert!(terms, 1, copy(neutral))\n",
    "    end\n",
    "    return qProd(ss, copy(p.coeff_fun), terms)\n",
    "end\n",
    "\n",
    "function qTerms2left(p::qProd)::Vector{qProd}\n",
    "    ss = p.statespace\n",
    "    coeff_fun = p.coeff_fun\n",
    "    last_atom_index = findlast(t -> isa(t, qTerm), terms)\n",
    "    all_terms::Vector{Vector{qAtom}} = [copy(p.expr)]\n",
    "    all_coeffs::Vector{ComplexRational} = [one(ComplexRational)]\n",
    "    # for storing intermediate creations \n",
    "    new_all_terms::Vector{Vector{qAtom}} = []\n",
    "    new_all_coeffs::Vector{ComplexRational} = []\n",
    "\n",
    "    # Find the last qAtom position\n",
    "    last_atom_index = findlast(t -> isa(t, qTerm), terms)\n",
    "    for i in last_atom_index:-2:3\n",
    "        for k in 1:length(all_terms)\n",
    "            terms = all_terms[k]\n",
    "            coeff = all_coeffs[k]\n",
    "            curr_qterm = terms[i]\n",
    "            curr_qabstract = terms[i-1]\n",
    "            c_abstract = where_acting(curr_qabstract, statespace) # boolean vector\n",
    "            c_term = where_acting(curr_qterm, statespace)  # boolean vector\n",
    "            if !any(c_term) \n",
    "                deleteat!(terms, i)\n",
    "                push!(new_terms, term)\n",
    "                push!(new_coeffs, copy(coeff))\n",
    "            elseif all([nand(a,b) for (a,b) in zip(c_abstract, c_term)])   # commutes \n",
    "                prev_qterm = term[i-2]\n",
    "                new_terms, new_coeffs = multiply_qterm(prev_qterm, curr_qterm, statespace)\n",
    "                # construct new terms \n",
    "                deleteat!(terms, i)\n",
    "                for (t,c) in zip(new_terms, new_coeffs)\n",
    "                    new_term = copy(terms)\n",
    "                    new_term[i-2] = t \n",
    "                    push!(new_terms, new_term)\n",
    "                    push!(new_coeffs, coeff*c)\n",
    "                end\n",
    "            else \n",
    "                # split curr_qterm into 2, one that commutes with curr_qabstract and one that doesn't\n",
    "                commuting_qterm = copy(ss.neutral_op)\n",
    "                non_commuting_qterm = copy(ss.neutral_op)\n",
    "                # add at indexes that aren't in c_abstract\n",
    "                for (i, b, q_ind) in enumerate(c_abstract, curr_qterm.op_indices)\n",
    "                    if b\n",
    "                        non_commuting_qterm[i] = q_ind\n",
    "                    else\n",
    "                        commuting_qterm[i] = q_ind\n",
    "                    end\n",
    "                end\n",
    "                prev_qterm = term[i-2]\n",
    "                new_terms, new_coeffs = multiply_qterm(qTerm(prev_qterm), qTerm(commuting_qterm), statespace)\n",
    "                terms[i] = qTerm(non_commuting_qterm)\n",
    "                for (t, c) in zip(new_terms, new_coeffs)\n",
    "                    new_term = copy(terms)\n",
    "                    new_terms[i-2] = t \n",
    "                    push!(new_terms, new_term)\n",
    "                    push!(coeffs, coeff*c)\n",
    "                end\n",
    "            end\n",
    "        end\n",
    "        all_terms = copy(new_terms)\n",
    "        all_coeffs = copy(new_coeffs)\n",
    "        new_terms = Vector{qAtom}[]\n",
    "        new_coeffs = Vector{ComplexRational}[]\n",
    "    end\n",
    "    if length(p.expr) > 0\n",
    "        for t in all_terms\n",
    "            if is_numeric(t.expr[1], ss)\n",
    "                deleteat!(t.expr, 1)\n",
    "            end\n",
    "        end\n",
    "    end\n",
    "    # create qProd for each \n",
    "    return qProd[qProd(ss, c, t) for (c,t) in zip(all_coeffs, all_terms)]\n",
    "end\n",
    "\n",
    "function reduce_qabstractpairs(p::qProd)::Tuple{qProd, Bool}\n",
    "    # remove pairs of qAbstract if possible \n",
    "    ss = p.statespace\n",
    "    terms = copy(p.expr)\n",
    "    i = 1\n",
    "    did_any = false\n",
    "    while i < length(terms)\n",
    "        did_this = false\n",
    "        if is_qAbstract(terms[i]) && is_qAbstract(terms[i+1])\n",
    "            # check if they are of the same subtypes\n",
    "            if terms[i].key_index == terms[i+1].key_index && terms[i].sub_index == terms[i+1].sub_index && terms[i].index_map == terms[i+1].index_map\n",
    "                if xor(terms[i].dag, terms[i+1].dag) \n",
    "                    if terms[i].operator_type.hermitian \n",
    "                        new_term = copy(terms[i])\n",
    "                        new_term.dag = false \n",
    "                        new_term.exponent += terms[i+1].exponent\n",
    "                        did_this = true\n",
    "                    elseif terms[i].operator_type.unitary\n",
    "                        new_term = copy(terms[i])\n",
    "                        new_term.dag = false \n",
    "                        new_term.exponent = terms[i].exponent*(-1)^terms[i].dag + terms[i+1].exponent*(-1)^terms[i+1].dag\n",
    "                        did_this = true\n",
    "                    end\n",
    "                elseif nor(terms[i].dag, terms[i+1].dag)  # neither dag \n",
    "                    new_term = copy(terms[i])\n",
    "                    new_term.dag = false \n",
    "                    new_term.exponent += terms[i+1].exponent\n",
    "                    did_this = true\n",
    "                end\n",
    "            end\n",
    "            if did_this\n",
    "                deleteat!(terms, i+1)\n",
    "                terms[i] = new_term\n",
    "                did_any = true\n",
    "            else\n",
    "                i += 1\n",
    "            end\n",
    "        end\n",
    "    end\n",
    "    return qProd(ss, p.coeff_fun, terms), did_any\n",
    "end\n",
    "\n",
    "function simplify(p::qProd)::qExpr\n",
    "    p_new = qProd[pad_before_qAbstracts(p)]\n",
    "    did_any = true \n",
    "    while did_any\n",
    "        left_terms = qProd[] \n",
    "        for curr_p in p_new \n",
    "            append!(left_terms, qTerms2left(curr_p)) \n",
    "        end \n",
    "        did_any = false \n",
    "        p_new = qProd[] \n",
    "        \n",
    "        for i in 1:length(left_terms)\n",
    "            new_term, did_it = reduce_qabstractpairs(left_terms[i])\n",
    "            push!(p_new, new_term)\n",
    "            if did_it\n",
    "                did_any = true\n",
    "            end\n",
    "        end\n",
    "    end\n",
    "    return qExpr(p.statespace, p_new)\n",
    "end             "
   ]
  },
  {
   "cell_type": "code",
   "execution_count": null,
   "metadata": {},
   "outputs": [],
   "source": []
  },
  {
   "cell_type": "code",
   "execution_count": null,
   "metadata": {},
   "outputs": [],
   "source": []
  },
  {
   "cell_type": "code",
   "execution_count": 3,
   "metadata": {},
   "outputs": [
    {
     "data": {
      "text/plain": [
       "2-element Vector{Int64}:\n",
       " -1\n",
       " -2"
      ]
     },
     "metadata": {},
     "output_type": "display_data"
    }
   ],
   "source": [
    ".-[1,2]"
   ]
  },
  {
   "cell_type": "code",
   "execution_count": 4,
   "metadata": {},
   "outputs": [
    {
     "ename": "UndefVarError",
     "evalue": "UndefVarError: `qAbstract` not defined in `Main`\nSuggestion: check for spelling errors or missing imports.",
     "output_type": "error",
     "traceback": [
      "UndefVarError: `qAbstract` not defined in `Main`\n",
      "Suggestion: check for spelling errors or missing imports.\n",
      "\n",
      "Stacktrace:\n",
      " [1] top-level scope\n",
      "   @ ~/Documents/PhD/Research/Projects/qAlgebra/prototyping/jl_notebook_cell_df34fa98e69747e1a8f8a730347b8e2f_W3sZmlsZQ==.jl:1"
     ]
    }
   ],
   "source": [
    "function term_equal_indexes(abstract::qAbstract, index1::Int, index2::Int, subspace::SubSpace)::Tuple{Bool, Vector{qAbstract}}\n",
    "end"
   ]
  },
  {
   "cell_type": "code",
   "execution_count": 5,
   "metadata": {},
   "outputs": [
    {
     "name": "stdout",
     "output_type": "stream",
     "text": [
      "Done\n"
     ]
    }
   ],
   "source": [
    "term(\"alpha*A*xi*yi*b'*B*ph*mh\")\n",
    "println(\"Done\")"
   ]
  },
  {
   "cell_type": "code",
   "execution_count": null,
   "metadata": {},
   "outputs": [],
   "source": [
    "function non_trivial(q::qAtom, index::"
   ]
  },
  {
   "cell_type": "code",
   "execution_count": null,
   "metadata": {},
   "outputs": [
    {
     "ename": "UndefVarError",
     "evalue": "UndefVarError: `custom_sort_key` not defined in `Main`\nSuggestion: check for spelling errors or missing imports.",
     "output_type": "error",
     "traceback": [
      "UndefVarError: `custom_sort_key` not defined in `Main`\n",
      "Suggestion: check for spelling errors or missing imports.\n"
     ]
    }
   ],
   "source": [
    "function term_equal_indexes(prod::qProd, index1::Int, index2::Int, subspace::SubSpace)::Tuple{Bool, Vector{qProd}}\n",
    "    changed_any = false\n",
    "    term_variants = Vector{Vector{qAtom}}()\n",
    "    for atom in prod.expr\n",
    "        changed, variants = term_equal_indexes(atom, index1, index2, subspace)\n",
    "        push!(term_variants, variants)\n",
    "        changed_any |= changed  # Check if any term was changed\n",
    "    end\n",
    "\n",
    "    if !changed_any\n",
    "        return false, [prod]\n",
    "    end\n",
    "\n",
    "    # Generate all combinations (cartesian product) of updated terms\n",
    "    combinations = Iterators.product(term_variants...)\n",
    "\n",
    "    simplified_products = qProd[]\n",
    "\n",
    "    for combo in combinations\n",
    "        new_expr = collect(combo)\n",
    "        new_prod = qProd(prod.coeff_fun, new_expr)\n",
    "        push!(simplified_products, simplify(new_prod))\n",
    "    end\n",
    "\n",
    "    return true, simplified_products\n",
    "end\n"
   ]
  },
  {
   "cell_type": "code",
   "execution_count": 2,
   "metadata": {},
   "outputs": [
    {
     "data": {
      "text/latex": [
       "$1$"
      ],
      "text/plain": [
       "1"
      ]
     },
     "metadata": {},
     "output_type": "display_data"
    }
   ],
   "source": [
    "using ComplexRationals\n",
    "a = ComplexRational(1,0,1)\n",
    "copy(a)"
   ]
  },
  {
   "cell_type": "code",
   "execution_count": null,
   "metadata": {},
   "outputs": [],
   "source": []
  },
  {
   "cell_type": "code",
   "execution_count": null,
   "metadata": {},
   "outputs": [],
   "source": [
    "expr = 2 * alpha * im * xi + alpha * Dag(b) * xi * yi"
   ]
  },
  {
   "cell_type": "code",
   "execution_count": null,
   "metadata": {},
   "outputs": [],
   "source": [
    "qsum = Sum(\"j\",  alpha*yi*yj+Sum(\"k\", beta*alpha^2*xi*xj*xk))"
   ]
  },
  {
   "cell_type": "code",
   "execution_count": null,
   "metadata": {},
   "outputs": [],
   "source": [
    "flat_sum = flatten(qsum)"
   ]
  },
  {
   "cell_type": "code",
   "execution_count": null,
   "metadata": {},
   "outputs": [],
   "source": [
    "# The sum still covers all combinations of indexes j,k\n",
    "# We can transform it into a neq sum, in which the indexes j and k are distinct. the following function then expands into all possible cases\n",
    "neq_sum = neq(qsum) # this also flattens the sum"
   ]
  },
  {
   "cell_type": "code",
   "execution_count": null,
   "metadata": {},
   "outputs": [],
   "source": [
    "# A differential equation of expectation values can be constructed via\n",
    "dzi_dt = d_dt(zi, alpha*expr+qsum)"
   ]
  },
  {
   "cell_type": "code",
   "execution_count": null,
   "metadata": {},
   "outputs": [],
   "source": [
    "clipboard(string(dzi_dt))"
   ]
  },
  {
   "cell_type": "code",
   "execution_count": null,
   "metadata": {},
   "outputs": [],
   "source": [
    "clipboard(latex_string(dzi_dt))"
   ]
  },
  {
   "cell_type": "code",
   "execution_count": null,
   "metadata": {},
   "outputs": [],
   "source": []
  }
 ],
 "metadata": {
  "kernelspec": {
   "display_name": "Julia 1.11.5",
   "language": "julia",
   "name": "julia-1.11"
  },
  "language_info": {
   "file_extension": ".jl",
   "mimetype": "application/julia",
   "name": "julia",
   "version": "1.11.5"
  }
 },
 "nbformat": 4,
 "nbformat_minor": 2
}
