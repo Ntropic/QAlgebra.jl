{
 "cells": [
  {
   "cell_type": "code",
   "execution_count": 1,
   "metadata": {},
   "outputs": [
    {
     "name": "stderr",
     "output_type": "stream",
     "text": [
      "\u001b[92m\u001b[1mPrecompiling\u001b[22m\u001b[39m project...\n",
      "   1012.9 ms\u001b[32m  ✓ \u001b[39mqAlgebra\n",
      "  1 dependency successfully precompiled in 1 seconds. 7 already precompiled.\n"
     ]
    }
   ],
   "source": [
    "using Pkg \n",
    "Pkg.instantiate()\n",
    "using qAlgebra\n",
    "\n",
    "using BenchmarkTools"
   ]
  },
  {
   "cell_type": "code",
   "execution_count": 2,
   "metadata": {},
   "outputs": [
    {
     "data": {
      "text/plain": [
       "StateSpace: [β(t), γᵢ, γⱼ, γₖ, δᵢ, δⱼ, δₖ, α]\n",
       "   - SubSpace [\"h\"]: PM Qubit (Fermionic):  ηᵖₚ, ηᵐₚ, ηᶻₚ, ηᴵₚ (identity)\n",
       "   - SubSpace [\"i\", \"j\", \"k\"]: Pauli Qubit (Fermionic):  σˣₚ, σʸₚ, σᶻₚ, σᴵₚ (identity)\n",
       "   - SubSpace [\"b\"]: Ladder (Bosonic):  p†, p\n",
       "   - Op: A\n",
       "   - Op: B(H,U)\n"
      ]
     },
     "metadata": {},
     "output_type": "display_data"
    }
   ],
   "source": [
    "qspace = StateSpace(\"alpha\", \"beta(t)\", \"gamma_i\", \"delta_i\", operators=[\"A(!i)\", \"B(U,H,i)\"], h=QubitPM(\"eta\"), i=(3, QubitPauli(\"sigma\")), b=Ladder())"
   ]
  },
  {
   "cell_type": "code",
   "execution_count": 3,
   "metadata": {},
   "outputs": [
    {
     "name": "stdout",
     "output_type": "stream",
     "text": [
      "Done\n"
     ]
    }
   ],
   "source": [
    "var_dict, op_dict, abstract_dict = base_operators(qspace)\n",
    "alpha = base_operators(qspace, \"alpha\")\n",
    "beta = base_operators(qspace, \"beta\")\n",
    "gamma_i, gamma_j, gamma_k = base_operators(qspace, \"gamma\", do_dict=false)\n",
    "ph, mh, zh = base_operators(qspace, \"h\", do_dict=false)\n",
    "xi,yi,zi, pi, mi = base_operators(qspace, \"i\", do_dict=false)\n",
    "xj, yj, zj, pj, mj = base_operators(qspace, \"j\", do_dict=false)\n",
    "xk, yk, zk, pk, mk = base_operators(qspace, \"k\", do_dict=false)\n",
    "b, n = base_operators(qspace, \"b\", do_dict=false)\n",
    "I = base_operators(qspace, \"I\")\n",
    "A = base_operators(qspace, \"A\")\n",
    "println(\"Done\")"
   ]
  },
  {
   "cell_type": "code",
   "execution_count": 5,
   "metadata": {},
   "outputs": [
    {
     "data": {
      "text/latex": [
       "$ \\hat{A}$"
      ],
      "text/plain": [
       "A"
      ]
     },
     "metadata": {},
     "output_type": "display_data"
    }
   ],
   "source": [
    "A = base_operators(qspace, \"A\", do_fun=true)\n",
    "A1 = base_operators(qspace, \"A_1\", do_fun=false)\n",
    "A = A()"
   ]
  },
  {
   "cell_type": "code",
   "execution_count": 5,
   "metadata": {},
   "outputs": [
    {
     "data": {
      "text/latex": [
       "$\\sum_{j}^{=}\\left(\\alpha {\\hat{\\sigma}}^{y}_{i}{\\hat{\\sigma}}^{y}_{j}+\\sum_{k}^{=}\\beta(t)\\alpha² {\\hat{\\sigma}}^{x}_{k}\\right)$"
      ],
      "text/plain": [
       "∑ⱼ⁼(ασʸᵢσʸⱼ+∑ₖ⁼β(t)α²σˣₖ)"
      ]
     },
     "metadata": {},
     "output_type": "display_data"
    }
   ],
   "source": [
    "Sum(\"j\", alpha * yi * yj + Sum(\"k\", beta * alpha^2 * xi * xi * xk))"
   ]
  },
  {
   "cell_type": "code",
   "execution_count": 6,
   "metadata": {},
   "outputs": [
    {
     "data": {
      "text/plain": [
       "BenchmarkTools.Trial: 10000 samples with 1 evaluation per sample.\n",
       " Range \u001b[90m(\u001b[39m\u001b[36m\u001b[1mmin\u001b[22m\u001b[39m … \u001b[35mmax\u001b[39m\u001b[90m):  \u001b[39m\u001b[36m\u001b[1m56.041 μs\u001b[22m\u001b[39m … \u001b[35m 12.241 ms\u001b[39m  \u001b[90m┊\u001b[39m GC \u001b[90m(\u001b[39mmin … max\u001b[90m): \u001b[39m0.00% … 98.88%\n",
       " Time  \u001b[90m(\u001b[39m\u001b[34m\u001b[1mmedian\u001b[22m\u001b[39m\u001b[90m):     \u001b[39m\u001b[34m\u001b[1m57.875 μs               \u001b[22m\u001b[39m\u001b[90m┊\u001b[39m GC \u001b[90m(\u001b[39mmedian\u001b[90m):    \u001b[39m0.00%\n",
       " Time  \u001b[90m(\u001b[39m\u001b[32m\u001b[1mmean\u001b[22m\u001b[39m ± \u001b[32mσ\u001b[39m\u001b[90m):   \u001b[39m\u001b[32m\u001b[1m61.892 μs\u001b[22m\u001b[39m ± \u001b[32m170.891 μs\u001b[39m  \u001b[90m┊\u001b[39m GC \u001b[90m(\u001b[39mmean ± σ\u001b[90m):  \u001b[39m4.63% ±  1.71%\n",
       "\n",
       "  \u001b[39m \u001b[39m \u001b[39m \u001b[39m \u001b[39m▄\u001b[39m█\u001b[39m█\u001b[39m▃\u001b[34m▁\u001b[39m\u001b[39m \u001b[39m \u001b[39m \u001b[39m \u001b[39m \u001b[39m \u001b[39m \u001b[39m \u001b[39m \u001b[39m \u001b[39m \u001b[39m \u001b[39m \u001b[39m \u001b[39m \u001b[32m \u001b[39m\u001b[39m \u001b[39m \u001b[39m \u001b[39m \u001b[39m \u001b[39m \u001b[39m \u001b[39m \u001b[39m \u001b[39m \u001b[39m \u001b[39m \u001b[39m \u001b[39m \u001b[39m \u001b[39m \u001b[39m \u001b[39m \u001b[39m \u001b[39m \u001b[39m \u001b[39m \u001b[39m \u001b[39m \u001b[39m \u001b[39m \u001b[39m \u001b[39m \u001b[39m \u001b[39m \u001b[39m \u001b[39m \u001b[39m \u001b[39m \u001b[39m \u001b[39m \u001b[39m \n",
       "  \u001b[39m▂\u001b[39m▃\u001b[39m▄\u001b[39m▆\u001b[39m█\u001b[39m█\u001b[39m█\u001b[39m█\u001b[34m█\u001b[39m\u001b[39m▆\u001b[39m▆\u001b[39m▅\u001b[39m▄\u001b[39m▄\u001b[39m▄\u001b[39m▄\u001b[39m▄\u001b[39m▄\u001b[39m▄\u001b[39m▃\u001b[39m▃\u001b[39m▃\u001b[39m▃\u001b[39m▃\u001b[32m▃\u001b[39m\u001b[39m▃\u001b[39m▃\u001b[39m▃\u001b[39m▃\u001b[39m▃\u001b[39m▃\u001b[39m▂\u001b[39m▃\u001b[39m▂\u001b[39m▂\u001b[39m▂\u001b[39m▃\u001b[39m▂\u001b[39m▂\u001b[39m▂\u001b[39m▂\u001b[39m▂\u001b[39m▂\u001b[39m▂\u001b[39m▂\u001b[39m▂\u001b[39m▂\u001b[39m▂\u001b[39m▂\u001b[39m▂\u001b[39m▂\u001b[39m▂\u001b[39m▂\u001b[39m▂\u001b[39m▂\u001b[39m▂\u001b[39m▁\u001b[39m▂\u001b[39m▂\u001b[39m▂\u001b[39m \u001b[39m▃\n",
       "  56 μs\u001b[90m           Histogram: frequency by time\u001b[39m         70.4 μs \u001b[0m\u001b[1m<\u001b[22m\n",
       "\n",
       " Memory estimate\u001b[90m: \u001b[39m\u001b[33m51.72 KiB\u001b[39m, allocs estimate\u001b[90m: \u001b[39m\u001b[33m831\u001b[39m."
      ]
     },
     "metadata": {},
     "output_type": "display_data"
    }
   ],
   "source": [
    "@benchmark Sum(\"j\", alpha * yi * yj + Sum(\"k\", beta * alpha^2 * xi * xj * xk))"
   ]
  },
  {
   "cell_type": "code",
   "execution_count": 7,
   "metadata": {},
   "outputs": [
    {
     "data": {
      "text/latex": [
       "$\\log\\left(\\alpha+2\\beta(t)\\gamma_{i}² {\\hat{\\sigma}}^{x}_{i}+\\sum_{j}^{\\neq}\\left(\\alpha {\\hat{\\sigma}}^{y}_{i}{\\hat{\\sigma}}^{y}_{j}+\\beta(t)\\gamma_{j}² {\\hat{\\sigma}}^{x}_{i}+\\beta(t)\\gamma_{i}\\gamma_{j} {\\hat{\\sigma}}^{x}_{j}\\right)+\\sum_{k}^{\\neq}\\beta(t)\\gamma_{i}\\gamma_{k} {\\hat{\\sigma}}^{x}_{k}+\\sum_{(j,k)}^{\\neq}\\beta(t)\\gamma_{j}\\gamma_{k} {\\hat{\\sigma}}^{x}_{i}{\\hat{\\sigma}}^{x}_{j}{\\hat{\\sigma}}^{x}_{k}\\right)$"
      ],
      "text/plain": [
       "log(α+2β(t)γᵢ²σˣᵢ+∑ⱼ(ασʸᵢσʸⱼ+β(t)γⱼ²σˣᵢ+β(t)γᵢγⱼσˣⱼ)+∑ₖβ(t)γᵢγₖσˣₖ+∑₍ⱼₖ₎β(t)γⱼγₖσˣᵢσˣⱼσˣₖ)"
      ]
     },
     "metadata": {},
     "output_type": "display_data"
    }
   ],
   "source": [
    "expr = neq(log(Sum(\"j\", alpha * yi * yj + Sum(\"k\", beta * gamma_j * gamma_k * xi * xj * xk))))"
   ]
  },
  {
   "cell_type": "code",
   "execution_count": 8,
   "metadata": {},
   "outputs": [
    {
     "data": {
      "text/latex": [
       "$\\frac{\\text{d}  {\\hat{\\sigma}}^{x}_{i}}{\\text{d}t} = \\log\\left(\\alpha+2\\beta(t)\\gamma_{i}² {\\hat{\\sigma}}^{x}_{i}+\\sum_{j}^{\\neq}\\left(\\alpha {\\hat{\\sigma}}^{y}_{i}{\\hat{\\sigma}}^{y}_{j}+\\beta(t)\\gamma_{j}² {\\hat{\\sigma}}^{x}_{i}+\\beta(t)\\gamma_{i}\\gamma_{j} {\\hat{\\sigma}}^{x}_{j}\\right)+\\sum_{k}^{\\neq}\\beta(t)\\gamma_{i}\\gamma_{k} {\\hat{\\sigma}}^{x}_{k}+\\sum_{(j,k)}^{\\neq}\\beta(t)\\gamma_{j}\\gamma_{k} {\\hat{\\sigma}}^{x}_{i}{\\hat{\\sigma}}^{x}_{j}{\\hat{\\sigma}}^{x}_{k}\\right)$"
      ],
      "text/plain": [
       "d(σˣᵢ) / dt = log(α+2β(t)γᵢ²σˣᵢ+∑ⱼ(ασʸᵢσʸⱼ+β(t)γⱼ²σˣᵢ+β(t)γᵢγⱼσˣⱼ)+∑ₖβ(t)γᵢγₖσˣₖ+∑₍ⱼₖ₎β(t)γⱼγₖσˣᵢσˣⱼσˣₖ)"
      ]
     },
     "metadata": {},
     "output_type": "display_data"
    }
   ],
   "source": [
    "d_dt(xi, expr)"
   ]
  },
  {
   "cell_type": "code",
   "execution_count": 9,
   "metadata": {},
   "outputs": [
    {
     "data": {
      "text/plain": [
       "extract_qatom (generic function with 2 methods)"
      ]
     },
     "metadata": {},
     "output_type": "display_data"
    }
   ],
   "source": [
    "function extract_qabstract(q::qExpr)::qAbstract\n",
    "    if length(q) > 1 \n",
    "        error(\"Cannot substitute composites. abstract_op must contain only an abstract operator.\")\n",
    "    end\n",
    "    term = q.terms[1]\n",
    "    if !isa(term, qAtomProduct)\n",
    "        error(\"qExpr must contain only a qAtomProduct\")\n",
    "    end\n",
    "    return extract_qabstract(term)\n",
    "end\n",
    "function extract_qabstract(term::qAtomProduct)::qAbstract\n",
    "    if length(term.expr) != 1 || !isa(term.expr[1], qAbstract)\n",
    "        error(\"abstract_op must contain exactly one qAbstract\")\n",
    "    end\n",
    "    return term.expr[1]\n",
    "end\n",
    "#now same for qAtom \n",
    "function extract_qatom(q::qExpr)::qAtom\n",
    "    if length(q) > 1 \n",
    "        error(\"Cannot substitute composites. abstract_op must contain only an abstract operator.\")\n",
    "    end\n",
    "    term = q.terms[1]\n",
    "    if !isa(term, qAtomProduct)\n",
    "        error(\"qExpr must contain only a qAtomProduct\")\n",
    "    end\n",
    "    return extract_qatom(term)\n",
    "end\n",
    "function extract_qatom(term::qAtomProduct)::qAtom\n",
    "    if length(term.expr) != 1 || !isa(term.expr[1], qAtom)\n",
    "        error(\"abstract_op must contain exactly one qAbstract\")\n",
    "    end\n",
    "    return term.expr[1]\n",
    "end"
   ]
  },
  {
   "cell_type": "code",
   "execution_count": 10,
   "metadata": {},
   "outputs": [
    {
     "data": {
      "text/plain": [
       "term_equal_indexes_ss (generic function with 1 method)"
      ]
     },
     "metadata": {},
     "output_type": "display_data"
    }
   ],
   "source": [
    "using ComplexRationals\n",
    "function term_equal_indexes_ss(term::qTerm, index1::Int, index2::Int, statespace::StateSpace)::Tuple{Bool, Vector{qTerm}, Vector{ComplexRational}}\n",
    "    op1 = term.op_indices[index1]\n",
    "    op2 = term.op_indices[index2]\n",
    "    neutral = subspace.op_set.neutral_element\n",
    "    if op1 === neutral && op2 === neutral\n",
    "        return false, qTerm[term], ComplexRational[ComplexRational(1,0,1)]\n",
    "    end\n",
    "    subspace_ind = statespace.subspace_by_ind[index1]\n",
    "    subspace = statespace.subspaces[subspace_ind]\n",
    "    results = subspace.op_set.op_product(op1, op2)\n",
    "    new_terms = qTerm[]\n",
    "    new_coeffs = ComplexRational[]\n",
    "    for (coeff, op) in results\n",
    "        new_term = copy(term)\n",
    "        new_term.op_indices[index2] = op\n",
    "        new_term.op_indices[index1] = neutral\n",
    "        push!(new_terms, new_term)\n",
    "        push!(new_coeffs, coeff)\n",
    "    end\n",
    "    return true, new_terms, new_coeffs\n",
    "end "
   ]
  },
  {
   "cell_type": "code",
   "execution_count": 22,
   "metadata": {},
   "outputs": [
    {
     "data": {
      "text/plain": [
       "substitute (generic function with 7 methods)"
      ]
     },
     "metadata": {},
     "output_type": "display_data"
    }
   ],
   "source": [
    "# substitute abstract operator \n",
    "# input is abstract_op, replacement and target\n",
    "simpleQ = Union{qExpr, qAtomProduct}\n",
    "# Deals with index_map mapping one index to another ithin qAbstract\n",
    "function qAtom_index_flip(q::qAtom, index_map::Vector{Tuple{Int,Int}}, statespace::StateSpace)::Vector{qAtomProduct}\n",
    "    qs::Vector{qAtom} = [q]\n",
    "    cs::Vector{ComplexRational} = [ComplexRational(1,0,1)]\n",
    "    for (index1, index2) in index_map\n",
    "        new_qs::Vector{qAtom} = []    \n",
    "        new_cs::Vector{ComplexRational} = []\n",
    "        for (qi, ci) in zip(qs, cs)\n",
    "            _, new_terms, new_coeffs = term_equal_indexes_ss(qi, index1, index2, statespace)\n",
    "            append!(new_qs, new_terms)\n",
    "            append!(new_cs, new_coeffs*ci)\n",
    "        end\n",
    "        qs = new_qs\n",
    "        cs = new_cs\n",
    "    end\n",
    "    return [qAtomProduct(statespace, statespace.fone*c, [q]) for (q, c) in zip(qs, cs)]\n",
    "end\n",
    "function substitute_qAtom(abstract_op::qAbstract, replacement::qAtom, target::qTerm, statespace::StateSpace)::Vector{qAtomProduct}\n",
    "    return [qAtomProduct(statespace, statespace.fone, [target])]\n",
    "end\n",
    "function substitute_qAtom(abstract_op::qAbstract, replacement::qAtom, target::qAbstract, statespace::StateSpace)::Vector{qAtomProduct}\n",
    "    # check if its the same qAbstract operator \n",
    "    if target.key_index == abstract_op.key_index && target.sub_index == abstract_op.sub_index \n",
    "        qs = qAtom_index_flip(replacement, target.index_map, statespace)\n",
    "\n",
    "        if target.exponent != 1\n",
    "            qs = qs.^target.exponent\n",
    "        end\n",
    "        if target.dag\n",
    "            qs = qs'\n",
    "        end\n",
    "        return qs\n",
    "    else\n",
    "        return [qAtomProduct(statespace, statespace.fone, [target])]\n",
    "    end\n",
    "end\n",
    "\n",
    "function substitute(abstract_op::qAbstract, replacement::qAtom, target::qAtomProduct)::Vector{qComposite}\n",
    "    # recursively navigate expression, and substitue\n",
    "    statespace = target.statespace\n",
    "    expr = target.expr\n",
    "    coeff_fun = target.coeff_fun\n",
    "    new_expr::qExpr = qExpr(target.statespace, substitute_qAtom(abstract_op, replacement, expr[1], statespace))\n",
    "    for t in expr[2:end]\n",
    "        new_terms = substitute_qAtom(abstract_op, replacement, t, statespace)\n",
    "        new_new_expr = new_expr * new_terms[1]\n",
    "        for t in new_terms[2:end]\n",
    "            new_new_expr += new_expr + t\n",
    "        end\n",
    "        new_expr = new_new_expr\n",
    "    end\n",
    "    terms = simplify(new_expr).terms\n",
    "    return [qAtomProduct(statespace, coeff_fun*t.coeff_fun, t.expr) for t in terms]  \n",
    "end\n",
    "\n",
    "\n",
    "function substitute(abstract_op::Union{simpleQ, qAbstract}, replacement::Union{simpleQ, qAtom}, target::qExpr)::qExpr\n",
    "    if !isa(abstract_op, qAbstract)\n",
    "        abstract_op = extract_qabstract(abstract_op)\n",
    "    end\n",
    "    if !isa(replacement, qAtom)\n",
    "        replacement = extract_qatom(replacement)\n",
    "    end\n",
    "    return substitute(abstract_op, replacement, target)\n",
    "end\n",
    "function substitute(abstract_op::qAbstract, replacement::qAtom, target::qExpr)::qExpr\n",
    "    # recursively navigate expression, and substitue\n",
    "    new_terms = qComposite[]\n",
    "    for term in target.terms\n",
    "        append!(new_terms, substitute(abstract_op, replacement, term))\n",
    "    end\n",
    "    return qExpr(target.statespace, new_terms)\n",
    "end\n",
    "function substitute(a::qAbstract, r::qAtom, targ::T) where T<:qComposite\n",
    "    # T<:qMultiComposite is *also* <:qComposite, \n",
    "    # so we need the qMultiComposite method to be more specific\n",
    "    cp = copy(targ)\n",
    "    cp.expr = substitute(a, r, targ.expr)\n",
    "    return [cp]  # Tuple or Vector, depending on your convention\n",
    "end\n",
    "\n",
    "# For anything that holds *many* sub‑expressions\n",
    "function substitute(a::qAbstract, r::qAtom, targ::T) where T<:qMultiComposite\n",
    "    cp = copy(targ)\n",
    "    cp.expr = map(x -> substitute(a, r, x), targ.expr)\n",
    "    return [cp]\n",
    "end\n",
    "\n",
    "function substitute(abstract_op::Union{simpleQ, qAbstract}, replacement::Union{simpleQ, qAtom}, target::diff_qEQ)::diff_qEQ \n",
    "    if !isa(abstract_op, qAbstract)\n",
    "        abstract_op = extract_qabstract(abstract_op)\n",
    "    end\n",
    "    if !isa(replacement, qAtom)\n",
    "        replacement = extract_qatom(replacement)\n",
    "    end\n",
    "    return substitute(abstract_op, replacement, target)\n",
    "end\n",
    "function substitute(abstract_op::qAbstract, replacement::qAtom, target::diff_qEQ)::diff_qEQ\n",
    "    lhs = substitute(abstract_op, replacement, target.left_hand_side)\n",
    "    if length(lhs) != 1\n",
    "        error(\"Substitution of $abstract_op with $replacement in $target did not result in a single term.\")\n",
    "    end\n",
    "    lhs = lhs[1]\n",
    "    rhs = substitute(abstract_op, replacement, target.expr)\n",
    "    return diff_qEQ(target.statespace, lhs, rhs, target.braket)\n",
    "end"
   ]
  },
  {
   "cell_type": "code",
   "execution_count": 9,
   "metadata": {},
   "outputs": [
    {
     "data": {
      "text/latex": [
       "$\\frac{\\text{d}  {\\hat{\\sigma}}^{x}_{i}}{\\text{d}t} = \\log\\left(-i\\alpha {\\hat{\\sigma}}^{z}_{i}+2\\beta(t)\\gamma_{i}² {\\hat{\\sigma}}^{x}_{i}+\\sum_{j}^{\\neq}\\left(\\alpha {\\hat{\\sigma}}^{x}_{i}{\\hat{\\sigma}}^{y}_{j}+\\beta(t)\\gamma_{j}² {\\hat{\\sigma}}^{x}_{i}+\\beta(t)\\gamma_{i}\\gamma_{j} {\\hat{\\sigma}}^{x}_{j}\\right)+\\sum_{k}^{\\neq}\\beta(t)\\gamma_{i}\\gamma_{k} {\\hat{\\sigma}}^{x}_{k}+\\sum_{(j,k)}^{\\neq}\\beta(t)\\gamma_{j}\\gamma_{k} {\\hat{\\sigma}}^{x}_{i}{\\hat{\\sigma}}^{x}_{j}{\\hat{\\sigma}}^{x}_{k}\\right)$"
      ],
      "text/plain": [
       "d(σˣᵢ) / dt = log(-iασᶻᵢ+2β(t)γᵢ²σˣᵢ+∑ⱼ(ασˣᵢσʸⱼ+β(t)γⱼ²σˣᵢ+β(t)γᵢγⱼσˣⱼ)+∑ₖβ(t)γᵢγₖσˣₖ+∑₍ⱼₖ₎β(t)γⱼγₖσˣᵢσˣⱼσˣₖ)"
      ]
     },
     "metadata": {},
     "output_type": "display_data"
    }
   ],
   "source": [
    "expr = neq(log(Sum(\"j\", alpha * A * yj + Sum(\"k\", beta * gamma_j * gamma_k * A * xj * xk))))\n",
    "dA_dt = d_dt(A, expr)\n",
    "dx_dt = substitute(A, xi, dA_dt)"
   ]
  },
  {
   "cell_type": "code",
   "execution_count": 10,
   "metadata": {},
   "outputs": [
    {
     "data": {
      "text/latex": [
       "$\\log\\left(\\alpha {\\hat{\\sigma}}^{y}_{i}\\hat{A}+2\\beta(t)\\gamma_{i}² {\\hat{\\sigma}}^{x}_{i}\\hat{A}{\\hat{\\sigma}}^{x}_{i}+\\sum_{j}^{\\neq}\\left(\\alpha {\\hat{\\sigma}}^{y}_{j}\\hat{A}+\\beta(t)\\gamma_{j}² {\\hat{\\sigma}}^{x}_{j}\\hat{A}{\\hat{\\sigma}}^{x}_{j}+\\beta(t)\\gamma_{i}\\gamma_{j} {\\hat{\\sigma}}^{x}_{j}\\hat{A}{\\hat{\\sigma}}^{x}_{i}\\right)+\\sum_{k}^{\\neq}\\beta(t)\\gamma_{i}\\gamma_{k} {\\hat{\\sigma}}^{x}_{i}\\hat{A}{\\hat{\\sigma}}^{x}_{k}+\\sum_{(j,k)}^{\\neq}\\beta(t)\\gamma_{j}\\gamma_{k} {\\hat{\\sigma}}^{x}_{j}\\hat{A}{\\hat{\\sigma}}^{x}_{k}\\right)$"
      ],
      "text/plain": [
       "log(ασʸᵢA+2β(t)γᵢ²σˣᵢAσˣᵢ+∑ⱼ(ασʸⱼA+β(t)γⱼ²σˣⱼAσˣⱼ+β(t)γᵢγⱼσˣⱼAσˣᵢ)+∑ₖβ(t)γᵢγₖσˣᵢAσˣₖ+∑₍ⱼₖ₎β(t)γⱼγₖσˣⱼAσˣₖ)"
      ]
     },
     "metadata": {},
     "output_type": "display_data"
    }
   ],
   "source": [
    "expr = neq(log(Sum(\"j\", alpha * A * yj + Sum(\"k\", beta * gamma_j * gamma_k * A * xj * xk))))"
   ]
  },
  {
   "cell_type": "code",
   "execution_count": 10,
   "metadata": {},
   "outputs": [
    {
     "data": {
      "text/plain": [
       "BenchmarkTools.Trial: 10000 samples with 1 evaluation per sample.\n",
       " Range \u001b[90m(\u001b[39m\u001b[36m\u001b[1mmin\u001b[22m\u001b[39m … \u001b[35mmax\u001b[39m\u001b[90m):  \u001b[39m\u001b[36m\u001b[1m230.501 μs\u001b[22m\u001b[39m … \u001b[35m 11.884 ms\u001b[39m  \u001b[90m┊\u001b[39m GC \u001b[90m(\u001b[39mmin … max\u001b[90m): \u001b[39m0.00% … 96.98%\n",
       " Time  \u001b[90m(\u001b[39m\u001b[34m\u001b[1mmedian\u001b[22m\u001b[39m\u001b[90m):     \u001b[39m\u001b[34m\u001b[1m235.501 μs               \u001b[22m\u001b[39m\u001b[90m┊\u001b[39m GC \u001b[90m(\u001b[39mmedian\u001b[90m):    \u001b[39m0.00%\n",
       " Time  \u001b[90m(\u001b[39m\u001b[32m\u001b[1mmean\u001b[22m\u001b[39m ± \u001b[32mσ\u001b[39m\u001b[90m):   \u001b[39m\u001b[32m\u001b[1m248.854 μs\u001b[22m\u001b[39m ± \u001b[32m236.525 μs\u001b[39m  \u001b[90m┊\u001b[39m GC \u001b[90m(\u001b[39mmean ± σ\u001b[90m):  \u001b[39m4.14% ±  4.77%\n",
       "\n",
       "  \u001b[39m \u001b[39m \u001b[39m \u001b[39m \u001b[39m▁\u001b[39m▅\u001b[39m█\u001b[39m▄\u001b[39m \u001b[34m \u001b[39m\u001b[39m \u001b[39m \u001b[39m \u001b[39m \u001b[39m \u001b[39m \u001b[39m \u001b[39m \u001b[39m \u001b[39m \u001b[39m \u001b[39m \u001b[39m \u001b[39m \u001b[39m \u001b[39m \u001b[39m \u001b[39m \u001b[39m \u001b[39m \u001b[39m \u001b[39m \u001b[32m \u001b[39m\u001b[39m \u001b[39m \u001b[39m \u001b[39m \u001b[39m \u001b[39m \u001b[39m \u001b[39m \u001b[39m \u001b[39m \u001b[39m \u001b[39m \u001b[39m \u001b[39m \u001b[39m \u001b[39m \u001b[39m \u001b[39m \u001b[39m \u001b[39m \u001b[39m \u001b[39m \u001b[39m \u001b[39m \u001b[39m \u001b[39m \u001b[39m \u001b[39m \u001b[39m \u001b[39m \n",
       "  \u001b[39m▁\u001b[39m▁\u001b[39m▂\u001b[39m▄\u001b[39m█\u001b[39m█\u001b[39m█\u001b[39m█\u001b[39m█\u001b[34m▅\u001b[39m\u001b[39m▃\u001b[39m▃\u001b[39m▃\u001b[39m▄\u001b[39m▅\u001b[39m▅\u001b[39m▆\u001b[39m▅\u001b[39m▄\u001b[39m▄\u001b[39m▃\u001b[39m▃\u001b[39m▂\u001b[39m▂\u001b[39m▂\u001b[39m▂\u001b[39m▂\u001b[39m▂\u001b[39m▂\u001b[39m▂\u001b[39m▂\u001b[39m▂\u001b[32m▂\u001b[39m\u001b[39m▂\u001b[39m▁\u001b[39m▁\u001b[39m▁\u001b[39m▁\u001b[39m▁\u001b[39m▂\u001b[39m▁\u001b[39m▁\u001b[39m▁\u001b[39m▁\u001b[39m▁\u001b[39m▁\u001b[39m▁\u001b[39m▁\u001b[39m▁\u001b[39m▁\u001b[39m▁\u001b[39m▁\u001b[39m▁\u001b[39m▁\u001b[39m▁\u001b[39m▁\u001b[39m▁\u001b[39m▁\u001b[39m▁\u001b[39m▁\u001b[39m▁\u001b[39m \u001b[39m▂\n",
       "  231 μs\u001b[90m           Histogram: frequency by time\u001b[39m          265 μs \u001b[0m\u001b[1m<\u001b[22m\n",
       "\n",
       " Memory estimate\u001b[90m: \u001b[39m\u001b[33m182.20 KiB\u001b[39m, allocs estimate\u001b[90m: \u001b[39m\u001b[33m2980\u001b[39m."
      ]
     },
     "metadata": {},
     "output_type": "display_data"
    }
   ],
   "source": [
    "@benchmark substitute(A, xi, dA_dt)"
   ]
  },
  {
   "cell_type": "code",
   "execution_count": 26,
   "metadata": {},
   "outputs": [
    {
     "data": {
      "text/plain": [
       "BenchmarkTools.Trial: 10000 samples with 1 evaluation per sample.\n",
       " Range \u001b[90m(\u001b[39m\u001b[36m\u001b[1mmin\u001b[22m\u001b[39m … \u001b[35mmax\u001b[39m\u001b[90m):  \u001b[39m\u001b[36m\u001b[1m171.250 μs\u001b[22m\u001b[39m … \u001b[35m 11.823 ms\u001b[39m  \u001b[90m┊\u001b[39m GC \u001b[90m(\u001b[39mmin … max\u001b[90m): \u001b[39m0.00% … 98.27%\n",
       " Time  \u001b[90m(\u001b[39m\u001b[34m\u001b[1mmedian\u001b[22m\u001b[39m\u001b[90m):     \u001b[39m\u001b[34m\u001b[1m175.000 μs               \u001b[22m\u001b[39m\u001b[90m┊\u001b[39m GC \u001b[90m(\u001b[39mmedian\u001b[90m):    \u001b[39m0.00%\n",
       " Time  \u001b[90m(\u001b[39m\u001b[32m\u001b[1mmean\u001b[22m\u001b[39m ± \u001b[32mσ\u001b[39m\u001b[90m):   \u001b[39m\u001b[32m\u001b[1m183.952 μs\u001b[22m\u001b[39m ± \u001b[32m220.523 μs\u001b[39m  \u001b[90m┊\u001b[39m GC \u001b[90m(\u001b[39mmean ± σ\u001b[90m):  \u001b[39m3.98% ±  3.74%\n",
       "\n",
       "  \u001b[39m \u001b[39m \u001b[39m \u001b[39m \u001b[39m \u001b[39m \u001b[39m▃\u001b[39m▅\u001b[39m▆\u001b[39m█\u001b[39m▆\u001b[39m▄\u001b[34m▃\u001b[39m\u001b[39m \u001b[39m \u001b[39m \u001b[39m \u001b[39m \u001b[39m \u001b[39m \u001b[39m \u001b[39m \u001b[39m \u001b[39m \u001b[39m \u001b[39m \u001b[39m \u001b[39m \u001b[39m \u001b[39m \u001b[39m \u001b[39m \u001b[39m \u001b[39m \u001b[39m \u001b[39m \u001b[39m \u001b[39m \u001b[39m \u001b[39m \u001b[39m \u001b[39m \u001b[32m \u001b[39m\u001b[39m \u001b[39m \u001b[39m \u001b[39m \u001b[39m \u001b[39m \u001b[39m \u001b[39m \u001b[39m \u001b[39m \u001b[39m \u001b[39m \u001b[39m \u001b[39m \u001b[39m \u001b[39m \u001b[39m \u001b[39m \u001b[39m \u001b[39m \n",
       "  \u001b[39m▁\u001b[39m▁\u001b[39m▂\u001b[39m▃\u001b[39m▄\u001b[39m▇\u001b[39m█\u001b[39m█\u001b[39m█\u001b[39m█\u001b[39m█\u001b[39m█\u001b[34m█\u001b[39m\u001b[39m▇\u001b[39m▆\u001b[39m▅\u001b[39m▄\u001b[39m▄\u001b[39m▄\u001b[39m▄\u001b[39m▄\u001b[39m▅\u001b[39m▅\u001b[39m▅\u001b[39m▅\u001b[39m▄\u001b[39m▄\u001b[39m▄\u001b[39m▄\u001b[39m▃\u001b[39m▃\u001b[39m▃\u001b[39m▃\u001b[39m▃\u001b[39m▂\u001b[39m▂\u001b[39m▃\u001b[39m▂\u001b[39m▂\u001b[39m▂\u001b[39m▂\u001b[39m▂\u001b[32m▂\u001b[39m\u001b[39m▂\u001b[39m▂\u001b[39m▂\u001b[39m▁\u001b[39m▁\u001b[39m▁\u001b[39m▁\u001b[39m▁\u001b[39m▁\u001b[39m▁\u001b[39m▁\u001b[39m▁\u001b[39m▁\u001b[39m▁\u001b[39m▁\u001b[39m▁\u001b[39m▁\u001b[39m▁\u001b[39m \u001b[39m▃\n",
       "  171 μs\u001b[90m           Histogram: frequency by time\u001b[39m          190 μs \u001b[0m\u001b[1m<\u001b[22m\n",
       "\n",
       " Memory estimate\u001b[90m: \u001b[39m\u001b[33m140.23 KiB\u001b[39m, allocs estimate\u001b[90m: \u001b[39m\u001b[33m2249\u001b[39m."
      ]
     },
     "metadata": {},
     "output_type": "display_data"
    }
   ],
   "source": [
    "@benchmark d_dt(xi, neq(log(Sum(\"j\", alpha * xi  * yj + Sum(\"k\", beta * gamma_j * gamma_k * xi * xj * xk)))))"
   ]
  },
  {
   "cell_type": "code",
   "execution_count": 27,
   "metadata": {},
   "outputs": [
    {
     "name": "stdout",
     "output_type": "stream",
     "text": [
      "Before: true\n",
      "After:  false\n"
     ]
    }
   ],
   "source": [
    "# check if all abstracts are gone\n",
    "function contains_abstract(term::qExpr)::Bool\n",
    "    return any([contains_abstract(t) for t in term.terms])\n",
    "end\n",
    "function contains_abstract(term::T)::Bool where T<:qComposite\n",
    "    return contains_abstract(term.expr)\n",
    "end\n",
    "function contains_abstract(term::T)::Bool where T<:qMultiComposite\n",
    "    return any([contains_abstract(t) for t in term.expr])\n",
    "end\n",
    "function contains_abstract(term::qAtomProduct)::Bool\n",
    "    return any([isa(t, qAbstract) for t in term.expr])\n",
    "end\n",
    "function contains_abstract(term::diff_qEQ)::Bool \n",
    "    return contains_abstract(term.expr) && contains_abstract(term.left_hand_side)\n",
    "end\n",
    "# Test \n",
    "println(\"Before: \", contains_abstract(expr)) \n",
    "println(\"After:  \", contains_abstract(substitute(A, xi, dA_dt)))"
   ]
  },
  {
   "cell_type": "code",
   "execution_count": null,
   "metadata": {},
   "outputs": [
    {
     "data": {
      "text/plain": [
       "which_continuum_acting (generic function with 6 methods)"
      ]
     },
     "metadata": {},
     "output_type": "display_data"
    }
   ],
   "source": [
    "Is = Union{Int,Vector{Int}}\n",
    "function vecvec_or(A::Vector{Vector{Bool}}, B::Vector{Vector{Bool}})\n",
    "    # Assume they are equally shaped. \n",
    "    return broadcast.(|, A, B)\n",
    "end\n",
    "cnimp(a::Bool, b::Bool) = b && !a\n",
    "function converse_nonimplication(A::Vector{Vector{Bool}}, B::Vector{Vector{Bool}})\n",
    "    # Assume they are equally shaped. \n",
    "    return broadcast.(cnimp, A, B) \n",
    "end\n",
    "\n",
    "# FFunctions\n",
    "function which_continuum_acting(f::FAtom, where_continuums_f::Vector{Vector{Vector{Int}}})::Vector{Vector{Bool}}\n",
    "    where_non_trivial::Vector{Vector{Bool}} = []\n",
    "    for where_f in where_continuums_f\n",
    "        push!(where_non_trivial, reduce(.|, [f.var_exponents[w] .!= 0 for w in where_f]))\n",
    "    end\n",
    "    return where_non_trivial\n",
    "end\n",
    "function which_continuum_acting(f::FSum, where_continuums_f::Vector{Vector{Vector{Int}}})::Vector{Vector{Bool}}\n",
    "    # or of the individual terms \n",
    "    return reduce(vecvec_or, [which_continuum_acting(t, where_continuums_f) for t in f.terms])\n",
    "end\n",
    "function which_continuum_acting(f::FRational, where_continuums_f::Vector{Vector{Vector{Int}}})::Vector{Vector{Bool}}\n",
    "    return vecvec_or(which_continuum_acting(f.numer, where_continuums_f), which_continuum_acting(f.denom, where_continuums_f))\n",
    "end\n",
    "\n",
    "# QObjs\n",
    "function which_continuum_acting(q::qAtom, continuum_indexes::Vector{Vector{Int}}, neutral_continuums_op::Vector{Vector{Is}})::Vector{Vector{Bool}}\n",
    "    my_continuums::Vector{Vector{Bool}} = []\n",
    "    for (inds, neutral) in zip(continuum_indexes, neutral_continuums_op)\n",
    "        push!(my_continuums, q.op_indices[inds] .!= neutral)\n",
    "    end\n",
    "    return my_continuums\n",
    "end\n",
    "function which_continuum_acting(q::qAbstract, continuum_indexes::Vector{Vector{Int}}, neutral_continuums_op::Vector{Vector{Is}})\n",
    "    error(\"Which continuum acting should be applied to abstractless expressions!\")\n",
    "end\n",
    "function which_continuum_acting(q::qAtomProduct)::Vector{Vector{Bool}}\n",
    "    # xor between vectors of vector of bool \n",
    "    qspace = q.statespace\n",
    "    return vecvec_or(reduce(vecvec_or, [which_continuum_acting(t, qspace.continuum_indexes, qspace.neutral_continuum_op) for t in q.expr]), which_continuum_acting(q.coeff_fun, qspace.where_by_continuum_var))\n",
    "end"
   ]
  },
  {
   "cell_type": "code",
   "execution_count": 29,
   "metadata": {},
   "outputs": [
    {
     "data": {
      "text/plain": [
       "true"
      ]
     },
     "metadata": {},
     "output_type": "display_data"
    }
   ],
   "source": [
    "function are_indexes_defined(q::qAtomProduct, where_defined::Vector{Vector{Bool}})::Bool\n",
    "    # check that no true on which_continuum_acting, that isn't also a true on where_defined => converse nonimplication cnimp(a::Bool, b::Bool) = b && !a\n",
    "    qspace = q.statespace\n",
    "    if any(any, converse_nonimplication(where_defined, which_continuum_acting(q)))\n",
    "        x = converse_nonimplication(where_defined, which_continuum_acting(q))\n",
    "        error(\"Cannot use an undefined continuums-index on the right hand side of a differential equation! $x\")\n",
    "    end\n",
    "    return true\n",
    "end\n",
    "function are_indexes_defined(q::qExpr, where_defined::Vector{Vector{Bool}})::Bool\n",
    "    # check element wise if all indexes are defined\n",
    "    return all([are_indexes_defined(t, where_defined) for t in q.terms])\n",
    "end\n",
    "function are_indexes_defined(q::T, where_defined::Vector{Vector{Bool}})::Bool where T <:qComposite\n",
    "    return are_indexes_defined(q.expr, where_defined)\n",
    "end\n",
    "function are_indexes_defined(q::T, where_defined::Vector{Vector{Bool}})::Bool where T <:qMultiComposite\n",
    "    return all([are_indexes_defined(t, where_defined) for t in q.exprs])\n",
    "end\n",
    "function are_indexes_defined(q::qSum, where_defined::Vector{Vector{Bool}})::Bool\n",
    "    # add the qSum summation indexes \n",
    "    subsystem = q.subsystem_index \n",
    "    element_indexes = q.element_indexes\n",
    "    # check where subsystem is among qspace.where_continuum\n",
    "    outer_ind = findfirst(x -> x == subsystem, q.statespace.where_continuum)\n",
    "    if outer_ind == nothing\n",
    "        error(\"Subsystem $subsystem not found in qspace.subspace_by_ind!\")\n",
    "    end\n",
    "    if !all(where_defined[outer_ind][element_indexes] .== false)\n",
    "        error(\"Summation indexes already defined, cannot sum over defined indexes!\")\n",
    "    end\n",
    "    new_where_defined = deepcopy(where_defined)\n",
    "    new_where_defined[outer_ind][element_indexes] .= true\n",
    "    # check the summation qExpr \n",
    "    return are_indexes_defined(q.expr, new_where_defined)\n",
    "end\n",
    "function are_indexes_defined(q::diff_qEQ)::Bool\n",
    "    qspace = q.statespace\n",
    "    # first two arguments for operators \n",
    "    # final argument for paramete/variables\n",
    "    defined = which_continuum_acting(q.left_hand_side)\n",
    "    # check recursively if there are undefined elements in the right hand side\n",
    "    return are_indexes_defined(q.expr, defined)\n",
    "end\n",
    "# Test\n",
    "are_indexes_defined(dx_dt)"
   ]
  },
  {
   "cell_type": "code",
   "execution_count": 30,
   "metadata": {},
   "outputs": [
    {
     "data": {
      "text/latex": [
       "$\\frac{\\text{d}  {\\sigma}^{x}_{i}}{\\text{d}t} = \\log\\left(-i\\alpha {\\sigma}^{z}_{i}+2\\beta(t)\\gamma_{i}² {\\sigma}^{x}_{i}+\\sum_{j}^{\\neq}\\left(\\alpha {\\sigma}^{x}_{i}{\\sigma}^{y}_{j}+\\beta(t)\\gamma_{j}² {\\sigma}^{x}_{i}+2\\beta(t)\\gamma_{i}\\gamma_{j} {\\sigma}^{x}_{j}\\right)+\\sum_{(j,k)}^{\\neq}\\beta(t)\\gamma_{j}\\gamma_{k} {\\sigma}^{x}_{i}{\\sigma}^{x}_{j}{\\sigma}^{x}_{k}\\right)$"
      ],
      "text/plain": [
       "d(σˣᵢ) / dt = log(-iασᶻᵢ+2β(t)γᵢ²σˣᵢ+∑ⱼ(ασˣᵢσʸⱼ+β(t)γⱼ²σˣᵢ+2β(t)γᵢγⱼσˣⱼ)+∑₍ⱼₖ₎β(t)γⱼγₖσˣᵢσˣⱼσˣₖ)"
      ]
     },
     "metadata": {},
     "output_type": "display_data"
    }
   ],
   "source": [
    "function where_defined_to_index_order(statespace::StateSpace, where_defined::Vector{Vector{Bool}})::Tuple{Vector{Int}, Vector{Int}}\n",
    "    # takes where_defined and the continuum indexes to determine the new order for both operators and variables \n",
    "    # for each element of where_defined, we shift all the true elements to the left, and all false elements to the right, we want to get the indexes of the permutation that achieves that \n",
    "    n_vars = length(statespace.vars_str)\n",
    "    n_ops = length(statespace.neutral_op)\n",
    "    op_inds = collect(1:n_ops)\n",
    "    var_inds = collect(1:n_vars)\n",
    "    continuum_indexes = qspace.continuum_indexes\n",
    "    variable_indexes = qspace.where_by_continuum_var\n",
    "    for (w, c, vs)  in zip(where_defined, continuum_indexes, variable_indexes)\n",
    "        w_order = sortperm(w, rev=true)\n",
    "        for v in vs\n",
    "            var_inds[v] = var_inds[v][w_order]\n",
    "        end\n",
    "        op_inds[c] = op_inds[c][w_order]\n",
    "    end\n",
    "    return op_inds, var_inds\n",
    "end\n",
    "### FFunction\n",
    "function reorder(f::FAtom, var_index_order::Vector{Int})::FAtom\n",
    "    var_exponents = f.var_exponents[var_index_order]\n",
    "    return FAtom(copy(f.coeff), var_exponents)\n",
    "end\n",
    "function reorder(f::FSum, var_index_order::Vector{Int})::FSum\n",
    "    f.terms = [reorder(ff, var_index_order) for ff in f.terms]\n",
    "    return f\n",
    "end\n",
    "function reorder(f::FRational, var_index_order::Vector{Int})::FRational\n",
    "    f.numer = reorder(f.numer, var_index_order)\n",
    "    f.denom = reorder(f.denom, var_index_order)\n",
    "    return f\n",
    "end\n",
    "\n",
    "# qObj\n",
    "function reorder(q::qTerm, index_order::Vector{Int})::qTerm\n",
    "    op_indices = q.op_indices[index_order]\n",
    "    return qTerm(op_indices)\n",
    "end\n",
    "function reorder(q::qAtomProduct, add_at_sum::Bool,  where_defined::Vector{Vector{Bool}}, index_order::Vector{Int}, var_index_order::Vector{Int})::qAtomProduct\n",
    "    q.expr = [reorder(qq, index_order) for qq in q.expr]\n",
    "    q.coeff_fun = reorder(q.coeff_fun, var_index_order)\n",
    "    return q\n",
    "end\n",
    "function reorder(q::qExpr, add_at_sum::Bool, where_defined::Vector{Vector{Bool}}, index_order::Vector{Int}, var_index_order::Vector{Int})::qExpr\n",
    "    q.terms = [reorder(qq, add_at_sum, where_defined, index_order, var_index_order) for qq in q.terms]\n",
    "    return q\n",
    "end\n",
    "function reorder(q::T, add_at_sum::Bool, where_defined::Vector{Vector{Bool}}, index_order::Vector{Int}, var_index_order::Vector{Int})::T where T <: qComposite\n",
    "    q.expr = reorder(q.expr, add_at_sum, where_defined, index_order, var_index_order)\n",
    "    return q\n",
    "end\n",
    "function reorder(q::T, add_at_sum::Bool, where_defined::Vector{Vector{Bool}}, index_order::Vector{Int}, var_index_order::Vector{Int})::T where T <: qMultiComposite\n",
    "    q.expr = [reorder(qq, add_at_sum, where_defined, index_order, var_index_order) for qq in q.expr]\n",
    "    return q\n",
    "end\n",
    "function reorder(q::qSum, add_at_sum::Bool, where_defined::Vector{Vector{Bool}}, index_order::Vector{Int}, var_index_order::Vector{Int})::qSum\n",
    "    # define improved index_order and var_index_order\n",
    "    qspace = q.statespace\n",
    "    if add_at_sum\n",
    "        subsystem = q.subsystem_index \n",
    "        element_indexes = q.element_indexes\n",
    "        # check where subsystem is among qspace.where_continuum\n",
    "        outer_ind = findfirst(x -> x == subsystem, q.statespace.where_continuum)\n",
    "        if outer_ind == nothing\n",
    "            error(\"Subsystem $subsystem not found in qspace.subspace_by_ind!\")\n",
    "        end\n",
    "        if !all(where_defined[outer_ind][element_indexes] .== false)\n",
    "            error(\"Summation indexes already defined, cannot sum over defined indexes!\")\n",
    "        end\n",
    "        new_where_defined = deepcopy(where_defined)\n",
    "        new_where_defined[outer_ind][element_indexes] .= true\n",
    "        op_ind, var_inds = where_defined_to_index_order(q.statespace, new_where_defined)\n",
    "\n",
    "        # we need to change the other parameters of sum aswell determining what is summed over \n",
    "        #qspace.continuum_indexes, qspace.neutral_continuum_op \n",
    "        curr_subspace = qspace.subspaces[subsystem]\n",
    "        new_element_indexes::Vector{Int} = []\n",
    "        new_indexes::Vector{String} = []\n",
    "        for (i, element_index) in enumerate(element_indexes)\n",
    "            prev_index = curr_subspace.op_index_inds[element_index]\n",
    "            new_ind = findfirst(x -> x == prev_index, op_ind)\n",
    "            if new_ind == nothing\n",
    "                error(\"Not all element_indexes found in new indexing!\")\n",
    "            end\n",
    "            # find in subspace \n",
    "            new_subind = findfirst(x -> x == new_ind, curr_subspace.op_index_inds)\n",
    "            if new_subind == nothing\n",
    "                error(\"Not all element_indexes found in new indexing!\")\n",
    "            end\n",
    "            push!(new_element_indexes, new_subind)\n",
    "            push!(new_indexes, curr_subspace.keys[new_subind])\n",
    "        end\n",
    "        q.expr = reorder(q.expr, add_at_sum, new_where_defined, op_ind, var_inds)\n",
    "        q.indexes = new_indexes\n",
    "        q.element_indexes = new_element_indexes\n",
    "    else\n",
    "        q.expr = reorder(q.expr, add_at_sum, where_defined, index_order, var_index_order)\n",
    "    end\n",
    "    return q\n",
    "end\n",
    "function reorder!(q::diff_qEQ)::diff_qEQ\n",
    "    # check index order on left side \n",
    "    q = copy(q)#deepcopy(q)\n",
    "    where_defined_lhs = which_continuum_acting(q.left_hand_side)\n",
    "    op_inds, var_inds = where_defined_to_index_order(q.statespace, where_defined_lhs)\n",
    "    # check if op_inds is not sorted (i.e. not equal to 1:length(op_inds))\n",
    "    if op_inds != 1:length(op_inds) \n",
    "        # first we need to sort without changing at sums \n",
    "        left_hand_side = reorder(q.left_hand_side, false, where_defined_lhs, op_inds, var_inds)\n",
    "        # then expr \n",
    "        expr = reorder(q.expr, false, where_defined_lhs, op_inds, var_inds)\n",
    "        where_defined_lhs = which_continuum_acting(left_hand_side)\n",
    "        op_inds = collect(1:length(op_inds))\n",
    "        var_inds = collect(1:length(var_inds))\n",
    "        q = diff_qEQ(q.statespace, left_hand_side, expr, q.braket)\n",
    "    end\n",
    "    expr = reorder(q.expr, true, where_defined_lhs, op_inds, var_inds)\n",
    "    return diff_qEQ(q.statespace, q.left_hand_side, expr, q.braket)\n",
    "end\n",
    "# Test \n",
    "expr = neq(log(Sum(\"j\", alpha * A * yj + Sum(\"k\", beta * gamma_j * gamma_k * A * xj * xk))))\n",
    "dA_dt = d_dt(A, expr)\n",
    "dx_dt = substitute(A, xi, dA_dt)\n",
    "reorder!(dx_dt)\n"
   ]
  },
  {
   "cell_type": "code",
   "execution_count": 11,
   "metadata": {},
   "outputs": [
    {
     "data": {
      "text/plain": [
       "BenchmarkTools.Trial: 10000 samples with 1 evaluation per sample.\n",
       " Range \u001b[90m(\u001b[39m\u001b[36m\u001b[1mmin\u001b[22m\u001b[39m … \u001b[35mmax\u001b[39m\u001b[90m):  \u001b[39m\u001b[36m\u001b[1m14.083 μs\u001b[22m\u001b[39m … \u001b[35m 10.159 ms\u001b[39m  \u001b[90m┊\u001b[39m GC \u001b[90m(\u001b[39mmin … max\u001b[90m): \u001b[39m0.00% … 99.39%\n",
       " Time  \u001b[90m(\u001b[39m\u001b[34m\u001b[1mmedian\u001b[22m\u001b[39m\u001b[90m):     \u001b[39m\u001b[34m\u001b[1m14.916 μs               \u001b[22m\u001b[39m\u001b[90m┊\u001b[39m GC \u001b[90m(\u001b[39mmedian\u001b[90m):    \u001b[39m0.00%\n",
       " Time  \u001b[90m(\u001b[39m\u001b[32m\u001b[1mmean\u001b[22m\u001b[39m ± \u001b[32mσ\u001b[39m\u001b[90m):   \u001b[39m\u001b[32m\u001b[1m16.309 μs\u001b[22m\u001b[39m ± \u001b[32m101.449 μs\u001b[39m  \u001b[90m┊\u001b[39m GC \u001b[90m(\u001b[39mmean ± σ\u001b[90m):  \u001b[39m6.19% ±  0.99%\n",
       "\n",
       "  \u001b[39m \u001b[39m \u001b[39m \u001b[39m▃\u001b[39m▄\u001b[39m▇\u001b[39m█\u001b[34m▅\u001b[39m\u001b[39m▂\u001b[39m \u001b[39m \u001b[39m \u001b[39m \u001b[39m \u001b[39m \u001b[39m \u001b[39m \u001b[39m \u001b[39m \u001b[32m \u001b[39m\u001b[39m \u001b[39m \u001b[39m \u001b[39m \u001b[39m \u001b[39m \u001b[39m \u001b[39m \u001b[39m \u001b[39m \u001b[39m \u001b[39m \u001b[39m \u001b[39m \u001b[39m \u001b[39m \u001b[39m \u001b[39m \u001b[39m \u001b[39m \u001b[39m \u001b[39m \u001b[39m \u001b[39m \u001b[39m \u001b[39m \u001b[39m \u001b[39m \u001b[39m \u001b[39m \u001b[39m \u001b[39m \u001b[39m \u001b[39m \u001b[39m \u001b[39m \u001b[39m \u001b[39m \u001b[39m \u001b[39m \u001b[39m \u001b[39m \n",
       "  \u001b[39m▁\u001b[39m▂\u001b[39m▆\u001b[39m█\u001b[39m█\u001b[39m█\u001b[39m█\u001b[34m█\u001b[39m\u001b[39m█\u001b[39m▅\u001b[39m▆\u001b[39m▅\u001b[39m▄\u001b[39m▃\u001b[39m▂\u001b[39m▂\u001b[39m▂\u001b[39m▁\u001b[39m▂\u001b[32m▂\u001b[39m\u001b[39m▂\u001b[39m▂\u001b[39m▂\u001b[39m▂\u001b[39m▂\u001b[39m▁\u001b[39m▁\u001b[39m▂\u001b[39m▂\u001b[39m▁\u001b[39m▁\u001b[39m▁\u001b[39m▁\u001b[39m▁\u001b[39m▁\u001b[39m▁\u001b[39m▁\u001b[39m▁\u001b[39m▁\u001b[39m▁\u001b[39m▁\u001b[39m▁\u001b[39m▁\u001b[39m▁\u001b[39m▁\u001b[39m▁\u001b[39m▁\u001b[39m▁\u001b[39m▁\u001b[39m▁\u001b[39m▁\u001b[39m▁\u001b[39m▁\u001b[39m▁\u001b[39m▁\u001b[39m▁\u001b[39m▁\u001b[39m▁\u001b[39m▁\u001b[39m▁\u001b[39m \u001b[39m▂\n",
       "  14.1 μs\u001b[90m         Histogram: frequency by time\u001b[39m         21.1 μs \u001b[0m\u001b[1m<\u001b[22m\n",
       "\n",
       " Memory estimate\u001b[90m: \u001b[39m\u001b[33m29.48 KiB\u001b[39m, allocs estimate\u001b[90m: \u001b[39m\u001b[33m606\u001b[39m."
      ]
     },
     "metadata": {},
     "output_type": "display_data"
    }
   ],
   "source": [
    "@benchmark reorder!($dx_dt)"
   ]
  },
  {
   "cell_type": "code",
   "execution_count": null,
   "metadata": {},
   "outputs": [
    {
     "data": {
      "text/latex": [
       "$\\frac{\\text{d}  {\\hat{\\sigma}}^{x}_{i}}{\\text{d}t} = \\log\\left(-i\\alpha {\\hat{\\sigma}}^{z}_{i}+2\\beta(t)\\gamma_{i}² {\\hat{\\sigma}}^{x}_{i}+\\sum_{j}^{\\neq}\\left(\\alpha {\\hat{\\sigma}}^{x}_{i}{\\hat{\\sigma}}^{y}_{j}+\\beta(t)\\gamma_{j}² {\\hat{\\sigma}}^{x}_{i}+2\\beta(t)\\gamma_{i}\\gamma_{j} {\\hat{\\sigma}}^{x}_{j}\\right)+\\sum_{(j,k)}^{\\neq}\\beta(t)\\gamma_{j}\\gamma_{k} {\\hat{\\sigma}}^{x}_{i}{\\hat{\\sigma}}^{x}_{j}{\\hat{\\sigma}}^{x}_{k}\\right)$"
      ],
      "text/plain": [
       "d(σˣᵢ) / dt = log(-iασᶻᵢ+2β(t)γᵢ²σˣᵢ+∑ⱼ(ασˣᵢσʸⱼ+β(t)γⱼ²σˣᵢ+2β(t)γᵢγⱼσˣⱼ)+∑₍ⱼₖ₎β(t)γⱼγₖσˣᵢσˣⱼσˣₖ)"
      ]
     },
     "metadata": {},
     "output_type": "display_data"
    }
   ],
   "source": [
    "reorder!(dx_dt)"
   ]
  },
  {
   "cell_type": "code",
   "execution_count": 36,
   "metadata": {},
   "outputs": [
    {
     "name": "stdout",
     "output_type": "stream",
     "text": [
      "[2, 3, 5]\n",
      "3\n"
     ]
    }
   ],
   "source": [
    "function where_acting_index(q::qTerm, statespace::StateSpace)::Vector{Int}\n",
    "    return [i for (i, op) in enumerate(q.op_indices) if op!=statespace.neutral_op[i]]\n",
    "end\n",
    "# Order of qTerm \n",
    "function order(q::qTerm, statespace::StateSpace)::Int\n",
    "    # Determines the order of a qTerm operator \n",
    "    return sum(where_acting(q, statespace))\n",
    "end\n",
    "# Test \n",
    "q = (xi*b*yj).terms[1].expr[1]\n",
    "println(where_acting_index(q, qspace))\n",
    "println(order(q, qspace))"
   ]
  },
  {
   "cell_type": "code",
   "execution_count": 1,
   "metadata": {},
   "outputs": [
    {
     "data": {
      "text/plain": [
       "IndexedCumulant(3, IndexedProduct[IndexedProduct(1, [[1, 2, 3]]), IndexedProduct(-1, [[1, 2], [3]]), IndexedProduct(-1, [[1, 3], [2]]), IndexedProduct(-1, [[1], [2, 3]]), IndexedProduct(2, [[1], [2], [3]])])"
      ]
     },
     "metadata": {},
     "output_type": "display_data"
    }
   ],
   "source": [
    "# Define necessary Structs\n",
    "struct IndexedProduct\n",
    "    coeff::Int \n",
    "    indices::Vector{Vector{Int}}\n",
    "end\n",
    "struct IndexedCumulant\n",
    "    n::Int \n",
    "    cumulant::Vector{IndexedProduct}\n",
    "end \n",
    "import Base:-\n",
    "function -(a::IndexedProduct)::IndexedProduct \n",
    "    return IndexedProduct(-a.coeff, a.indices)\n",
    "end\n",
    "\n",
    "# Define Operations to Construct and Raise the Level of the Structs!\n",
    "function FirstIndexedCumulant(i::Int=1)\n",
    "    return IndexedCumulant(1, [IndexedProduct(1, [[i]])])\n",
    "end\n",
    "function raising_operator(new_op::Int, prev_product::IndexedProduct)::Vector{IndexedProduct}\n",
    "    # Raising operator is distributve with respect to products\n",
    "    # new_op | [i1, i2, i3] = [new_op, i1, i2, i3] - [i1, i2, i3] [new_op]\n",
    "    # new_op | [[A],[B],...] = [new_op | [A], new_op | [B], ...]\n",
    "    # The sum of applying itto each Vector{Int} in the product\n",
    "    n = length(prev_product.indices)\n",
    "    prev_coeff = prev_product.coeff\n",
    "\n",
    "    new_product::Vector{IndexedProduct} = []\n",
    "    for i in 1:length(prev_product.indices)\n",
    "        new_c = [ copy(v) for v in prev_product.indices ]\n",
    "        push!(new_c[i], new_op)\n",
    "        push!(new_product, IndexedProduct(prev_coeff, new_c))\n",
    "    end\n",
    "    c = [ copy(v) for v in prev_product.indices ]\n",
    "    push!(c, [new_op])\n",
    "    push!(new_product, IndexedProduct(-n*prev_coeff, c))\n",
    "    return new_product \n",
    "end\n",
    "\n",
    "function raising_operator(new_op::Int, prev_cumulant::IndexedCumulant)\n",
    "    # Raising operator is distributve with respect to products  \n",
    "    # and linear with respect to sum   \n",
    "    cumulant = prev_cumulant.cumulant\n",
    "    new_cumulant = raising_operator(new_op, cumulant[1]) \n",
    "    for i in 2:length(cumulant)\n",
    "        append!(new_cumulant, raising_operator(new_op, cumulant[i]))\n",
    "    end\n",
    "    return IndexedCumulant(prev_cumulant.n+1, new_cumulant)\n",
    "end\n",
    "function IndexedCumulant(order::Int)\n",
    "    if order == 0 \n",
    "        error(\"Order must be greater than 0\")\n",
    "    end\n",
    "    cum = FirstIndexedCumulant()\n",
    "    for i in 2:order\n",
    "        cum = raising_operator(i, cum)\n",
    "    end\n",
    "    return cum\n",
    "end\n",
    "# Test \n",
    "cum = IndexedCumulant(3)"
   ]
  },
  {
   "cell_type": "code",
   "execution_count": 2,
   "metadata": {},
   "outputs": [
    {
     "data": {
      "text/plain": [
       "Reduced_IndexedCumulant(IndexedProduct(1, [[1, 2, 3]]), IndexedProduct[IndexedProduct(1, [[1, 2], [3]]), IndexedProduct(1, [[1, 3], [2]]), IndexedProduct(1, [[1], [2, 3]]), IndexedProduct(-2, [[1], [2], [3]])])"
      ]
     },
     "metadata": {},
     "output_type": "display_data"
    }
   ],
   "source": [
    "struct Reduced_IndexedCumulant\n",
    "    operator::IndexedProduct\n",
    "    aproximation::Vector{IndexedProduct}\n",
    "end\n",
    "function Reduced_IndexedCumulant(order::Int)\n",
    "    full_cumulant = IndexedCumulant(order)\n",
    "    operator = full_cumulant.cumulant[1]\n",
    "    aproximation = .-full_cumulant.cumulant[2:end]\n",
    "    return Reduced_IndexedCumulant(operator, aproximation)\n",
    "end\n",
    "# Test \n",
    "cum = Reduced_IndexedCumulant(3)"
   ]
  },
  {
   "cell_type": "code",
   "execution_count": null,
   "metadata": {},
   "outputs": [],
   "source": [
    "struct qCumulant <:qComposite  # Must be qComposite to be in qExpr's\n",
    "    statespace::StateSpace\n",
    "    atom::qAtom\n",
    "    expr_::qExpr\n",
    "    order::Int\n",
    "    where_acting::Vector{Int}\n",
    "end\n"
   ]
  },
  {
   "cell_type": "code",
   "execution_count": null,
   "metadata": {},
   "outputs": [],
   "source": []
  },
  {
   "cell_type": "code",
   "execution_count": null,
   "metadata": {},
   "outputs": [],
   "source": []
  },
  {
   "cell_type": "code",
   "execution_count": 35,
   "metadata": {},
   "outputs": [],
   "source": [
    "# Add commulants \n",
    "\n",
    "# Add Equation Set\n",
    "# Add Equation Set to Indexed Equation Set with indexed  \n",
    "\n",
    "# add index version of qAtomProduct.\n",
    "# add evaluate \n",
    "\n",
    "# add distribution sampling \n",
    "\n",
    "# change do_sigma to custom symbols "
   ]
  },
  {
   "cell_type": "code",
   "execution_count": null,
   "metadata": {},
   "outputs": [],
   "source": []
  },
  {
   "cell_type": "code",
   "execution_count": 9,
   "metadata": {},
   "outputs": [
    {
     "data": {
      "text/latex": [
       "$\\left[ \\hat{z}_{j}+\\sum_{i}^{=}i\\alpha \\hat{p}_{h}\\hat{z}_{i},\\, \\hat{z}_{h}\\right]$"
      ],
      "text/plain": [
       "[zⱼ+∑ᵢ⁼iαpₕzᵢ, zₕ]"
      ]
     },
     "metadata": {},
     "output_type": "display_data"
    }
   ],
   "source": [
    "simplify(qCommutator(Sum(\"i\", alpha*ph*xi*yi) + zj,zh))"
   ]
  },
  {
   "cell_type": "code",
   "execution_count": 10,
   "metadata": {},
   "outputs": [
    {
     "data": {
      "text/latex": [
       "$ \\hat{z}_{h}+\\exp\\left( \\hat{z}_{j}+\\sum_{i}^{=}i\\alpha \\hat{p}_{h}\\hat{z}_{i}\\right)$"
      ],
      "text/plain": [
       "zₕ+exp(zⱼ+∑ᵢ⁼iαpₕzᵢ)"
      ]
     },
     "metadata": {},
     "output_type": "display_data"
    }
   ],
   "source": [
    "simplify(exp(Sum(\"i\", alpha*ph*xi*yi) + zj)+zh)"
   ]
  },
  {
   "cell_type": "code",
   "execution_count": 11,
   "metadata": {},
   "outputs": [
    {
     "data": {
      "text/latex": [
       "$\\log\\left( \\hat{z}_{j}+\\sum_{i}^{=}i\\alpha \\hat{p}_{h}\\hat{z}_{i}\\right)$"
      ],
      "text/plain": [
       "log(zⱼ+∑ᵢ⁼iαpₕzᵢ)"
      ]
     },
     "metadata": {},
     "output_type": "display_data"
    }
   ],
   "source": [
    "log(Sum(\"i\", alpha*ph*xi*yi) + zj)"
   ]
  },
  {
   "cell_type": "code",
   "execution_count": 12,
   "metadata": {},
   "outputs": [
    {
     "data": {
      "text/latex": [
       "$ \\hat{z}_{h}+\\left( \\hat{z}_{j}+\\sum_{i}^{=}i\\alpha \\hat{p}_{h}\\hat{z}_{i}\\right)^{2}$"
      ],
      "text/plain": [
       "zₕ+(zⱼ+∑ᵢ⁼iαpₕzᵢ)²"
      ]
     },
     "metadata": {},
     "output_type": "display_data"
    }
   ],
   "source": [
    "simplify(power(Sum(\"i\", alpha*ph*xi*yi) + zj,2)+zh)"
   ]
  },
  {
   "cell_type": "code",
   "execution_count": 13,
   "metadata": {},
   "outputs": [
    {
     "data": {
      "text/latex": [
       "$ \\hat{z}_{h}+\\sqrt{ \\hat{z}_{j}+\\sum_{i}^{=}i\\alpha \\hat{p}_{h}\\hat{z}_{i}}$"
      ],
      "text/plain": [
       "zₕ+(zⱼ+∑ᵢ⁼iαpₕzᵢ)⁼²"
      ]
     },
     "metadata": {},
     "output_type": "display_data"
    }
   ],
   "source": [
    "simplify(root(Sum(\"i\", alpha*ph*xi*yi) + zj,2)+zh)"
   ]
  },
  {
   "cell_type": "code",
   "execution_count": null,
   "metadata": {},
   "outputs": [],
   "source": []
  },
  {
   "cell_type": "code",
   "execution_count": null,
   "metadata": {},
   "outputs": [],
   "source": []
  },
  {
   "cell_type": "code",
   "execution_count": null,
   "metadata": {},
   "outputs": [],
   "source": []
  },
  {
   "cell_type": "code",
   "execution_count": null,
   "metadata": {},
   "outputs": [],
   "source": []
  }
 ],
 "metadata": {
  "kernelspec": {
   "display_name": "Julia 1.11.6",
   "language": "julia",
   "name": "julia-1.11"
  },
  "language_info": {
   "file_extension": ".jl",
   "mimetype": "application/julia",
   "name": "julia",
   "version": "1.11.6"
  }
 },
 "nbformat": 4,
 "nbformat_minor": 2
}
