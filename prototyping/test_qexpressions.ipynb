{
 "cells": [
  {
   "cell_type": "code",
   "execution_count": 1,
   "metadata": {},
   "outputs": [],
   "source": [
    "using Pkg \n",
    "Pkg.instantiate()\n",
    "using qAlgebra"
   ]
  },
  {
   "cell_type": "code",
   "execution_count": 2,
   "metadata": {},
   "outputs": [
    {
     "data": {
      "text/plain": [
       "StateSpace: [β(t), γᵢ, γⱼ, γₖ, δᵢ, δⱼ, δₖ, α]\n",
       "   - SubSpace [\"h\"]: PM Qubit (Fermionic):  pₚ, mₚ, zₚ, Iₚ (identity)\n",
       "   - SubSpace [\"i\", \"j\", \"k\"]: Pauli Qubit (Fermionic):  xₚ, yₚ, zₚ, Iₚ (identity)\n",
       "   - SubSpace [\"b\"]: Ladder (Bosonic):  p†, p\n",
       "   - Op: A\n",
       "   - Op: B(H,U)\n"
      ]
     },
     "metadata": {},
     "output_type": "display_data"
    }
   ],
   "source": [
    "qspace = StateSpace(\"alpha\", \"beta(t)\", \"gamma_i\", \"delta_i\", operators=[\"A(!i)\", \"B(U,H,i)\"], h=QubitPM(), i=(3, QubitPauli()), b=Ladder())"
   ]
  },
  {
   "cell_type": "code",
   "execution_count": 3,
   "metadata": {},
   "outputs": [
    {
     "data": {
      "text/latex": [
       "$ \\hat{A}$"
      ],
      "text/plain": [
       "A"
      ]
     },
     "metadata": {},
     "output_type": "display_data"
    }
   ],
   "source": [
    "var_dict, op_dict, abstract_dict = base_operators(qspace)\n",
    "alpha = base_operators(qspace, \"alpha\")\n",
    "ph, mh, zh = base_operators(qspace, \"h\", do_dict=false)\n",
    "xi,yi,zi, pi, mi = base_operators(qspace, \"i\", do_dict=false)\n",
    "xj, yj,zj = base_operators(qspace, \"j\")\n",
    "I = base_operators(qspace, \"I\")\n",
    "A = base_operators(qspace, \"A\")"
   ]
  },
  {
   "cell_type": "code",
   "execution_count": null,
   "metadata": {},
   "outputs": [],
   "source": [
    "xi*yi"
   ]
  },
  {
   "cell_type": "code",
   "execution_count": null,
   "metadata": {},
   "outputs": [],
   "source": [
    "alpha*ph*xi*yi "
   ]
  },
  {
   "cell_type": "code",
   "execution_count": null,
   "metadata": {},
   "outputs": [],
   "source": []
  },
  {
   "cell_type": "code",
   "execution_count": null,
   "metadata": {},
   "outputs": [],
   "source": [
    "var_dict, op_dict, abstract_dict = base_operators(qspace)\n",
    "op_dict"
   ]
  },
  {
   "cell_type": "code",
   "execution_count": null,
   "metadata": {},
   "outputs": [],
   "source": [
    "var_dict"
   ]
  },
  {
   "cell_type": "code",
   "execution_count": null,
   "metadata": {},
   "outputs": [],
   "source": []
  },
  {
   "cell_type": "code",
   "execution_count": 3,
   "metadata": {},
   "outputs": [
    {
     "data": {
      "text/latex": [
       "$\\alpha \\hat{A}_2^{2}$"
      ],
      "text/plain": [
       "α*A₂²"
      ]
     },
     "metadata": {},
     "output_type": "display_data"
    }
   ],
   "source": [
    "A = base_operators(qspace, \"A_2\")\n",
    "alpha = base_operators(qspace, \"alpha\")\n",
    "A*alpha*A"
   ]
  },
  {
   "cell_type": "code",
   "execution_count": 4,
   "metadata": {},
   "outputs": [
    {
     "data": {
      "text/latex": [
       "$\\alpha³ \\hat{A}_2^{3}$"
      ],
      "text/plain": [
       "α³*A₂³"
      ]
     },
     "metadata": {},
     "output_type": "display_data"
    }
   ],
   "source": [
    "alpha^2*A^2*alpha*A"
   ]
  },
  {
   "cell_type": "code",
   "execution_count": null,
   "metadata": {},
   "outputs": [],
   "source": []
  },
  {
   "cell_type": "code",
   "execution_count": null,
   "metadata": {},
   "outputs": [],
   "source": []
  }
 ],
 "metadata": {
  "kernelspec": {
   "display_name": "Julia 1.11.5",
   "language": "julia",
   "name": "julia-1.11"
  },
  "language_info": {
   "file_extension": ".jl",
   "mimetype": "application/julia",
   "name": "julia",
   "version": "1.11.5"
  }
 },
 "nbformat": 4,
 "nbformat_minor": 2
}
