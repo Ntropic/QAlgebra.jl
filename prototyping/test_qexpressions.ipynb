{
 "cells": [
  {
   "cell_type": "code",
   "execution_count": 1,
   "metadata": {},
   "outputs": [
    {
     "name": "stderr",
     "output_type": "stream",
     "text": [
      "\u001b[92m\u001b[1mPrecompiling\u001b[22m\u001b[39m project...\n",
      "         \u001b[91m  ✗ \u001b[39mQAlgebra\n",
      "  0 dependencies successfully precompiled in 2 seconds. 7 already precompiled.\n",
      "\n",
      "The following 1 direct dependency failed to precompile:\n",
      "\n",
      "QAlgebra \n",
      "\n",
      "Failed to precompile QAlgebra [b9371e27-7e1d-48fa-b5f7-43d028413397] to \"/home/micha/.julia/compiled/v1.11/QAlgebra/jl_LjlbU9\".\n",
      "\u001b[91m\u001b[1mERROR: \u001b[22m\u001b[39mLoadError: UndefVarError: `qExpr` not defined in `QAlgebra.QExpressions`\n",
      "Stacktrace:\n",
      " [1] top-level scope\n",
      "\u001b[90m   @\u001b[39m \u001b[90m~/Documents/PhD/Research/Projects/QAlgebra.jl/src/QExpressionsOps/\u001b[39m\u001b[90m\u001b[4mQExpressions_functions.jl:5\u001b[24m\u001b[39m\n",
      " [2] \u001b[0m\u001b[1minclude\u001b[22m\u001b[0m\u001b[1m(\u001b[22m\u001b[90mx\u001b[39m::\u001b[0mString\u001b[0m\u001b[1m)\u001b[22m\n",
      "\u001b[90m   @\u001b[39m \u001b[35mQAlgebra.QExpressions\u001b[39m \u001b[90m~/Documents/PhD/Research/Projects/QAlgebra.jl/src/\u001b[39m\u001b[90m\u001b[4mQExpressions.jl:1\u001b[24m\u001b[39m\n",
      " [3] top-level scope\n",
      "\u001b[90m   @\u001b[39m \u001b[90m~/Documents/PhD/Research/Projects/QAlgebra.jl/src/\u001b[39m\u001b[90m\u001b[4mQExpressions.jl:301\u001b[24m\u001b[39m\n",
      " [4] \u001b[0m\u001b[1minclude\u001b[22m\u001b[0m\u001b[1m(\u001b[22m\u001b[90mx\u001b[39m::\u001b[0mString\u001b[0m\u001b[1m)\u001b[22m\n",
      "\u001b[90m   @\u001b[39m \u001b[35mQAlgebra\u001b[39m \u001b[90m~/Documents/PhD/Research/Projects/QAlgebra.jl/src/\u001b[39m\u001b[90m\u001b[4mQAlgebra.jl:1\u001b[24m\u001b[39m\n",
      " [5] top-level scope\n",
      "\u001b[90m   @\u001b[39m \u001b[90m~/Documents/PhD/Research/Projects/QAlgebra.jl/src/\u001b[39m\u001b[90m\u001b[4mQAlgebra.jl:59\u001b[24m\u001b[39m\n",
      " [6] top-level scope\n",
      "\u001b[90m   @\u001b[39m \u001b[90m\u001b[4mstdin:6\u001b[24m\u001b[39m\n",
      "in expression starting at /home/micha/Documents/PhD/Research/Projects/QAlgebra.jl/src/QExpressionsOps/QExpressions_functions.jl:5\n",
      "in expression starting at /home/micha/Documents/PhD/Research/Projects/QAlgebra.jl/src/QExpressions.jl:1\n",
      "in expression starting at /home/micha/Documents/PhD/Research/Projects/QAlgebra.jl/src/QAlgebra.jl:1\n",
      "in expression starting at stdin:\u001b[91m\u001b[1mERROR: \u001b[22m\u001b[39mLoadError: UndefVarError: `qExpr` not defined in `QAlgebra.QExpressions`\n",
      "Stacktrace:\n",
      " [1] top-level scope\n",
      "\u001b[90m   @\u001b[39m \u001b[90m~/Documents/PhD/Research/Projects/QAlgebra.jl/src/QExpressionsOps/\u001b[39m\u001b[90m\u001b[4mQExpressions_functions.jl:5\u001b[24m\u001b[39m\n",
      " [2] \u001b[0m\u001b[1minclude\u001b[22m\u001b[0m\u001b[1m(\u001b[22m\u001b[90mx\u001b[39m::\u001b[0mString\u001b[0m\u001b[1m)\u001b[22m\n",
      "\u001b[90m   @\u001b[39m \u001b[35mQAlgebra.QExpressions\u001b[39m \u001b[90m~/Documents/PhD/Research/Projects/QAlgebra.jl/src/\u001b[39m\u001b[90m\u001b[4mQExpressions.jl:1\u001b[24m\u001b[39m\n",
      " [3] top-level scope\n",
      "\u001b[90m   @\u001b[39m \u001b[90m~/Documents/PhD/Research/Projects/QAlgebra.jl/src/\u001b[39m\u001b[90m\u001b[4mQExpressions.jl:301\u001b[24m\u001b[39m\n",
      " [4] \u001b[0m\u001b[1minclude\u001b[22m\u001b[0m\u001b[1m(\u001b[22m\u001b[90mx\u001b[39m::\u001b[0mString\u001b[0m\u001b[1m)\u001b[22m\n",
      "\u001b[90m   @\u001b[39m \u001b[35mQAlgebra\u001b[39m \u001b[90m~/Documents/PhD/Research/Projects/QAlgebra.jl/src/\u001b[39m\u001b[90m\u001b[4mQAlgebra.jl:1\u001b[24m\u001b[39m\n",
      " [5] top-level scope\n",
      "\u001b[90m   @\u001b[39m \u001b[90m~/Documents/PhD/Research/Projects/QAlgebra.jl/src/\u001b[39m\u001b[90m\u001b[4mQAlgebra.jl:59\u001b[24m\u001b[39m\n",
      " [6] top-level scope\n",
      "\u001b[90m   @\u001b[39m \u001b[90m\u001b[4mstdin:6\u001b[24m\u001b[39m\n",
      "in expression starting at /home/micha/Documents/PhD/Research/Projects/QAlgebra.jl/src/QExpressionsOps/QExpressions_functions.jl:5\n",
      "in expression starting at /home/micha/Documents/PhD/Research/Projects/QAlgebra.jl/src/QExpressions.jl:1\n",
      "in expression starting at /home/micha/Documents/PhD/Research/Projects/QAlgebra.jl/src/QAlgebra.jl:1\n",
      "in expression starting at stdin:6\n"
     ]
    },
    {
     "ename": "ErrorException",
     "evalue": "Failed to precompile QAlgebra [b9371e27-7e1d-48fa-b5f7-43d028413397] to \"/home/micha/.julia/compiled/v1.11/QAlgebra/jl_zTurie\".",
     "output_type": "error",
     "traceback": [
      "Failed to precompile QAlgebra [b9371e27-7e1d-48fa-b5f7-43d028413397] to \"/home/micha/.julia/compiled/v1.11/QAlgebra/jl_zTurie\".\n",
      "\n",
      "Stacktrace:\n",
      "  [1] (::Base.var\"#1110#1111\"{Base.PkgId})()\n",
      "    @ Base ./loading.jl:2579\n",
      "  [2] mkpidlock(f::Base.var\"#1110#1111\"{Base.PkgId}, at::String, pid::Int32; kwopts::@Kwargs{stale_age::Int64, wait::Bool})\n",
      "    @ FileWatching.Pidfile /usr/share/julia/stdlib/v1.11/FileWatching/src/pidfile.jl:95\n",
      "  [3] eval\n",
      "    @ ./boot.jl:430 [inlined]\n",
      "  [4] include_string(mapexpr::typeof(REPL.softscope), mod::Module, code::String, filename::String)\n",
      "    @ Base ./loading.jl:2734\n",
      "  [5] #invokelatest#2\n",
      "    @ ./essentials.jl:1055 [inlined]\n",
      "  [6] invokelatest\n",
      "    @ ./essentials.jl:1052 [inlined]\n",
      "  [7] (::VSCodeServer.var\"#217#218\"{VSCodeServer.NotebookRunCellArguments, String})()\n",
      "    @ VSCodeServer ~/.vscode-oss/extensions/julialang.language-julia-1.149.2-universal/scripts/packages/VSCodeServer/src/serve_notebook.jl:24\n",
      "  [8] withpath(f::VSCodeServer.var\"#217#218\"{VSCodeServer.NotebookRunCellArguments, String}, path::String)\n",
      "    @ VSCodeServer ~/.vscode-oss/extensions/julialang.language-julia-1.149.2-universal/scripts/packages/VSCodeServer/src/repl.jl:276\n",
      "  [9] notebook_runcell_request(conn::VSCodeServer.JSONRPC.JSONRPCEndpoint{Base.PipeEndpoint, Base.PipeEndpoint, VSCodeServer.JSON.Serializations.StandardSerialization}, params::VSCodeServer.NotebookRunCellArguments, token::VSCodeServer.CancellationTokens.CancellationToken)\n",
      "    @ VSCodeServer ~/.vscode-oss/extensions/julialang.language-julia-1.149.2-universal/scripts/packages/VSCodeServer/src/serve_notebook.jl:13\n",
      " [10] dispatch_msg(x::VSCodeServer.JSONRPC.JSONRPCEndpoint{Base.PipeEndpoint, Base.PipeEndpoint, VSCodeServer.JSON.Serializations.StandardSerialization}, dispatcher::VSCodeServer.JSONRPC.MsgDispatcher, msg::VSCodeServer.JSONRPC.Request)\n",
      "    @ VSCodeServer.JSONRPC ~/.vscode-oss/extensions/julialang.language-julia-1.149.2-universal/scripts/packages/JSONRPC/src/typed.jl:68\n",
      " [11] serve_notebook(pipename::String, debugger_pipename::String, outputchannel_logger::Base.CoreLogging.SimpleLogger; error_handler::var\"#5#10\"{String})\n",
      "    @ VSCodeServer ~/.vscode-oss/extensions/julialang.language-julia-1.149.2-universal/scripts/packages/VSCodeServer/src/serve_notebook.jl:147\n",
      " [12] top-level scope\n",
      "    @ ~/.vscode-oss/extensions/julialang.language-julia-1.149.2-universal/scripts/notebook/notebook.jl:35"
     ]
    }
   ],
   "source": [
    "using Pkg \n",
    "Pkg.instantiate()\n",
    "using QAlgebra\n",
    "\n",
    "using BenchmarkTools"
   ]
  },
  {
   "cell_type": "code",
   "execution_count": 2,
   "metadata": {},
   "outputs": [
    {
     "ename": "UndefVarError",
     "evalue": "UndefVarError: `QubitPM` not defined in `Main`\nSuggestion: check for spelling errors or missing imports.",
     "output_type": "error",
     "traceback": [
      "UndefVarError: `QubitPM` not defined in `Main`\n",
      "Suggestion: check for spelling errors or missing imports.\n",
      "\n",
      "Stacktrace:\n",
      " [1] top-level scope\n",
      "   @ ~/Documents/PhD/Research/Projects/QAlgebra.jl/prototyping/jl_notebook_cell_df34fa98e69747e1a8f8a730347b8e2f_W1sZmlsZQ==.jl:1"
     ]
    }
   ],
   "source": [
    "qspace = StateSpace(\"alpha\", \"beta(t)\", \"gamma_i\", \"delta_i\", operators=[\"A(!i)\", \"B(U,H,i)\"], h=QubitPM(\"eta\"), i=(3, QubitPauli(\"sigma\")), b=Ladder())"
   ]
  },
  {
   "cell_type": "code",
   "execution_count": 3,
   "metadata": {},
   "outputs": [
    {
     "ename": "UndefVarError",
     "evalue": "UndefVarError: `base_operators` not defined in `Main`\nSuggestion: check for spelling errors or missing imports.",
     "output_type": "error",
     "traceback": [
      "UndefVarError: `base_operators` not defined in `Main`\n",
      "Suggestion: check for spelling errors or missing imports.\n",
      "\n",
      "Stacktrace:\n",
      " [1] top-level scope\n",
      "   @ ~/Documents/PhD/Research/Projects/QAlgebra.jl/prototyping/jl_notebook_cell_df34fa98e69747e1a8f8a730347b8e2f_W2sZmlsZQ==.jl:1"
     ]
    }
   ],
   "source": [
    "var_dict, op_dict, abstract_dict = base_operators(qspace)\n",
    "alpha = base_operators(qspace, \"alpha\")\n",
    "beta = base_operators(qspace, \"beta\")\n",
    "gamma_i, gamma_j, gamma_k = base_operators(qspace, \"gamma\", do_dict=false)\n",
    "ph, mh, zh = base_operators(qspace, \"h\", do_dict=false)\n",
    "xi,yi,zi, pi, mi = base_operators(qspace, \"i\", do_dict=false)\n",
    "xj, yj, zj, pj, mj = base_operators(qspace, \"j\", do_dict=false)\n",
    "xk, yk, zk, pk, mk = base_operators(qspace, \"k\", do_dict=false)\n",
    "b, n = base_operators(qspace, \"b\", do_dict=false)\n",
    "I = base_operators(qspace, \"I\")\n",
    "A = base_operators(qspace, \"A\")\n",
    "println(\"Done\")"
   ]
  },
  {
   "cell_type": "code",
   "execution_count": 4,
   "metadata": {},
   "outputs": [
    {
     "data": {
      "text/latex": [
       "$ \\hat{A}$"
      ],
      "text/plain": [
       "A"
      ]
     },
     "metadata": {},
     "output_type": "display_data"
    }
   ],
   "source": [
    "A = base_operators(qspace, \"A\", do_fun=true)\n",
    "A1 = base_operators(qspace, \"A_1\", do_fun=false)\n",
    "A = A()"
   ]
  },
  {
   "cell_type": "code",
   "execution_count": 5,
   "metadata": {},
   "outputs": [
    {
     "data": {
      "text/latex": [
       "$\\sum_{j}^{=}\\left(\\alpha {\\hat{\\sigma}}^{y}_{i}{\\hat{\\sigma}}^{y}_{j}+\\sum_{k}^{=}\\beta(t)\\alpha² {\\hat{\\sigma}}^{x}_{k}\\right)$"
      ],
      "text/plain": [
       "∑ⱼ⁼(ασʸᵢσʸⱼ+∑ₖ⁼β(t)α²σˣₖ)"
      ]
     },
     "metadata": {},
     "output_type": "display_data"
    }
   ],
   "source": [
    "Sum(\"j\", alpha * yi * yj + Sum(\"k\", beta * alpha^2 * xi * xi * xk))"
   ]
  },
  {
   "cell_type": "code",
   "execution_count": 6,
   "metadata": {},
   "outputs": [
    {
     "data": {
      "text/plain": [
       "BenchmarkTools.Trial: 10000 samples with 1 evaluation per sample.\n",
       " Range \u001b[90m(\u001b[39m\u001b[36m\u001b[1mmin\u001b[22m\u001b[39m … \u001b[35mmax\u001b[39m\u001b[90m):  \u001b[39m\u001b[36m\u001b[1m41.498 μs\u001b[22m\u001b[39m … \u001b[35m 16.635 ms\u001b[39m  \u001b[90m┊\u001b[39m GC \u001b[90m(\u001b[39mmin … max\u001b[90m): \u001b[39m0.00% … 99.06%\n",
       " Time  \u001b[90m(\u001b[39m\u001b[34m\u001b[1mmedian\u001b[22m\u001b[39m\u001b[90m):     \u001b[39m\u001b[34m\u001b[1m44.673 μs               \u001b[22m\u001b[39m\u001b[90m┊\u001b[39m GC \u001b[90m(\u001b[39mmedian\u001b[90m):    \u001b[39m0.00%\n",
       " Time  \u001b[90m(\u001b[39m\u001b[32m\u001b[1mmean\u001b[22m\u001b[39m ± \u001b[32mσ\u001b[39m\u001b[90m):   \u001b[39m\u001b[32m\u001b[1m49.392 μs\u001b[22m\u001b[39m ± \u001b[32m226.946 μs\u001b[39m  \u001b[90m┊\u001b[39m GC \u001b[90m(\u001b[39mmean ± σ\u001b[90m):  \u001b[39m6.45% ±  1.40%\n",
       "\n",
       "  \u001b[39m \u001b[39m▁\u001b[39m▅\u001b[39m█\u001b[39m█\u001b[39m█\u001b[34m▇\u001b[39m\u001b[39m▇\u001b[39m▆\u001b[39m▅\u001b[39m▄\u001b[39m▃\u001b[39m▃\u001b[39m▂\u001b[32m▂\u001b[39m\u001b[39m▂\u001b[39m▂\u001b[39m▂\u001b[39m▁\u001b[39m▂\u001b[39m▁\u001b[39m▁\u001b[39m▁\u001b[39m \u001b[39m \u001b[39m \u001b[39m \u001b[39m \u001b[39m \u001b[39m \u001b[39m \u001b[39m \u001b[39m \u001b[39m \u001b[39m \u001b[39m \u001b[39m \u001b[39m \u001b[39m \u001b[39m \u001b[39m \u001b[39m \u001b[39m \u001b[39m \u001b[39m \u001b[39m \u001b[39m \u001b[39m \u001b[39m \u001b[39m \u001b[39m \u001b[39m \u001b[39m \u001b[39m \u001b[39m \u001b[39m \u001b[39m \u001b[39m \u001b[39m \u001b[39m \u001b[39m \u001b[39m▃\n",
       "  \u001b[39m▇\u001b[39m█\u001b[39m█\u001b[39m█\u001b[39m█\u001b[39m█\u001b[34m█\u001b[39m\u001b[39m█\u001b[39m█\u001b[39m█\u001b[39m█\u001b[39m█\u001b[39m█\u001b[39m█\u001b[32m█\u001b[39m\u001b[39m█\u001b[39m█\u001b[39m█\u001b[39m█\u001b[39m█\u001b[39m█\u001b[39m█\u001b[39m█\u001b[39m█\u001b[39m█\u001b[39m█\u001b[39m█\u001b[39m▇\u001b[39m▇\u001b[39m▆\u001b[39m▆\u001b[39m▆\u001b[39m▆\u001b[39m▅\u001b[39m▅\u001b[39m▅\u001b[39m▅\u001b[39m▅\u001b[39m▃\u001b[39m▅\u001b[39m▅\u001b[39m▅\u001b[39m▅\u001b[39m▄\u001b[39m▅\u001b[39m▅\u001b[39m▅\u001b[39m▁\u001b[39m▅\u001b[39m▁\u001b[39m▃\u001b[39m▁\u001b[39m▅\u001b[39m▁\u001b[39m▃\u001b[39m▃\u001b[39m▃\u001b[39m▁\u001b[39m▁\u001b[39m▄\u001b[39m \u001b[39m█\n",
       "  41.5 μs\u001b[90m       \u001b[39m\u001b[90mHistogram: \u001b[39m\u001b[90m\u001b[1mlog(\u001b[22m\u001b[39m\u001b[90mfrequency\u001b[39m\u001b[90m\u001b[1m)\u001b[22m\u001b[39m\u001b[90m by time\u001b[39m        75 μs \u001b[0m\u001b[1m<\u001b[22m\n",
       "\n",
       " Memory estimate\u001b[90m: \u001b[39m\u001b[33m53.27 KiB\u001b[39m, allocs estimate\u001b[90m: \u001b[39m\u001b[33m822\u001b[39m."
      ]
     },
     "metadata": {},
     "output_type": "display_data"
    }
   ],
   "source": [
    "@benchmark Sum(\"j\", alpha * yi * yj + Sum(\"k\", beta * alpha^2 * xi * xj * xk))"
   ]
  },
  {
   "cell_type": "code",
   "execution_count": 7,
   "metadata": {},
   "outputs": [
    {
     "data": {
      "text/latex": [
       "$\\log\\left(\\alpha+2\\beta(t)\\gamma_{i}² {\\hat{\\sigma}}^{x}_{i}+\\sum_{j}^{\\neq}\\left(\\alpha {\\hat{\\sigma}}^{y}_{i}{\\hat{\\sigma}}^{y}_{j}+\\beta(t)\\gamma_{j}² {\\hat{\\sigma}}^{x}_{i}+\\beta(t)\\gamma_{i}\\gamma_{j} {\\hat{\\sigma}}^{x}_{j}\\right)+\\sum_{k}^{\\neq}\\beta(t)\\gamma_{i}\\gamma_{k} {\\hat{\\sigma}}^{x}_{k}+\\sum_{(j,k)}^{\\neq}\\beta(t)\\gamma_{j}\\gamma_{k} {\\hat{\\sigma}}^{x}_{i}{\\hat{\\sigma}}^{x}_{j}{\\hat{\\sigma}}^{x}_{k}\\right)$"
      ],
      "text/plain": [
       "log(α+2β(t)γᵢ²σˣᵢ+∑ⱼ(ασʸᵢσʸⱼ+β(t)γⱼ²σˣᵢ+β(t)γᵢγⱼσˣⱼ)+∑ₖβ(t)γᵢγₖσˣₖ+∑₍ⱼₖ₎β(t)γⱼγₖσˣᵢσˣⱼσˣₖ)"
      ]
     },
     "metadata": {},
     "output_type": "display_data"
    }
   ],
   "source": [
    "expr = neq(log(Sum(\"j\", alpha * yi * yj + Sum(\"k\", beta * gamma_j * gamma_k * xi * xj * xk))))"
   ]
  },
  {
   "cell_type": "code",
   "execution_count": 8,
   "metadata": {},
   "outputs": [
    {
     "data": {
      "text/latex": [
       "$\\frac{\\text{d}  {\\hat{\\sigma}}^{x}_{i}}{\\text{d}t} = \\log\\left(\\alpha+2\\beta(t)\\gamma_{i}² {\\hat{\\sigma}}^{x}_{i}+\\sum_{j}^{\\neq}\\left(\\alpha {\\hat{\\sigma}}^{y}_{i}{\\hat{\\sigma}}^{y}_{j}+\\beta(t)\\gamma_{j}² {\\hat{\\sigma}}^{x}_{i}+\\beta(t)\\gamma_{i}\\gamma_{j} {\\hat{\\sigma}}^{x}_{j}\\right)+\\sum_{k}^{\\neq}\\beta(t)\\gamma_{i}\\gamma_{k} {\\hat{\\sigma}}^{x}_{k}+\\sum_{(j,k)}^{\\neq}\\beta(t)\\gamma_{j}\\gamma_{k} {\\hat{\\sigma}}^{x}_{i}{\\hat{\\sigma}}^{x}_{j}{\\hat{\\sigma}}^{x}_{k}\\right)$"
      ],
      "text/plain": [
       "d(σˣᵢ) / dt = log(α+2β(t)γᵢ²σˣᵢ+∑ⱼ(ασʸᵢσʸⱼ+β(t)γⱼ²σˣᵢ+β(t)γᵢγⱼσˣⱼ)+∑ₖβ(t)γᵢγₖσˣₖ+∑₍ⱼₖ₎β(t)γⱼγₖσˣᵢσˣⱼσˣₖ)"
      ]
     },
     "metadata": {},
     "output_type": "display_data"
    }
   ],
   "source": [
    "d_dt(xi, expr)"
   ]
  },
  {
   "cell_type": "code",
   "execution_count": 9,
   "metadata": {},
   "outputs": [
    {
     "data": {
      "text/latex": [
       "$\\frac{\\text{d}  {\\hat{\\sigma}}^{x}_{i}}{\\text{d}t} = \\log\\left(-i\\alpha {\\hat{\\sigma}}^{z}_{i}+2\\beta(t)\\gamma_{i}² {\\hat{\\sigma}}^{x}_{i}+\\sum_{j}^{\\neq}\\left(\\alpha {\\hat{\\sigma}}^{x}_{i}{\\hat{\\sigma}}^{y}_{j}+\\beta(t)\\gamma_{j}² {\\hat{\\sigma}}^{x}_{i}+\\beta(t)\\gamma_{i}\\gamma_{j} {\\hat{\\sigma}}^{x}_{j}\\right)+\\sum_{k}^{\\neq}\\beta(t)\\gamma_{i}\\gamma_{k} {\\hat{\\sigma}}^{x}_{k}+\\sum_{(j,k)}^{\\neq}\\beta(t)\\gamma_{j}\\gamma_{k} {\\hat{\\sigma}}^{x}_{i}{\\hat{\\sigma}}^{x}_{j}{\\hat{\\sigma}}^{x}_{k}\\right)$"
      ],
      "text/plain": [
       "d(σˣᵢ) / dt = log(-iασᶻᵢ+2β(t)γᵢ²σˣᵢ+∑ⱼ(ασˣᵢσʸⱼ+β(t)γⱼ²σˣᵢ+β(t)γᵢγⱼσˣⱼ)+∑ₖβ(t)γᵢγₖσˣₖ+∑₍ⱼₖ₎β(t)γⱼγₖσˣᵢσˣⱼσˣₖ)"
      ]
     },
     "metadata": {},
     "output_type": "display_data"
    }
   ],
   "source": [
    "expr = neq(log(Sum(\"j\", alpha * A * yj + Sum(\"k\", beta * gamma_j * gamma_k * A * xj * xk))))\n",
    "dA_dt = d_dt(A, expr)\n",
    "dx_dt = substitute(A, xi, dA_dt)"
   ]
  },
  {
   "cell_type": "code",
   "execution_count": 10,
   "metadata": {},
   "outputs": [
    {
     "data": {
      "text/latex": [
       "$\\log\\left(\\alpha {\\hat{\\sigma}}^{y}_{i}\\hat{A}+2\\beta(t)\\gamma_{i}² {\\hat{\\sigma}}^{x}_{i}\\hat{A}{\\hat{\\sigma}}^{x}_{i}+\\sum_{j}^{\\neq}\\left(\\alpha {\\hat{\\sigma}}^{y}_{j}\\hat{A}+\\beta(t)\\gamma_{j}² {\\hat{\\sigma}}^{x}_{j}\\hat{A}{\\hat{\\sigma}}^{x}_{j}+\\beta(t)\\gamma_{i}\\gamma_{j} {\\hat{\\sigma}}^{x}_{j}\\hat{A}{\\hat{\\sigma}}^{x}_{i}\\right)+\\sum_{k}^{\\neq}\\beta(t)\\gamma_{i}\\gamma_{k} {\\hat{\\sigma}}^{x}_{i}\\hat{A}{\\hat{\\sigma}}^{x}_{k}+\\sum_{(j,k)}^{\\neq}\\beta(t)\\gamma_{j}\\gamma_{k} {\\hat{\\sigma}}^{x}_{j}\\hat{A}{\\hat{\\sigma}}^{x}_{k}\\right)$"
      ],
      "text/plain": [
       "log(ασʸᵢA+2β(t)γᵢ²σˣᵢAσˣᵢ+∑ⱼ(ασʸⱼA+β(t)γⱼ²σˣⱼAσˣⱼ+β(t)γᵢγⱼσˣⱼAσˣᵢ)+∑ₖβ(t)γᵢγₖσˣᵢAσˣₖ+∑₍ⱼₖ₎β(t)γⱼγₖσˣⱼAσˣₖ)"
      ]
     },
     "metadata": {},
     "output_type": "display_data"
    }
   ],
   "source": [
    "expr = neq(log(Sum(\"j\", alpha * A * yj + Sum(\"k\", beta * gamma_j * gamma_k * A * xj * xk))))"
   ]
  },
  {
   "cell_type": "code",
   "execution_count": 11,
   "metadata": {},
   "outputs": [
    {
     "data": {
      "text/plain": [
       "BenchmarkTools.Trial: 10000 samples with 1 evaluation per sample.\n",
       " Range \u001b[90m(\u001b[39m\u001b[36m\u001b[1mmin\u001b[22m\u001b[39m … \u001b[35mmax\u001b[39m\u001b[90m):  \u001b[39m\u001b[36m\u001b[1m133.198 μs\u001b[22m\u001b[39m … \u001b[35m 17.959 ms\u001b[39m  \u001b[90m┊\u001b[39m GC \u001b[90m(\u001b[39mmin … max\u001b[90m): \u001b[39m0.00% … 98.51%\n",
       " Time  \u001b[90m(\u001b[39m\u001b[34m\u001b[1mmedian\u001b[22m\u001b[39m\u001b[90m):     \u001b[39m\u001b[34m\u001b[1m140.843 μs               \u001b[22m\u001b[39m\u001b[90m┊\u001b[39m GC \u001b[90m(\u001b[39mmedian\u001b[90m):    \u001b[39m0.00%\n",
       " Time  \u001b[90m(\u001b[39m\u001b[32m\u001b[1mmean\u001b[22m\u001b[39m ± \u001b[32mσ\u001b[39m\u001b[90m):   \u001b[39m\u001b[32m\u001b[1m156.006 μs\u001b[22m\u001b[39m ± \u001b[32m344.451 μs\u001b[39m  \u001b[90m┊\u001b[39m GC \u001b[90m(\u001b[39mmean ± σ\u001b[90m):  \u001b[39m8.37% ±  4.58%\n",
       "\n",
       "  \u001b[39m \u001b[39m \u001b[39m \u001b[39m \u001b[39m \u001b[39m \u001b[39m▂\u001b[39m▆\u001b[39m█\u001b[39m▇\u001b[39m▅\u001b[34m▃\u001b[39m\u001b[39m \u001b[39m \u001b[39m \u001b[39m \u001b[39m \u001b[39m \u001b[39m \u001b[39m \u001b[39m \u001b[39m \u001b[39m \u001b[39m \u001b[39m \u001b[39m \u001b[39m \u001b[39m \u001b[39m \u001b[39m \u001b[39m \u001b[39m \u001b[39m \u001b[32m \u001b[39m\u001b[39m \u001b[39m \u001b[39m \u001b[39m \u001b[39m \u001b[39m \u001b[39m \u001b[39m \u001b[39m \u001b[39m \u001b[39m \u001b[39m \u001b[39m \u001b[39m \u001b[39m \u001b[39m \u001b[39m \u001b[39m \u001b[39m \u001b[39m \u001b[39m \u001b[39m \u001b[39m \u001b[39m \u001b[39m \u001b[39m \u001b[39m \u001b[39m \u001b[39m \n",
       "  \u001b[39m▁\u001b[39m▁\u001b[39m▁\u001b[39m▂\u001b[39m▃\u001b[39m▅\u001b[39m█\u001b[39m█\u001b[39m█\u001b[39m█\u001b[39m█\u001b[34m█\u001b[39m\u001b[39m█\u001b[39m▇\u001b[39m▆\u001b[39m▇\u001b[39m▇\u001b[39m▆\u001b[39m▆\u001b[39m▅\u001b[39m▄\u001b[39m▃\u001b[39m▃\u001b[39m▂\u001b[39m▂\u001b[39m▂\u001b[39m▂\u001b[39m▂\u001b[39m▂\u001b[39m▂\u001b[39m▁\u001b[39m▁\u001b[39m▁\u001b[32m▁\u001b[39m\u001b[39m▁\u001b[39m▁\u001b[39m▁\u001b[39m▁\u001b[39m▁\u001b[39m▁\u001b[39m▁\u001b[39m▁\u001b[39m▁\u001b[39m▁\u001b[39m▁\u001b[39m▁\u001b[39m▁\u001b[39m▁\u001b[39m▁\u001b[39m▁\u001b[39m▁\u001b[39m▁\u001b[39m▁\u001b[39m▁\u001b[39m▁\u001b[39m▁\u001b[39m▁\u001b[39m▁\u001b[39m▁\u001b[39m▁\u001b[39m▁\u001b[39m \u001b[39m▂\n",
       "  133 μs\u001b[90m           Histogram: frequency by time\u001b[39m          175 μs \u001b[0m\u001b[1m<\u001b[22m\n",
       "\n",
       " Memory estimate\u001b[90m: \u001b[39m\u001b[33m184.61 KiB\u001b[39m, allocs estimate\u001b[90m: \u001b[39m\u001b[33m2948\u001b[39m."
      ]
     },
     "metadata": {},
     "output_type": "display_data"
    }
   ],
   "source": [
    "@benchmark substitute(A, xi, dA_dt)"
   ]
  },
  {
   "cell_type": "code",
   "execution_count": 12,
   "metadata": {},
   "outputs": [
    {
     "data": {
      "text/plain": [
       "BenchmarkTools.Trial: 10000 samples with 1 evaluation per sample.\n",
       " Range \u001b[90m(\u001b[39m\u001b[36m\u001b[1mmin\u001b[22m\u001b[39m … \u001b[35mmax\u001b[39m\u001b[90m):  \u001b[39m\u001b[36m\u001b[1m117.539 μs\u001b[22m\u001b[39m … \u001b[35m 18.599 ms\u001b[39m  \u001b[90m┊\u001b[39m GC \u001b[90m(\u001b[39mmin … max\u001b[90m): \u001b[39m0.00% … 99.01%\n",
       " Time  \u001b[90m(\u001b[39m\u001b[34m\u001b[1mmedian\u001b[22m\u001b[39m\u001b[90m):     \u001b[39m\u001b[34m\u001b[1m127.047 μs               \u001b[22m\u001b[39m\u001b[90m┊\u001b[39m GC \u001b[90m(\u001b[39mmedian\u001b[90m):    \u001b[39m0.00%\n",
       " Time  \u001b[90m(\u001b[39m\u001b[32m\u001b[1mmean\u001b[22m\u001b[39m ± \u001b[32mσ\u001b[39m\u001b[90m):   \u001b[39m\u001b[32m\u001b[1m137.360 μs\u001b[22m\u001b[39m ± \u001b[32m315.019 μs\u001b[39m  \u001b[90m┊\u001b[39m GC \u001b[90m(\u001b[39mmean ± σ\u001b[90m):  \u001b[39m6.77% ±  3.49%\n",
       "\n",
       "  \u001b[39m \u001b[39m \u001b[39m \u001b[39m \u001b[39m \u001b[39m \u001b[39m \u001b[39m \u001b[39m \u001b[39m \u001b[39m▄\u001b[39m▆\u001b[39m█\u001b[39m█\u001b[39m▇\u001b[39m▆\u001b[39m▅\u001b[34m▄\u001b[39m\u001b[39m▄\u001b[39m▃\u001b[39m▃\u001b[39m▂\u001b[39m▁\u001b[39m \u001b[39m \u001b[39m \u001b[39m \u001b[39m \u001b[39m \u001b[39m \u001b[39m \u001b[39m \u001b[39m \u001b[39m \u001b[39m \u001b[32m \u001b[39m\u001b[39m \u001b[39m \u001b[39m \u001b[39m \u001b[39m \u001b[39m \u001b[39m \u001b[39m \u001b[39m \u001b[39m \u001b[39m \u001b[39m \u001b[39m \u001b[39m \u001b[39m \u001b[39m \u001b[39m \u001b[39m \u001b[39m \u001b[39m \u001b[39m \u001b[39m \u001b[39m \u001b[39m \u001b[39m \u001b[39m \u001b[39m \n",
       "  \u001b[39m▂\u001b[39m▁\u001b[39m▂\u001b[39m▂\u001b[39m▂\u001b[39m▂\u001b[39m▃\u001b[39m▃\u001b[39m▅\u001b[39m█\u001b[39m█\u001b[39m█\u001b[39m█\u001b[39m█\u001b[39m█\u001b[39m█\u001b[39m█\u001b[34m█\u001b[39m\u001b[39m█\u001b[39m█\u001b[39m█\u001b[39m█\u001b[39m█\u001b[39m█\u001b[39m▇\u001b[39m▅\u001b[39m▅\u001b[39m▅\u001b[39m▄\u001b[39m▄\u001b[39m▃\u001b[39m▃\u001b[39m▃\u001b[39m▃\u001b[39m▃\u001b[32m▂\u001b[39m\u001b[39m▂\u001b[39m▂\u001b[39m▂\u001b[39m▂\u001b[39m▂\u001b[39m▂\u001b[39m▂\u001b[39m▂\u001b[39m▂\u001b[39m▂\u001b[39m▂\u001b[39m▂\u001b[39m▁\u001b[39m▂\u001b[39m▂\u001b[39m▂\u001b[39m▂\u001b[39m▁\u001b[39m▂\u001b[39m▂\u001b[39m▂\u001b[39m▂\u001b[39m▁\u001b[39m▁\u001b[39m▂\u001b[39m \u001b[39m▄\n",
       "  118 μs\u001b[90m           Histogram: frequency by time\u001b[39m          153 μs \u001b[0m\u001b[1m<\u001b[22m\n",
       "\n",
       " Memory estimate\u001b[90m: \u001b[39m\u001b[33m140.41 KiB\u001b[39m, allocs estimate\u001b[90m: \u001b[39m\u001b[33m2224\u001b[39m."
      ]
     },
     "metadata": {},
     "output_type": "display_data"
    }
   ],
   "source": [
    "@benchmark d_dt(xi, neq(log(Sum(\"j\", alpha * xi  * yj + Sum(\"k\", beta * gamma_j * gamma_k * xi * xj * xk)))))"
   ]
  },
  {
   "cell_type": "code",
   "execution_count": 13,
   "metadata": {},
   "outputs": [
    {
     "name": "stdout",
     "output_type": "stream",
     "text": [
      "Before: true\n",
      "After:  false\n"
     ]
    }
   ],
   "source": [
    "println(\"Before: \", contains_abstract(expr)) \n",
    "println(\"After:  \", contains_abstract(substitute(A, xi, dA_dt)))"
   ]
  },
  {
   "cell_type": "code",
   "execution_count": 14,
   "metadata": {},
   "outputs": [
    {
     "data": {
      "text/plain": [
       "true"
      ]
     },
     "metadata": {},
     "output_type": "display_data"
    }
   ],
   "source": [
    "are_indexes_defined(dx_dt)"
   ]
  },
  {
   "cell_type": "code",
   "execution_count": 15,
   "metadata": {},
   "outputs": [
    {
     "data": {
      "text/latex": [
       "$\\frac{\\text{d}  {\\hat{\\sigma}}^{x}_{i}}{\\text{d}t} = \\log\\left(-i\\alpha {\\hat{\\sigma}}^{z}_{i}+2\\beta(t)\\gamma_{i}² {\\hat{\\sigma}}^{x}_{i}+\\sum_{j}^{\\neq}\\left(\\alpha {\\hat{\\sigma}}^{x}_{i}{\\hat{\\sigma}}^{y}_{j}+\\beta(t)\\gamma_{j}² {\\hat{\\sigma}}^{x}_{i}+2\\beta(t)\\gamma_{i}\\gamma_{j} {\\hat{\\sigma}}^{x}_{j}\\right)+\\sum_{(j,k)}^{\\neq}\\beta(t)\\gamma_{j}\\gamma_{k} {\\hat{\\sigma}}^{x}_{i}{\\hat{\\sigma}}^{x}_{j}{\\hat{\\sigma}}^{x}_{k}\\right)$"
      ],
      "text/plain": [
       "d(σˣᵢ) / dt = log(-iασᶻᵢ+2β(t)γᵢ²σˣᵢ+∑ⱼ(ασˣᵢσʸⱼ+β(t)γⱼ²σˣᵢ+2β(t)γᵢγⱼσˣⱼ)+∑₍ⱼₖ₎β(t)γⱼγₖσˣᵢσˣⱼσˣₖ)"
      ]
     },
     "metadata": {},
     "output_type": "display_data"
    }
   ],
   "source": [
    "expr = neq(log(Sum(\"j\", alpha * A * yj + Sum(\"k\", beta * gamma_j * gamma_k * A * xj * xk))))\n",
    "dA_dt = d_dt(A, expr)\n",
    "dx_dt = substitute(A, xi, dA_dt)\n",
    "reorder!(dx_dt)\n"
   ]
  },
  {
   "cell_type": "code",
   "execution_count": 16,
   "metadata": {},
   "outputs": [
    {
     "data": {
      "text/plain": [
       "BenchmarkTools.Trial: 10000 samples with 1 evaluation per sample.\n",
       " Range \u001b[90m(\u001b[39m\u001b[36m\u001b[1mmin\u001b[22m\u001b[39m … \u001b[35mmax\u001b[39m\u001b[90m):  \u001b[39m\u001b[36m\u001b[1m10.689 μs\u001b[22m\u001b[39m … \u001b[35m 14.801 ms\u001b[39m  \u001b[90m┊\u001b[39m GC \u001b[90m(\u001b[39mmin … max\u001b[90m): \u001b[39m 0.00% … 99.51%\n",
       " Time  \u001b[90m(\u001b[39m\u001b[34m\u001b[1mmedian\u001b[22m\u001b[39m\u001b[90m):     \u001b[39m\u001b[34m\u001b[1m12.042 μs               \u001b[22m\u001b[39m\u001b[90m┊\u001b[39m GC \u001b[90m(\u001b[39mmedian\u001b[90m):    \u001b[39m 0.00%\n",
       " Time  \u001b[90m(\u001b[39m\u001b[32m\u001b[1mmean\u001b[22m\u001b[39m ± \u001b[32mσ\u001b[39m\u001b[90m):   \u001b[39m\u001b[32m\u001b[1m13.799 μs\u001b[22m\u001b[39m ± \u001b[32m147.897 μs\u001b[39m  \u001b[90m┊\u001b[39m GC \u001b[90m(\u001b[39mmean ± σ\u001b[90m):  \u001b[39m10.67% ±  1.00%\n",
       "\n",
       "  \u001b[39m \u001b[39m \u001b[39m \u001b[39m \u001b[39m \u001b[39m▃\u001b[39m▃\u001b[39m▅\u001b[39m█\u001b[39m█\u001b[39m▇\u001b[39m▇\u001b[34m▅\u001b[39m\u001b[39m▄\u001b[39m▃\u001b[39m▃\u001b[39m▂\u001b[39m▁\u001b[39m \u001b[39m \u001b[39m \u001b[39m \u001b[39m \u001b[39m \u001b[39m \u001b[39m \u001b[39m \u001b[39m \u001b[32m \u001b[39m\u001b[39m \u001b[39m \u001b[39m \u001b[39m \u001b[39m \u001b[39m \u001b[39m \u001b[39m \u001b[39m \u001b[39m \u001b[39m \u001b[39m \u001b[39m \u001b[39m \u001b[39m \u001b[39m \u001b[39m \u001b[39m \u001b[39m \u001b[39m \u001b[39m \u001b[39m \u001b[39m \u001b[39m \u001b[39m \u001b[39m \u001b[39m \u001b[39m \u001b[39m \u001b[39m \u001b[39m \u001b[39m \u001b[39m \n",
       "  \u001b[39m▁\u001b[39m▂\u001b[39m▃\u001b[39m▅\u001b[39m█\u001b[39m█\u001b[39m█\u001b[39m█\u001b[39m█\u001b[39m█\u001b[39m█\u001b[39m█\u001b[34m█\u001b[39m\u001b[39m█\u001b[39m█\u001b[39m█\u001b[39m█\u001b[39m█\u001b[39m▇\u001b[39m▆\u001b[39m▆\u001b[39m▆\u001b[39m▅\u001b[39m▄\u001b[39m▃\u001b[39m▃\u001b[39m▂\u001b[39m▂\u001b[32m▂\u001b[39m\u001b[39m▂\u001b[39m▂\u001b[39m▂\u001b[39m▁\u001b[39m▁\u001b[39m▁\u001b[39m▁\u001b[39m▁\u001b[39m▁\u001b[39m▁\u001b[39m▁\u001b[39m▁\u001b[39m▁\u001b[39m▁\u001b[39m▁\u001b[39m▁\u001b[39m▁\u001b[39m▁\u001b[39m▁\u001b[39m▁\u001b[39m▁\u001b[39m▁\u001b[39m▁\u001b[39m▁\u001b[39m▁\u001b[39m▁\u001b[39m▁\u001b[39m▁\u001b[39m▁\u001b[39m▁\u001b[39m▁\u001b[39m \u001b[39m▃\n",
       "  10.7 μs\u001b[90m         Histogram: frequency by time\u001b[39m         17.4 μs \u001b[0m\u001b[1m<\u001b[22m\n",
       "\n",
       " Memory estimate\u001b[90m: \u001b[39m\u001b[33m29.48 KiB\u001b[39m, allocs estimate\u001b[90m: \u001b[39m\u001b[33m606\u001b[39m."
      ]
     },
     "metadata": {},
     "output_type": "display_data"
    }
   ],
   "source": [
    "@benchmark reorder!($dx_dt)"
   ]
  },
  {
   "cell_type": "code",
   "execution_count": 17,
   "metadata": {},
   "outputs": [
    {
     "data": {
      "text/latex": [
       "$\\frac{\\text{d}  {\\hat{\\sigma}}^{x}_{i}}{\\text{d}t} = \\log\\left(-i\\alpha {\\hat{\\sigma}}^{z}_{i}+2\\beta(t)\\gamma_{i}² {\\hat{\\sigma}}^{x}_{i}+\\sum_{j}^{\\neq}\\left(\\alpha {\\hat{\\sigma}}^{x}_{i}{\\hat{\\sigma}}^{y}_{j}+\\beta(t)\\gamma_{j}² {\\hat{\\sigma}}^{x}_{i}+2\\beta(t)\\gamma_{i}\\gamma_{j} {\\hat{\\sigma}}^{x}_{j}\\right)+\\sum_{(j,k)}^{\\neq}\\beta(t)\\gamma_{j}\\gamma_{k} {\\hat{\\sigma}}^{x}_{i}{\\hat{\\sigma}}^{x}_{j}{\\hat{\\sigma}}^{x}_{k}\\right)$"
      ],
      "text/plain": [
       "d(σˣᵢ) / dt = log(-iασᶻᵢ+2β(t)γᵢ²σˣᵢ+∑ⱼ(ασˣᵢσʸⱼ+β(t)γⱼ²σˣᵢ+2β(t)γᵢγⱼσˣⱼ)+∑₍ⱼₖ₎β(t)γⱼγₖσˣᵢσˣⱼσˣₖ)"
      ]
     },
     "metadata": {},
     "output_type": "display_data"
    }
   ],
   "source": [
    "reorder!(dx_dt)"
   ]
  },
  {
   "cell_type": "code",
   "execution_count": 18,
   "metadata": {},
   "outputs": [],
   "source": []
  },
  {
   "cell_type": "code",
   "execution_count": 19,
   "metadata": {},
   "outputs": [
    {
     "data": {
      "text/plain": [
       "IndexedCumulant:  + <1,2,3> - <1,2><3> - <1,3><2> - <1><2,3> +2 <1><2><3>"
      ]
     },
     "metadata": {},
     "output_type": "display_data"
    }
   ],
   "source": [
    "import Base: show, string \n",
    "function signed_int_string(i::Int)::String\n",
    "    if i < -1\n",
    "        return \" -\" * string(-i)* \" \"\n",
    "    elseif i == -1\n",
    "        return \" - \"  \n",
    "    elseif i == 0\n",
    "        return \" +0\" \n",
    "    elseif i == 1\n",
    "        return \" + \" \n",
    "    else\n",
    "        return \" +\" * string(i)* \" \"\n",
    "    end\n",
    "end\n",
    "function intvec_to_braket(is::Vector{Int})::String\n",
    "    return string(\"<\", join(is, \",\"), \">\")\n",
    "end\n",
    "\n",
    "# Define necessary Structs\n",
    "struct IndexedProduct\n",
    "    coeff::Int \n",
    "    indices::Vector{Vector{Int}}\n",
    "end\n",
    "\n",
    "function string(ind_prod::IndexedProduct)::String\n",
    "    return signed_int_string(ind_prod.coeff)*join(intvec_to_braket.(ind_prod.indices),\"\")\n",
    "end\n",
    "function show(io::IO, ind_prod::IndexedProduct)\n",
    "    print(io, \"IndexedProduct: \", string(ind_prod))\n",
    "end\n",
    "\n",
    "struct IndexedCumulant\n",
    "    n::Int \n",
    "    cumulant::Vector{IndexedProduct}\n",
    "end \n",
    "function string(ind_cum::IndexedCumulant)::String\n",
    "    return join(string.(ind_cum.cumulant), \"\")\n",
    "end\n",
    "function show(io::IO, ind_cum::IndexedCumulant)\n",
    "    print(io, \"IndexedCumulant: \", string(ind_cum))\n",
    "end\n",
    "\n",
    "import Base:-\n",
    "function -(a::IndexedProduct)::IndexedProduct \n",
    "    return IndexedProduct(-a.coeff, a.indices)\n",
    "end\n",
    "\n",
    "# Define Operations to Construct and Raise the Level of the Structs!\n",
    "function FirstIndexedCumulant(i::Int=1)\n",
    "    return IndexedCumulant(1, [IndexedProduct(1, [[i]])])\n",
    "end\n",
    "function raising_operator(new_op::Int, prev_product::IndexedProduct)::Vector{IndexedProduct}\n",
    "    # Raising operator is distributve with respect to products\n",
    "    # new_op | [i1, i2, i3] = [new_op, i1, i2, i3] - [i1, i2, i3] [new_op]\n",
    "    # new_op | [[A],[B],...] = [new_op | [A], new_op | [B], ...]\n",
    "    # The sum of applying itto each Vector{Int} in the product\n",
    "    n = length(prev_product.indices)\n",
    "    prev_coeff = prev_product.coeff\n",
    "\n",
    "    new_product::Vector{IndexedProduct} = []\n",
    "    for i in 1:length(prev_product.indices)\n",
    "        new_c = [ copy(v) for v in prev_product.indices ]\n",
    "        push!(new_c[i], new_op)\n",
    "        push!(new_product, IndexedProduct(prev_coeff, new_c))\n",
    "    end\n",
    "    c = [ copy(v) for v in prev_product.indices ]\n",
    "    push!(c, [new_op])\n",
    "    push!(new_product, IndexedProduct(-n*prev_coeff, c))\n",
    "    return new_product \n",
    "end\n",
    "\n",
    "function raising_operator(new_op::Int, prev_cumulant::IndexedCumulant)\n",
    "    # Raising operator is distributve with respect to products  \n",
    "    # and linear with respect to sum   \n",
    "    cumulant = prev_cumulant.cumulant\n",
    "    new_cumulant = raising_operator(new_op, cumulant[1]) \n",
    "    for i in 2:length(cumulant)\n",
    "        append!(new_cumulant, raising_operator(new_op, cumulant[i]))\n",
    "    end\n",
    "    return IndexedCumulant(prev_cumulant.n+1, new_cumulant)\n",
    "end\n",
    "function IndexedCumulant(order::Int)\n",
    "    if order == 0 \n",
    "        error(\"Order must be greater than 0\")\n",
    "    end\n",
    "    cum = FirstIndexedCumulant()\n",
    "    for i in 2:order\n",
    "        cum = raising_operator(i, cum)\n",
    "    end\n",
    "    return cum\n",
    "end\n",
    "# Test \n",
    "cum = IndexedCumulant(3)"
   ]
  },
  {
   "cell_type": "code",
   "execution_count": 20,
   "metadata": {},
   "outputs": [
    {
     "data": {
      "text/plain": [
       "ReducedIndexedCumulant:  + <1,2,3> ≈  + <1,2><3> + <1,3><2> + <1><2,3> -2 <1><2><3>"
      ]
     },
     "metadata": {},
     "output_type": "display_data"
    }
   ],
   "source": [
    "struct ReducedIndexedCumulant\n",
    "    operator::IndexedProduct\n",
    "    approximation::Vector{IndexedProduct}\n",
    "end\n",
    "function ReducedIndexedCumulant(order::Int)\n",
    "    full_cumulant = IndexedCumulant(order)\n",
    "    operator = full_cumulant.cumulant[1]\n",
    "    approximation = .-full_cumulant.cumulant[2:end]\n",
    "    return ReducedIndexedCumulant(operator, approximation)\n",
    "end\n",
    "function string(cumulant_list::ReducedIndexedCumulant)\n",
    "    return string(cumulant_list.operator) * \" ≈ \" * join(string.(cumulant_list.approximation), \"\")\n",
    "end\n",
    "function show(io::IO, cumulant_list::ReducedIndexedCumulant)\n",
    "    print(io, \"ReducedIndexedCumulant: \", string(cumulant_list))\n",
    "end\n",
    "# Test \n",
    "ReducedIndexedCumulant(3)"
   ]
  },
  {
   "cell_type": "code",
   "execution_count": 21,
   "metadata": {},
   "outputs": [
    {
     "data": {
      "text/plain": [
       "ReducedCumulantList with curr_order = 3\n",
       " + <1> ≈ \n",
       " + <1,2> ≈  + <1><2>\n",
       " + <1,2,3> ≈  + <1,2><3> + <1,3><2> + <1><2,3> -2 <1><2><3>"
      ]
     },
     "metadata": {},
     "output_type": "display_data"
    }
   ],
   "source": [
    "# Create Cumulant list \n",
    "mutable struct ReducedCumulantList\n",
    "    curr_order::Int\n",
    "    max_order::Int\n",
    "    last_cumulant::IndexedCumulant\n",
    "    reduced_cumulants::Vector{ReducedIndexedCumulant}\n",
    "end\n",
    "function string(cumulant_list::ReducedCumulantList)\n",
    "    return join(string.(cumulant_list.reduced_cumulants), \"\\n\")\n",
    "end\n",
    "function show(io::IO, cumulant_list::ReducedCumulantList)\n",
    "    print(io, \"ReducedCumulantList with curr_order = \", cumulant_list.curr_order, \"\\n\", string(cumulant_list))\n",
    "\n",
    "end\n",
    "\n",
    "\n",
    "function ReducedCumulantList(curr_order::Int=1;max_order::Int=10^12)\n",
    "    if curr_order > max_order\n",
    "        error(\"Current order must be less than or equal to max order\")\n",
    "    end\n",
    "    if curr_order > 0 \n",
    "        reduced_cumulants::Vector{ReducedIndexedCumulant} = []\n",
    "        full_cumulant = FirstIndexedCumulant()\n",
    "        operator = full_cumulant.cumulant[1]\n",
    "        approximation = .-full_cumulant.cumulant[2:end]\n",
    "        push!(reduced_cumulants, ReducedIndexedCumulant(operator, approximation))\n",
    "        for i in 2:curr_order\n",
    "            full_cumulant = raising_operator(i, full_cumulant)\n",
    "            operator = full_cumulant.cumulant[1]\n",
    "            approximation = .-full_cumulant.cumulant[2:end]\n",
    "            push!(reduced_cumulants, ReducedIndexedCumulant(operator, approximation))\n",
    "        end\n",
    "        return ReducedCumulantList(curr_order, max_order, full_cumulant, reduced_cumulants)\n",
    "    else\n",
    "        error(\"Current order must be greater than 0\")\n",
    "    end\n",
    "end\n",
    "# Access as a function i.e. reduced_cumulant_list(3) gives the 3rd order cumulant and if necessary constructs it up to that order\n",
    "function (cumulant_list::ReducedCumulantList)(order::Int)\n",
    "    if order > cumulant_list.curr_order\n",
    "        expand_cumulant_list!(cumulant_list, order)\n",
    "    end\n",
    "    return cumulant_list.reduced_cumulants[order]\n",
    "end\n",
    "\n",
    "function expand_cumulant_list!(cumulant_list::ReducedCumulantList, order::Int)::Nothing\n",
    "    if order > cumulant_list.max_order\n",
    "        error(\"Order must be less than or equal to max_order\")\n",
    "    end\n",
    "    if order <= cumulant_list.curr_order\n",
    "        warning(\"Order can only be increased if target order is greater than current order\")\n",
    "        return\n",
    "    end\n",
    "    full_cumulant = cumulant_list.last_cumulant\n",
    "    for i in cumulant_list.curr_order+1:order\n",
    "        full_cumulant = raising_operator(i, full_cumulant)\n",
    "        operator = full_cumulant.cumulant[1]\n",
    "        approximation = .-full_cumulant.cumulant[2:end]\n",
    "        push!(cumulant_list.reduced_cumulants, ReducedIndexedCumulant(operator, approximation))\n",
    "    end\n",
    "    cumulant_list.curr_order = order\n",
    "    cumulant_list.last_cumulant = full_cumulant\n",
    "    return\n",
    "end\n",
    "\n",
    "# Test \n",
    "red_cum = ReducedCumulantList(2)\n",
    "red_cum(3)\n",
    "red_cum"
   ]
  },
  {
   "cell_type": "code",
   "execution_count": 22,
   "metadata": {},
   "outputs": [
    {
     "name": "stdout",
     "output_type": "stream",
     "text": [
      "[2, 3, 5]\n",
      "3\n"
     ]
    }
   ],
   "source": [
    "function where_acting_index(q::QTerm, statespace::StateSpace)::Vector{Int}\n",
    "    return [i for (i, op) in enumerate(q.op_indices) if op!=statespace.neutral_op[i]]\n",
    "end\n",
    "# Order of QTerm \n",
    "function order(q::QTerm, statespace::StateSpace)::Int\n",
    "    # Determines the order of a QTerm operator \n",
    "    return length(where_acting_index(q, statespace))\n",
    "end\n",
    "# Test \n",
    "q = (xi*b*yj).terms[1].expr[1]\n",
    "println(where_acting_index(q, qspace))\n",
    "println(order(q, qspace))"
   ]
  },
  {
   "cell_type": "code",
   "execution_count": null,
   "metadata": {},
   "outputs": [],
   "source": [
    "struct QCumulant <:QComposite  # Must be QComposite to be in QExpr's\n",
    "    statespace::StateSpace\n",
    "    atom::QAtom\n",
    "    expr_::QExpr\n",
    "    order::Int\n",
    "    where_acting::Vector{Int}\n",
    "end"
   ]
  },
  {
   "cell_type": "code",
   "execution_count": null,
   "metadata": {},
   "outputs": [
    {
     "data": {
      "text/plain": [
       "_Cumulant (generic function with 1 method)"
      ]
     },
     "metadata": {},
     "output_type": "display_data"
    }
   ],
   "source": [
    "Is = Union{Int,Vector{Int}}\n",
    "function replace_indexes(neutral_op::Vector{Is}, curr_op_indexes::Vector{Is}, indexes::Vector{Int}) \n",
    "    new_op = copy(neutral_op)\n",
    "    for ind in indexes\n",
    "        new_op[ind] = copy(curr_op_indexes[ind])\n",
    "    end\n",
    "    return new_op\n",
    "end\n",
    "\n",
    "# Add conspiracies later!\n",
    "function Cumulant(qprod::QAtomProduct)\n",
    "    if length(qprod.terms) != 1\n",
    "        error(\"Cumulant only defined for single QAtom in QAtomProduct\")\n",
    "    end\n",
    "    return Cumulant(qprod.coeff_fun, qprod.terms[1].expr[1], qprod.statespace)\n",
    "end\n",
    "function Cumulant(q::QAbstract, statespace::StateSpace, kwargs...)::QCumulant\n",
    "    error(\"Cumulant not defined for qAbstract!\")\n",
    "end\n",
    "function Cumulant(coeff_fun::FFunction, atom::QTerm, statespace::StateSpace)::QCumulant\n",
    "    where_acting = where_acting_index(atom, statespace)\n",
    "    order = length(where_acting)\n",
    "    red_cum = ReducedIndexedCumulant(order)\n",
    "    return _Cumulant(coeff_fun, atom, statespace, order, where_acting, red_cum)\n",
    "end\n",
    "\n",
    "function Cumulant(qprod::QAtomProduct, red_cum_list::ReducedCumulantList)::QCumulant\n",
    "    if length(qprod.terms) != 1\n",
    "        error(\"Cumulant only defined for single QAtom in QAtomProduct\")\n",
    "    end\n",
    "    return Cumulant(qprod.coeff_fun, qprod.terms[1].expr[1], qprod.statespace, red_cum_list)\n",
    "end\n",
    "function Cumulant(coeff_fun::FFunction, atom::QTerm, statespace::StateSpace, red_cum_list::ReducedCumulantList)\n",
    "    where_acting = where_acting_index(atom, statespace)\n",
    "    order = length(where_acting)\n",
    "    return _Cumulant(coeff_fun, atom, statespace, order, where_acting, red_cum_list(order))\n",
    "end\n",
    "\n",
    "@inline function _Cumulant(coeff_fun::FFunction, atom::QTerm, statespace::StateSpace, order::Int, where_acting::Vector{Int}, red_cum::ReducedIndexedCumulant)::QCumulant\n",
    "    curr_op_indexes = atom.op_indices\n",
    "    neutral_op = statespace.neutral_op\n",
    "    # create indexed cumulant to this order \n",
    "    # create QExpr from this \n",
    "    qexpr::Vector{qComposite} = Vector{qComposite}(undef, length(red_cum.approximation))\n",
    "    for (j, app) in enumerate(red_cum.approximation)\n",
    "        # create qTerm from app, where acting and atom \n",
    "        coeff = app.coeff\n",
    "        indexes = app.indices\n",
    "        curr_atoms = Vector{QTerm}(undef, length(indexes))\n",
    "        # replace indexes from neutral with tthose in qterm \n",
    "        for (i, ind) in enumerate(indexes)\n",
    "            curr_atoms[i] = QTerm(neutral_op, replace_indexes(neutral_op, curr_op_indexes, ind))\n",
    "        end\n",
    "        qexpr[j] = QAtomProduct(curr_atoms, coeff_fun*coeff, statespace)\n",
    "    end\n",
    "    return QCumulant(statespace, copy(atom), qexpr, order, where_acting)\n",
    "end\n",
    "\n"
   ]
  },
  {
   "cell_type": "code",
   "execution_count": null,
   "metadata": {},
   "outputs": [],
   "source": [
    "# Test Cumulant here \n"
   ]
  },
  {
   "cell_type": "code",
   "execution_count": null,
   "metadata": {},
   "outputs": [],
   "source": [
    "# Add cumulants                        [x] \n",
    "# add distribution sampling            "
   ]
  },
  {
   "cell_type": "code",
   "execution_count": null,
   "metadata": {},
   "outputs": [],
   "source": [
    "# Add Expand \n",
    "# Add Magnus Expansion \n",
    "# Ad BCH Expansion \n",
    "# Add Taylor Expansion"
   ]
  },
  {
   "cell_type": "code",
   "execution_count": 10,
   "metadata": {},
   "outputs": [],
   "source": [
    "# Add:\n",
    "# - Eq_Set \n",
    "# - Indexed Eq_Set\n",
    "#    - Indexed qAtom <: qComposite (not really but better to be gruped as such to not require any qAtomProducts)\n",
    "#    - evaluate \n",
    "#    - Initial States (from function)\n",
    "#        - From state construction via operators. \n",
    "#        -> Via operators allows us to also use operator conspiracies => Matching/Conspiring operator condition.\n",
    "# Operator Transformations \n",
    "#    - Finding Adjoint Cycles \n",
    "#    - Add Rotating Frame Transformation "
   ]
  },
  {
   "cell_type": "code",
   "execution_count": null,
   "metadata": {},
   "outputs": [],
   "source": [
    "# FFunction add exponential and sin and cos and log  -> simplifications can be added later. such as log(exp(...))\n"
   ]
  },
  {
   "cell_type": "code",
   "execution_count": null,
   "metadata": {},
   "outputs": [],
   "source": [
    "# add a way to lower sort keys for operators by comparing with the adjoint operators sort_key. \n"
   ]
  },
  {
   "cell_type": "code",
   "execution_count": null,
   "metadata": {},
   "outputs": [],
   "source": []
  },
  {
   "cell_type": "code",
   "execution_count": 9,
   "metadata": {},
   "outputs": [
    {
     "data": {
      "text/latex": [
       "$\\left[ \\hat{z}_{j}+\\sum_{i}^{=}i\\alpha \\hat{p}_{h}\\hat{z}_{i},\\, \\hat{z}_{h}\\right]$"
      ],
      "text/plain": [
       "[zⱼ+∑ᵢ⁼iαpₕzᵢ, zₕ]"
      ]
     },
     "metadata": {},
     "output_type": "display_data"
    }
   ],
   "source": [
    "simplify(QCommutator(Sum(\"i\", alpha*ph*xi*yi) + zj,zh))"
   ]
  },
  {
   "cell_type": "code",
   "execution_count": 10,
   "metadata": {},
   "outputs": [
    {
     "data": {
      "text/latex": [
       "$ \\hat{z}_{h}+\\exp\\left( \\hat{z}_{j}+\\sum_{i}^{=}i\\alpha \\hat{p}_{h}\\hat{z}_{i}\\right)$"
      ],
      "text/plain": [
       "zₕ+exp(zⱼ+∑ᵢ⁼iαpₕzᵢ)"
      ]
     },
     "metadata": {},
     "output_type": "display_data"
    }
   ],
   "source": [
    "simplify(exp(Sum(\"i\", alpha*ph*xi*yi) + zj)+zh)"
   ]
  },
  {
   "cell_type": "code",
   "execution_count": 11,
   "metadata": {},
   "outputs": [
    {
     "data": {
      "text/latex": [
       "$\\log\\left( \\hat{z}_{j}+\\sum_{i}^{=}i\\alpha \\hat{p}_{h}\\hat{z}_{i}\\right)$"
      ],
      "text/plain": [
       "log(zⱼ+∑ᵢ⁼iαpₕzᵢ)"
      ]
     },
     "metadata": {},
     "output_type": "display_data"
    }
   ],
   "source": [
    "log(Sum(\"i\", alpha*ph*xi*yi) + zj)"
   ]
  },
  {
   "cell_type": "code",
   "execution_count": 12,
   "metadata": {},
   "outputs": [
    {
     "data": {
      "text/latex": [
       "$ \\hat{z}_{h}+\\left( \\hat{z}_{j}+\\sum_{i}^{=}i\\alpha \\hat{p}_{h}\\hat{z}_{i}\\right)^{2}$"
      ],
      "text/plain": [
       "zₕ+(zⱼ+∑ᵢ⁼iαpₕzᵢ)²"
      ]
     },
     "metadata": {},
     "output_type": "display_data"
    }
   ],
   "source": [
    "simplify(power(Sum(\"i\", alpha*ph*xi*yi) + zj,2)+zh)"
   ]
  },
  {
   "cell_type": "code",
   "execution_count": 13,
   "metadata": {},
   "outputs": [
    {
     "data": {
      "text/latex": [
       "$ \\hat{z}_{h}+\\sqrt{ \\hat{z}_{j}+\\sum_{i}^{=}i\\alpha \\hat{p}_{h}\\hat{z}_{i}}$"
      ],
      "text/plain": [
       "zₕ+(zⱼ+∑ᵢ⁼iαpₕzᵢ)⁼²"
      ]
     },
     "metadata": {},
     "output_type": "display_data"
    }
   ],
   "source": [
    "simplify(root(Sum(\"i\", alpha*ph*xi*yi) + zj,2)+zh)"
   ]
  },
  {
   "cell_type": "code",
   "execution_count": null,
   "metadata": {},
   "outputs": [],
   "source": []
  },
  {
   "cell_type": "code",
   "execution_count": null,
   "metadata": {},
   "outputs": [],
   "source": []
  },
  {
   "cell_type": "code",
   "execution_count": null,
   "metadata": {},
   "outputs": [],
   "source": []
  },
  {
   "cell_type": "code",
   "execution_count": null,
   "metadata": {},
   "outputs": [],
   "source": []
  }
 ],
 "metadata": {
  "kernelspec": {
   "display_name": "Julia 1.11.6",
   "language": "julia",
   "name": "julia-1.11"
  },
  "language_info": {
   "file_extension": ".jl",
   "mimetype": "application/julia",
   "name": "julia",
   "version": "1.11.6"
  }
 },
 "nbformat": 4,
 "nbformat_minor": 2
}
