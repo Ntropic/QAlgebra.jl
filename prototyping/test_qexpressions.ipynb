{
 "cells": [
  {
   "cell_type": "code",
   "execution_count": 1,
   "metadata": {},
   "outputs": [
    {
     "name": "stderr",
     "output_type": "stream",
     "text": [
      "\u001b[92m\u001b[1mPrecompiling\u001b[22m\u001b[39m project...\n",
      "    990.8 ms\u001b[32m  ✓ \u001b[39mqAlgebra\n",
      "  1 dependency successfully precompiled in 1 seconds. 7 already precompiled.\n"
     ]
    }
   ],
   "source": [
    "using Pkg \n",
    "Pkg.instantiate()\n",
    "using qAlgebra"
   ]
  },
  {
   "cell_type": "code",
   "execution_count": 2,
   "metadata": {},
   "outputs": [
    {
     "data": {
      "text/plain": [
       "StateSpace: [α, β(t), γᵢ, γⱼ, γₖ, δᵢ, δⱼ, δₖ]\n",
       "   - SubSpace [\"h\"]: PM Qubit (Fermionic):  pₚ, mₚ, zₚ, Iₚ (identity)\n",
       "   - SubSpace [\"i\", \"j\", \"k\"]: Pauli Qubit (Fermionic):  xₚ, yₚ, zₚ, Iₚ (identity)\n",
       "   - SubSpace [\"b\"]: Ladder (Bosonic):  p†, p\n",
       "   - Op: A\n",
       "   - Op: B(H,U)\n"
      ]
     },
     "metadata": {},
     "output_type": "display_data"
    }
   ],
   "source": [
    "qspace = StateSpace(\"alpha\", \"beta(t)\", \"gamma_i\", \"delta_i\", operators=[\"A(!i)\", \"B(U,H,i)\"], h=QubitPM(), i=(3, QubitPauli()), b=Ladder())"
   ]
  },
  {
   "cell_type": "code",
   "execution_count": 3,
   "metadata": {},
   "outputs": [
    {
     "name": "stdout",
     "output_type": "stream",
     "text": [
      "Done\n"
     ]
    }
   ],
   "source": [
    "base_operators(qspace)\n",
    "base_operators(\"alpha\", qspace)\n",
    "base_operators(\"i\", qspace)\n",
    "base_operators(\"h\", qspace)\n",
    "base_operators(\"j\", qspace)\n",
    "base_operators(\"I\", qspace)\n",
    "base_operators(\"A\", qspace)\n",
    "println(\"Done\") "
   ]
  },
  {
   "cell_type": "code",
   "execution_count": null,
   "metadata": {},
   "outputs": [
    {
     "ename": "MethodError",
     "evalue": "MethodError: no method matching !(::Vector{Bool})\nThe function `!` exists, but no method is defined for this combination of argument types.\n\nClosest candidates are:\n  !(!Matched::Missing)\n   @ Base missing.jl:101\n  !(!Matched::Bool)\n   @ Base bool.jl:35\n  !(!Matched::ComposedFunction{typeof(!)})\n   @ Base operators.jl:1108\n  ...\n",
     "output_type": "error",
     "traceback": [
      "MethodError: no method matching !(::Vector{Bool})\n",
      "The function `!` exists, but no method is defined for this combination of argument types.\n",
      "\n",
      "Closest candidates are:\n",
      "  !(!Matched::Missing)\n",
      "   @ Base missing.jl:101\n",
      "  !(!Matched::Bool)\n",
      "   @ Base bool.jl:35\n",
      "  !(!Matched::ComposedFunction{typeof(!)})\n",
      "   @ Base operators.jl:1108\n",
      "  ...\n",
      "\n",
      "\n",
      "Stacktrace:\n",
      " [1] top-level scope\n",
      "   @ ~/Documents/PhD/Research/Projects/qAlgebra/prototyping/jl_notebook_cell_df34fa98e69747e1a8f8a730347b8e2f_X25sZmlsZQ==.jl:1"
     ]
    }
   ],
   "source": [
    "# negate vector \n",
    "a = [false, true]\n",
    "function negate(x::Vector{Bool})"
   ]
  },
  {
   "cell_type": "code",
   "execution_count": null,
   "metadata": {},
   "outputs": [],
   "source": []
  },
  {
   "cell_type": "code",
   "execution_count": 4,
   "metadata": {},
   "outputs": [
    {
     "ename": "UndefVarError",
     "evalue": "UndefVarError: `qAbstract` not defined in `Main`\nSuggestion: check for spelling errors or missing imports.",
     "output_type": "error",
     "traceback": [
      "UndefVarError: `qAbstract` not defined in `Main`\n",
      "Suggestion: check for spelling errors or missing imports.\n",
      "\n",
      "Stacktrace:\n",
      " [1] top-level scope\n",
      "   @ ~/Documents/PhD/Research/Projects/qAlgebra/prototyping/jl_notebook_cell_df34fa98e69747e1a8f8a730347b8e2f_W3sZmlsZQ==.jl:1"
     ]
    }
   ],
   "source": [
    "function term_equal_indexes(abstract::qAbstract, index1::Int, index2::Int, subspace::SubSpace)::Tuple{Bool, Vector{qAbstract}}\n",
    "end"
   ]
  },
  {
   "cell_type": "code",
   "execution_count": 5,
   "metadata": {},
   "outputs": [
    {
     "name": "stdout",
     "output_type": "stream",
     "text": [
      "Done\n"
     ]
    }
   ],
   "source": [
    "term(\"alpha*A*xi*yi*b'*B*ph*mh\")\n",
    "println(\"Done\")"
   ]
  },
  {
   "cell_type": "code",
   "execution_count": null,
   "metadata": {},
   "outputs": [],
   "source": [
    "function non_trivial(q::qAtom, index::"
   ]
  },
  {
   "cell_type": "code",
   "execution_count": null,
   "metadata": {},
   "outputs": [
    {
     "ename": "UndefVarError",
     "evalue": "UndefVarError: `custom_sort_key` not defined in `Main`\nSuggestion: check for spelling errors or missing imports.",
     "output_type": "error",
     "traceback": [
      "UndefVarError: `custom_sort_key` not defined in `Main`\n",
      "Suggestion: check for spelling errors or missing imports.\n"
     ]
    }
   ],
   "source": [
    "function term_equal_indexes(prod::qProd, index1::Int, index2::Int, subspace::SubSpace)::Tuple{Bool, Vector{qProd}}\n",
    "    changed_any = false\n",
    "    term_variants = Vector{Vector{qAtom}}()\n",
    "    for atom in prod.expr\n",
    "        changed, variants = term_equal_indexes(atom, index1, index2, subspace)\n",
    "        push!(term_variants, variants)\n",
    "        changed_any |= changed  # Check if any term was changed\n",
    "    end\n",
    "\n",
    "    if !changed_any\n",
    "        return false, [prod]\n",
    "    end\n",
    "\n",
    "    # Generate all combinations (cartesian product) of updated terms\n",
    "    combinations = Iterators.product(term_variants...)\n",
    "\n",
    "    simplified_products = qProd[]\n",
    "\n",
    "    for combo in combinations\n",
    "        new_expr = collect(combo)\n",
    "        new_prod = qProd(prod.coeff_fun, new_expr)\n",
    "        push!(simplified_products, simplify(new_prod))\n",
    "    end\n",
    "\n",
    "    return true, simplified_products\n",
    "end\n"
   ]
  },
  {
   "cell_type": "code",
   "execution_count": 2,
   "metadata": {},
   "outputs": [
    {
     "data": {
      "text/latex": [
       "$1$"
      ],
      "text/plain": [
       "1"
      ]
     },
     "metadata": {},
     "output_type": "display_data"
    }
   ],
   "source": [
    "using ComplexRationals\n",
    "a = ComplexRational(1,0,1)\n",
    "copy(a)"
   ]
  },
  {
   "cell_type": "code",
   "execution_count": null,
   "metadata": {},
   "outputs": [],
   "source": []
  },
  {
   "cell_type": "code",
   "execution_count": null,
   "metadata": {},
   "outputs": [],
   "source": [
    "expr = 2 * alpha * im * xi + alpha * Dag(b) * xi * yi"
   ]
  },
  {
   "cell_type": "code",
   "execution_count": null,
   "metadata": {},
   "outputs": [],
   "source": [
    "qsum = Sum(\"j\",  alpha*yi*yj+Sum(\"k\", beta*alpha^2*xi*xj*xk))"
   ]
  },
  {
   "cell_type": "code",
   "execution_count": null,
   "metadata": {},
   "outputs": [],
   "source": [
    "flat_sum = flatten(qsum)"
   ]
  },
  {
   "cell_type": "code",
   "execution_count": null,
   "metadata": {},
   "outputs": [],
   "source": [
    "# The sum still covers all combinations of indexes j,k\n",
    "# We can transform it into a neq sum, in which the indexes j and k are distinct. the following function then expands into all possible cases\n",
    "neq_sum = neq(qsum) # this also flattens the sum"
   ]
  },
  {
   "cell_type": "code",
   "execution_count": null,
   "metadata": {},
   "outputs": [],
   "source": [
    "# A differential equation of expectation values can be constructed via\n",
    "dzi_dt = d_dt(zi, alpha*expr+qsum)"
   ]
  },
  {
   "cell_type": "code",
   "execution_count": null,
   "metadata": {},
   "outputs": [],
   "source": [
    "clipboard(string(dzi_dt))"
   ]
  },
  {
   "cell_type": "code",
   "execution_count": null,
   "metadata": {},
   "outputs": [],
   "source": [
    "clipboard(latex_string(dzi_dt))"
   ]
  },
  {
   "cell_type": "code",
   "execution_count": null,
   "metadata": {},
   "outputs": [],
   "source": []
  }
 ],
 "metadata": {
  "kernelspec": {
   "display_name": "Julia 1.11.5",
   "language": "julia",
   "name": "julia-1.11"
  },
  "language_info": {
   "file_extension": ".jl",
   "mimetype": "application/julia",
   "name": "julia",
   "version": "1.11.5"
  }
 },
 "nbformat": 4,
 "nbformat_minor": 2
}
