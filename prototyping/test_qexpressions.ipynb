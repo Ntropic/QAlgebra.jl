{
 "cells": [
  {
   "cell_type": "code",
   "execution_count": 1,
   "metadata": {},
   "outputs": [],
   "source": [
    "using Pkg \n",
    "Pkg.instantiate()\n",
    "using qAlgebra"
   ]
  },
  {
   "cell_type": "code",
   "execution_count": 2,
   "metadata": {},
   "outputs": [
    {
     "data": {
      "text/plain": [
       "StateSpace: [β(t), γᵢ, γⱼ, γₖ, δᵢ, δⱼ, δₖ, α]\n",
       "   - SubSpace [\"h\"]: PM Qubit (Fermionic):  pₚ, mₚ, zₚ, Iₚ (identity)\n",
       "   - SubSpace [\"i\", \"j\", \"k\"]: Pauli Qubit (Fermionic):  xₚ, yₚ, zₚ, Iₚ (identity)\n",
       "   - SubSpace [\"b\"]: Ladder (Bosonic):  p†, p\n",
       "   - Op: A\n",
       "   - Op: B(H,U)\n"
      ]
     },
     "metadata": {},
     "output_type": "display_data"
    }
   ],
   "source": [
    "qspace = StateSpace(\"alpha\", \"beta(t)\", \"gamma_i\", \"delta_i\", operators=[\"A(!i)\", \"B(U,H,i)\"], h=QubitPM(), i=(3, QubitPauli()), b=Ladder())"
   ]
  },
  {
   "cell_type": "code",
   "execution_count": 9,
   "metadata": {},
   "outputs": [
    {
     "name": "stdout",
     "output_type": "stream",
     "text": [
      "Done\n"
     ]
    }
   ],
   "source": [
    "var_dict, op_dict, abstract_dict = base_operators(qspace)\n",
    "alpha = base_operators(qspace, \"alpha\")\n",
    "beta = base_operators(qspace, \"beta\")\n",
    "gamma_i, gamma_j, gamma_k = base_operators(qspace, \"gamma\", do_dict=false)\n",
    "ph, mh, zh = base_operators(qspace, \"h\", do_dict=false)\n",
    "xi,yi,zi, pi, mi = base_operators(qspace, \"i\", do_dict=false)\n",
    "xj, yj, zj, pj, mj = base_operators(qspace, \"j\", do_dict=false)\n",
    "xk, yk, zk, pk, mk = base_operators(qspace, \"k\", do_dict=false)\n",
    "b, n = base_operators(qspace, \"b\", do_dict=false)\n",
    "I = base_operators(qspace, \"I\")\n",
    "A = base_operators(qspace, \"A\")\n",
    "println(\"Done\")"
   ]
  },
  {
   "cell_type": "code",
   "execution_count": 4,
   "metadata": {},
   "outputs": [
    {
     "data": {
      "text/latex": [
       "$ \\hat{A}_3$"
      ],
      "text/plain": [
       "A₃"
      ]
     },
     "metadata": {},
     "output_type": "display_data"
    }
   ],
   "source": [
    "A = base_operators(qspace, \"A\", do_fun=true)\n",
    "A(3)"
<<<<<<< HEAD
=======
   ]
  },
  {
   "cell_type": "code",
   "execution_count": 5,
   "metadata": {},
   "outputs": [
    {
     "data": {
      "text/latex": [
       "$ \\hat{A}_1$"
      ],
      "text/plain": [
       "A₁"
      ]
     },
     "metadata": {},
     "output_type": "display_data"
    }
   ],
   "source": [
    "base_operators(qspace, \"A_1\", do_fun=false)"
>>>>>>> b06581e (Updated neq, and abstract substitutions)
   ]
  },
  {
   "cell_type": "code",
   "execution_count": 6,
   "metadata": {},
   "outputs": [
    {
     "data": {
      "text/latex": [
<<<<<<< HEAD
       "$ \\hat{A}_1$"
      ],
      "text/plain": [
       "A₁"
=======
       "$\\sum_{j}^{=}\\alpha \\hat{y}_{i}\\hat{y}_{j}+\\sum_{j,k}^{=}\\beta(t)\\alpha² \\hat{x}_{i}\\hat{x}_{j}\\hat{x}_{k}$"
      ],
      "text/plain": [
       "∑ⱼ⁼αyᵢyⱼ+∑ⱼₖ⁼β(t)α²xᵢxⱼxₖ"
>>>>>>> b06581e (Updated neq, and abstract substitutions)
      ]
     },
     "metadata": {},
     "output_type": "display_data"
    }
   ],
   "source": [
<<<<<<< HEAD
    "base_operators(qspace, \"A_1\", do_fun=false)"
=======
    "simplify(flatten(Sum(\"j\", alpha * yi * yj + Sum(\"k\", beta * alpha^2 * xi * xj * xk))))"
   ]
  },
  {
   "cell_type": "code",
   "execution_count": 7,
   "metadata": {},
   "outputs": [
    {
     "data": {
      "text/latex": [
       "$\\log\\left(\\alpha+2\\beta(t)\\gamma_{i}² \\hat{x}_{i}+\\sum_{j}^{\\neq}\\left(\\alpha \\hat{y}_{i}\\hat{y}_{j}+\\beta(t)\\gamma_{j}² \\hat{x}_{i}+\\beta(t)\\gamma_{i}\\gamma_{j} \\hat{x}_{j}\\right)+\\sum_{k}^{\\neq}\\beta(t)\\gamma_{i}\\gamma_{k} \\hat{x}_{k}+\\sum_{(j,k)}^{\\neq}\\beta(t)\\gamma_{j}\\gamma_{k} \\hat{x}_{i}\\hat{x}_{j}\\hat{x}_{k}\\right)$"
      ],
      "text/plain": [
       "log(α+2β(t)γᵢ²xᵢ+∑ⱼ(αyᵢyⱼ+β(t)γⱼ²xᵢ+β(t)γᵢγⱼxⱼ)+∑ₖβ(t)γᵢγₖxₖ+∑₍ⱼₖ₎β(t)γⱼγₖxᵢxⱼxₖ)"
      ]
     },
     "metadata": {},
     "output_type": "display_data"
    }
   ],
   "source": [
    "expr = neq(log(Sum(\"j\", alpha * yi * yj + Sum(\"k\", beta * gamma_j * gamma_k * xi * xj * xk))))"
   ]
  },
  {
   "cell_type": "code",
   "execution_count": 8,
   "metadata": {},
   "outputs": [
    {
     "data": {
      "text/latex": [
       "$\\frac{\\text{d}  \\hat{x}_{i}}{\\text{d}t} = \\log\\left(\\alpha+2\\beta(t)\\gamma_{i}² \\hat{x}_{i}+\\sum_{j}^{\\neq}\\left(\\alpha \\hat{y}_{i}\\hat{y}_{j}+\\beta(t)\\gamma_{j}² \\hat{x}_{i}+\\beta(t)\\gamma_{i}\\gamma_{j} \\hat{x}_{j}\\right)+\\sum_{k}^{\\neq}\\beta(t)\\gamma_{i}\\gamma_{k} \\hat{x}_{k}+\\sum_{(j,k)}^{\\neq}\\beta(t)\\gamma_{j}\\gamma_{k} \\hat{x}_{i}\\hat{x}_{j}\\hat{x}_{k}\\right)$"
      ],
      "text/plain": [
       "d(xᵢ) / dt = log(α+2β(t)γᵢ²xᵢ+∑ⱼ(αyᵢyⱼ+β(t)γⱼ²xᵢ+β(t)γᵢγⱼxⱼ)+∑ₖβ(t)γᵢγₖxₖ+∑₍ⱼₖ₎β(t)γⱼγₖxᵢxⱼxₖ)"
      ]
     },
     "metadata": {},
     "output_type": "display_data"
    }
   ],
   "source": [
    "d_dt(xi, expr)"
   ]
  },
  {
   "cell_type": "code",
   "execution_count": 6,
   "metadata": {},
   "outputs": [
    {
     "data": {
      "text/plain": [
       "3-element Vector{Union{Int64, Vector{Int64}}}:\n",
       " 4\n",
       " 4\n",
       " 4"
      ]
     },
     "metadata": {},
     "output_type": "display_data"
    }
   ],
   "source": [
    "qspace.where_continuums\n",
    "qspace.neutral_continuums_op"
   ]
  },
  {
   "cell_type": "code",
   "execution_count": 12,
   "metadata": {},
   "outputs": [
    {
     "data": {
      "text/plain": [
       "3-element BitVector:\n",
       " 0\n",
       " 1\n",
       " 1"
      ]
     },
     "metadata": {},
     "output_type": "display_data"
    }
   ],
   "source": [
    "[1,2,[3,3]] .== [2,2, [3,3]]"
   ]
  },
  {
   "cell_type": "code",
   "execution_count": 14,
   "metadata": {},
   "outputs": [
    {
     "data": {
      "text/plain": [
       "extract_qatom (generic function with 2 methods)"
      ]
     },
     "metadata": {},
     "output_type": "display_data"
    }
   ],
   "source": [
    "function extract_qabstract(q::qExpr)::qAbstract\n",
    "    if length(q) > 1 \n",
    "        error(\"Cannot substitute composites. abstract_op must contain only an abstract operator.\")\n",
    "    end\n",
    "    term = q.terms[1]\n",
    "    if !typeof(term, qAtomProduct)\n",
    "        error(\"qExpr must contain only a qAtomProduct\")\n",
    "    end\n",
    "    return extract_qabstract(term)\n",
    "end\n",
    "function extract_qabstract(term::qAtomProduct)::qAbstract\n",
    "    if length(term) != 1 || !typeof(term, qAbstract)\n",
    "        error(\"abstract_op must contain exactly one qAbstract\")\n",
    "    end\n",
    "    return term.expr[1]\n",
    "end\n",
    "#now same for qAtom \n",
    "function extract_qatom(q::qExpr)::qAtom\n",
    "    if length(q) > 1 \n",
    "        error(\"Cannot substitute composites. abstract_op must contain only an abstract operator.\")\n",
    "    end\n",
    "    term = q.terms[1]\n",
    "    if !typeof(term, qAtomProduct)\n",
    "        error(\"qExpr must contain only a qAtomProduct\")\n",
    "    end\n",
    "    return extract_qatom(term)\n",
    "end\n",
    "function extract_qatom(term::qAtomProduct)::qAtom\n",
    "    if length(term) != 1 || !typeof(term, qAtom)\n",
    "        error(\"abstract_op must contain exactly one qAbstract\")\n",
    "    end\n",
    "    return term.expr[1]\n",
    "end"
>>>>>>> b06581e (Updated neq, and abstract substitutions)
   ]
  },
  {
   "cell_type": "code",
   "execution_count": null,
   "metadata": {},
<<<<<<< HEAD
   "outputs": [
    {
     "data": {
      "text/latex": [
       "$0$"
      ],
      "text/plain": [
       "0"
      ]
     },
     "metadata": {},
     "output_type": "display_data"
    }
   ],
   "source": [
    "flatten(Sum(\"j\", alpha * yi * yj + Sum(\"k\", beta * alpha^2 * xi * xj * xk)))"
=======
   "outputs": [],
   "source": [
    "# substitute abstract operator \n",
    "# input is abstract_op, replacement and target\n",
    "simpleQ = Union{qExpr, qAtomProduct}\n",
    "function substitute(abstract_op::Union{simpleQ, qAbstract}, replacement::Union{simpleQ, qAtom}, target::qExpr) \n",
    "    if !typeof(abstract_op, qAbstract)\n",
    "        abstract_op = extract_qabstract(abstract_op)\n",
    "    end\n",
    "    if !typeof(replacement, qAtom)\n",
    "        replacement = extract_qatom(replacement)\n",
    "    end\n",
    "    return substitute(abstract_op, replacement, target)\n",
    "end\n",
    "function substitute(abstract_op::qAbstract, replacement::qAtom, target::qExpr)::qExpr\n",
    "    # recursively navigate expression, and substitue\n",
    "    new_terms = qComposite[]\n",
    "    for term in target.terms\n",
    "        append!(new_terms, substitute(abstract_op, replacement, term))\n",
    "    end\n",
    "    return qExpr(target.statespace, new_terms)\n",
    "end\n",
    "function substitute(abstract_op::qAbstract, replacement::qAtom, term::qComposite)::Vector{qComposite}\n",
    "    # recursively navigate expression, and substitue\n",
    "    term_copy = copy(term)\n",
    "    term_copy.expr = substitute(abstract_op, replacement, term)\n",
    "    return [term_copy]\n",
    "end\n",
    "function substitute(abstract_op::qAbstract, replacement::qAtom, term::qMultiComposite)::Vector{qComposite}\n",
    "    # recursively navigate expression, and substitue\n",
    "    term_copy = copy(term)\n",
    "    term_copy.expr = [substitute(abstract_op, replacement, t) for t in term.expr]\n",
    "    return [term_copy]\n",
    "end\n",
    "function substitute(abstract_op::qAbstract, replacement::qAtom, term::qAtomProduct)::Vector{qComposite}\n",
    "    # recursively navigate expression, and substitue\n",
    "    expr = term.expr\n",
    "    new_expr::Vector{qAtom} = []\n",
    "    for t in expr\n",
    "        if isa(t, qAtom)\n",
    "            push!(new_expr, t)\n",
    "        else# qAbstract\n",
    "            # check if its the same qAbstract operator \n",
    "            if t.key_index == abstract_op.key_index && t.sub_index == abstract_op.sub_index \n",
    "                if t.exponent != 1\n",
    "                    curr_replacement = replacement^t.exponent\n",
    "                    if t.dag \n",
    "                        curr_replacement = curr_replacement'\n",
    "                    end\n",
    "                    push!(new_expr, curr_replacement)\n",
    "                elseif t.dag\n",
    "                    push!(new_expr, replacement')\n",
    "                else\n",
    "                    push!(new_expr, replacement)\n",
    "                end\n",
    "            else\n",
    "                push!(new_expr, t)\n",
    "            end\n",
    "        end\n",
    "    end\n",
    "    return simplify(qAtomProduct(new_expr))\n",
    "end"
>>>>>>> b06581e (Updated neq, and abstract substitutions)
   ]
  },
  {
   "cell_type": "code",
<<<<<<< HEAD
   "execution_count": 13,
   "metadata": {},
=======
   "execution_count": null,
   "metadata": {},
   "outputs": [],
   "source": []
  },
  {
   "cell_type": "code",
   "execution_count": 13,
   "metadata": {},
   "outputs": [],
   "source": [
    "# Change summation indexes, to the left. "
   ]
  },
  {
   "cell_type": "code",
   "execution_count": null,
   "metadata": {},
   "outputs": [],
   "source": [
    "# Check if index summing is possible - are indexes already reserved\n",
    "function which_continuum_acting(q::qAtom, where_continuums::Vector{Int}, neutral_continuums_op::Vector{Is})::Vector{Bool}\n",
    "    return q.op_indices[where_continuums] != neutral_continuums_op\n",
    "end\n",
    "function which_continuum_acting(f::FFunction, )\n",
    "\n",
    "        "
   ]
  },
  {
   "cell_type": "code",
   "execution_count": null,
   "metadata": {},
   "outputs": [],
   "source": [
    "# This checks if the equation can be interpreted \n",
    "# Check if the variables and operators of continuum subspaces are determined by the given indexes\n",
    "# sums add such indexes, track through equation recursively \n",
    "function in_curr_subspace(q::qExpr, subspace_inds::Vector{Int}=[], subspace_vars::Vector{Vector{Int}}) \n",
    "    for term in q.terms\n",
    "        in_curr_curr_subspace(term, subspace_inds, subspace_vars)\n",
    "    end\n",
    "end\n",
    "function in_curr_subspace(q::qComposite, subspace_inds::Vector{Int}=[], subspace_vars::Vector{Vector{Int}})\n",
    "    in_curr_subspace(q.expr, subspace_inds, subspace_vars)\n",
    "end\n",
    "function in_curr_subspace(q::qMultiComposite, subspace_inds::Vector{Int}=[], subspace_vars::Vector{Vector{Int}})\n",
    "    for term in q.terms\n",
    "        in_curr_subspace(term, subspace_inds, subspace_vars)\n",
    "    end\n",
    "end \n",
    "function in_curr_subspace(q::qAtomProduct, subspace_inds::Vector{Int}=[], subspace_vars::Vector{Vector{Int}})\n",
    "    coeff_fun \n",
    "    for term in q.terms\n",
    "        in_curr_subspace(term, subspace_inds, subspace_vars)\n",
    "    end"
   ]
  },
  {
   "cell_type": "code",
   "execution_count": null,
   "metadata": {},
   "outputs": [],
   "source": [
    "# in diff equations can't sum over indexes of the left side.  -> throw an error\n",
    "# reduce summed indexes to lowest summable indexes in the right side.\n",
    "# there can also not be any variables of non left indexes outside of such sums. \n",
    "\n",
    "# add evaluate \n",
    "# add index version of qAtomProduct.\n",
    "\n",
    "# Add Equation Set\n",
    "# Add Equation Set to Indexed Equation Set with indexed  "
   ]
  },
  {
   "cell_type": "code",
   "execution_count": null,
   "metadata": {},
   "outputs": [],
   "source": []
  },
  {
   "cell_type": "code",
   "execution_count": 7,
   "metadata": {},
   "outputs": [
    {
     "ename": "ErrorException",
     "evalue": "Unsupported: qSum found inside qComposite structure within an outer qSum.",
     "output_type": "error",
     "traceback": [
      "Unsupported: qSum found inside qComposite structure within an outer qSum.\n",
      "\n",
      "Stacktrace:\n",
      "  [1] error(s::String)\n",
      "    @ Base ./error.jl:35\n",
      "  [2] flatten(s::qSum, in_sum::Bool, in_sum_comp::Bool)\n",
      "    @ qAlgebra.qExpressions ~/Documents/PhD/Research/Projects/qAlgebra/src/qExpressionsOps/qSum_modify.jl:11\n",
      "  [3] flatten(qeq::qExpr, in_sum::Bool, in_sum_comp::Bool)\n",
      "    @ qAlgebra.qExpressions ~/Documents/PhD/Research/Projects/qAlgebra/src/qExpressionsOps/qSum_modify.jl:60\n",
      "  [4] #106\n",
      "    @ ./none:0 [inlined]\n",
      "  [5] iterate\n",
      "    @ ./generator.jl:48 [inlined]\n",
      "  [6] collect(itr::Base.Generator{Vector{qExpr}, qAlgebra.qExpressions.var\"#106#107\"{Bool}})\n",
      "    @ Base ./array.jl:791\n",
      "  [7] flatten(q::qCommutator, in_sum::Bool, in_sum_comp::Bool)\n",
      "    @ qAlgebra.qExpressions ~/Documents/PhD/Research/Projects/qAlgebra/src/qExpressionsOps/qSum_modify.jl:53\n",
      "  [8] flatten(qeq::qExpr, in_sum::Bool, in_sum_comp::Bool)\n",
      "    @ qAlgebra.qExpressions ~/Documents/PhD/Research/Projects/qAlgebra/src/qExpressionsOps/qSum_modify.jl:60\n",
      "  [9] flatten(s::qSum, in_sum::Bool, in_sum_comp::Bool)\n",
      "    @ qAlgebra.qExpressions ~/Documents/PhD/Research/Projects/qAlgebra/src/qExpressionsOps/qSum_modify.jl:13\n",
      " [10] flatten(qeq::qExpr, in_sum::Bool, in_sum_comp::Bool)\n",
      "    @ qAlgebra.qExpressions ~/Documents/PhD/Research/Projects/qAlgebra/src/qExpressionsOps/qSum_modify.jl:60\n",
      " [11] flatten(qeq::qExpr)\n",
      "    @ qAlgebra.qExpressions ~/Documents/PhD/Research/Projects/qAlgebra/src/qExpressionsOps/qSum_modify.jl:58\n",
      " [12] top-level scope\n",
      "    @ ~/Documents/PhD/Research/Projects/qAlgebra/prototyping/jl_notebook_cell_df34fa98e69747e1a8f8a730347b8e2f_W5sZmlsZQ==.jl:1"
     ]
    }
   ],
   "source": [
    "flatten(Sum(\"j\", alpha * yi * yj + qCommutator(Sum(\"k\", beta * alpha^2 * xi * xj * xk), xk)))"
   ]
  },
  {
   "cell_type": "code",
   "execution_count": 7,
   "metadata": {},
>>>>>>> b06581e (Updated neq, and abstract substitutions)
   "outputs": [
    {
     "data": {
      "text/latex": [
       "$\\sum_{i,i}^{=} \\hat{z}_{i}$"
      ],
      "text/plain": [
       "∑ᵢᵢ⁼zᵢ"
      ]
     },
     "metadata": {},
     "output_type": "display_data"
    }
   ],
   "source": [
    "Sum([\"i\", \"i\"], zi) "
   ]
  },
  {
   "cell_type": "code",
<<<<<<< HEAD
   "execution_count": null,
=======
   "execution_count": 8,
   "metadata": {},
   "outputs": [
    {
     "data": {
      "text/plain": [
       "false"
      ]
     },
     "metadata": {},
     "output_type": "display_data"
    }
   ],
   "source": [
    "true && false"
   ]
  },
  {
   "cell_type": "code",
   "execution_count": 9,
   "metadata": {},
   "outputs": [
    {
     "ename": "MethodError",
     "evalue": "MethodError: no method matching *(::qExpr, ::qAlgebra.qExpressions.var\"#28#30\"{StateSpace, OperatorType, Int64})\nThe function `*` exists, but no method is defined for this combination of argument types.\n\nClosest candidates are:\n  *(::Any, ::Any, !Matched::Any, !Matched::Any...)\n   @ Base operators.jl:596\n  *(::qExpr, !Matched::qExpr)\n   @ qAlgebra ~/Documents/PhD/Research/Projects/qAlgebra/src/qExpressionsOps/qExpressionsAlgebra.jl:222\n  *(::qExpr, !Matched::Vector{qExpr})\n   @ qAlgebra ~/Documents/PhD/Research/Projects/qAlgebra/src/qExpressionsOps/qExpressionsAlgebra.jl:335\n  ...\n",
     "output_type": "error",
     "traceback": [
      "MethodError: no method matching *(::qExpr, ::qAlgebra.qExpressions.var\"#28#30\"{StateSpace, OperatorType, Int64})\n",
      "The function `*` exists, but no method is defined for this combination of argument types.\n",
      "\n",
      "Closest candidates are:\n",
      "  *(::Any, ::Any, !Matched::Any, !Matched::Any...)\n",
      "   @ Base operators.jl:596\n",
      "  *(::qExpr, !Matched::qExpr)\n",
      "   @ qAlgebra ~/Documents/PhD/Research/Projects/qAlgebra/src/qExpressionsOps/qExpressionsAlgebra.jl:222\n",
      "  *(::qExpr, !Matched::Vector{qExpr})\n",
      "   @ qAlgebra ~/Documents/PhD/Research/Projects/qAlgebra/src/qExpressionsOps/qExpressionsAlgebra.jl:335\n",
      "  ...\n",
      "\n",
      "\n",
      "Stacktrace:\n",
      " [1] afoldl(::typeof(*), ::qExpr, ::qExpr, ::Function, ::qExpr)\n",
      "   @ Base ./operators.jl:554\n",
      " [2] *(::qExpr, ::qExpr, ::qExpr, ::qExpr, ::Function, ::qExpr)\n",
      "   @ Base ./operators.jl:596\n",
      " [3] top-level scope\n",
      "   @ ~/Documents/PhD/Research/Projects/qAlgebra/prototyping/jl_notebook_cell_df34fa98e69747e1a8f8a730347b8e2f_X11sZmlsZQ==.jl:1"
     ]
    }
   ],
   "source": [
    "Sum(\"i\", alpha*ph*xi*yi * A * xi + xi*yi) * Sum(\"j\", zi) "
   ]
  },
  {
   "cell_type": "code",
   "execution_count": 10,
>>>>>>> b06581e (Updated neq, and abstract substitutions)
   "metadata": {},
   "outputs": [],
   "source": []
  },
  {
   "cell_type": "code",
   "execution_count": 11,
   "metadata": {},
   "outputs": [
    {
     "data": {
      "text/latex": [
<<<<<<< HEAD
       "$\\sum_{i}^{=}\\left(i \\hat{z}_{i}+i\\alpha \\hat{p}_{h}\\hat{z}_{i}\\hat{A}\\hat{x}_{i}\\right)\\sum_{j}^{=} \\hat{z}_{i}$"
      ],
      "text/plain": [
       "∑ᵢ⁼(izᵢ+iαpₕzᵢAxᵢ)∑ⱼ⁼zᵢ"
      ]
     },
     "metadata": {},
     "output_type": "display_data"
    }
   ],
   "source": [
    "Sum(\"i\", alpha*ph*xi*yi * A * xi + xi*yi) * Sum(\"j\", zi) "
   ]
  },
  {
   "cell_type": "code",
   "execution_count": null,
   "metadata": {},
   "outputs": [],
   "source": []
  },
  {
   "cell_type": "code",
   "execution_count": 6,
   "metadata": {},
   "outputs": [
    {
     "data": {
      "text/latex": [
=======
>>>>>>> b06581e (Updated neq, and abstract substitutions)
       "$i\\alpha \\hat{z}_{i}\\hat{b}^\\dagger+2i(\\alpha+\\beta(t)) \\hat{x}_{i}$"
      ],
      "text/plain": [
       "iαzᵢb†+2i(α+β(t))xᵢ"
      ]
     },
     "metadata": {},
     "output_type": "display_data"
    }
   ],
   "source": [
    "2 * (alpha + beta) * xi*1im + alpha * Dag(b) * xi * yi"
   ]
  },
  {
   "cell_type": "code",
   "execution_count": 12,
   "metadata": {},
   "outputs": [
    {
     "data": {
      "text/latex": [
       "$i\\beta(t)\\alpha+i\\beta(t)²\\alpha$"
      ],
      "text/plain": [
       "iβ(t)α+iβ(t)²α"
      ]
     },
     "metadata": {},
     "output_type": "display_data"
    }
   ],
   "source": [
    "alpha*(beta+beta^2)*1im"
   ]
  },
  {
   "cell_type": "code",
   "execution_count": 13,
   "metadata": {},
   "outputs": [
    {
     "ename": "MethodError",
     "evalue": "MethodError: no method matching adjoint(::qAlgebra.qExpressions.var\"#28#30\"{StateSpace, OperatorType, Int64})\nThe function `adjoint` exists, but no method is defined for this combination of argument types.\n\nClosest candidates are:\n  adjoint(!Matched::FAtom)\n   @ qAlgebra ~/Documents/PhD/Research/Projects/qAlgebra/src/FFunctions.jl:372\n  adjoint(!Matched::Missing)\n   @ Base missing.jl:101\n  adjoint(!Matched::ComplexRationals.ComplexRational)\n   @ ComplexRationals ~/.julia/packages/ComplexRationals/liwaH/src/ComplexRationals.jl:266\n  ...\n",
     "output_type": "error",
     "traceback": [
      "MethodError: no method matching adjoint(::qAlgebra.qExpressions.var\"#28#30\"{StateSpace, OperatorType, Int64})\n",
      "The function `adjoint` exists, but no method is defined for this combination of argument types.\n",
      "\n",
      "Closest candidates are:\n",
      "  adjoint(!Matched::FAtom)\n",
      "   @ qAlgebra ~/Documents/PhD/Research/Projects/qAlgebra/src/FFunctions.jl:372\n",
      "  adjoint(!Matched::Missing)\n",
      "   @ Base missing.jl:101\n",
      "  adjoint(!Matched::ComplexRationals.ComplexRational)\n",
      "   @ ComplexRationals ~/.julia/packages/ComplexRationals/liwaH/src/ComplexRationals.jl:266\n",
      "  ...\n",
      "\n",
      "\n",
      "Stacktrace:\n",
      " [1] top-level scope\n",
      "   @ ~/Documents/PhD/Research/Projects/qAlgebra/prototyping/jl_notebook_cell_df34fa98e69747e1a8f8a730347b8e2f_X15sZmlsZQ==.jl:1"
     ]
    }
   ],
   "source": [
    "d_dt(A, xi*A'*A + alpha*b*b')"
   ]
  },
  {
   "cell_type": "code",
   "execution_count": 9,
   "metadata": {},
   "outputs": [
    {
     "data": {
      "text/latex": [
       "$\\left[ \\hat{z}_{j}+\\sum_{i}^{=}i\\alpha \\hat{p}_{h}\\hat{z}_{i},\\, \\hat{z}_{h}\\right]$"
      ],
      "text/plain": [
       "[zⱼ+∑ᵢ⁼iαpₕzᵢ, zₕ]"
      ]
     },
     "metadata": {},
     "output_type": "display_data"
    }
   ],
   "source": [
    "simplify(qCommutator(Sum(\"i\", alpha*ph*xi*yi) + zj,zh))"
   ]
  },
  {
   "cell_type": "code",
   "execution_count": 10,
   "metadata": {},
   "outputs": [
    {
     "data": {
      "text/latex": [
       "$ \\hat{z}_{h}+\\exp\\left( \\hat{z}_{j}+\\sum_{i}^{=}i\\alpha \\hat{p}_{h}\\hat{z}_{i}\\right)$"
      ],
      "text/plain": [
       "zₕ+exp(zⱼ+∑ᵢ⁼iαpₕzᵢ)"
      ]
     },
     "metadata": {},
     "output_type": "display_data"
    }
   ],
   "source": [
    "simplify(exp(Sum(\"i\", alpha*ph*xi*yi) + zj)+zh)"
   ]
  },
  {
   "cell_type": "code",
   "execution_count": 11,
   "metadata": {},
   "outputs": [
    {
     "data": {
      "text/latex": [
       "$\\log\\left( \\hat{z}_{j}+\\sum_{i}^{=}i\\alpha \\hat{p}_{h}\\hat{z}_{i}\\right)$"
      ],
      "text/plain": [
       "log(zⱼ+∑ᵢ⁼iαpₕzᵢ)"
      ]
     },
     "metadata": {},
     "output_type": "display_data"
    }
   ],
   "source": [
    "log(Sum(\"i\", alpha*ph*xi*yi) + zj)"
   ]
  },
  {
   "cell_type": "code",
   "execution_count": 12,
   "metadata": {},
   "outputs": [
    {
     "data": {
      "text/latex": [
       "$ \\hat{z}_{h}+\\left( \\hat{z}_{j}+\\sum_{i}^{=}i\\alpha \\hat{p}_{h}\\hat{z}_{i}\\right)^{2}$"
      ],
      "text/plain": [
       "zₕ+(zⱼ+∑ᵢ⁼iαpₕzᵢ)²"
      ]
     },
     "metadata": {},
     "output_type": "display_data"
    }
   ],
   "source": [
    "simplify(power(Sum(\"i\", alpha*ph*xi*yi) + zj,2)+zh)"
   ]
  },
  {
   "cell_type": "code",
   "execution_count": 13,
   "metadata": {},
   "outputs": [
    {
     "data": {
      "text/latex": [
       "$ \\hat{z}_{h}+\\sqrt{ \\hat{z}_{j}+\\sum_{i}^{=}i\\alpha \\hat{p}_{h}\\hat{z}_{i}}$"
      ],
      "text/plain": [
       "zₕ+(zⱼ+∑ᵢ⁼iαpₕzᵢ)⁼²"
      ]
     },
     "metadata": {},
     "output_type": "display_data"
    }
   ],
   "source": [
    "simplify(root(Sum(\"i\", alpha*ph*xi*yi) + zj,2)+zh)"
   ]
  },
  {
   "cell_type": "code",
   "execution_count": 14,
   "metadata": {},
   "outputs": [
    {
     "data": {
      "text/latex": [
       "$\\sum_{i}^{=}\\left(i \\hat{z}_{i}+i\\alpha \\hat{p}_{h}\\hat{z}_{i}\\hat{A}\\hat{x}_{i}\\right)\\sum_{j}^{=} \\hat{z}_{i}$"
      ],
      "text/plain": [
       "∑ᵢ⁼(izᵢ+iαpₕzᵢAxᵢ)∑ⱼ⁼zᵢ"
      ]
     },
     "metadata": {},
     "output_type": "display_data"
    }
   ],
   "source": [
    "Sum(\"i\", alpha*ph*xi*yi * A * xi + xi*yi) * Sum(\"j\", zi) "
   ]
  },
  {
   "cell_type": "code",
   "execution_count": null,
   "metadata": {},
   "outputs": [],
   "source": []
  },
  {
   "cell_type": "code",
   "execution_count": null,
   "metadata": {},
   "outputs": [],
   "source": []
  },
  {
   "cell_type": "code",
   "execution_count": null,
   "metadata": {},
   "outputs": [],
   "source": [
    "# Build and view documentation\n",
    "julia --project=. -e 'include(\"docs/make.jl\")'\n",
    "xdg-open docs/build/index.html\n"
   ]
  },
  {
   "cell_type": "code",
   "execution_count": 3,
   "metadata": {},
   "outputs": [
    {
     "data": {
      "text/latex": [
       "$\\alpha \\hat{A}_2^{2}$"
      ],
      "text/plain": [
       "α*A₂²"
      ]
     },
     "metadata": {},
     "output_type": "display_data"
    }
   ],
   "source": [
    "A = base_operators(qspace, \"A_2\")\n",
    "alpha = base_operators(qspace, \"alpha\")\n",
    "A*alpha*A"
   ]
  },
  {
   "cell_type": "code",
   "execution_count": 4,
   "metadata": {},
   "outputs": [
    {
     "data": {
      "text/latex": [
       "$\\alpha³ \\hat{A}_2^{3}$"
      ],
      "text/plain": [
       "α³*A₂³"
      ]
     },
     "metadata": {},
     "output_type": "display_data"
    }
   ],
   "source": [
    "alpha^2*A^2*alpha*A"
   ]
  },
  {
   "cell_type": "code",
   "execution_count": null,
   "metadata": {},
   "outputs": [],
   "source": []
  },
  {
   "cell_type": "code",
   "execution_count": null,
   "metadata": {},
   "outputs": [],
   "source": []
  }
 ],
 "metadata": {
  "kernelspec": {
   "display_name": "Julia 1.11.6",
   "language": "julia",
   "name": "julia-1.11"
  },
  "language_info": {
   "file_extension": ".jl",
   "mimetype": "application/julia",
   "name": "julia",
   "version": "1.11.6"
  }
 },
 "nbformat": 4,
 "nbformat_minor": 2
}
