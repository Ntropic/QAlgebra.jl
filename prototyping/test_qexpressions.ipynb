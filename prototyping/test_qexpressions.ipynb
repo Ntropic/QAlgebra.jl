{
 "cells": [
  {
   "cell_type": "code",
   "execution_count": 1,
   "metadata": {},
   "outputs": [
    {
     "name": "stderr",
     "output_type": "stream",
     "text": [
      "\u001b[92m\u001b[1mPrecompiling\u001b[22m\u001b[39m project...\n",
      "   1018.0 ms\u001b[32m  ✓ \u001b[39mqAlgebra\n",
      "  1 dependency successfully precompiled in 1 seconds. 7 already precompiled.\n"
     ]
    }
   ],
   "source": [
    "using Pkg \n",
    "Pkg.instantiate()\n",
    "using qAlgebra"
   ]
  },
  {
   "cell_type": "code",
   "execution_count": 2,
   "metadata": {},
   "outputs": [
    {
     "data": {
      "text/plain": [
       "StateSpace: [β(t), γᵢ, γⱼ, γₖ, δᵢ, δⱼ, δₖ, α]\n",
       "   - SubSpace [\"h\"]: PM Qubit (Fermionic):  pₚ, mₚ, zₚ, Iₚ (identity)\n",
       "   - SubSpace [\"i\", \"j\", \"k\"]: Pauli Qubit (Fermionic):  xₚ, yₚ, zₚ, Iₚ (identity)\n",
       "   - SubSpace [\"b\"]: Ladder (Bosonic):  p†, p\n",
       "   - Op: A\n",
       "   - Op: B(H,U)\n"
      ]
     },
     "metadata": {},
     "output_type": "display_data"
    }
   ],
   "source": [
    "qspace = StateSpace(\"alpha\", \"beta(t)\", \"gamma_i\", \"delta_i\", operators=[\"A(!i)\", \"B(U,H,i)\"], h=QubitPM(), i=(3, QubitPauli()), b=Ladder())"
   ]
  },
  {
   "cell_type": "code",
   "execution_count": 3,
   "metadata": {},
   "outputs": [
    {
     "name": "stdout",
     "output_type": "stream",
     "text": [
      "Done\n"
     ]
    }
   ],
   "source": [
    "var_dict, op_dict, abstract_dict = base_operators(qspace)\n",
    "alpha = base_operators(qspace, \"alpha\")\n",
    "ph, mh, zh = base_operators(qspace, \"h\", do_dict=false)\n",
    "xi,yi,zi, pi, mi = base_operators(qspace, \"i\", do_dict=false)\n",
    "xj, yj,zj, pj, mj = base_operators(qspace, \"j\")\n",
    "I = base_operators(qspace, \"I\")\n",
    "A = base_operators(qspace, \"A\")\n",
    "println(\"Done\")"
   ]
  },
  {
   "cell_type": "code",
   "execution_count": null,
   "metadata": {},
   "outputs": [
    {
     "name": "stdout",
     "output_type": "stream",
     "text": [
      "--------------------------------------------------\n",
      "before sorting: DataType[qSum]\n",
      "after sorting: DataType[qSum]\n",
      "other term: qSum(StateSpace: [β(t), γᵢ, γⱼ, γₖ, δᵢ, δⱼ, δₖ, α]\n",
      "   - SubSpace [\"h\"]: PM Qubit (Fermionic):  pₚ, mₚ, zₚ, Iₚ (identity)\n",
      "   - SubSpace [\"i\", \"j\", \"k\"]: Pauli Qubit (Fermionic):  xₚ, yₚ, zₚ, Iₚ (identity)\n",
      "   - SubSpace [\"b\"]: Ladder (Bosonic):  p†, p\n",
      "   - Op: A\n",
      "   - Op: B(H,U)\n",
      ", before sorting: DataType[qAtomProduct, qAtomProduct]\n",
      "after sorting: DataType[qAtomProduct, qAtomProduct]\n",
      "izᵢ+iαpₕzᵢAxᵢ, "
     ]
    },
    {
     "ename": "MethodError",
     "evalue": "MethodError: no method matching qComposite2string(::qSum; do_latex::Bool, do_sigma::Bool, braced::Bool, do_frac::Bool)\nThe function `qComposite2string` exists, but no method is defined for this combination of argument types.\n\nClosest candidates are:\n  qComposite2string(!Matched::qAtomProduct; do_latex, do_sigma, braced, do_frac)\n   @ qAlgebra ~/Documents/PhD/Research/Projects/qAlgebra/src/qExpressionsOps/qExpressionsPrint.jl:102\n",
     "output_type": "error",
     "traceback": [
      "MethodError: no method matching qComposite2string(::qSum; do_latex::Bool, do_sigma::Bool, braced::Bool, do_frac::Bool)\n",
      "The function `qComposite2string` exists, but no method is defined for this combination of argument types.\n",
      "\n",
      "Closest candidates are:\n",
      "  qComposite2string(!Matched::qAtomProduct; do_latex, do_sigma, braced, do_frac)\n",
      "   @ qAlgebra ~/Documents/PhD/Research/Projects/qAlgebra/src/qExpressionsOps/qExpressionsPrint.jl:102\n",
      "\n",
      "\n",
      "Stacktrace:\n",
      "  [1] qExpr2string(q::qExpr; do_latex::Bool, do_sigma::Bool, braced::Bool, do_frac::Bool, return_grouping::Bool)\n",
      "    @ qAlgebra.qExpressions ~/Documents/PhD/Research/Projects/qAlgebra/src/qExpressionsOps/qExpressionsPrint.jl:218\n",
      "  [2] qExpr2string\n",
      "    @ ~/Documents/PhD/Research/Projects/qAlgebra/src/qExpressionsOps/qExpressionsPrint.jl:182 [inlined]\n",
      "  [3] string\n",
      "    @ ~/Documents/PhD/Research/Projects/qAlgebra/src/qExpressionsOps/qExpressionsPrint.jl:278 [inlined]\n",
      "  [4] show\n",
      "    @ ~/Documents/PhD/Research/Projects/qAlgebra/src/qExpressionsOps/qExpressionsPrint.jl:298 [inlined]\n",
      "  [5] show\n",
      "    @ ./multimedia.jl:47 [inlined]\n",
      "  [6] limitstringmime(mime::MIME{Symbol(\"text/plain\")}, x::qExpr)\n",
      "    @ VSCodeServer.IJuliaCore ~/.vscode-oss/extensions/julialang.language-julia-1.146.2-universal/scripts/packages/IJuliaCore/src/inline.jl:22\n",
      "  [7] display_mimestring(m::MIME{Symbol(\"text/plain\")}, x::qExpr)\n",
      "    @ VSCodeServer.IJuliaCore ~/.vscode-oss/extensions/julialang.language-julia-1.146.2-universal/scripts/packages/IJuliaCore/src/display.jl:67\n",
      "  [8] display_dict(x::qExpr)\n",
      "    @ VSCodeServer.IJuliaCore ~/.vscode-oss/extensions/julialang.language-julia-1.146.2-universal/scripts/packages/IJuliaCore/src/display.jl:98\n",
      "  [9] display(::VSCodeServer.JuliaNotebookInlineDisplay, x::qExpr)\n",
      "    @ VSCodeServer ~/.vscode-oss/extensions/julialang.language-julia-1.146.2-universal/scripts/packages/VSCodeServer/src/notebookdisplay.jl:32\n",
      " [10] display(x::Any)\n",
      "    @ Base.Multimedia ./multimedia.jl:340\n",
      " [11] #invokelatest#2\n",
      "    @ ./essentials.jl:1055 [inlined]\n",
      " [12] invokelatest\n",
      "    @ ./essentials.jl:1052 [inlined]\n",
      " [13] (::VSCodeServer.var\"#217#218\"{VSCodeServer.NotebookRunCellArguments, String})()\n",
      "    @ VSCodeServer ~/.vscode-oss/extensions/julialang.language-julia-1.146.2-universal/scripts/packages/VSCodeServer/src/serve_notebook.jl:54\n",
      " [14] withpath(f::VSCodeServer.var\"#217#218\"{VSCodeServer.NotebookRunCellArguments, String}, path::String)\n",
      "    @ VSCodeServer ~/.vscode-oss/extensions/julialang.language-julia-1.146.2-universal/scripts/packages/VSCodeServer/src/repl.jl:276\n",
      " [15] notebook_runcell_request(conn::VSCodeServer.JSONRPC.JSONRPCEndpoint{Base.PipeEndpoint, Base.PipeEndpoint, VSCodeServer.JSON.Serializations.StandardSerialization}, params::VSCodeServer.NotebookRunCellArguments, token::VSCodeServer.CancellationTokens.CancellationToken)\n",
      "    @ VSCodeServer ~/.vscode-oss/extensions/julialang.language-julia-1.146.2-universal/scripts/packages/VSCodeServer/src/serve_notebook.jl:13\n",
      " [16] dispatch_msg(x::VSCodeServer.JSONRPC.JSONRPCEndpoint{Base.PipeEndpoint, Base.PipeEndpoint, VSCodeServer.JSON.Serializations.StandardSerialization}, dispatcher::VSCodeServer.JSONRPC.MsgDispatcher, msg::VSCodeServer.JSONRPC.Request)\n",
      "    @ VSCodeServer.JSONRPC ~/.vscode-oss/extensions/julialang.language-julia-1.146.2-universal/scripts/packages/JSONRPC/src/typed.jl:68\n",
      " [17] serve_notebook(pipename::String, debugger_pipename::String, outputchannel_logger::Base.CoreLogging.SimpleLogger; error_handler::var\"#5#10\"{String})\n",
      "    @ VSCodeServer ~/.vscode-oss/extensions/julialang.language-julia-1.146.2-universal/scripts/packages/VSCodeServer/src/serve_notebook.jl:147\n",
      " [18] top-level scope\n",
      "    @ ~/.vscode-oss/extensions/julialang.language-julia-1.146.2-universal/scripts/notebook/notebook.jl:35"
     ]
    }
   ],
   "source": [
    "a = Sum(\"i\", alpha*ph*xi*yi * A * xi + xi*yi)"
   ]
  },
  {
   "cell_type": "code",
   "execution_count": null,
   "metadata": {},
   "outputs": [],
   "source": []
  },
  {
   "cell_type": "code",
   "execution_count": null,
   "metadata": {},
   "outputs": [],
   "source": []
  },
  {
   "cell_type": "code",
   "execution_count": null,
   "metadata": {},
   "outputs": [],
   "source": []
  },
  {
   "cell_type": "code",
   "execution_count": null,
   "metadata": {},
   "outputs": [],
   "source": []
  },
  {
   "cell_type": "code",
   "execution_count": null,
   "metadata": {},
   "outputs": [],
   "source": []
  },
  {
   "cell_type": "code",
   "execution_count": 5,
   "metadata": {},
   "outputs": [
    {
     "data": {
      "text/latex": [
       "$i\\alpha \\hat{p}_{h}\\hat{z}_{i}\\hat{A}$"
      ],
      "text/plain": [
       "iαpₕzᵢA"
      ]
     },
     "metadata": {},
     "output_type": "display_data"
    },
    {
     "name": "stdout",
     "output_type": "stream",
     "text": [
      "DataType[qAtomProduct]\n",
      "DataType[qAtomProduct]\n",
      "DataType[qAtomProduct]\n",
      "DataType[qAtomProduct]\n"
     ]
    }
   ],
   "source": [
    "alpha*ph*xi*yi*A"
   ]
  },
  {
   "cell_type": "code",
   "execution_count": 6,
   "metadata": {},
   "outputs": [
    {
     "name": "stdout",
     "output_type": "stream",
     "text": [
      "DataType[qAtomProduct, qAtomProduct]\n",
      "DataType[qAtomProduct, qAtomProduct]\n",
      "DataType[qAtomProduct, qAtomProduct]\n",
      "DataType[qAtomProduct, qAtomProduct]\n"
     ]
    },
    {
     "data": {
      "text/latex": [
       "$i \\hat{z}_{i}-i\\alpha \\hat{p}_{h}\\hat{z}_{i}\\hat{A}$"
      ],
      "text/plain": [
       "izᵢ-iαpₕzᵢA"
      ]
     },
     "metadata": {},
     "output_type": "display_data"
    }
   ],
   "source": [
    "a = -alpha*ph*xi*yi * A  + xi*yi"
   ]
  },
  {
   "cell_type": "code",
   "execution_count": null,
   "metadata": {},
   "outputs": [],
   "source": []
  },
  {
   "cell_type": "code",
   "execution_count": null,
   "metadata": {},
   "outputs": [],
   "source": []
  },
  {
   "cell_type": "code",
   "execution_count": null,
   "metadata": {},
   "outputs": [],
   "source": []
  },
  {
   "cell_type": "code",
   "execution_count": null,
   "metadata": {},
   "outputs": [],
   "source": []
  },
  {
   "cell_type": "code",
   "execution_count": null,
   "metadata": {},
   "outputs": [],
   "source": []
  },
  {
   "cell_type": "code",
   "execution_count": 8,
   "metadata": {},
   "outputs": [
    {
     "data": {
      "text/plain": [
       "Dict{String, qExpr} with 23 entries:\n",
       "  \"x_i\" => xᵢ\n",
       "  \"y_h\" => -i(pₕ-mₕ)\n",
       "  \"m_k\" => (xₖ+iyₖ)\n",
       "  \"b\"   => b\n",
       "  \"x_j\" => xⱼ\n",
       "  \"y_k\" => yₖ\n",
       "  \"p_h\" => pₕ\n",
       "  \"z_i\" => zᵢ\n",
       "  \"y_i\" => yᵢ\n",
       "  \"z_h\" => zₕ\n",
       "  \"x_h\" => (pₕ+mₕ)\n",
       "  \"m_h\" => mₕ\n",
       "  \"m_j\" => (xⱼ+iyⱼ)\n",
       "  \"z_j\" => zⱼ\n",
       "  \"x_k\" => xₖ\n",
       "  \"m_i\" => (xᵢ+iyᵢ)\n",
       "  \"z_k\" => zₖ\n",
       "  \"p_k\" => (xₖ-iyₖ)\n",
       "  \"I\"   => 1\n",
       "  ⋮     => ⋮"
      ]
     },
     "metadata": {},
     "output_type": "display_data"
    }
   ],
   "source": [
    "var_dict, op_dict, abstract_dict = base_operators(qspace)\n",
    "op_dict"
   ]
  },
  {
   "cell_type": "code",
   "execution_count": null,
   "metadata": {},
   "outputs": [],
   "source": [
    "var_dict"
   ]
  },
  {
   "cell_type": "code",
   "execution_count": null,
   "metadata": {},
   "outputs": [],
   "source": []
  },
  {
   "cell_type": "code",
   "execution_count": 3,
   "metadata": {},
   "outputs": [
    {
     "data": {
      "text/latex": [
       "$\\alpha \\hat{A}_2^{2}$"
      ],
      "text/plain": [
       "α*A₂²"
      ]
     },
     "metadata": {},
     "output_type": "display_data"
    }
   ],
   "source": [
    "A = base_operators(qspace, \"A_2\")\n",
    "alpha = base_operators(qspace, \"alpha\")\n",
    "A*alpha*A"
   ]
  },
  {
   "cell_type": "code",
   "execution_count": 4,
   "metadata": {},
   "outputs": [
    {
     "data": {
      "text/latex": [
       "$\\alpha³ \\hat{A}_2^{3}$"
      ],
      "text/plain": [
       "α³*A₂³"
      ]
     },
     "metadata": {},
     "output_type": "display_data"
    }
   ],
   "source": [
    "alpha^2*A^2*alpha*A"
   ]
  },
  {
   "cell_type": "code",
   "execution_count": null,
   "metadata": {},
   "outputs": [],
   "source": []
  },
  {
   "cell_type": "code",
   "execution_count": null,
   "metadata": {},
   "outputs": [],
   "source": []
  }
 ],
 "metadata": {
  "kernelspec": {
   "display_name": "Julia 1.11.5",
   "language": "julia",
   "name": "julia-1.11"
  },
  "language_info": {
   "file_extension": ".jl",
   "mimetype": "application/julia",
   "name": "julia",
   "version": "1.11.5"
  }
 },
 "nbformat": 4,
 "nbformat_minor": 2
}
