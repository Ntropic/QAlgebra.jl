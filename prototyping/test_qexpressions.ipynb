{
 "cells": [
  {
   "cell_type": "code",
   "execution_count": 1,
   "metadata": {},
   "outputs": [
    {
     "name": "stderr",
     "output_type": "stream",
     "text": [
      "\u001b[92m\u001b[1mPrecompiling\u001b[22m\u001b[39m project...\n",
      "   1172.1 ms\u001b[32m  ✓ \u001b[39mQAlgebra\n",
      "  1 dependency successfully precompiled in 2 seconds. 7 already precompiled.\n"
     ]
    }
   ],
   "source": [
    "using Pkg\n",
    "Pkg.instantiate()\n",
    "using QAlgebra\n",
    "\n",
    "using BenchmarkTools"
   ]
  },
  {
   "cell_type": "code",
   "execution_count": 6,
   "metadata": {},
   "outputs": [
    {
     "ename": "ArgumentError",
     "evalue": "ArgumentError: new: too many arguments (expected 18)",
     "output_type": "error",
     "traceback": [
      "ArgumentError: new: too many arguments (expected 18)\n",
      "\n",
      "Stacktrace:\n",
      " [1] StateSpace(::String, ::Vararg{String}; operators::Vector{String}, make_global::Bool, kwargs::@Kwargs{h::OperatorSet, i::Tuple{Int64, OperatorSet}, b::OperatorSet})\n",
      "   @ QAlgebra.QSpace ~/Documents/PhD/Research/Projects/QAlgebra.jl/src/QSpace.jl:476\n",
      " [2] top-level scope\n",
      "   @ ~/Documents/PhD/Research/Projects/QAlgebra.jl/prototyping/jl_notebook_cell_df34fa98e69747e1a8f8a730347b8e2f_W1sZmlsZQ==.jl:1"
     ]
    }
   ],
   "source": [
    "qspace = StateSpace(\"alpha\", \"beta(t)\", \"gamma_i\", \"delta_i\", operators=[\"A(!i)\", \"B(U,H,i)\"], h=QubitPM(\"eta\"), i=(3, QubitPauli(\"sigma\")), b=Ladder())"
   ]
  },
  {
   "cell_type": "code",
   "execution_count": 3,
   "metadata": {},
   "outputs": [
    {
     "ename": "UndefVarError",
     "evalue": "UndefVarError: `qspace` not defined in `Main`\nSuggestion: check for spelling errors or missing imports.",
     "output_type": "error",
     "traceback": [
      "UndefVarError: `qspace` not defined in `Main`\n",
      "Suggestion: check for spelling errors or missing imports.\n",
      "\n",
      "Stacktrace:\n",
      " [1] top-level scope\n",
      "   @ ~/Documents/PhD/Research/Projects/QAlgebra.jl/prototyping/jl_notebook_cell_df34fa98e69747e1a8f8a730347b8e2f_W2sZmlsZQ==.jl:1"
     ]
    }
   ],
   "source": [
    "var_dict, op_dict, abstract_dict = base_operators(qspace)\n",
    "alpha = base_operators(qspace, \"alpha\")\n",
    "beta = base_operators(qspace, \"beta\")\n",
    "gamma_i, gamma_j, gamma_k = base_operators(qspace, \"gamma\", do_dict=false)\n",
    "ph, mh, zh = base_operators(qspace, \"h\", do_dict=false)\n",
    "xi,yi,zi, pi, mi = base_operators(qspace, \"i\", do_dict=false)\n",
    "xj, yj, zj, pj, mj = base_operators(qspace, \"j\", do_dict=false)\n",
    "xk, yk, zk, pk, mk = base_operators(qspace, \"k\", do_dict=false)\n",
    "b, n = base_operators(qspace, \"b\", do_dict=false)\n",
    "I = base_operators(qspace, \"I\")\n",
    "A = base_operators(qspace, \"A\")\n",
    "println(\"Done\")"
   ]
  },
  {
   "cell_type": "code",
   "execution_count": 4,
   "metadata": {},
   "outputs": [
    {
     "ename": "UndefVarError",
     "evalue": "UndefVarError: `qspace` not defined in `Main`\nSuggestion: check for spelling errors or missing imports.",
     "output_type": "error",
     "traceback": [
      "UndefVarError: `qspace` not defined in `Main`\n",
      "Suggestion: check for spelling errors or missing imports.\n",
      "\n",
      "Stacktrace:\n",
      " [1] top-level scope\n",
      "   @ ~/Documents/PhD/Research/Projects/QAlgebra.jl/prototyping/jl_notebook_cell_df34fa98e69747e1a8f8a730347b8e2f_W3sZmlsZQ==.jl:1"
     ]
    }
   ],
   "source": [
    "A = base_operators(qspace, \"A\", do_fun=true)\n",
    "A1 = base_operators(qspace, \"A_1\", do_fun=false)\n",
    "A = A()"
   ]
  },
  {
   "cell_type": "code",
   "execution_count": 5,
   "metadata": {},
   "outputs": [
    {
     "ename": "UndefVarError",
     "evalue": "UndefVarError: `alpha` not defined in `Main`\nSuggestion: check for spelling errors or missing imports.",
     "output_type": "error",
     "traceback": [
      "UndefVarError: `alpha` not defined in `Main`\n",
      "Suggestion: check for spelling errors or missing imports.\n",
      "\n",
      "Stacktrace:\n",
      " [1] top-level scope\n",
      "   @ ~/Documents/PhD/Research/Projects/QAlgebra.jl/prototyping/jl_notebook_cell_df34fa98e69747e1a8f8a730347b8e2f_Y100sZmlsZQ==.jl:1"
     ]
    }
   ],
   "source": [
    "expr = simplify(neq(log(Sum(\"j\", alpha * yi * yj + Sum(\"k\", beta * gamma_j * gamma_k * xi * xj * xk)))))"
   ]
  },
  {
   "cell_type": "code",
   "execution_count": 6,
   "metadata": {},
   "outputs": [
    {
     "ename": "UndefVarError",
     "evalue": "UndefVarError: `qspace` not defined in `Main`\nSuggestion: check for spelling errors or missing imports.",
     "output_type": "error",
     "traceback": [
      "UndefVarError: `qspace` not defined in `Main`\n",
      "Suggestion: check for spelling errors or missing imports.\n",
      "\n",
      "Stacktrace:\n",
      " [1] top-level scope\n",
      "   @ ~/Documents/PhD/Research/Projects/QAlgebra.jl/prototyping/jl_notebook_cell_df34fa98e69747e1a8f8a730347b8e2f_Y101sZmlsZQ==.jl:1"
     ]
    }
   ],
   "source": [
    "qspace.subspace_by_ind"
   ]
  },
  {
   "cell_type": "code",
   "execution_count": 11,
   "metadata": {},
   "outputs": [
    {
     "data": {
      "text/plain": [
       "1-element Vector{QAtom}:\n",
       " QTerm([[1], [4], [4], [4], [0, 0]])"
      ]
     },
     "metadata": {},
     "output_type": "display_data"
    }
   ],
   "source": [
    "ph.terms[1].expr"
   ]
  },
  {
   "cell_type": "code",
   "execution_count": 13,
   "metadata": {},
   "outputs": [
    {
     "data": {
      "text/plain": [
       "1-element Vector{Int64}:\n",
       " 1"
      ]
     },
     "metadata": {},
     "output_type": "display_data"
    }
   ],
   "source": [
    "qspace.subspaces[1].statespace_inds"
   ]
  },
  {
   "cell_type": "code",
   "execution_count": 15,
   "metadata": {},
   "outputs": [
    {
     "data": {
      "text/latex": [
       "$ {\\hat{\\sigma}}^{x}_{j}\\sum_{k}^{=}\\alpha²\\beta(t)(1+\\beta(t)) {\\hat{\\sigma}}^{x}_{k}$"
      ],
      "text/plain": [
       "σˣⱼ∑ₖ⁼α²β(t)(1+β(t))σˣₖ"
      ]
     },
     "metadata": {},
     "output_type": "display_data"
    }
   ],
   "source": [
    "xj*Sum(\"k\", (beta + beta^2) * alpha^2 * xi * xi * xk)"
   ]
  },
  {
   "cell_type": "code",
   "execution_count": 16,
   "metadata": {},
   "outputs": [
    {
     "data": {
      "text/latex": [
       "$\\alpha\\beta(t)² {\\hat{\\sigma}}^{y}_{i}+\\alpha\\beta(t)\\exp\\left(\\alpha\\right) {\\hat{\\sigma}}^{y}_{i}$"
      ],
      "text/plain": [
       "αβ(t)²σʸᵢ+αβ(t)exp(α)σʸᵢ"
      ]
     },
     "metadata": {},
     "output_type": "display_data"
    }
   ],
   "source": [
    "alpha * (beta*exp(alpha)+beta^2)*yi"
   ]
  },
  {
   "cell_type": "code",
   "execution_count": 17,
   "metadata": {},
   "outputs": [
    {
     "data": {
      "text/latex": [
       "$\\sum_{j}^{=}\\left(\\alpha\\beta(t)(1+\\beta(t)) {\\hat{\\sigma}}^{y}_{i}{\\hat{\\sigma}}^{y}_{j}+\\sum_{k}^{=}\\alpha²\\beta(t) {\\hat{\\sigma}}^{x}_{k}\\right)$"
      ],
      "text/plain": [
       "∑ⱼ⁼(αβ(t)(1+β(t))σʸᵢσʸⱼ+∑ₖ⁼α²β(t)σˣₖ)"
      ]
     },
     "metadata": {},
     "output_type": "display_data"
    }
   ],
   "source": [
    "Sum(\"j\", alpha * (beta+beta^2) * yi * yj + Sum(\"k\", beta * alpha^2 * xi * xi * xk))"
   ]
  },
  {
   "cell_type": "code",
   "execution_count": 18,
   "metadata": {},
   "outputs": [
    {
     "data": {
      "text/plain": [
       "BenchmarkTools.Trial: 10000 samples with 1 evaluation per sample.\n",
       " Range \u001b[90m(\u001b[39m\u001b[36m\u001b[1mmin\u001b[22m\u001b[39m … \u001b[35mmax\u001b[39m\u001b[90m):  \u001b[39m\u001b[36m\u001b[1m29.364 μs\u001b[22m\u001b[39m … \u001b[35m 20.068 ms\u001b[39m  \u001b[90m┊\u001b[39m GC \u001b[90m(\u001b[39mmin … max\u001b[90m): \u001b[39m 0.00% … 99.29%\n",
       " Time  \u001b[90m(\u001b[39m\u001b[34m\u001b[1mmedian\u001b[22m\u001b[39m\u001b[90m):     \u001b[39m\u001b[34m\u001b[1m33.742 μs               \u001b[22m\u001b[39m\u001b[90m┊\u001b[39m GC \u001b[90m(\u001b[39mmedian\u001b[90m):    \u001b[39m 0.00%\n",
       " Time  \u001b[90m(\u001b[39m\u001b[32m\u001b[1mmean\u001b[22m\u001b[39m ± \u001b[32mσ\u001b[39m\u001b[90m):   \u001b[39m\u001b[32m\u001b[1m43.478 μs\u001b[22m\u001b[39m ± \u001b[32m362.848 μs\u001b[39m  \u001b[90m┊\u001b[39m GC \u001b[90m(\u001b[39mmean ± σ\u001b[90m):  \u001b[39m18.13% ±  2.22%\n",
       "\n",
       "  \u001b[39m \u001b[39m \u001b[39m \u001b[39m \u001b[39m▄\u001b[39m█\u001b[39m▇\u001b[34m▄\u001b[39m\u001b[39m▁\u001b[39m \u001b[39m \u001b[39m \u001b[39m \u001b[39m \u001b[39m \u001b[39m \u001b[39m \u001b[39m \u001b[39m \u001b[39m \u001b[39m \u001b[39m \u001b[32m \u001b[39m\u001b[39m \u001b[39m \u001b[39m \u001b[39m \u001b[39m \u001b[39m \u001b[39m \u001b[39m \u001b[39m \u001b[39m \u001b[39m \u001b[39m \u001b[39m \u001b[39m \u001b[39m \u001b[39m \u001b[39m \u001b[39m \u001b[39m \u001b[39m \u001b[39m \u001b[39m \u001b[39m \u001b[39m \u001b[39m \u001b[39m \u001b[39m \u001b[39m \u001b[39m \u001b[39m \u001b[39m \u001b[39m \u001b[39m \u001b[39m \u001b[39m \u001b[39m \u001b[39m \u001b[39m \u001b[39m \n",
       "  \u001b[39m▅\u001b[39m█\u001b[39m▆\u001b[39m█\u001b[39m█\u001b[39m█\u001b[39m█\u001b[34m█\u001b[39m\u001b[39m█\u001b[39m█\u001b[39m█\u001b[39m▇\u001b[39m▇\u001b[39m▅\u001b[39m▅\u001b[39m▄\u001b[39m▃\u001b[39m▃\u001b[39m▃\u001b[39m▃\u001b[39m▂\u001b[39m▂\u001b[32m▂\u001b[39m\u001b[39m▂\u001b[39m▂\u001b[39m▂\u001b[39m▂\u001b[39m▂\u001b[39m▂\u001b[39m▂\u001b[39m▂\u001b[39m▂\u001b[39m▂\u001b[39m▂\u001b[39m▂\u001b[39m▂\u001b[39m▂\u001b[39m▂\u001b[39m▂\u001b[39m▂\u001b[39m▂\u001b[39m▂\u001b[39m▂\u001b[39m▂\u001b[39m▂\u001b[39m▂\u001b[39m▂\u001b[39m▂\u001b[39m▂\u001b[39m▂\u001b[39m▂\u001b[39m▂\u001b[39m▂\u001b[39m▂\u001b[39m▂\u001b[39m▂\u001b[39m▂\u001b[39m▁\u001b[39m▂\u001b[39m▂\u001b[39m \u001b[39m▃\n",
       "  29.4 μs\u001b[90m         Histogram: frequency by time\u001b[39m         67.1 μs \u001b[0m\u001b[1m<\u001b[22m\n",
       "\n",
       " Memory estimate\u001b[90m: \u001b[39m\u001b[33m96.12 KiB\u001b[39m, allocs estimate\u001b[90m: \u001b[39m\u001b[33m1458\u001b[39m."
      ]
     },
     "metadata": {},
     "output_type": "display_data"
    }
   ],
   "source": [
    "@benchmark Sum(\"j\", alpha * yi * yj + Sum(\"k\", beta * alpha^2 * xi * xj * xk))"
   ]
  },
  {
   "cell_type": "code",
   "execution_count": null,
   "metadata": {},
   "outputs": [
    {
     "data": {
      "text/latex": [
       "$\\log\\left(\\beta(t)\\gamma_{i}^{2}\\left( {\\hat{\\sigma}}^{x}_{i}+ {\\hat{\\sigma}}^{x}_{i}\\right)+\\alpha+\\sum_{j}^{\\neq}\\beta(t)\\gamma_{j}² {\\hat{\\sigma}}^{x}_{i}+\\sum_{j}^{\\neq}\\beta(t)\\gamma_{i}\\gamma_{j} {\\hat{\\sigma}}^{x}_{j}+\\sum_{j}^{=}\\alpha {\\hat{\\sigma}}^{y}_{i}{\\hat{\\sigma}}^{y}_{j}+\\sum_{k}^{\\neq}\\beta(t)\\gamma_{i}\\gamma_{k} {\\hat{\\sigma}}^{x}_{k}+\\sum_{j,k}^{=}\\beta(t)\\gamma_{j}\\gamma_{k} {\\hat{\\sigma}}^{x}_{i}{\\hat{\\sigma}}^{x}_{j}{\\hat{\\sigma}}^{x}_{k}\\right)$"
      ],
      "text/plain": [
       "log(β(t)γᵢ²(σˣᵢ+σˣᵢ)+α+∑ⱼβ(t)γⱼ²σˣᵢ+∑ⱼβ(t)γᵢγⱼσˣⱼ+∑ⱼ⁼ασʸᵢσʸⱼ+∑ₖβ(t)γᵢγₖσˣₖ+∑ⱼₖ⁼β(t)γⱼγₖσˣᵢσˣⱼσˣₖ)"
      ]
     },
     "metadata": {},
     "output_type": "display_data"
    }
   ],
   "source": [
    "expr = simplify(neq(log(Sum(\"j\", alpha * yi * yj + Sum(\"k\", beta * gamma_j * gamma_k * xi * xj * xk)))))"
   ]
  },
  {
   "cell_type": "code",
   "execution_count": 22,
   "metadata": {},
   "outputs": [
    {
     "data": {
      "text/latex": [
       "$\\frac{\\text{d}  {\\hat{\\sigma}}^{x}_{i}}{\\text{d}t} = \\log\\left(\\beta(t)\\gamma_{i}^{2}\\left( {\\hat{\\sigma}}^{x}_{i}\\hat{A}{\\hat{\\sigma}}^{x}_{i}+ {\\hat{\\sigma}}^{x}_{i}\\hat{A}{\\hat{\\sigma}}^{x}_{i}+ {\\hat{\\sigma}}^{x}_{i}\\hat{A}{\\hat{\\sigma}}^{x}_{i}+ {\\hat{\\sigma}}^{x}_{i}\\hat{A}{\\hat{\\sigma}}^{x}_{i}\\right)+\\alpha\\left( {\\hat{\\sigma}}^{y}_{i}\\hat{A}+ {\\hat{\\sigma}}^{y}_{i}\\hat{A}\\right)+\\sum_{j}^{\\neq}\\beta(t)\\gamma_{j}² {\\hat{\\sigma}}^{x}_{j}\\hat{A}{\\hat{\\sigma}}^{x}_{j}+\\sum_{j}^{\\neq}\\beta(t)\\gamma_{j}² {\\hat{\\sigma}}^{x}_{j}\\hat{A}{\\hat{\\sigma}}^{x}_{j}+\\sum_{j}^{\\neq}\\beta(t)\\gamma_{i}\\gamma_{j} {\\hat{\\sigma}}^{x}_{j}\\hat{A}{\\hat{\\sigma}}^{x}_{i}+\\sum_{j}^{\\neq}\\beta(t)\\gamma_{i}\\gamma_{j} {\\hat{\\sigma}}^{x}_{j}\\hat{A}{\\hat{\\sigma}}^{x}_{i}+\\sum_{j}^{=}\\alpha {\\hat{\\sigma}}^{y}_{j}\\hat{A}+\\sum_{k}^{\\neq}\\beta(t)\\gamma_{i}\\gamma_{k} {\\hat{\\sigma}}^{x}_{i}\\hat{A}{\\hat{\\sigma}}^{x}_{k}+\\sum_{k}^{\\neq}\\beta(t)\\gamma_{i}\\gamma_{k} {\\hat{\\sigma}}^{x}_{i}\\hat{A}{\\hat{\\sigma}}^{x}_{k}+\\sum_{j,k}^{=}\\beta(t)\\gamma_{j}\\gamma_{k} {\\hat{\\sigma}}^{x}_{j}\\hat{A}{\\hat{\\sigma}}^{x}_{k}\\right)$"
      ],
      "text/plain": [
       "d(σˣᵢ) / dt = log(β(t)γᵢ²(σˣᵢAσˣᵢ+σˣᵢAσˣᵢ+σˣᵢAσˣᵢ+σˣᵢAσˣᵢ)+α(σʸᵢA+σʸᵢA)+∑ⱼβ(t)γⱼ²σˣⱼAσˣⱼ+∑ⱼβ(t)γⱼ²σˣⱼAσˣⱼ+∑ⱼβ(t)γᵢγⱼσˣⱼAσˣᵢ+∑ⱼβ(t)γᵢγⱼσˣⱼAσˣᵢ+∑ⱼ⁼ασʸⱼA+∑ₖβ(t)γᵢγₖσˣᵢAσˣₖ+∑ₖβ(t)γᵢγₖσˣᵢAσˣₖ+∑ⱼₖ⁼β(t)γⱼγₖσˣⱼAσˣₖ)"
      ]
     },
     "metadata": {},
     "output_type": "display_data"
    }
   ],
   "source": [
    "simplify(d_dt(xi, expr))"
   ]
  },
  {
   "cell_type": "code",
   "execution_count": 7,
   "metadata": {},
   "outputs": [
    {
     "data": {
      "text/latex": [
       "$\\frac{\\text{d}  {\\hat{\\sigma}}^{x}_{i}}{\\text{d}t} = \\log\\left(4\\beta(t)\\gamma_{i}² {\\hat{\\sigma}}^{x}_{i}+-2i\\alpha {\\hat{\\sigma}}^{z}_{i}+\\sum_{j}^{\\neq}\\left(\\alpha {\\hat{\\sigma}}^{x}_{i}{\\hat{\\sigma}}^{y}_{j}+2\\beta(t)\\gamma_{j}² {\\hat{\\sigma}}^{x}_{i}+2\\beta(t)\\gamma_{i}\\gamma_{j} {\\hat{\\sigma}}^{x}_{j}\\right)+\\sum_{k}^{\\neq}2\\beta(t)\\gamma_{i}\\gamma_{k} {\\hat{\\sigma}}^{x}_{k}+\\sum_{j,k}^{=}\\beta(t)\\gamma_{j}\\gamma_{k} {\\hat{\\sigma}}^{x}_{i}{\\hat{\\sigma}}^{x}_{j}{\\hat{\\sigma}}^{x}_{k}\\right)$"
      ],
      "text/plain": [
       "d(σˣᵢ) / dt = log(4β(t)γᵢ²σˣᵢ+-2iασᶻᵢ+∑ⱼ(ασˣᵢσʸⱼ+2β(t)γⱼ²σˣᵢ+2β(t)γᵢγⱼσˣⱼ)+∑ₖ2β(t)γᵢγₖσˣₖ+∑ⱼₖ⁼β(t)γⱼγₖσˣᵢσˣⱼσˣₖ)"
      ]
     },
     "metadata": {},
     "output_type": "display_data"
    }
   ],
   "source": [
    "expr = neq(log(Sum(\"j\", alpha * A * yj + Sum(\"k\", beta * gamma_j * gamma_k * A * xj * xk))))\n",
    "dA_dt = d_dt(A, expr)\n",
    "dx_dt = simplify(substitute(A, xi, dA_dt))"
   ]
  },
  {
   "cell_type": "code",
   "execution_count": 8,
   "metadata": {},
   "outputs": [
    {
     "data": {
      "text/latex": [
       "$\\log\\left(\\beta(t)\\gamma_{i}^{2}\\left( {\\hat{\\sigma}}^{x}_{i}\\hat{A}{\\hat{\\sigma}}^{x}_{i}+ {\\hat{\\sigma}}^{x}_{i}\\hat{A}{\\hat{\\sigma}}^{x}_{i}\\right)+\\alpha {\\hat{\\sigma}}^{y}_{i}\\hat{A}+\\sum_{j}^{\\neq}\\beta(t)\\gamma_{j}² {\\hat{\\sigma}}^{x}_{j}\\hat{A}{\\hat{\\sigma}}^{x}_{j}+\\sum_{j}^{\\neq}\\beta(t)\\gamma_{i}\\gamma_{j} {\\hat{\\sigma}}^{x}_{j}\\hat{A}{\\hat{\\sigma}}^{x}_{i}+\\sum_{j}^{=}\\alpha {\\hat{\\sigma}}^{y}_{j}\\hat{A}+\\sum_{k}^{\\neq}\\beta(t)\\gamma_{i}\\gamma_{k} {\\hat{\\sigma}}^{x}_{i}\\hat{A}{\\hat{\\sigma}}^{x}_{k}+\\sum_{j,k}^{=}\\beta(t)\\gamma_{j}\\gamma_{k} {\\hat{\\sigma}}^{x}_{j}\\hat{A}{\\hat{\\sigma}}^{x}_{k}\\right)$"
      ],
      "text/plain": [
       "log(β(t)γᵢ²(σˣᵢAσˣᵢ+σˣᵢAσˣᵢ)+ασʸᵢA+∑ⱼβ(t)γⱼ²σˣⱼAσˣⱼ+∑ⱼβ(t)γᵢγⱼσˣⱼAσˣᵢ+∑ⱼ⁼ασʸⱼA+∑ₖβ(t)γᵢγₖσˣᵢAσˣₖ+∑ⱼₖ⁼β(t)γⱼγₖσˣⱼAσˣₖ)"
      ]
     },
     "metadata": {},
     "output_type": "display_data"
    }
   ],
   "source": [
    "expr = neq(log(Sum(\"j\", alpha * A * yj + Sum(\"k\", beta * gamma_j * gamma_k * A * xj * xk))))"
   ]
  },
  {
   "cell_type": "code",
   "execution_count": 9,
   "metadata": {},
   "outputs": [
    {
     "data": {
      "text/plain": [
       "BenchmarkTools.Trial: 10000 samples with 1 evaluation per sample.\n",
       " Range \u001b[90m(\u001b[39m\u001b[36m\u001b[1mmin\u001b[22m\u001b[39m … \u001b[35mmax\u001b[39m\u001b[90m):  \u001b[39m\u001b[36m\u001b[1m140.061 μs\u001b[22m\u001b[39m … \u001b[35m 23.237 ms\u001b[39m  \u001b[90m┊\u001b[39m GC \u001b[90m(\u001b[39mmin … max\u001b[90m): \u001b[39m 0.00% … 98.72%\n",
       " Time  \u001b[90m(\u001b[39m\u001b[34m\u001b[1mmedian\u001b[22m\u001b[39m\u001b[90m):     \u001b[39m\u001b[34m\u001b[1m162.302 μs               \u001b[22m\u001b[39m\u001b[90m┊\u001b[39m GC \u001b[90m(\u001b[39mmedian\u001b[90m):    \u001b[39m 0.00%\n",
       " Time  \u001b[90m(\u001b[39m\u001b[32m\u001b[1mmean\u001b[22m\u001b[39m ± \u001b[32mσ\u001b[39m\u001b[90m):   \u001b[39m\u001b[32m\u001b[1m201.878 μs\u001b[22m\u001b[39m ± \u001b[32m520.040 μs\u001b[39m  \u001b[90m┊\u001b[39m GC \u001b[90m(\u001b[39mmean ± σ\u001b[90m):  \u001b[39m16.84% ±  7.46%\n",
       "\n",
       "  \u001b[39m \u001b[39m▂\u001b[39m▁\u001b[39m▄\u001b[39m▇\u001b[39m█\u001b[34m█\u001b[39m\u001b[39m▇\u001b[39m▆\u001b[39m▅\u001b[39m▄\u001b[39m▃\u001b[39m▃\u001b[39m▁\u001b[39m▁\u001b[39m▁\u001b[39m \u001b[32m \u001b[39m\u001b[39m \u001b[39m \u001b[39m \u001b[39m \u001b[39m \u001b[39m \u001b[39m \u001b[39m \u001b[39m \u001b[39m \u001b[39m \u001b[39m \u001b[39m \u001b[39m \u001b[39m \u001b[39m \u001b[39m \u001b[39m \u001b[39m \u001b[39m \u001b[39m \u001b[39m \u001b[39m \u001b[39m \u001b[39m \u001b[39m \u001b[39m \u001b[39m \u001b[39m \u001b[39m \u001b[39m \u001b[39m \u001b[39m \u001b[39m \u001b[39m \u001b[39m \u001b[39m \u001b[39m \u001b[39m \u001b[39m \u001b[39m \u001b[39m \u001b[39m \u001b[39m \u001b[39m▂\n",
       "  \u001b[39m█\u001b[39m█\u001b[39m█\u001b[39m█\u001b[39m█\u001b[39m█\u001b[34m█\u001b[39m\u001b[39m█\u001b[39m█\u001b[39m█\u001b[39m█\u001b[39m█\u001b[39m█\u001b[39m█\u001b[39m█\u001b[39m█\u001b[39m█\u001b[32m█\u001b[39m\u001b[39m█\u001b[39m▇\u001b[39m▇\u001b[39m▆\u001b[39m▆\u001b[39m▆\u001b[39m▄\u001b[39m▆\u001b[39m▇\u001b[39m▅\u001b[39m▆\u001b[39m▄\u001b[39m▆\u001b[39m▅\u001b[39m▆\u001b[39m▄\u001b[39m▆\u001b[39m▅\u001b[39m▄\u001b[39m▅\u001b[39m▆\u001b[39m▆\u001b[39m▆\u001b[39m▆\u001b[39m▇\u001b[39m▆\u001b[39m▅\u001b[39m▆\u001b[39m▆\u001b[39m▃\u001b[39m▅\u001b[39m▅\u001b[39m▅\u001b[39m▆\u001b[39m▁\u001b[39m▃\u001b[39m▅\u001b[39m▃\u001b[39m▃\u001b[39m▄\u001b[39m▄\u001b[39m▄\u001b[39m▄\u001b[39m \u001b[39m█\n",
       "  140 μs\u001b[90m        \u001b[39m\u001b[90mHistogram: \u001b[39m\u001b[90m\u001b[1mlog(\u001b[22m\u001b[39m\u001b[90mfrequency\u001b[39m\u001b[90m\u001b[1m)\u001b[22m\u001b[39m\u001b[90m by time\u001b[39m        357 μs \u001b[0m\u001b[1m<\u001b[22m\n",
       "\n",
       " Memory estimate\u001b[90m: \u001b[39m\u001b[33m449.20 KiB\u001b[39m, allocs estimate\u001b[90m: \u001b[39m\u001b[33m7046\u001b[39m."
      ]
     },
     "metadata": {},
     "output_type": "display_data"
    }
   ],
   "source": [
    "@benchmark substitute(A, xi, dA_dt)"
   ]
  },
  {
   "cell_type": "code",
   "execution_count": 10,
   "metadata": {},
   "outputs": [
    {
     "data": {
      "text/plain": [
       "BenchmarkTools.Trial: 10000 samples with 1 evaluation per sample.\n",
       " Range \u001b[90m(\u001b[39m\u001b[36m\u001b[1mmin\u001b[22m\u001b[39m … \u001b[35mmax\u001b[39m\u001b[90m):  \u001b[39m\u001b[36m\u001b[1m 88.955 μs\u001b[22m\u001b[39m … \u001b[35m 19.942 ms\u001b[39m  \u001b[90m┊\u001b[39m GC \u001b[90m(\u001b[39mmin … max\u001b[90m): \u001b[39m 0.00% … 99.12%\n",
       " Time  \u001b[90m(\u001b[39m\u001b[34m\u001b[1mmedian\u001b[22m\u001b[39m\u001b[90m):     \u001b[39m\u001b[34m\u001b[1m 98.854 μs               \u001b[22m\u001b[39m\u001b[90m┊\u001b[39m GC \u001b[90m(\u001b[39mmedian\u001b[90m):    \u001b[39m 0.00%\n",
       " Time  \u001b[90m(\u001b[39m\u001b[32m\u001b[1mmean\u001b[22m\u001b[39m ± \u001b[32mσ\u001b[39m\u001b[90m):   \u001b[39m\u001b[32m\u001b[1m119.455 μs\u001b[22m\u001b[39m ± \u001b[32m414.990 μs\u001b[39m  \u001b[90m┊\u001b[39m GC \u001b[90m(\u001b[39mmean ± σ\u001b[90m):  \u001b[39m15.43% ±  5.23%\n",
       "\n",
       "  \u001b[39m \u001b[39m \u001b[39m \u001b[39m \u001b[39m \u001b[39m▁\u001b[39m▃\u001b[39m▇\u001b[39m▇\u001b[39m█\u001b[39m▆\u001b[39m▅\u001b[34m▃\u001b[39m\u001b[39m▂\u001b[39m▁\u001b[39m \u001b[39m▁\u001b[39m \u001b[39m \u001b[39m \u001b[39m \u001b[39m \u001b[39m \u001b[39m \u001b[39m \u001b[39m \u001b[39m \u001b[39m \u001b[39m \u001b[39m \u001b[39m \u001b[39m \u001b[39m \u001b[39m \u001b[39m \u001b[39m \u001b[39m \u001b[39m \u001b[32m \u001b[39m\u001b[39m \u001b[39m \u001b[39m \u001b[39m \u001b[39m \u001b[39m \u001b[39m \u001b[39m \u001b[39m \u001b[39m \u001b[39m \u001b[39m \u001b[39m \u001b[39m \u001b[39m \u001b[39m \u001b[39m \u001b[39m \u001b[39m \u001b[39m \u001b[39m \u001b[39m \u001b[39m \u001b[39m \n",
       "  \u001b[39m▂\u001b[39m▂\u001b[39m▂\u001b[39m▃\u001b[39m▅\u001b[39m█\u001b[39m█\u001b[39m█\u001b[39m█\u001b[39m█\u001b[39m█\u001b[39m█\u001b[34m█\u001b[39m\u001b[39m█\u001b[39m█\u001b[39m█\u001b[39m█\u001b[39m█\u001b[39m█\u001b[39m▇\u001b[39m▇\u001b[39m▆\u001b[39m▆\u001b[39m▆\u001b[39m▅\u001b[39m▄\u001b[39m▄\u001b[39m▄\u001b[39m▃\u001b[39m▃\u001b[39m▃\u001b[39m▃\u001b[39m▃\u001b[39m▃\u001b[39m▂\u001b[39m▂\u001b[39m▂\u001b[39m▂\u001b[32m▂\u001b[39m\u001b[39m▂\u001b[39m▂\u001b[39m▂\u001b[39m▂\u001b[39m▂\u001b[39m▂\u001b[39m▂\u001b[39m▂\u001b[39m▂\u001b[39m▂\u001b[39m▂\u001b[39m▂\u001b[39m▂\u001b[39m▂\u001b[39m▂\u001b[39m▂\u001b[39m▂\u001b[39m▂\u001b[39m▂\u001b[39m▁\u001b[39m▂\u001b[39m▂\u001b[39m \u001b[39m▄\n",
       "  89 μs\u001b[90m            Histogram: frequency by time\u001b[39m          138 μs \u001b[0m\u001b[1m<\u001b[22m\n",
       "\n",
       " Memory estimate\u001b[90m: \u001b[39m\u001b[33m267.83 KiB\u001b[39m, allocs estimate\u001b[90m: \u001b[39m\u001b[33m3906\u001b[39m."
      ]
     },
     "metadata": {},
     "output_type": "display_data"
    }
   ],
   "source": [
    "@benchmark d_dt(xi, neq(log(Sum(\"j\", alpha * xi  * yj + Sum(\"k\", beta * gamma_j * gamma_k * xi * xj * xk)))))"
   ]
  },
  {
   "cell_type": "code",
   "execution_count": 7,
   "metadata": {},
   "outputs": [
    {
     "name": "stdout",
     "output_type": "stream",
     "text": [
      "Before: true\n",
      "After:  false\n"
     ]
    }
   ],
   "source": [
    "println(\"Before: \", contains_abstract(expr)) \n",
    "println(\"After:  \", contains_abstract(substitute(A, xi, dA_dt)))"
   ]
  },
  {
   "cell_type": "code",
   "execution_count": 8,
   "metadata": {},
   "outputs": [
    {
     "data": {
      "text/plain": [
       "true"
      ]
     },
     "metadata": {},
     "output_type": "display_data"
    }
   ],
   "source": [
    "are_indexes_defined(dx_dt)"
   ]
  },
  {
   "cell_type": "code",
   "execution_count": 9,
   "metadata": {},
   "outputs": [
    {
     "data": {
      "text/latex": [
       "$\\frac{\\text{d}  {\\hat{\\sigma}}^{x}_{i}}{\\text{d}t} = \\log\\left(-2i\\alpha {\\hat{\\sigma}}^{z}_{i}+4\\beta(t)\\gamma_{i}² {\\hat{\\sigma}}^{x}_{i}+\\sum_{j}^{=}\\left(\\alpha {\\hat{\\sigma}}^{x}_{i}{\\hat{\\sigma}}^{y}_{j}+2\\beta(t)\\gamma_{j}² {\\hat{\\sigma}}^{x}_{i}+4\\beta(t)\\gamma_{i}\\gamma_{j} {\\hat{\\sigma}}^{x}_{j}\\right)+\\sum_{j,k}^{=}\\beta(t)\\gamma_{j}\\gamma_{k} {\\hat{\\sigma}}^{x}_{i}{\\hat{\\sigma}}^{x}_{j}{\\hat{\\sigma}}^{x}_{k}\\right)$"
      ],
      "text/plain": [
       "d(σˣᵢ) / dt = log(-2iασᶻᵢ+4β(t)γᵢ²σˣᵢ+∑ⱼ⁼(ασˣᵢσʸⱼ+2β(t)γⱼ²σˣᵢ+4β(t)γᵢγⱼσˣⱼ)+∑ⱼₖ⁼β(t)γⱼγₖσˣᵢσˣⱼσˣₖ)"
      ]
     },
     "metadata": {},
     "output_type": "display_data"
    }
   ],
   "source": [
    "expr = neq(log(Sum(\"j\", alpha * A * yj + Sum(\"k\", beta * gamma_j * gamma_k * A * xj * xk))))\n",
    "dA_dt = d_dt(A, expr)\n",
    "dx_dt = substitute(A, xi, dA_dt)\n",
    "reorder(dx_dt)"
   ]
  },
  {
   "cell_type": "code",
   "execution_count": 10,
   "metadata": {},
   "outputs": [
    {
     "data": {
      "text/plain": [
       "BenchmarkTools.Trial: 10000 samples with 1 evaluation per sample.\n",
       " Range \u001b[90m(\u001b[39m\u001b[36m\u001b[1mmin\u001b[22m\u001b[39m … \u001b[35mmax\u001b[39m\u001b[90m):  \u001b[39m\u001b[36m\u001b[1m236.722 μs\u001b[22m\u001b[39m … \u001b[35m 19.654 ms\u001b[39m  \u001b[90m┊\u001b[39m GC \u001b[90m(\u001b[39mmin … max\u001b[90m): \u001b[39m 0.00% … 98.16%\n",
       " Time  \u001b[90m(\u001b[39m\u001b[34m\u001b[1mmedian\u001b[22m\u001b[39m\u001b[90m):     \u001b[39m\u001b[34m\u001b[1m260.486 μs               \u001b[22m\u001b[39m\u001b[90m┊\u001b[39m GC \u001b[90m(\u001b[39mmedian\u001b[90m):    \u001b[39m 0.00%\n",
       " Time  \u001b[90m(\u001b[39m\u001b[32m\u001b[1mmean\u001b[22m\u001b[39m ± \u001b[32mσ\u001b[39m\u001b[90m):   \u001b[39m\u001b[32m\u001b[1m297.446 μs\u001b[22m\u001b[39m ± \u001b[32m484.312 μs\u001b[39m  \u001b[90m┊\u001b[39m GC \u001b[90m(\u001b[39mmean ± σ\u001b[90m):  \u001b[39m10.75% ±  7.11%\n",
       "\n",
       "  \u001b[39m \u001b[39m▁\u001b[39m \u001b[39m▁\u001b[39m▄\u001b[39m▇\u001b[39m█\u001b[39m█\u001b[39m█\u001b[34m▇\u001b[39m\u001b[39m▇\u001b[39m▆\u001b[39m▅\u001b[39m▄\u001b[39m▄\u001b[39m▃\u001b[39m▂\u001b[39m▂\u001b[39m▁\u001b[39m▁\u001b[39m▁\u001b[39m▁\u001b[32m▁\u001b[39m\u001b[39m▁\u001b[39m▁\u001b[39m▁\u001b[39m \u001b[39m \u001b[39m \u001b[39m \u001b[39m \u001b[39m \u001b[39m \u001b[39m \u001b[39m \u001b[39m \u001b[39m \u001b[39m \u001b[39m \u001b[39m \u001b[39m \u001b[39m \u001b[39m \u001b[39m \u001b[39m \u001b[39m \u001b[39m \u001b[39m \u001b[39m \u001b[39m \u001b[39m \u001b[39m \u001b[39m \u001b[39m \u001b[39m \u001b[39m \u001b[39m \u001b[39m \u001b[39m \u001b[39m \u001b[39m \u001b[39m \u001b[39m▂\n",
       "  \u001b[39m█\u001b[39m█\u001b[39m█\u001b[39m█\u001b[39m█\u001b[39m█\u001b[39m█\u001b[39m█\u001b[39m█\u001b[34m█\u001b[39m\u001b[39m█\u001b[39m█\u001b[39m█\u001b[39m█\u001b[39m█\u001b[39m█\u001b[39m█\u001b[39m█\u001b[39m█\u001b[39m█\u001b[39m█\u001b[39m█\u001b[32m█\u001b[39m\u001b[39m█\u001b[39m█\u001b[39m█\u001b[39m█\u001b[39m▇\u001b[39m▅\u001b[39m▇\u001b[39m▆\u001b[39m▆\u001b[39m▇\u001b[39m▆\u001b[39m▅\u001b[39m▆\u001b[39m▅\u001b[39m▅\u001b[39m▄\u001b[39m▅\u001b[39m▅\u001b[39m▄\u001b[39m▅\u001b[39m▅\u001b[39m▅\u001b[39m▅\u001b[39m▅\u001b[39m▄\u001b[39m▅\u001b[39m▅\u001b[39m▆\u001b[39m▄\u001b[39m▄\u001b[39m▂\u001b[39m▅\u001b[39m▃\u001b[39m▅\u001b[39m▃\u001b[39m▂\u001b[39m▅\u001b[39m▅\u001b[39m \u001b[39m█\n",
       "  237 μs\u001b[90m        \u001b[39m\u001b[90mHistogram: \u001b[39m\u001b[90m\u001b[1mlog(\u001b[22m\u001b[39m\u001b[90mfrequency\u001b[39m\u001b[90m\u001b[1m)\u001b[22m\u001b[39m\u001b[90m by time\u001b[39m        404 μs \u001b[0m\u001b[1m<\u001b[22m\n",
       "\n",
       " Memory estimate\u001b[90m: \u001b[39m\u001b[33m380.70 KiB\u001b[39m, allocs estimate\u001b[90m: \u001b[39m\u001b[33m5511\u001b[39m."
      ]
     },
     "metadata": {},
     "output_type": "display_data"
    }
   ],
   "source": [
    "@benchmark substitute($A, $xi, $dA_dt)"
   ]
  },
  {
   "cell_type": "code",
   "execution_count": 16,
   "metadata": {},
   "outputs": [
    {
     "data": {
      "text/plain": [
       "BenchmarkTools.Trial: 10000 samples with 1 evaluation per sample.\n",
       " Range \u001b[90m(\u001b[39m\u001b[36m\u001b[1mmin\u001b[22m\u001b[39m … \u001b[35mmax\u001b[39m\u001b[90m):  \u001b[39m\u001b[36m\u001b[1m11.201 μs\u001b[22m\u001b[39m … \u001b[35m 18.173 ms\u001b[39m  \u001b[90m┊\u001b[39m GC \u001b[90m(\u001b[39mmin … max\u001b[90m): \u001b[39m 0.00% … 99.69%\n",
       " Time  \u001b[90m(\u001b[39m\u001b[34m\u001b[1mmedian\u001b[22m\u001b[39m\u001b[90m):     \u001b[39m\u001b[34m\u001b[1m14.658 μs               \u001b[22m\u001b[39m\u001b[90m┊\u001b[39m GC \u001b[90m(\u001b[39mmedian\u001b[90m):    \u001b[39m 0.00%\n",
       " Time  \u001b[90m(\u001b[39m\u001b[32m\u001b[1mmean\u001b[22m\u001b[39m ± \u001b[32mσ\u001b[39m\u001b[90m):   \u001b[39m\u001b[32m\u001b[1m18.383 μs\u001b[22m\u001b[39m ± \u001b[32m222.022 μs\u001b[39m  \u001b[90m┊\u001b[39m GC \u001b[90m(\u001b[39mmean ± σ\u001b[90m):  \u001b[39m16.79% ±  1.41%\n",
       "\n",
       "  \u001b[39m \u001b[39m \u001b[39m \u001b[39m \u001b[39m \u001b[39m \u001b[39m \u001b[39m▃\u001b[39m▅\u001b[39m▆\u001b[39m█\u001b[39m▇\u001b[39m▆\u001b[39m▆\u001b[39m▄\u001b[39m▅\u001b[34m▃\u001b[39m\u001b[39m▄\u001b[39m▂\u001b[39m▁\u001b[39m▁\u001b[39m▁\u001b[39m▁\u001b[39m \u001b[39m \u001b[39m \u001b[39m \u001b[39m \u001b[39m \u001b[39m \u001b[39m \u001b[39m \u001b[39m \u001b[32m \u001b[39m\u001b[39m \u001b[39m \u001b[39m \u001b[39m \u001b[39m \u001b[39m \u001b[39m \u001b[39m \u001b[39m \u001b[39m \u001b[39m \u001b[39m \u001b[39m \u001b[39m \u001b[39m \u001b[39m \u001b[39m \u001b[39m \u001b[39m \u001b[39m \u001b[39m \u001b[39m \u001b[39m \u001b[39m \u001b[39m \u001b[39m \u001b[39m \u001b[39m \n",
       "  \u001b[39m▁\u001b[39m▁\u001b[39m▂\u001b[39m▃\u001b[39m▄\u001b[39m▆\u001b[39m█\u001b[39m█\u001b[39m█\u001b[39m█\u001b[39m█\u001b[39m█\u001b[39m█\u001b[39m█\u001b[39m█\u001b[39m█\u001b[34m█\u001b[39m\u001b[39m█\u001b[39m█\u001b[39m█\u001b[39m█\u001b[39m█\u001b[39m█\u001b[39m█\u001b[39m▇\u001b[39m▇\u001b[39m▇\u001b[39m▅\u001b[39m▆\u001b[39m▄\u001b[39m▄\u001b[39m▄\u001b[39m▃\u001b[32m▃\u001b[39m\u001b[39m▃\u001b[39m▃\u001b[39m▂\u001b[39m▂\u001b[39m▂\u001b[39m▂\u001b[39m▂\u001b[39m▂\u001b[39m▂\u001b[39m▁\u001b[39m▂\u001b[39m▂\u001b[39m▁\u001b[39m▁\u001b[39m▁\u001b[39m▁\u001b[39m▁\u001b[39m▁\u001b[39m▁\u001b[39m▁\u001b[39m▁\u001b[39m▁\u001b[39m▁\u001b[39m▁\u001b[39m▁\u001b[39m▁\u001b[39m \u001b[39m▄\n",
       "  11.2 μs\u001b[90m         Histogram: frequency by time\u001b[39m         24.3 μs \u001b[0m\u001b[1m<\u001b[22m\n",
       "\n",
       " Memory estimate\u001b[90m: \u001b[39m\u001b[33m58.05 KiB\u001b[39m, allocs estimate\u001b[90m: \u001b[39m\u001b[33m812\u001b[39m."
      ]
     },
     "metadata": {},
     "output_type": "display_data"
    }
   ],
   "source": [
    "@benchmark reorder($dx_dt)"
   ]
  },
  {
   "cell_type": "code",
   "execution_count": 18,
   "metadata": {},
   "outputs": [],
   "source": []
  },
  {
   "cell_type": "code",
   "execution_count": null,
   "metadata": {},
   "outputs": [],
   "source": []
  },
  {
   "cell_type": "code",
   "execution_count": null,
   "metadata": {},
   "outputs": [],
   "source": []
  },
  {
   "cell_type": "code",
   "execution_count": null,
   "metadata": {},
   "outputs": [],
   "source": []
  },
  {
   "cell_type": "code",
   "execution_count": 19,
   "metadata": {},
   "outputs": [
    {
     "data": {
      "text/plain": [
       "IndexedCumulant:  + <1,2,3> - <1,2><3> - <1,3><2> - <1><2,3> +2 <1><2><3>"
      ]
     },
     "metadata": {},
     "output_type": "display_data"
    }
   ],
   "source": [
    "import Base: show, string \n",
    "function signed_int_string(i::Int)::String\n",
    "    if i < -1\n",
    "        return \" -\" * string(-i)* \" \"\n",
    "    elseif i == -1\n",
    "        return \" - \"  \n",
    "    elseif i == 0\n",
    "        return \" +0\" \n",
    "    elseif i == 1\n",
    "        return \" + \" \n",
    "    else\n",
    "        return \" +\" * string(i)* \" \"\n",
    "    end\n",
    "end\n",
    "function intvec_to_braket(is::Vector{Int})::String\n",
    "    return string(\"<\", join(is, \",\"), \">\")\n",
    "end\n",
    "\n",
    "# Define necessary Structs\n",
    "struct IndexedProduct\n",
    "    coeff::Int \n",
    "    indices::Vector{Vector{Int}}\n",
    "end\n",
    "\n",
    "function string(ind_prod::IndexedProduct)::String\n",
    "    return signed_int_string(ind_prod.coeff)*join(intvec_to_braket.(ind_prod.indices),\"\")\n",
    "end\n",
    "function show(io::IO, ind_prod::IndexedProduct)\n",
    "    print(io, \"IndexedProduct: \", string(ind_prod))\n",
    "end\n",
    "\n",
    "struct IndexedCumulant\n",
    "    n::Int \n",
    "    cumulant::Vector{IndexedProduct}\n",
    "end \n",
    "function string(ind_cum::IndexedCumulant)::String\n",
    "    return join(string.(ind_cum.cumulant), \"\")\n",
    "end\n",
    "function show(io::IO, ind_cum::IndexedCumulant)\n",
    "    print(io, \"IndexedCumulant: \", string(ind_cum))\n",
    "end\n",
    "\n",
    "import Base:-\n",
    "function -(a::IndexedProduct)::IndexedProduct \n",
    "    return IndexedProduct(-a.coeff, a.indices)\n",
    "end\n",
    "\n",
    "# Define Operations to Construct and Raise the Level of the Structs!\n",
    "function FirstIndexedCumulant(i::Int=1)\n",
    "    return IndexedCumulant(1, [IndexedProduct(1, [[i]])])\n",
    "end\n",
    "function raising_operator(new_op::Int, prev_product::IndexedProduct)::Vector{IndexedProduct}\n",
    "    # Raising operator is distributve with respect to products\n",
    "    # new_op | [i1, i2, i3] = [new_op, i1, i2, i3] - [i1, i2, i3] [new_op]\n",
    "    # new_op | [[A],[B],...] = [new_op | [A], new_op | [B], ...]\n",
    "    # The sum of applying itto each Vector{Int} in the product\n",
    "    n = length(prev_product.indices)\n",
    "    prev_coeff = prev_product.coeff\n",
    "\n",
    "    new_product::Vector{IndexedProduct} = []\n",
    "    for i in 1:length(prev_product.indices)\n",
    "        new_c = [ copy(v) for v in prev_product.indices ]\n",
    "        push!(new_c[i], new_op)\n",
    "        push!(new_product, IndexedProduct(prev_coeff, new_c))\n",
    "    end\n",
    "    c = [ copy(v) for v in prev_product.indices ]\n",
    "    push!(c, [new_op])\n",
    "    push!(new_product, IndexedProduct(-n*prev_coeff, c))\n",
    "    return new_product \n",
    "end\n",
    "\n",
    "function raising_operator(new_op::Int, prev_cumulant::IndexedCumulant)\n",
    "    # Raising operator is distributve with respect to products  \n",
    "    # and linear with respect to sum   \n",
    "    cumulant = prev_cumulant.cumulant\n",
    "    new_cumulant = raising_operator(new_op, cumulant[1]) \n",
    "    for i in 2:length(cumulant)\n",
    "        append!(new_cumulant, raising_operator(new_op, cumulant[i]))\n",
    "    end\n",
    "    return IndexedCumulant(prev_cumulant.n+1, new_cumulant)\n",
    "end\n",
    "function IndexedCumulant(order::Int)\n",
    "    if order == 0 \n",
    "        error(\"Order must be greater than 0\")\n",
    "    end\n",
    "    cum = FirstIndexedCumulant()\n",
    "    for i in 2:order\n",
    "        cum = raising_operator(i, cum)\n",
    "    end\n",
    "    return cum\n",
    "end\n",
    "# Test \n",
    "cum = IndexedCumulant(3)"
   ]
  },
  {
   "cell_type": "code",
   "execution_count": 20,
   "metadata": {},
   "outputs": [
    {
     "data": {
      "text/plain": [
       "ReducedIndexedCumulant:  + <1,2,3> ≈  + <1,2><3> + <1,3><2> + <1><2,3> -2 <1><2><3>"
      ]
     },
     "metadata": {},
     "output_type": "display_data"
    }
   ],
   "source": [
    "struct ReducedIndexedCumulant\n",
    "    operator::IndexedProduct\n",
    "    approximation::Vector{IndexedProduct}\n",
    "end\n",
    "function ReducedIndexedCumulant(order::Int)\n",
    "    full_cumulant = IndexedCumulant(order)\n",
    "    operator = full_cumulant.cumulant[1]\n",
    "    approximation = .-full_cumulant.cumulant[2:end]\n",
    "    return ReducedIndexedCumulant(operator, approximation)\n",
    "end\n",
    "function string(cumulant_list::ReducedIndexedCumulant)\n",
    "    return string(cumulant_list.operator) * \" ≈ \" * join(string.(cumulant_list.approximation), \"\")\n",
    "end\n",
    "function show(io::IO, cumulant_list::ReducedIndexedCumulant)\n",
    "    print(io, \"ReducedIndexedCumulant: \", string(cumulant_list))\n",
    "end\n",
    "# Test \n",
    "ReducedIndexedCumulant(3)"
   ]
  },
  {
   "cell_type": "code",
   "execution_count": 21,
   "metadata": {},
   "outputs": [
    {
     "data": {
      "text/plain": [
       "ReducedCumulantList with curr_order = 3\n",
       " + <1> ≈ \n",
       " + <1,2> ≈  + <1><2>\n",
       " + <1,2,3> ≈  + <1,2><3> + <1,3><2> + <1><2,3> -2 <1><2><3>"
      ]
     },
     "metadata": {},
     "output_type": "display_data"
    }
   ],
   "source": [
    "# Create Cumulant list \n",
    "mutable struct ReducedCumulantList\n",
    "    curr_order::Int\n",
    "    max_order::Int\n",
    "    last_cumulant::IndexedCumulant\n",
    "    reduced_cumulants::Vector{ReducedIndexedCumulant}\n",
    "end\n",
    "function string(cumulant_list::ReducedCumulantList)\n",
    "    return join(string.(cumulant_list.reduced_cumulants), \"\\n\")\n",
    "end\n",
    "function show(io::IO, cumulant_list::ReducedCumulantList)\n",
    "    print(io, \"ReducedCumulantList with curr_order = \", cumulant_list.curr_order, \"\\n\", string(cumulant_list))\n",
    "\n",
    "end\n",
    "\n",
    "\n",
    "function ReducedCumulantList(curr_order::Int=1;max_order::Int=10^12)\n",
    "    if curr_order > max_order\n",
    "        error(\"Current order must be less than or equal to max order\")\n",
    "    end\n",
    "    if curr_order > 0 \n",
    "        reduced_cumulants::Vector{ReducedIndexedCumulant} = []\n",
    "        full_cumulant = FirstIndexedCumulant()\n",
    "        operator = full_cumulant.cumulant[1]\n",
    "        approximation = .-full_cumulant.cumulant[2:end]\n",
    "        push!(reduced_cumulants, ReducedIndexedCumulant(operator, approximation))\n",
    "        for i in 2:curr_order\n",
    "            full_cumulant = raising_operator(i, full_cumulant)\n",
    "            operator = full_cumulant.cumulant[1]\n",
    "            approximation = .-full_cumulant.cumulant[2:end]\n",
    "            push!(reduced_cumulants, ReducedIndexedCumulant(operator, approximation))\n",
    "        end\n",
    "        return ReducedCumulantList(curr_order, max_order, full_cumulant, reduced_cumulants)\n",
    "    else\n",
    "        error(\"Current order must be greater than 0\")\n",
    "    end\n",
    "end\n",
    "# Access as a function i.e. reduced_cumulant_list(3) gives the 3rd order cumulant and if necessary constructs it up to that order\n",
    "function (cumulant_list::ReducedCumulantList)(order::Int)\n",
    "    if order > cumulant_list.curr_order\n",
    "        expand_cumulant_list!(cumulant_list, order)\n",
    "    end\n",
    "    return cumulant_list.reduced_cumulants[order]\n",
    "end\n",
    "\n",
    "function expand_cumulant_list!(cumulant_list::ReducedCumulantList, order::Int)::Nothing\n",
    "    if order > cumulant_list.max_order\n",
    "        error(\"Order must be less than or equal to max_order\")\n",
    "    end\n",
    "    if order <= cumulant_list.curr_order\n",
    "        warning(\"Order can only be increased if target order is greater than current order\")\n",
    "        return\n",
    "    end\n",
    "    full_cumulant = cumulant_list.last_cumulant\n",
    "    for i in cumulant_list.curr_order+1:order\n",
    "        full_cumulant = raising_operator(i, full_cumulant)\n",
    "        operator = full_cumulant.cumulant[1]\n",
    "        approximation = .-full_cumulant.cumulant[2:end]\n",
    "        push!(cumulant_list.reduced_cumulants, ReducedIndexedCumulant(operator, approximation))\n",
    "    end\n",
    "    cumulant_list.curr_order = order\n",
    "    cumulant_list.last_cumulant = full_cumulant\n",
    "    return\n",
    "end\n",
    "\n",
    "# Test \n",
    "red_cum = ReducedCumulantList(2)\n",
    "red_cum(3)\n",
    "red_cum"
   ]
  },
  {
   "cell_type": "code",
   "execution_count": 22,
   "metadata": {},
   "outputs": [
    {
     "name": "stdout",
     "output_type": "stream",
     "text": [
      "[2, 3, 5]\n",
      "3\n"
     ]
    }
   ],
   "source": [
    "function where_acting_index(q::QTerm, statespace::StateSpace)::Vector{Int}\n",
    "    return [i for (i, op) in enumerate(q.op_indices) if op!=statespace.neutral_op[i]]\n",
    "end\n",
    "# Order of QTerm \n",
    "function order(q::QTerm, statespace::StateSpace)::Int\n",
    "    # Determines the order of a QTerm operator \n",
    "    return length(where_acting_index(q, statespace))\n",
    "end\n",
    "# Test \n",
    "q = (xi*b*yj).terms[1].expr[1]\n",
    "println(where_acting_index(q, qspace))\n",
    "println(order(q, qspace))"
   ]
  },
  {
   "cell_type": "code",
   "execution_count": null,
   "metadata": {},
   "outputs": [],
   "source": [
    "struct QCumulant <:QComposite  # Must be QComposite to be in QExpr's\n",
    "    statespace::StateSpace\n",
    "    atom::QAtom\n",
    "    expr_::QExpr\n",
    "    order::Int\n",
    "    where_acting::Vector{Int}\n",
    "end"
   ]
  },
  {
   "cell_type": "code",
   "execution_count": null,
   "metadata": {},
   "outputs": [
    {
     "data": {
      "text/plain": [
       "_Cumulant (generic function with 1 method)"
      ]
     },
     "metadata": {},
     "output_type": "display_data"
    }
   ],
   "source": [
    "Is = Vector{Int}\n",
    "function replace_indexes(neutral_opVector{Vector{Int}}, curr_op_indexesVector{Vector{Int}}, indexes::Vector{Int}) \n",
    "    new_op = copy(neutral_op)\n",
    "    for ind in indexes\n",
    "        new_op[ind] = copy(curr_op_indexes[ind])\n",
    "    end\n",
    "    return new_op\n",
    "end\n",
    "\n",
    "# Add conspiracies later!\n",
    "function Cumulant(qprod::QAtomProduct)\n",
    "    if length(qprod.terms) != 1\n",
    "        error(\"Cumulant only defined for single QAtom in QAtomProduct\")\n",
    "    end\n",
    "    return Cumulant(qprod.coeff_fun, qprod.terms[1].expr[1], qprod.statespace)\n",
    "end\n",
    "function Cumulant(q::QAbstract, statespace::StateSpace, kwargs...)::QCumulant\n",
    "    error(\"Cumulant not defined for qAbstract!\")\n",
    "end\n",
    "function Cumulant(coeff_fun::CFunction, atom::QTerm, statespace::StateSpace)::QCumulant\n",
    "    where_acting = where_acting_index(atom, statespace)\n",
    "    order = length(where_acting)\n",
    "    red_cum = ReducedIndexedCumulant(order)\n",
    "    return _Cumulant(coeff_fun, atom, statespace, order, where_acting, red_cum)\n",
    "end\n",
    "\n",
    "function Cumulant(qprod::QAtomProduct, red_cum_list::ReducedCumulantList)::QCumulant\n",
    "    if length(qprod.terms) != 1\n",
    "        error(\"Cumulant only defined for single QAtom in QAtomProduct\")\n",
    "    end\n",
    "    return Cumulant(qprod.coeff_fun, qprod.terms[1].expr[1], qprod.statespace, red_cum_list)\n",
    "end\n",
    "function Cumulant(coeff_fun::CFunction, atom::QTerm, statespace::StateSpace, red_cum_list::ReducedCumulantList)\n",
    "    where_acting = where_acting_index(atom, statespace)\n",
    "    order = length(where_acting)\n",
    "    return _Cumulant(coeff_fun, atom, statespace, order, where_acting, red_cum_list(order))\n",
    "end\n",
    "\n",
    "@inline function _Cumulant(coeff_fun::CFunction, atom::QTerm, statespace::StateSpace, order::Int, where_acting::Vector{Int}, red_cum::ReducedIndexedCumulant)::QCumulant\n",
    "    curr_op_indexes = atom.op_indices\n",
    "    neutral_op = statespace.neutral_op\n",
    "    # create indexed cumulant to this order \n",
    "    # create QExpr from this \n",
    "    qexpr::Vector{qComposite} = Vector{qComposite}(undef, length(red_cum.approximation))\n",
    "    for (j, app) in enumerate(red_cum.approximation)\n",
    "        # create qTerm from app, where acting and atom \n",
    "        coeff = app.coeff\n",
    "        indexes = app.indices\n",
    "        curr_atoms = Vector{QTerm}(undef, length(indexes))\n",
    "        # replace indexes from neutral with tthose in qterm \n",
    "        for (i, ind) in enumerate(indexes)\n",
    "            curr_atoms[i] = QTerm(neutral_op, replace_indexes(neutral_op, curr_op_indexes, ind))\n",
    "        end\n",
    "        qexpr[j] = QAtomProduct(curr_atoms, coeff_fun*coeff, statespace)\n",
    "    end\n",
    "    return QCumulant(statespace, copy(atom), qexpr, order, where_acting)\n",
    "end\n",
    "\n"
   ]
  },
  {
   "cell_type": "code",
   "execution_count": null,
   "metadata": {},
   "outputs": [],
   "source": [
    "# Test Cumulant here \n"
   ]
  },
  {
   "cell_type": "code",
   "execution_count": null,
   "metadata": {},
   "outputs": [],
   "source": [
    "# Add cumulants                        [x] \n",
    "# add distribution sampling            "
   ]
  },
  {
   "cell_type": "code",
   "execution_count": null,
   "metadata": {},
   "outputs": [],
   "source": [
    "# Add Expand \n",
    "# Add Magnus Expansion \n",
    "# Ad BCH Expansion \n",
    "# Add Taylor Expansion"
   ]
  },
  {
   "cell_type": "code",
   "execution_count": 10,
   "metadata": {},
   "outputs": [],
   "source": [
    "# Add:\n",
    "# - Eq_Set \n",
    "# - Indexed Eq_Set\n",
    "#    - Indexed qAtom <: qComposite (not really but better to be gruped as such to not require any qAtomProducts)\n",
    "#    - evaluate \n",
    "#    - Initial States (from function)\n",
    "#        - From state construction via operators. \n",
    "#        -> Via operators allows us to also use operator conspiracies => Matching/Conspiring operator condition.\n",
    "# Operator Transformations \n",
    "#    - Finding Adjoint Cycles \n",
    "#    - Add Rotating Frame Transformation "
   ]
  },
  {
   "cell_type": "code",
   "execution_count": null,
   "metadata": {},
   "outputs": [],
   "source": [
    "# CFunction add exponential and sin and cos and log  -> simplifications can be added later. such as log(exp(...))\n"
   ]
  },
  {
   "cell_type": "code",
   "execution_count": null,
   "metadata": {},
   "outputs": [],
   "source": [
    "# add a way to lower sort keys for operators by comparing with the adjoint operators sort_key. \n"
   ]
  },
  {
   "cell_type": "code",
   "execution_count": null,
   "metadata": {},
   "outputs": [],
   "source": []
  },
  {
   "cell_type": "code",
   "execution_count": 9,
   "metadata": {},
   "outputs": [
    {
     "data": {
      "text/latex": [
       "$\\left[ \\hat{z}_{j}+\\sum_{i}^{=}i\\alpha \\hat{p}_{h}\\hat{z}_{i},\\, \\hat{z}_{h}\\right]$"
      ],
      "text/plain": [
       "[zⱼ+∑ᵢ⁼iαpₕzᵢ, zₕ]"
      ]
     },
     "metadata": {},
     "output_type": "display_data"
    }
   ],
   "source": [
    "simplify(QCommutator(Sum(\"i\", alpha*ph*xi*yi) + zj,zh))"
   ]
  },
  {
   "cell_type": "code",
   "execution_count": 10,
   "metadata": {},
   "outputs": [
    {
     "data": {
      "text/latex": [
       "$ \\hat{z}_{h}+\\exp\\left( \\hat{z}_{j}+\\sum_{i}^{=}i\\alpha \\hat{p}_{h}\\hat{z}_{i}\\right)$"
      ],
      "text/plain": [
       "zₕ+exp(zⱼ+∑ᵢ⁼iαpₕzᵢ)"
      ]
     },
     "metadata": {},
     "output_type": "display_data"
    }
   ],
   "source": [
    "simplify(exp(Sum(\"i\", alpha*ph*xi*yi) + zj)+zh)"
   ]
  },
  {
   "cell_type": "code",
   "execution_count": 11,
   "metadata": {},
   "outputs": [
    {
     "data": {
      "text/latex": [
       "$\\log\\left( \\hat{z}_{j}+\\sum_{i}^{=}i\\alpha \\hat{p}_{h}\\hat{z}_{i}\\right)$"
      ],
      "text/plain": [
       "log(zⱼ+∑ᵢ⁼iαpₕzᵢ)"
      ]
     },
     "metadata": {},
     "output_type": "display_data"
    }
   ],
   "source": [
    "log(Sum(\"i\", alpha*ph*xi*yi) + zj)"
   ]
  },
  {
   "cell_type": "code",
   "execution_count": 12,
   "metadata": {},
   "outputs": [
    {
     "data": {
      "text/latex": [
       "$ \\hat{z}_{h}+\\left( \\hat{z}_{j}+\\sum_{i}^{=}i\\alpha \\hat{p}_{h}\\hat{z}_{i}\\right)^{2}$"
      ],
      "text/plain": [
       "zₕ+(zⱼ+∑ᵢ⁼iαpₕzᵢ)²"
      ]
     },
     "metadata": {},
     "output_type": "display_data"
    }
   ],
   "source": [
    "simplify(power(Sum(\"i\", alpha*ph*xi*yi) + zj,2)+zh)"
   ]
  },
  {
   "cell_type": "code",
   "execution_count": 13,
   "metadata": {},
   "outputs": [
    {
     "data": {
      "text/latex": [
       "$ \\hat{z}_{h}+\\sqrt{ \\hat{z}_{j}+\\sum_{i}^{=}i\\alpha \\hat{p}_{h}\\hat{z}_{i}}$"
      ],
      "text/plain": [
       "zₕ+(zⱼ+∑ᵢ⁼iαpₕzᵢ)⁼²"
      ]
     },
     "metadata": {},
     "output_type": "display_data"
    }
   ],
   "source": [
    "simplify(root(Sum(\"i\", alpha*ph*xi*yi) + zj,2)+zh)"
   ]
  },
  {
   "cell_type": "code",
   "execution_count": null,
   "metadata": {},
   "outputs": [],
   "source": []
  },
  {
   "cell_type": "code",
   "execution_count": null,
   "metadata": {},
   "outputs": [],
   "source": []
  },
  {
   "cell_type": "code",
   "execution_count": null,
   "metadata": {},
   "outputs": [],
   "source": []
  },
  {
   "cell_type": "code",
   "execution_count": null,
   "metadata": {},
   "outputs": [],
   "source": []
  }
 ],
 "metadata": {
  "kernelspec": {
   "display_name": "Julia 1.11.6",
   "language": "julia",
   "name": "julia-1.11"
  },
  "language_info": {
   "file_extension": ".jl",
   "mimetype": "application/julia",
   "name": "julia",
   "version": "1.11.6"
  }
 },
 "nbformat": 4,
 "nbformat_minor": 2
}
