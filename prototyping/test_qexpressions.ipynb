{
 "cells": [
  {
   "cell_type": "code",
   "execution_count": 1,
   "metadata": {},
   "outputs": [
    {
     "name": "stderr",
     "output_type": "stream",
     "text": [
      "\u001b[92m\u001b[1mPrecompiling\u001b[22m\u001b[39m project...\n",
      "   1091.1 ms\u001b[32m  ✓ \u001b[39mqAlgebra\n",
      "  1 dependency successfully precompiled in 1 seconds. 7 already precompiled.\n"
     ]
    }
   ],
   "source": [
    "using Pkg \n",
    "Pkg.instantiate()\n",
    "using qAlgebra"
   ]
  },
  {
   "cell_type": "code",
   "execution_count": 2,
   "metadata": {},
   "outputs": [
    {
     "data": {
      "text/plain": [
       "StateSpace: [β(t), γᵢ, γⱼ, γₖ, δᵢ, δⱼ, δₖ, α]\n",
       "   - SubSpace [\"h\"]: PM Qubit (Fermionic):  pₚ, mₚ, zₚ, Iₚ (identity)\n",
       "   - SubSpace [\"i\", \"j\", \"k\"]: Pauli Qubit (Fermionic):  xₚ, yₚ, zₚ, Iₚ (identity)\n",
       "   - SubSpace [\"b\"]: Ladder (Bosonic):  p†, p\n",
       "   - Op: A\n",
       "   - Op: B(H,U)\n"
      ]
     },
     "metadata": {},
     "output_type": "display_data"
    }
   ],
   "source": [
    "qspace = StateSpace(\"alpha\", \"beta(t)\", \"gamma_i\", \"delta_i\", operators=[\"A(!i)\", \"B(U,H,i)\"], h=QubitPM(), i=(3, QubitPauli()), b=Ladder())"
   ]
  },
  {
   "cell_type": "code",
   "execution_count": 3,
   "metadata": {},
   "outputs": [
    {
     "name": "stdout",
     "output_type": "stream",
     "text": [
      "Done\n"
     ]
    }
   ],
   "source": [
    "var_dict, op_dict, abstract_dict = base_operators(qspace)\n",
    "alpha = base_operators(qspace, \"alpha\")\n",
    "beta = base_operators(qspace, \"beta\")\n",
    "ph, mh, zh = base_operators(qspace, \"h\", do_dict=false)\n",
    "xi,yi,zi, pi, mi = base_operators(qspace, \"i\", do_dict=false)\n",
    "xj, yj, zj, pj, mj = base_operators(qspace, \"j\", do_dict=false)\n",
    "b, n = base_operators(qspace, \"b\", do_dict=false)\n",
    "I = base_operators(qspace, \"I\")\n",
    "A = base_operators(qspace, \"A\")\n",
    "println(\"Done\")"
   ]
  },
  {
   "cell_type": "code",
   "execution_count": 4,
   "metadata": {},
   "outputs": [
    {
     "data": {
      "text/latex": [
       "$\\beta(t)\\alpha+\\beta(t)²\\alpha$"
      ],
      "text/plain": [
       "β(t)α+β(t)²α"
      ]
     },
     "metadata": {},
     "output_type": "display_data"
    }
   ],
   "source": [
    "alpha*(beta+beta^2)"
   ]
  },
  {
   "cell_type": "code",
   "execution_count": 5,
   "metadata": {},
   "outputs": [
    {
     "data": {
      "text/latex": [
       "$\\frac{\\text{d}  \\hat{A}}{\\text{d}t} =  \\hat{x}_{i}\\hat{A}^{\\dagger}\\hat{A}+\\alpha\\left(1+ \\hat{b}^\\dagger\\hat{b}\\right)$"
      ],
      "text/plain": [
       "d(A) / dt = xᵢA'A+α(1+b†b)"
      ]
     },
     "metadata": {},
     "output_type": "display_data"
    }
   ],
   "source": [
    "d_dt(A, xi*A'*A + alpha*b*b')"
   ]
  },
  {
   "cell_type": "code",
   "execution_count": 6,
   "metadata": {},
   "outputs": [
    {
     "data": {
      "text/latex": [
       "$\\left[ \\hat{z}_{j}+\\sum_{i}^{=}i\\alpha \\hat{p}_{h}\\hat{z}_{i},\\, \\hat{z}_{h}\\right]$"
      ],
      "text/plain": [
       "[zⱼ+∑ᵢ⁼iαpₕzᵢ, zₕ]"
      ]
     },
     "metadata": {},
     "output_type": "display_data"
    }
   ],
   "source": [
    "simplify(qCommutator(Sum(\"i\", alpha*ph*xi*yi) + zj,zh))"
   ]
  },
  {
   "cell_type": "code",
   "execution_count": 7,
   "metadata": {},
   "outputs": [
    {
     "data": {
      "text/latex": [
       "$ \\hat{z}_{h}+\\exp\\left( \\hat{z}_{j}+\\sum_{i}^{=}i\\alpha \\hat{p}_{h}\\hat{z}_{i}\\right)$"
      ],
      "text/plain": [
       "zₕ+exp(zⱼ+∑ᵢ⁼iαpₕzᵢ)"
      ]
     },
     "metadata": {},
     "output_type": "display_data"
    }
   ],
   "source": [
    "simplify(exp(Sum(\"i\", alpha*ph*xi*yi) + zj)+zh)"
   ]
  },
  {
   "cell_type": "code",
   "execution_count": 8,
   "metadata": {},
   "outputs": [
    {
     "data": {
      "text/latex": [
       "$\\log\\left( \\hat{z}_{j}+\\sum_{i}^{=}i\\alpha \\hat{p}_{h}\\hat{z}_{i}\\right)$"
      ],
      "text/plain": [
       "log(zⱼ+∑ᵢ⁼iαpₕzᵢ)"
      ]
     },
     "metadata": {},
     "output_type": "display_data"
    }
   ],
   "source": [
    "log(Sum(\"i\", alpha*ph*xi*yi) + zj)"
   ]
  },
  {
   "cell_type": "code",
   "execution_count": 9,
   "metadata": {},
   "outputs": [
    {
     "data": {
      "text/latex": [
       "$ \\hat{z}_{h}+\\left( \\hat{z}_{j}+\\sum_{i}^{=}i\\alpha \\hat{p}_{h}\\hat{z}_{i}\\right)^{2}$"
      ],
      "text/plain": [
       "zₕ+(zⱼ+∑ᵢ⁼iαpₕzᵢ)²"
      ]
     },
     "metadata": {},
     "output_type": "display_data"
    }
   ],
   "source": [
    "simplify(power(Sum(\"i\", alpha*ph*xi*yi) + zj,2)+zh)"
   ]
  },
  {
   "cell_type": "code",
   "execution_count": 10,
   "metadata": {},
   "outputs": [
    {
     "data": {
      "text/latex": [
       "$ \\hat{z}_{h}+\\sqrt{ \\hat{z}_{j}+\\sum_{i}^{=}i\\alpha \\hat{p}_{h}\\hat{z}_{i}}$"
      ],
      "text/plain": [
       "zₕ+(zⱼ+∑ᵢ⁼iαpₕzᵢ)⁼²"
      ]
     },
     "metadata": {},
     "output_type": "display_data"
    }
   ],
   "source": [
    "simplify(root(Sum(\"i\", alpha*ph*xi*yi) + zj,2)+zh)"
   ]
  },
  {
   "cell_type": "code",
   "execution_count": 11,
   "metadata": {},
   "outputs": [
    {
     "data": {
      "text/latex": [
       "$\\sum_{i}^{=}\\left(i \\hat{z}_{i}+i\\alpha \\hat{p}_{h}\\hat{z}_{i}\\hat{A}\\hat{x}_{i}\\right)\\sum_{j}^{=} \\hat{z}_{i}$"
      ],
      "text/plain": [
       "∑ᵢ⁼(izᵢ+iαpₕzᵢAxᵢ)∑ⱼ⁼zᵢ"
      ]
     },
     "metadata": {},
     "output_type": "display_data"
    }
   ],
   "source": [
    "Sum(\"i\", alpha*ph*xi*yi * A * xi + xi*yi) * Sum(\"j\", zi) "
   ]
  },
  {
   "cell_type": "code",
   "execution_count": 12,
   "metadata": {},
   "outputs": [
    {
     "ename": "MethodError",
     "evalue": "MethodError: no method matching ComplexRationals.ComplexRational(::Bool, ::Bool, ::Bool)\nThe type `ComplexRationals.ComplexRational` exists, but no method is defined for this combination of argument types when trying to construct it.\n\nClosest candidates are:\n  (::Type{T})(::T) where T<:Number\n   @ Core boot.jl:900\n  ComplexRationals.ComplexRational(!Matched::Int64, !Matched::Int64, !Matched::Int64)\n   @ ComplexRationals ~/.julia/packages/ComplexRationals/liwaH/src/ComplexRationals.jl:45\n  (::Type{T})(!Matched::Base.TwicePrecision) where T<:Number\n   @ Base twiceprecision.jl:265\n  ...\n",
     "output_type": "error",
     "traceback": [
      "MethodError: no method matching ComplexRationals.ComplexRational(::Bool, ::Bool, ::Bool)\n",
      "The type `ComplexRationals.ComplexRational` exists, but no method is defined for this combination of argument types when trying to construct it.\n",
      "\n",
      "Closest candidates are:\n",
      "  (::Type{T})(::T) where T<:Number\n",
      "   @ Core boot.jl:900\n",
      "  ComplexRationals.ComplexRational(!Matched::Int64, !Matched::Int64, !Matched::Int64)\n",
      "   @ ComplexRationals ~/.julia/packages/ComplexRationals/liwaH/src/ComplexRationals.jl:45\n",
      "  (::Type{T})(!Matched::Base.TwicePrecision) where T<:Number\n",
      "   @ Base twiceprecision.jl:265\n",
      "  ...\n",
      "\n",
      "\n",
      "Stacktrace:\n",
      " [1] crationalize(x::Complex{Bool}; tol::Float64)\n",
      "   @ ComplexRationals ~/.julia/packages/ComplexRationals/liwaH/src/ComplexRationals.jl:178\n",
      " [2] crationalize(x::Complex{Bool})\n",
      "   @ ComplexRationals ~/.julia/packages/ComplexRationals/liwaH/src/ComplexRationals.jl:167\n",
      " [3] FAtom(coeff::Complex{Bool}, var_exponents::Vector{Int64})\n",
      "   @ qAlgebra.FFunctions ~/Documents/PhD/Research/Projects/qAlgebra/src/FFunctions.jl:37\n",
      " [4] *(a::FAtom, b::Complex{Bool})\n",
      "   @ qAlgebra.FFunctions ~/Documents/PhD/Research/Projects/qAlgebra/src/FFunctions.jl:181\n",
      " [5] *(p1::qAtomProduct, num::Complex{Bool})\n",
      "   @ qAlgebra.qExpressions ~/Documents/PhD/Research/Projects/qAlgebra/src/qExpressionsOps/qExpressionsAlgebra.jl:213\n",
      " [6] *(Q1::qExpr, num::Complex{Bool})\n",
      "   @ qAlgebra.qExpressions ~/Documents/PhD/Research/Projects/qAlgebra/src/qExpressionsOps/qExpressionsAlgebra.jl:250\n",
      " [7] *(a::Int64, b::qExpr, c::Complex{Bool}, xs::qExpr)\n",
      "   @ Base ./operators.jl:596\n",
      " [8] top-level scope\n",
      "   @ ~/Documents/PhD/Research/Projects/qAlgebra/prototyping/jl_notebook_cell_df34fa98e69747e1a8f8a730347b8e2f_X20sZmlsZQ==.jl:1"
     ]
    }
   ],
   "source": [
    "2 * (alpha + beta) * im * xi + alpha * Dag(b) * xi * yi"
   ]
  },
  {
   "cell_type": "code",
   "execution_count": 14,
   "metadata": {},
   "outputs": [
    {
     "ename": "MethodError",
     "evalue": "MethodError: no method matching ComplexRationals.ComplexRational(::Bool, ::Bool, ::Bool)\nThe type `ComplexRationals.ComplexRational` exists, but no method is defined for this combination of argument types when trying to construct it.\n\nClosest candidates are:\n  (::Type{T})(::T) where T<:Number\n   @ Core boot.jl:900\n  ComplexRationals.ComplexRational(!Matched::Int64, !Matched::Int64, !Matched::Int64)\n   @ ComplexRationals ~/.julia/packages/ComplexRationals/liwaH/src/ComplexRationals.jl:45\n  (::Type{T})(!Matched::Base.TwicePrecision) where T<:Number\n   @ Base twiceprecision.jl:265\n  ...\n",
     "output_type": "error",
     "traceback": [
      "MethodError: no method matching ComplexRationals.ComplexRational(::Bool, ::Bool, ::Bool)\n",
      "The type `ComplexRationals.ComplexRational` exists, but no method is defined for this combination of argument types when trying to construct it.\n",
      "\n",
      "Closest candidates are:\n",
      "  (::Type{T})(::T) where T<:Number\n",
      "   @ Core boot.jl:900\n",
      "  ComplexRationals.ComplexRational(!Matched::Int64, !Matched::Int64, !Matched::Int64)\n",
      "   @ ComplexRationals ~/.julia/packages/ComplexRationals/liwaH/src/ComplexRationals.jl:45\n",
      "  (::Type{T})(!Matched::Base.TwicePrecision) where T<:Number\n",
      "   @ Base twiceprecision.jl:265\n",
      "  ...\n",
      "\n",
      "\n",
      "Stacktrace:\n",
      " [1] crationalize(x::Complex{Bool}; tol::Float64)\n",
      "   @ ComplexRationals ~/.julia/packages/ComplexRationals/liwaH/src/ComplexRationals.jl:178\n",
      " [2] crationalize(x::Complex{Bool})\n",
      "   @ ComplexRationals ~/.julia/packages/ComplexRationals/liwaH/src/ComplexRationals.jl:167\n",
      " [3] FAtom(coeff::Complex{Bool}, var_exponents::Vector{Int64})\n",
      "   @ qAlgebra.FFunctions ~/Documents/PhD/Research/Projects/qAlgebra/src/FFunctions.jl:37\n",
      " [4] *(a::FAtom, b::Complex{Bool})\n",
      "   @ qAlgebra.FFunctions ~/Documents/PhD/Research/Projects/qAlgebra/src/FFunctions.jl:181\n",
      " [5] *(p1::qAtomProduct, num::Complex{Bool})\n",
      "   @ qAlgebra.qExpressions ~/Documents/PhD/Research/Projects/qAlgebra/src/qExpressionsOps/qExpressionsAlgebra.jl:213\n",
      " [6] *(Q1::qExpr, num::Complex{Bool})\n",
      "   @ qAlgebra.qExpressions ~/Documents/PhD/Research/Projects/qAlgebra/src/qExpressionsOps/qExpressionsAlgebra.jl:250\n",
      " [7] *(::Int64, ::qExpr, ::Complex{Bool})\n",
      "   @ Base ./operators.jl:596\n",
      " [8] top-level scope\n",
      "   @ ~/Documents/PhD/Research/Projects/qAlgebra/prototyping/jl_notebook_cell_df34fa98e69747e1a8f8a730347b8e2f_X36sZmlsZQ==.jl:1"
     ]
    }
   ],
   "source": [
    "p = 2 * (alpha + beta) * im"
   ]
  },
  {
   "cell_type": "code",
   "execution_count": 12,
   "metadata": {},
   "outputs": [
    {
     "data": {
      "text/latex": [
       "$2i$"
      ],
      "text/plain": [
       "2i"
      ]
     },
     "metadata": {},
     "output_type": "display_data"
    }
   ],
   "source": [
    "using ComplexRationals\n",
    "crationalize(2im)"
   ]
  },
  {
   "cell_type": "code",
   "execution_count": null,
   "metadata": {},
   "outputs": [],
   "source": [
    "# Build and view documentation\n",
    "julia --project=. -e 'include(\"docs/make.jl\")'\n",
    "xdg-open docs/build/index.html\n"
   ]
  },
  {
   "cell_type": "code",
   "execution_count": 3,
   "metadata": {},
   "outputs": [
    {
     "data": {
      "text/latex": [
       "$\\alpha \\hat{A}_2^{2}$"
      ],
      "text/plain": [
       "α*A₂²"
      ]
     },
     "metadata": {},
     "output_type": "display_data"
    }
   ],
   "source": [
    "A = base_operators(qspace, \"A_2\")\n",
    "alpha = base_operators(qspace, \"alpha\")\n",
    "A*alpha*A"
   ]
  },
  {
   "cell_type": "code",
   "execution_count": 4,
   "metadata": {},
   "outputs": [
    {
     "data": {
      "text/latex": [
       "$\\alpha³ \\hat{A}_2^{3}$"
      ],
      "text/plain": [
       "α³*A₂³"
      ]
     },
     "metadata": {},
     "output_type": "display_data"
    }
   ],
   "source": [
    "alpha^2*A^2*alpha*A"
   ]
  },
  {
   "cell_type": "code",
   "execution_count": null,
   "metadata": {},
   "outputs": [],
   "source": []
  },
  {
   "cell_type": "code",
   "execution_count": null,
   "metadata": {},
   "outputs": [],
   "source": []
  }
 ],
 "metadata": {
  "kernelspec": {
   "display_name": "Julia 1.11.6",
   "language": "julia",
   "name": "julia-1.11"
  },
  "language_info": {
   "file_extension": ".jl",
   "mimetype": "application/julia",
   "name": "julia",
   "version": "1.11.6"
  }
 },
 "nbformat": 4,
 "nbformat_minor": 2
}
