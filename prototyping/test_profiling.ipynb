{
 "cells": [
  {
   "cell_type": "code",
   "execution_count": null,
   "id": "3505ed94",
   "metadata": {
    "vscode": {
     "languageId": "julia"
    }
   },
   "outputs": [],
   "source": [
    "using StatProfilerHTML\n",
    "using Profile\n",
    "\n",
    "# Clear any old profiling data\n",
    "Profile.clear()\n",
    "\n",
    "function test()\n",
    "    for i in 1:100\n",
    "        substitute(A, xi, dA_dt)\n",
    "    end\n",
    "end\n",
    "# Run profiling\n",
    "test()\n",
    "@profile test() \n",
    "\n",
    "# Create HTML report\n",
    "statprofilehtml()"
   ]
  },
  {
   "cell_type": "code",
   "execution_count": null,
   "id": "3dbd3ac8",
   "metadata": {
    "vscode": {
     "languageId": "julia"
    }
   },
   "outputs": [],
   "source": [
    "##### Sorting and Simplifying IndexeProduct and IndexedCumulant\n",
    "# Sorting the elements\n",
    "function sort_indices!(ip::IndexedProduct)\n",
    "    # sort each inner vector\n",
    "    for v in ip.indices\n",
    "        sort!(v)\n",
    "    end\n",
    "    # then sort the vector of vectors lex order\n",
    "    sort!(ip.indices)\n",
    "    return ip\n",
    "end\n",
    "import Base: isless, <\n",
    "function isless(a::IndexedProduct, b::IndexedProduct)\n",
    "    # ensure each is normalized before comparing\n",
    "    sort_indices!(a)\n",
    "    sort_indices!(b)\n",
    "    return isless(a.indices, b.indices)\n",
    "end\n",
    "# Test \n",
    "ip1 = IndexedProduct(1, [[5,2,3], [4,1,6]])\n",
    "println(sort_indices!(ip1))"
   ]
  },
  {
   "cell_type": "code",
   "execution_count": null,
   "id": "5a683dce",
   "metadata": {
    "vscode": {
     "languageId": "julia"
    }
   },
   "outputs": [],
   "source": [
    "# Simplify by adding equal terms and removing zero terms \n",
    "function simplify_(products::Vector{IndexedProduct})\n",
    "    # 1) normalize each product’s indices (in‑place sort of the inner vectors)\n",
    "    for ip in products\n",
    "        sort_indices!(ip)\n",
    "    end\n",
    "\n",
    "    # 2) sort the whole list\n",
    "    sort!(products)\n",
    "\n",
    "    # 3) merge\n",
    "    result = IndexedProduct[]\n",
    "    for ip in products\n",
    "        if !isempty(result) && result[end].indices == ip.indices\n",
    "            # build a new IndexedProduct with the summed coeff\n",
    "            new_coeff = result[end].coeff + ip.coeff\n",
    "            # keep the same sorted indices vector\n",
    "            result[end] = IndexedProduct(new_coeff, result[end].indices)\n",
    "        else\n",
    "            push!(result, IndexedProduct(ip.coeff, copy.(ip.indices)))\n",
    "        end\n",
    "    end\n",
    "\n",
    "    # 4) drop zeros\n",
    "    filter!(ip -> ip.coeff != 0, result)\n",
    "    return result\n",
    "end\n",
    "# Test \n",
    "data = [IndexedProduct(2, [[3,1], [2]]), IndexedProduct(5, [[1,3], [2]]), IndexedProduct(-6, [[3], [1,2]])]\n",
    "println(simplify_(data))"
   ]
  }
 ],
 "metadata": {
  "language_info": {
   "name": "python"
  }
 },
 "nbformat": 4,
 "nbformat_minor": 5
}
