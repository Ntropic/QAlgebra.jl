{
 "cells": [
  {
   "cell_type": "code",
   "execution_count": 1,
   "metadata": {},
   "outputs": [
    {
     "name": "stderr",
     "output_type": "stream",
     "text": [
      "\u001b[92m\u001b[1mPrecompiling\u001b[22m\u001b[39m project...\n",
      "   1061.2 ms\u001b[32m  ✓ \u001b[39mQAlgebra\n",
      "  1 dependency successfully precompiled in 1 seconds. 7 already precompiled.\n"
     ]
    }
   ],
   "source": [
    "using Pkg \n",
    "Pkg.instantiate()\n",
    "using QAlgebra\n",
    "\n",
    "using BenchmarkTools"
   ]
  },
  {
   "cell_type": "code",
   "execution_count": 2,
   "metadata": {},
   "outputs": [
    {
     "data": {
      "text/plain": [
       "StateSpace: [β(t), γᵢ, γⱼ, γₖ, δᵢ, δⱼ, δₖ, α]\n",
       "   - SubSpace [\"h\"]: PM Qubit (Fermionic):  ηᵖₚ, ηᵐₚ, ηᶻₚ, ηᴵₚ (identity)\n",
       "   - SubSpace [\"i\", \"j\", \"k\"]: Pauli Qubit (Fermionic):  σˣₚ, σʸₚ, σᶻₚ, σᴵₚ (identity)\n",
       "   - SubSpace [\"b\"]: Ladder (Bosonic):  p†, p\n",
       "   - Op: A\n",
       "   - Op: B(H,U)\n"
      ]
     },
     "metadata": {},
     "output_type": "display_data"
    }
   ],
   "source": [
    "qspace = StateSpace(\"alpha\", \"beta(t)\", \"gamma_i\", \"delta_i\", operators=[\"A(!i)\", \"B(U,H,i)\"], h=QubitPM(\"eta\"), i=(3, QubitPauli(\"sigma\")), b=Ladder())"
   ]
  },
  {
   "cell_type": "code",
   "execution_count": 3,
   "metadata": {},
   "outputs": [
    {
     "name": "stdout",
     "output_type": "stream",
     "text": [
      "Done\n"
     ]
    }
   ],
   "source": [
    "var_dict, op_dict, abstract_dict = base_operators(qspace)\n",
    "alpha = base_operators(qspace, \"alpha\")\n",
    "beta = base_operators(qspace, \"beta\")\n",
    "gamma_i, gamma_j, gamma_k = base_operators(qspace, \"gamma\", do_dict=false)\n",
    "ph, mh, zh = base_operators(qspace, \"h\", do_dict=false)\n",
    "xi,yi,zi, pi, mi = base_operators(qspace, \"i\", do_dict=false)\n",
    "xj, yj, zj, pj, mj = base_operators(qspace, \"j\", do_dict=false)\n",
    "xk, yk, zk, pk, mk = base_operators(qspace, \"k\", do_dict=false)\n",
    "b, n = base_operators(qspace, \"b\", do_dict=false)\n",
    "I = base_operators(qspace, \"I\")\n",
    "A = base_operators(qspace, \"A\")\n",
    "println(\"Done\")"
   ]
  },
  {
   "cell_type": "code",
   "execution_count": 4,
   "metadata": {},
   "outputs": [
    {
     "data": {
      "text/latex": [
       "$-2i {\\hat{\\sigma}}^{z}_{i}$"
      ],
      "text/plain": [
       "-2iσᶻᵢ"
      ]
     },
     "metadata": {},
     "output_type": "display_data"
    }
   ],
   "source": [
    "simplify(yi*xi-xi*yi)"
   ]
  },
  {
   "cell_type": "code",
   "execution_count": 5,
   "metadata": {},
   "outputs": [
    {
     "data": {
      "text/latex": [
       "$\\left(-2i {\\hat{\\sigma}}^{z}_{i}\\right)^{2}$"
      ],
      "text/plain": [
       "(-2iσᶻᵢ)²"
      ]
     },
     "metadata": {},
     "output_type": "display_data"
    }
   ],
   "source": [
    "power(yi*xi, 2)*2"
   ]
  },
  {
   "cell_type": "code",
   "execution_count": 6,
   "metadata": {},
   "outputs": [
    {
     "data": {
      "text/latex": [
       "$\\sqrt{-i {\\hat{\\sigma}}^{z}_{i}}$"
      ],
      "text/plain": [
       "(-iσᶻᵢ)⁼²"
      ]
     },
     "metadata": {},
     "output_type": "display_data"
    }
   ],
   "source": [
    "root(yi*xi, 2)"
   ]
  },
  {
   "cell_type": "code",
   "execution_count": 9,
   "metadata": {},
   "outputs": [
    {
     "data": {
      "text/latex": [
       "$0$"
      ],
      "text/plain": [
       "0"
      ]
     },
     "metadata": {},
     "output_type": "display_data"
    }
   ],
   "source": [
    "simplify(log(simplify(xi*xi)))"
   ]
  },
  {
   "cell_type": "code",
   "execution_count": 11,
   "metadata": {},
   "outputs": [
    {
     "data": {
      "text/latex": [
       "$\\log\\left(0\\right)$"
      ],
      "text/plain": [
       "log(0)"
      ]
     },
     "metadata": {},
     "output_type": "display_data"
    }
   ],
   "source": [
    "simplify(log(simplify(xi*yi+ yi*xi)))"
   ]
  },
  {
   "cell_type": "code",
   "execution_count": 4,
   "metadata": {},
   "outputs": [
    {
     "name": "stdout",
     "output_type": "stream",
     "text": [
      "==========> ασʸᵢ <==========\n",
      "1 1\n",
      "==========> log(σˣⱼ) <==========\n",
      "1 0\n",
      "true\n",
      "==========> α+β(t) <==========\n",
      "1 1\n",
      "==========> β(t)σᶻᵢ <==========\n",
      "1 1\n",
      "==========> log(σˣⱼ) <==========\n",
      "1 0\n",
      "true\n",
      "==========> α+β(t) <==========\n",
      "1 1\n",
      "==========> \\alpha {\\hat{\\sigma}}^{y}_{i} <==========\n",
      "1 1\n",
      "==========> \\log\\left( {\\hat{\\sigma}}^{x}_{j}\\right) <==========\n",
      "1 0\n",
      "true\n",
      "==========> \\alpha+\\beta(t) <==========\n",
      "1 1\n",
      "==========> \\beta(t) {\\hat{\\sigma}}^{z}_{i} <==========\n",
      "1 1\n",
      "==========> \\log\\left( {\\hat{\\sigma}}^{x}_{j}\\right) <==========\n",
      "1 0\n",
      "true\n",
      "==========> \\alpha+\\beta(t) <==========\n",
      "1 1\n"
     ]
    },
    {
     "data": {
      "text/latex": [
       "$\\alpha {\\hat{\\sigma}}^{y}_{i}\\cdot\\log\\left( {\\hat{\\sigma}}^{x}_{j}\\right)\\cdot\\alpha+\\beta(t)+\\beta(t) {\\hat{\\sigma}}^{z}_{i}\\cdot\\log\\left( {\\hat{\\sigma}}^{x}_{j}\\right)\\cdot\\alpha+\\beta(t)$"
      ],
      "text/plain": [
       "ασʸᵢ⋅log(σˣⱼ)⋅α+β(t)+β(t)σᶻᵢ⋅log(σˣⱼ)⋅α+β(t)"
      ]
     },
     "metadata": {},
     "output_type": "display_data"
    }
   ],
   "source": [
    "(alpha * yi + beta*zi ) * log(xj) * simplify(alpha+beta)"
   ]
  },
  {
   "cell_type": "code",
   "execution_count": null,
   "metadata": {},
   "outputs": [],
   "source": []
  },
  {
   "cell_type": "code",
   "execution_count": 4,
   "metadata": {},
   "outputs": [
    {
     "data": {
      "text/latex": [
       "$(\\alpha+\\beta(t)) {\\hat{\\sigma}}^{y}_{i}$"
      ],
      "text/plain": [
       "(α+β(t))σʸᵢ"
      ]
     },
     "metadata": {},
     "output_type": "display_data"
    }
   ],
   "source": [
    "(alpha * yi *  simplify(alpha+beta))  # wrong!"
   ]
  },
  {
   "cell_type": "code",
   "execution_count": 6,
   "metadata": {},
   "outputs": [
    {
     "name": "stdout",
     "output_type": "stream",
     "text": [
      "==========> ασʸᵢ <==========\n",
      "1 1\n",
      "==========> log(σˣⱼ) <==========\n",
      "1 0\n",
      "==========> α+β(t) <==========\n",
      "1 1\n",
      "==========> β(t)σᶻᵢ <==========\n",
      "1 1\n",
      "==========> log(σˣⱼ) <==========\n",
      "1 0\n",
      "==========> α+β(t) <==========\n",
      "1 1\n",
      "==========> ασʸᵢ⋅log(σˣⱼ)⋅α+β(t)+β(t)σᶻᵢ⋅log(σˣⱼ)⋅α+β(t) <==========\n",
      "2 0\n",
      "==========> \\alpha {\\hat{\\sigma}}^{y}_{i} <==========\n",
      "1 1\n",
      "==========> \\log\\left( {\\hat{\\sigma}}^{x}_{j}\\right) <==========\n",
      "1 0\n",
      "==========> \\alpha+\\beta(t) <==========\n",
      "1 1\n",
      "==========> \\beta(t) {\\hat{\\sigma}}^{z}_{i} <==========\n",
      "1 1\n",
      "==========> \\log\\left( {\\hat{\\sigma}}^{x}_{j}\\right) <==========\n",
      "1 0\n",
      "==========> \\alpha+\\beta(t) <==========\n",
      "1 1\n",
      "==========> \\alpha {\\hat{\\sigma}}^{y}_{i}\\cdot\\log\\left( {\\hat{\\sigma}}^{x}_{j}\\right)\\cdot\\alpha+\\beta(t)+\\beta(t) {\\hat{\\sigma}}^{z}_{i}\\cdot\\log\\left( {\\hat{\\sigma}}^{x}_{j}\\right)\\cdot\\alpha+\\beta(t) <==========\n",
      "2 0\n"
     ]
    },
    {
     "data": {
      "text/latex": [
       "$\\sum_{j}^{=}\\left(\\alpha {\\hat{\\sigma}}^{y}_{i}\\cdot\\log\\left( {\\hat{\\sigma}}^{x}_{j}\\right)\\cdot\\alpha+\\beta(t)+\\beta(t) {\\hat{\\sigma}}^{z}_{i}\\cdot\\log\\left( {\\hat{\\sigma}}^{x}_{j}\\right)\\cdot\\alpha+\\beta(t)\\right)$"
      ],
      "text/plain": [
       "∑ⱼ⁼(ασʸᵢ⋅log(σˣⱼ)⋅α+β(t)+β(t)σᶻᵢ⋅log(σˣⱼ)⋅α+β(t))"
      ]
     },
     "metadata": {},
     "output_type": "display_data"
    }
   ],
   "source": [
    "Sum(\"j\", alpha * yi + beta*zi ) * log(xj) * simplify(alpha+beta)"
   ]
  },
  {
   "cell_type": "code",
   "execution_count": 26,
   "metadata": {},
   "outputs": [
    {
     "data": {
      "text/latex": [
       "$\\beta(t)\\alpha$"
      ],
      "text/plain": [
       "β(t)α"
      ]
     },
     "metadata": {},
     "output_type": "display_data"
    }
   ],
   "source": [
    "alpha*beta"
   ]
  },
  {
   "cell_type": "code",
   "execution_count": 39,
   "metadata": {},
   "outputs": [
    {
     "data": {
      "text/latex": [
       "$(\\alpha+\\beta(t)) {\\hat{\\sigma}}^{x}_{i}$"
      ],
      "text/plain": [
       "(α+β(t))σˣᵢ"
      ]
     },
     "metadata": {},
     "output_type": "display_data"
    }
   ],
   "source": [
    "alpha*(alpha+beta)*xi"
   ]
  },
  {
   "cell_type": "code",
   "execution_count": 5,
   "metadata": {},
   "outputs": [
    {
     "data": {
      "text/plain": [
       "(false, \"\\\\alpha+\\\\beta(t)²\", false)"
      ]
     },
     "metadata": {},
     "output_type": "display_data"
    }
   ],
   "source": [
    "QExpr2string(alpha+beta^2, return_grouping=true)"
   ]
  },
  {
   "cell_type": "code",
   "execution_count": 7,
   "metadata": {},
   "outputs": [
    {
     "data": {
      "text/plain": [
       "(false, \"\\\\sum_{j}^{=}\\\\left(\\\\alpha {\\\\hat{\\\\sigma}}^{y}_{i}+\\\\beta(t) {\\\\hat{\\\\sigma}}^{z}_{i}\\\\right)\", false)"
      ]
     },
     "metadata": {},
     "output_type": "display_data"
    }
   ],
   "source": [
    "QExpr2string(Sum(\"j\", alpha * yi + beta*zi ) , return_grouping=true)"
   ]
  },
  {
   "cell_type": "code",
   "execution_count": null,
   "metadata": {},
   "outputs": [],
   "source": []
  },
  {
   "cell_type": "code",
   "execution_count": null,
   "metadata": {},
   "outputs": [],
   "source": []
  },
  {
   "cell_type": "code",
   "execution_count": 4,
   "metadata": {},
   "outputs": [
    {
     "data": {
      "text/latex": [
       "$ \\hat{A}$"
      ],
      "text/plain": [
       "A"
      ]
     },
     "metadata": {},
     "output_type": "display_data"
    }
   ],
   "source": [
    "A = base_operators(qspace, \"A\", do_fun=true)\n",
    "A1 = base_operators(qspace, \"A_1\", do_fun=false)\n",
    "A = A()"
   ]
  },
  {
   "cell_type": "code",
   "execution_count": null,
   "metadata": {},
   "outputs": [],
   "source": [
    "function "
   ]
  },
  {
   "cell_type": "code",
   "execution_count": null,
   "metadata": {},
   "outputs": [],
   "source": [
    "function build_adjoint_orbit(H_int::QExpr, operator::QExpr)\n",
    "    # U0 = exp(-i H_int t)\n",
    "    # p(t) = U0'(t) * q * U0(t)   <== where q is operator\n",
    "    #  "
   ]
  },
  {
   "cell_type": "code",
   "execution_count": null,
   "metadata": {},
   "outputs": [],
   "source": []
  },
  {
   "cell_type": "code",
   "execution_count": null,
   "metadata": {},
   "outputs": [],
   "source": [
    "# Add a type for the Rotating Wave "
   ]
  },
  {
   "cell_type": "code",
   "execution_count": null,
   "metadata": {},
   "outputs": [],
   "source": [
    "# Rotating Wave "
   ]
  },
  {
   "cell_type": "code",
   "execution_count": null,
   "metadata": {},
   "outputs": [],
   "source": [
    "# Test Cumulant here \n"
   ]
  },
  {
   "cell_type": "code",
   "execution_count": null,
   "metadata": {},
   "outputs": [],
   "source": [
    "# Add cumulants                        [x] \n",
    "# add distribution sampling            "
   ]
  },
  {
   "cell_type": "code",
   "execution_count": null,
   "metadata": {},
   "outputs": [],
   "source": [
    "# Add Expand \n",
    "# Add Magnus Expansion \n",
    "# Ad BCH Expansion \n",
    "# Add Taylor Expansion"
   ]
  },
  {
   "cell_type": "code",
   "execution_count": null,
   "metadata": {},
   "outputs": [],
   "source": [
    "# Add:\n",
    "# - Eq_Set \n",
    "# - Indexed Eq_Set\n",
    "#    - Indexed qAtom <: QComposite (not really but better to be gruped as such to not require any qAtomProducts)\n",
    "#    - evaluate \n",
    "#    - Initial States (from function)\n",
    "#        - From state construction via operators. \n",
    "#        -> Via operators allows us to also use operator conspiracies => Matching/Conspiring operator condition.\n",
    "# Operator Transformations \n",
    "#    - Finding Adjoint Cycles \n",
    "#    - Add Rotating Frame Transformation "
   ]
  },
  {
   "cell_type": "code",
   "execution_count": null,
   "metadata": {},
   "outputs": [],
   "source": [
    "# CFunction add exponential and sin and cos and log  -> simplifications can be added later. such as log(exp(...))\n"
   ]
  },
  {
   "cell_type": "code",
   "execution_count": null,
   "metadata": {},
   "outputs": [],
   "source": [
    "# add a way to lower sort keys for operators by comparing with the adjoint operators sort_key. \n"
   ]
  },
  {
   "cell_type": "code",
   "execution_count": null,
   "metadata": {},
   "outputs": [],
   "source": []
  },
  {
   "cell_type": "code",
   "execution_count": 9,
   "metadata": {},
   "outputs": [
    {
     "data": {
      "text/latex": [
       "$\\left[ \\hat{z}_{j}+\\sum_{i}^{=}i\\alpha \\hat{p}_{h}\\hat{z}_{i},\\, \\hat{z}_{h}\\right]$"
      ],
      "text/plain": [
       "[zⱼ+∑ᵢ⁼iαpₕzᵢ, zₕ]"
      ]
     },
     "metadata": {},
     "output_type": "display_data"
    }
   ],
   "source": [
    "simplify(QCommutator(Sum(\"i\", alpha*ph*xi*yi) + zj,zh))"
   ]
  },
  {
   "cell_type": "code",
   "execution_count": 10,
   "metadata": {},
   "outputs": [
    {
     "data": {
      "text/latex": [
       "$ \\hat{z}_{h}+\\exp\\left( \\hat{z}_{j}+\\sum_{i}^{=}i\\alpha \\hat{p}_{h}\\hat{z}_{i}\\right)$"
      ],
      "text/plain": [
       "zₕ+exp(zⱼ+∑ᵢ⁼iαpₕzᵢ)"
      ]
     },
     "metadata": {},
     "output_type": "display_data"
    }
   ],
   "source": [
    "simplify(exp(Sum(\"i\", alpha*ph*xi*yi) + zj)+zh)"
   ]
  },
  {
   "cell_type": "code",
   "execution_count": 11,
   "metadata": {},
   "outputs": [
    {
     "data": {
      "text/latex": [
       "$\\log\\left( \\hat{z}_{j}+\\sum_{i}^{=}i\\alpha \\hat{p}_{h}\\hat{z}_{i}\\right)$"
      ],
      "text/plain": [
       "log(zⱼ+∑ᵢ⁼iαpₕzᵢ)"
      ]
     },
     "metadata": {},
     "output_type": "display_data"
    }
   ],
   "source": [
    "log(Sum(\"i\", alpha*ph*xi*yi) + zj)"
   ]
  },
  {
   "cell_type": "code",
   "execution_count": 12,
   "metadata": {},
   "outputs": [
    {
     "data": {
      "text/latex": [
       "$ \\hat{z}_{h}+\\left( \\hat{z}_{j}+\\sum_{i}^{=}i\\alpha \\hat{p}_{h}\\hat{z}_{i}\\right)^{2}$"
      ],
      "text/plain": [
       "zₕ+(zⱼ+∑ᵢ⁼iαpₕzᵢ)²"
      ]
     },
     "metadata": {},
     "output_type": "display_data"
    }
   ],
   "source": [
    "simplify(power(Sum(\"i\", alpha*ph*xi*yi) + zj,2)+zh)"
   ]
  },
  {
   "cell_type": "code",
   "execution_count": 13,
   "metadata": {},
   "outputs": [
    {
     "data": {
      "text/latex": [
       "$ \\hat{z}_{h}+\\sqrt{ \\hat{z}_{j}+\\sum_{i}^{=}i\\alpha \\hat{p}_{h}\\hat{z}_{i}}$"
      ],
      "text/plain": [
       "zₕ+(zⱼ+∑ᵢ⁼iαpₕzᵢ)⁼²"
      ]
     },
     "metadata": {},
     "output_type": "display_data"
    }
   ],
   "source": [
    "simplify(root(Sum(\"i\", alpha*ph*xi*yi) + zj,2)+zh)"
   ]
  },
  {
   "cell_type": "code",
   "execution_count": null,
   "metadata": {},
   "outputs": [],
   "source": []
  },
  {
   "cell_type": "code",
   "execution_count": null,
   "metadata": {},
   "outputs": [],
   "source": []
  },
  {
   "cell_type": "code",
   "execution_count": null,
   "metadata": {},
   "outputs": [],
   "source": []
  },
  {
   "cell_type": "code",
   "execution_count": null,
   "metadata": {},
   "outputs": [],
   "source": []
  }
 ],
 "metadata": {
  "kernelspec": {
   "display_name": "Julia 1.11.6",
   "language": "julia",
   "name": "julia-1.11"
  },
  "language_info": {
   "file_extension": ".jl",
   "mimetype": "application/julia",
   "name": "julia",
   "version": "1.11.6"
  }
 },
 "nbformat": 4,
 "nbformat_minor": 2
}
